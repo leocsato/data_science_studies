{
 "cells": [
  {
   "cell_type": "markdown",
   "id": "3001a563-8487-4e54-8ad8-b70d2ac1dd04",
   "metadata": {},
   "source": [
    "A análise da Distância Intra-clusters também pode ser útil para decidir o número ideal de clusters K no algoritmo K-means.\n",
    "A Distância Intra-clusters, também conhecida como dispersão Intra-clusters ou inércia Intra-clusters, mede a compactação dos clusters, ou seja, a média das distâncias dos pontos dentro de cada cluster aos seus respectivos centroides.\n",
    "\n",
    "Ao realizar uma análise da Distância Intra-clusters para diferentes valores de K, podemos observar como a dispersão dentro dos clusters diminui à medida que o número de clusters aumenta. Idealmente, gostaríamos de encontrar um ponto onde a redução na Distância Intra-clusters diminui significativamente para valores de K maiores, indicando que a adição de mais clusters não está resultando em uma compactação significativamente melhor dos dados."
   ]
  },
  {
   "cell_type": "markdown",
   "id": "a924f2ef-7a4d-4e50-8e71-68a33b13cd7c",
   "metadata": {},
   "source": [
    "---"
   ]
  },
  {
   "cell_type": "code",
   "execution_count": null,
   "id": "bb23abd1-2ee5-4109-ad6a-59e838b8d2b3",
   "metadata": {},
   "outputs": [],
   "source": []
  }
 ],
 "metadata": {
  "kernelspec": {
   "display_name": "Python 3 (ipykernel)",
   "language": "python",
   "name": "python3"
  },
  "language_info": {
   "codemirror_mode": {
    "name": "ipython",
    "version": 3
   },
   "file_extension": ".py",
   "mimetype": "text/x-python",
   "name": "python",
   "nbconvert_exporter": "python",
   "pygments_lexer": "ipython3",
   "version": "3.11.2"
  }
 },
 "nbformat": 4,
 "nbformat_minor": 5
}
