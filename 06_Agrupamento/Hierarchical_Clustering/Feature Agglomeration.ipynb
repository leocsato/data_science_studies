{
 "cells": [
  {
   "cell_type": "markdown",
   "metadata": {},
   "source": [
    "# Imports"
   ]
  },
  {
   "cell_type": "code",
   "execution_count": 1,
   "metadata": {
    "execution": {
     "iopub.execute_input": "2024-04-19T01:03:54.581774Z",
     "iopub.status.busy": "2024-04-19T01:03:54.581279Z",
     "iopub.status.idle": "2024-04-19T01:03:55.676763Z",
     "shell.execute_reply": "2024-04-19T01:03:55.676027Z",
     "shell.execute_reply.started": "2024-04-19T01:03:54.581733Z"
    }
   },
   "outputs": [],
   "source": [
    "import numpy as np\n",
    "import matplotlib.pyplot as plt\n",
    "from sklearn import datasets, cluster\n",
    "from sklearn.feature_extraction.image import grid_to_graph"
   ]
  },
  {
   "cell_type": "markdown",
   "metadata": {},
   "source": [
    "# Dataset"
   ]
  },
  {
   "cell_type": "code",
   "execution_count": 2,
   "metadata": {
    "execution": {
     "iopub.execute_input": "2024-04-19T01:03:55.678467Z",
     "iopub.status.busy": "2024-04-19T01:03:55.678068Z",
     "iopub.status.idle": "2024-04-19T01:03:55.886972Z",
     "shell.execute_reply": "2024-04-19T01:03:55.886402Z",
     "shell.execute_reply.started": "2024-04-19T01:03:55.678446Z"
    }
   },
   "outputs": [
    {
     "data": {
      "text/plain": [
       "<Figure size 400x350 with 0 Axes>"
      ]
     },
     "metadata": {},
     "output_type": "display_data"
    }
   ],
   "source": [
    "digits = datasets.load_digits()\n",
    "images = digits.images\n",
    "X = np.reshape(images, (len(images), -1))\n",
    "connectivity = grid_to_graph(*images[0].shape)\n",
    "\n",
    "agglo = cluster.FeatureAgglomeration(connectivity=connectivity,\n",
    "                                     n_clusters=32)\n",
    "\n",
    "agglo.fit(X)\n",
    "X_reduced = agglo.transform(X)\n",
    "\n",
    "X_restored = agglo.inverse_transform(X_reduced)\n",
    "images_restored = np.reshape(X_restored, images.shape)\n",
    "plt.figure(1, figsize=(4, 3.5))\n",
    "plt.clf()\n",
    "plt.subplots_adjust(left=.01, right=.99, bottom=.01, top=.91)"
   ]
  },
  {
   "cell_type": "markdown",
   "metadata": {},
   "source": [
    "# Plotar"
   ]
  },
  {
   "cell_type": "code",
   "execution_count": 3,
   "metadata": {
    "execution": {
     "iopub.execute_input": "2024-04-19T01:03:55.888029Z",
     "iopub.status.busy": "2024-04-19T01:03:55.887761Z",
     "iopub.status.idle": "2024-04-19T01:03:56.189350Z",
     "shell.execute_reply": "2024-04-19T01:03:56.188517Z",
     "shell.execute_reply.started": "2024-04-19T01:03:55.888009Z"
    }
   },
   "outputs": [
    {
     "data": {
      "image/png": "[encoded data removed]",
      "text/plain": [
       "<Figure size 640x480 with 9 Axes>"
      ]
     },
     "metadata": {},
     "output_type": "display_data"
    }
   ],
   "source": [
    "for i in range(4):\n",
    "    plt.subplot(3, 4, i + 1)\n",
    "    plt.imshow(images[i], cmap=plt.cm.gray, vmax=16, interpolation='nearest')\n",
    "    plt.xticks(())\n",
    "    plt.yticks(())\n",
    "    if i == 1:\n",
    "        plt.title('Original data')\n",
    "    plt.subplot(3, 4, 4 + i + 1)\n",
    "    plt.imshow(images_restored[i], cmap=plt.cm.gray, vmax=16,\n",
    "               interpolation='nearest')\n",
    "    if i == 1:\n",
    "        plt.title('Agglomerated data')\n",
    "    plt.xticks(())\n",
    "    plt.yticks(())\n",
    "\n",
    "plt.subplot(3, 4, 10)\n",
    "plt.imshow(np.reshape(agglo.labels_, images[0].shape),\n",
    "           interpolation='nearest', cmap=plt.cm.nipy_spectral)\n",
    "plt.xticks(())\n",
    "plt.yticks(())\n",
    "plt.title('Labels')\n",
    "plt.show()"
   ]
  },
  {
   "cell_type": "code",
   "execution_count": null,
   "metadata": {},
   "outputs": [],
   "source": []
  },
  {
   "cell_type": "code",
   "execution_count": null,
   "metadata": {},
   "outputs": [],
   "source": []
  }
 ],
 "metadata": {
  "kernelspec": {
   "display_name": "Python 3 (ipykernel)",
   "language": "python",
   "name": "python3"
  },
  "language_info": {
   "codemirror_mode": {
    "name": "ipython",
    "version": 3
   },
   "file_extension": ".py",
   "mimetype": "text/x-python",
   "name": "python",
   "nbconvert_exporter": "python",
   "pygments_lexer": "ipython3",
   "version": "3.11.2"
  }
 },
 "nbformat": 4,
 "nbformat_minor": 4
}
