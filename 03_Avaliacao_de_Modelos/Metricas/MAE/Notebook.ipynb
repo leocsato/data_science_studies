{
 "cells": [
  {
   "cell_type": "markdown",
   "id": "07cd51e1-cf9f-4d27-b7f9-a01e433fc68b",
   "metadata": {},
   "source": [
    "O MAE é  uma medida estatística que quantifica a magnitude média dos erros entre pares de observações, geralmente representando valores previstos em comparação com valores reais. Calcula a soma das diferenças absolutas entre os elementos correspondentes dividida pelo número de observações."
   ]
  },
  {
   "cell_type": "code",
   "execution_count": 1,
   "id": "77141c09-eeb6-48f9-954d-0e0dce4c7698",
   "metadata": {
    "execution": {
     "iopub.execute_input": "2024-05-10T03:54:31.079108Z",
     "iopub.status.busy": "2024-05-10T03:54:31.078303Z",
     "iopub.status.idle": "2024-05-10T03:54:31.708443Z",
     "shell.execute_reply": "2024-05-10T03:54:31.707496Z",
     "shell.execute_reply.started": "2024-05-10T03:54:31.079041Z"
    }
   },
   "outputs": [],
   "source": [
    "from sklearn.metrics import mean_absolute_error"
   ]
  },
  {
   "cell_type": "code",
   "execution_count": 2,
   "id": "c7a0e1bf-d2c7-44f1-9864-e80e1ec93064",
   "metadata": {
    "execution": {
     "iopub.execute_input": "2024-05-10T03:55:00.519412Z",
     "iopub.status.busy": "2024-05-10T03:55:00.518888Z",
     "iopub.status.idle": "2024-05-10T03:55:00.526306Z",
     "shell.execute_reply": "2024-05-10T03:55:00.524475Z",
     "shell.execute_reply.started": "2024-05-10T03:55:00.519375Z"
    }
   },
   "outputs": [],
   "source": [
    "y_pred = [2, 3, 5, 7, 11]\n",
    "y_true = [1.8, 3.2, 4.9, 7.2, 10.5]"
   ]
  },
  {
   "cell_type": "code",
   "execution_count": 3,
   "id": "8a257625-3f1e-4081-adff-74f1d0c88fd8",
   "metadata": {
    "execution": {
     "iopub.execute_input": "2024-05-10T03:55:00.700675Z",
     "iopub.status.busy": "2024-05-10T03:55:00.700213Z",
     "iopub.status.idle": "2024-05-10T03:55:00.707727Z",
     "shell.execute_reply": "2024-05-10T03:55:00.706325Z",
     "shell.execute_reply.started": "2024-05-10T03:55:00.700640Z"
    }
   },
   "outputs": [
    {
     "name": "stdout",
     "output_type": "stream",
     "text": [
      "MAE: 0.24\n"
     ]
    }
   ],
   "source": [
    "mae = mean_absolute_error(y_pred, y_true)\n",
    "print(\"MAE:\", mae)"
   ]
  },
  {
   "cell_type": "code",
   "execution_count": null,
   "id": "f854e97d-e6ee-401d-8eb1-bc637ca975dd",
   "metadata": {},
   "outputs": [],
   "source": []
  },
  {
   "cell_type": "code",
   "execution_count": null,
   "id": "7f92564a-e925-4c89-b2a4-1aa932f97edb",
   "metadata": {},
   "outputs": [],
   "source": []
  }
 ],
 "metadata": {
  "kernelspec": {
   "display_name": "Python 3 (ipykernel)",
   "language": "python",
   "name": "python3"
  },
  "language_info": {
   "codemirror_mode": {
    "name": "ipython",
    "version": 3
   },
   "file_extension": ".py",
   "mimetype": "text/x-python",
   "name": "python",
   "nbconvert_exporter": "python",
   "pygments_lexer": "ipython3",
   "version": "3.11.2"
  }
 },
 "nbformat": 4,
 "nbformat_minor": 5
}
