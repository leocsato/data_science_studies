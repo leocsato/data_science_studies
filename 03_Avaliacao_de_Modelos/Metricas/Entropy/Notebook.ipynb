{
 "cells": [
  {
   "cell_type": "markdown",
   "id": "f74f9116-5e43-40f4-9340-7580cf798ce9",
   "metadata": {},
   "source": [
    "Entropia ajuda a dividir nós em uma árvore de decisão. O objetivo é maximizar o ganho de informação, enquanto diminui a Entropia.\n",
    "O Ganho de Informação é a diminuição da Entropia após dividir um nó com base em uma feature específica.\n",
    "\n",
    "O algoritmo calcula a Entropia de cada feature após uma divisão e seleciona a melhor feature com base nesse cálculo.\n",
    "\n",
    "A sua fórmula é:\n",
    "\n",
    "E(S) = soma(-p_i * log2(p_i))[c, i=1]\n",
    "\n",
    "S é o dataset ou subset sendo dividido.\n",
    "c é o número de classes\n",
    "p_i é a proporção de instâncias que percentem a classe i dentro do split\n",
    "\n",
    "A somarização é executada em todas as classes."
   ]
  },
  {
   "cell_type": "code",
   "execution_count": 1,
   "id": "dc7cc103-638b-4825-aebc-6d07b1821170",
   "metadata": {
    "execution": {
     "iopub.execute_input": "2024-10-31T04:41:01.206569Z",
     "iopub.status.busy": "2024-10-31T04:41:01.206051Z",
     "iopub.status.idle": "2024-10-31T04:41:02.104388Z",
     "shell.execute_reply": "2024-10-31T04:41:02.103422Z",
     "shell.execute_reply.started": "2024-10-31T04:41:01.206520Z"
    }
   },
   "outputs": [],
   "source": [
    "import numpy as np\n",
    "from sklearn.metrics import log_loss"
   ]
  },
  {
   "cell_type": "code",
   "execution_count": 2,
   "id": "e07ad177-c323-4b65-8b2a-4525822fdad3",
   "metadata": {
    "execution": {
     "iopub.execute_input": "2024-10-31T04:41:15.812005Z",
     "iopub.status.busy": "2024-10-31T04:41:15.810939Z",
     "iopub.status.idle": "2024-10-31T04:41:15.818638Z",
     "shell.execute_reply": "2024-10-31T04:41:15.817180Z",
     "shell.execute_reply.started": "2024-10-31T04:41:15.811947Z"
    }
   },
   "outputs": [],
   "source": [
    "# Função para calcular a entropia\n",
    "def calcular_entropia(probabilidades):\n",
    "    # Remover valores zero para evitar log(0)\n",
    "    probabilidades = np.clip(probabilidades, 1e-10, 1)\n",
    "    return -np.sum(probabilidades * np.log(probabilidades))"
   ]
  },
  {
   "cell_type": "code",
   "execution_count": 3,
   "id": "e97c0480-c771-43d0-a387-4101b8db56b5",
   "metadata": {
    "execution": {
     "iopub.execute_input": "2024-10-31T04:41:21.449976Z",
     "iopub.status.busy": "2024-10-31T04:41:21.449484Z",
     "iopub.status.idle": "2024-10-31T04:41:21.456598Z",
     "shell.execute_reply": "2024-10-31T04:41:21.454808Z",
     "shell.execute_reply.started": "2024-10-31T04:41:21.449935Z"
    }
   },
   "outputs": [],
   "source": [
    "# Simulando um conjunto de dados de classes\n",
    "# Suponha que temos duas classes: 0 e 1\n",
    "# Probabilidades de cada classe\n",
    "probabilidades_classes = np.array([0.7, 0.3])  # 70% de classe 0 e 30% de classe 1"
   ]
  },
  {
   "cell_type": "code",
   "execution_count": 4,
   "id": "df5e3622-8386-4742-b27f-71fe21a5695b",
   "metadata": {
    "execution": {
     "iopub.execute_input": "2024-10-31T04:41:25.712285Z",
     "iopub.status.busy": "2024-10-31T04:41:25.711800Z",
     "iopub.status.idle": "2024-10-31T04:41:25.720928Z",
     "shell.execute_reply": "2024-10-31T04:41:25.719238Z",
     "shell.execute_reply.started": "2024-10-31T04:41:25.712244Z"
    }
   },
   "outputs": [
    {
     "name": "stdout",
     "output_type": "stream",
     "text": [
      "Entropia: 0.6109\n"
     ]
    }
   ],
   "source": [
    "# Calculando a entropia\n",
    "entropia = calcular_entropia(probabilidades_classes)\n",
    "print(f\"Entropia: {entropia:.4f}\")"
   ]
  },
  {
   "cell_type": "code",
   "execution_count": 5,
   "id": "1ede1d0e-caf1-4947-ae2c-0e786313e753",
   "metadata": {
    "execution": {
     "iopub.execute_input": "2024-10-31T04:41:29.828507Z",
     "iopub.status.busy": "2024-10-31T04:41:29.827989Z",
     "iopub.status.idle": "2024-10-31T04:41:29.834452Z",
     "shell.execute_reply": "2024-10-31T04:41:29.833341Z",
     "shell.execute_reply.started": "2024-10-31T04:41:29.828463Z"
    }
   },
   "outputs": [],
   "source": [
    "# Simulando previsões de um modelo\n",
    "# Previsões de probabilidade para duas classes\n",
    "previsoes_probabilidades = np.array([[0.9, 0.1],  # Exemplo 1: Classe 0\n",
    "                                     [0.4, 0.6],  # Exemplo 2: Classe 1\n",
    "                                     [0.2, 0.8]]) # Exemplo 3: Classe 1"
   ]
  },
  {
   "cell_type": "code",
   "execution_count": 6,
   "id": "193eb875-eece-4145-9d9b-aafdc935b56b",
   "metadata": {
    "execution": {
     "iopub.execute_input": "2024-10-31T04:41:34.746538Z",
     "iopub.status.busy": "2024-10-31T04:41:34.745909Z",
     "iopub.status.idle": "2024-10-31T04:41:34.752060Z",
     "shell.execute_reply": "2024-10-31T04:41:34.750816Z",
     "shell.execute_reply.started": "2024-10-31T04:41:34.746489Z"
    }
   },
   "outputs": [],
   "source": [
    "# Verdadeiros rótulos (0 ou 1)\n",
    "verdadeiros_rotulos = np.array([0, 1, 1])  # Rótulos verdadeiros"
   ]
  },
  {
   "cell_type": "code",
   "execution_count": 7,
   "id": "2e04c812-237e-4706-ba16-c764d190c08d",
   "metadata": {
    "execution": {
     "iopub.execute_input": "2024-10-31T04:41:37.996325Z",
     "iopub.status.busy": "2024-10-31T04:41:37.996026Z",
     "iopub.status.idle": "2024-10-31T04:41:38.002211Z",
     "shell.execute_reply": "2024-10-31T04:41:38.001486Z",
     "shell.execute_reply.started": "2024-10-31T04:41:37.996304Z"
    }
   },
   "outputs": [
    {
     "name": "stdout",
     "output_type": "stream",
     "text": [
      "Entropia Cruzada (Log Loss): 0.2798\n"
     ]
    }
   ],
   "source": [
    "# Calculando a entropia cruzada (log loss)\n",
    "entropia_cruzada = log_loss(verdadeiros_rotulos, previsoes_probabilidades)\n",
    "print(f\"Entropia Cruzada (Log Loss): {entropia_cruzada:.4f}\")"
   ]
  },
  {
   "cell_type": "code",
   "execution_count": null,
   "id": "a5434b2b-3d57-454c-b7c7-5f7ae8184717",
   "metadata": {},
   "outputs": [],
   "source": []
  }
 ],
 "metadata": {
  "kernelspec": {
   "display_name": "Python 3 (ipykernel)",
   "language": "python",
   "name": "python3"
  },
  "language_info": {
   "codemirror_mode": {
    "name": "ipython",
    "version": 3
   },
   "file_extension": ".py",
   "mimetype": "text/x-python",
   "name": "python",
   "nbconvert_exporter": "python",
   "pygments_lexer": "ipython3",
   "version": "3.11.2"
  }
 },
 "nbformat": 4,
 "nbformat_minor": 5
}
