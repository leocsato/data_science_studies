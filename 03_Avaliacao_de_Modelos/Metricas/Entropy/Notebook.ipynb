{
 "cells": [
  {
   "cell_type": "markdown",
   "id": "f74f9116-5e43-40f4-9340-7580cf798ce9",
   "metadata": {},
   "source": [
    "Entropia ajuda a dividir nós em uma árvore de decisão. O objetivo é maximizar o ganho de informação, enquanto diminui a Entropia.\n",
    "O Ganho de Informação é a diminuição da Entropia após dividir um nó com base em uma feature específica.\n",
    "\n",
    "O algoritmo calcula a Entropia de cada feature após uma divisão e seleciona a melhor feature com base nesse cálculo.\n",
    "\n",
    "A sua fórmula é:\n",
    "\n",
    "E(S) = soma(-p_i * log2(p_i))[c, i=1]\n",
    "\n",
    "S é o dataset ou subset sendo dividido.\n",
    "c é o número de classes\n",
    "p_i é a proporção de instâncias que percentem a classe i dentro do split\n",
    "\n",
    "A somarização é executada em todas as classes."
   ]
  },
  {
   "cell_type": "code",
   "execution_count": null,
   "id": "dc7cc103-638b-4825-aebc-6d07b1821170",
   "metadata": {},
   "outputs": [],
   "source": []
  }
 ],
 "metadata": {
  "kernelspec": {
   "display_name": "Python 3 (ipykernel)",
   "language": "python",
   "name": "python3"
  },
  "language_info": {
   "codemirror_mode": {
    "name": "ipython",
    "version": 3
   },
   "file_extension": ".py",
   "mimetype": "text/x-python",
   "name": "python",
   "nbconvert_exporter": "python",
   "pygments_lexer": "ipython3",
   "version": "3.11.2"
  }
 },
 "nbformat": 4,
 "nbformat_minor": 5
}
