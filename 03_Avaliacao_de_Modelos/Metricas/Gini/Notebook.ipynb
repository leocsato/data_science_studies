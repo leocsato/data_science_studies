{
 "cells": [
  {
   "cell_type": "markdown",
   "id": "f74f9116-5e43-40f4-9340-7580cf798ce9",
   "metadata": {},
   "source": [
    "Impureza de Gini é uma métrica utilizada em árvores de decisão para avaliar a impureza (ou desordem) de um conjunto de dados. Também é chamado de Gini Index.\n",
    "\n",
    "Quando uma árvore de decisão é construída com base no Gini Index, o atributo com a menor Impureza de Gini é escolhido para dividir um nó em cada etapa."
   ]
  },
  {
   "cell_type": "markdown",
   "id": "a5f8d10f-9d97-413e-bd3b-93039061d395",
   "metadata": {},
   "source": [
    "# Cálculo da Impureza de Gini"
   ]
  },
  {
   "cell_type": "markdown",
   "id": "d0a913f7-d399-49a3-b47e-dc8258cb54a0",
   "metadata": {},
   "source": [
    "A fórmula para calcular a impureza de Gini é:\n",
    "\n",
    "$Gini=1−∑(p_i^2​)$\n",
    "\n",
    "onde $p_i​$ é a proporção de cada classe no conjunto de dados."
   ]
  },
  {
   "cell_type": "markdown",
   "id": "a64f12cb-4364-4ad1-b542-6a161ba5fcfe",
   "metadata": {},
   "source": [
    "# Exemplo"
   ]
  },
  {
   "cell_type": "code",
   "execution_count": 1,
   "id": "372543d6-7bee-4bfd-9231-ddf286e5b741",
   "metadata": {
    "execution": {
     "iopub.execute_input": "2024-10-31T04:44:45.101349Z",
     "iopub.status.busy": "2024-10-31T04:44:45.100389Z",
     "iopub.status.idle": "2024-10-31T04:44:45.248169Z",
     "shell.execute_reply": "2024-10-31T04:44:45.247559Z",
     "shell.execute_reply.started": "2024-10-31T04:44:45.101304Z"
    }
   },
   "outputs": [],
   "source": [
    "import numpy as np"
   ]
  },
  {
   "cell_type": "code",
   "execution_count": 2,
   "id": "23e63e2c-cb20-44a4-9e3e-daa29fd19599",
   "metadata": {
    "execution": {
     "iopub.execute_input": "2024-10-31T04:44:45.326318Z",
     "iopub.status.busy": "2024-10-31T04:44:45.325224Z",
     "iopub.status.idle": "2024-10-31T04:44:45.333164Z",
     "shell.execute_reply": "2024-10-31T04:44:45.331836Z",
     "shell.execute_reply.started": "2024-10-31T04:44:45.326259Z"
    }
   },
   "outputs": [],
   "source": [
    "# Função para calcular a impureza de Gini\n",
    "def gini_impurity(classes):\n",
    "    # Contar a frequência de cada classe\n",
    "    class_counts = np.bincount(classes)\n",
    "    total = len(classes)\n",
    "    \n",
    "    # Calcular a proporção de cada classe\n",
    "    proportions = class_counts / total\n",
    "    \n",
    "    # Calcular a impureza de Gini\n",
    "    gini = 1 - np.sum(proportions ** 2)\n",
    "    return gini"
   ]
  },
  {
   "cell_type": "code",
   "execution_count": 3,
   "id": "c2bf42cf-3e3d-40d4-9a98-74db9bb30cc6",
   "metadata": {
    "execution": {
     "iopub.execute_input": "2024-10-31T04:44:45.484664Z",
     "iopub.status.busy": "2024-10-31T04:44:45.484081Z",
     "iopub.status.idle": "2024-10-31T04:44:45.490519Z",
     "shell.execute_reply": "2024-10-31T04:44:45.489160Z",
     "shell.execute_reply.started": "2024-10-31T04:44:45.484621Z"
    }
   },
   "outputs": [],
   "source": [
    "# Simulando um conjunto de dados de classes\n",
    "# Exemplo: 0 e 1 representam duas classes\n",
    "dados = np.array([0, 0, 1, 1, 0, 1, 1, 0, 0, 1])"
   ]
  },
  {
   "cell_type": "code",
   "execution_count": 4,
   "id": "f20d8df3-fe62-4d40-9e24-c51d51d12f51",
   "metadata": {
    "execution": {
     "iopub.execute_input": "2024-10-31T04:44:45.647675Z",
     "iopub.status.busy": "2024-10-31T04:44:45.647069Z",
     "iopub.status.idle": "2024-10-31T04:44:45.653856Z",
     "shell.execute_reply": "2024-10-31T04:44:45.652806Z",
     "shell.execute_reply.started": "2024-10-31T04:44:45.647628Z"
    }
   },
   "outputs": [
    {
     "name": "stdout",
     "output_type": "stream",
     "text": [
      "Impureza de Gini: 0.5000\n"
     ]
    }
   ],
   "source": [
    "# Calculando a impureza de Gini\n",
    "gini = gini_impurity(dados)\n",
    "print(f\"Impureza de Gini: {gini:.4f}\")"
   ]
  },
  {
   "cell_type": "markdown",
   "id": "b08b9870-a307-46ab-8244-04ef83a7d06c",
   "metadata": {},
   "source": [
    "A impureza de Gini fornece uma medida útil para avaliar a qualidade de divisões em algoritmos de aprendizado de máquina, especialmente em árvores de decisão."
   ]
  }
 ],
 "metadata": {
  "kernelspec": {
   "display_name": "Python 3 (ipykernel)",
   "language": "python",
   "name": "python3"
  },
  "language_info": {
   "codemirror_mode": {
    "name": "ipython",
    "version": 3
   },
   "file_extension": ".py",
   "mimetype": "text/x-python",
   "name": "python",
   "nbconvert_exporter": "python",
   "pygments_lexer": "ipython3",
   "version": "3.11.2"
  }
 },
 "nbformat": 4,
 "nbformat_minor": 5
}
