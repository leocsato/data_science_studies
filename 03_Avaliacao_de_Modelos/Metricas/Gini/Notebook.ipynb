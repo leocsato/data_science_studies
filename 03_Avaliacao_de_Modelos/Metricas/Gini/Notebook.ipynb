{
 "cells": [
  {
   "cell_type": "markdown",
   "id": "f74f9116-5e43-40f4-9340-7580cf798ce9",
   "metadata": {},
   "source": [
    "Impureza de Gini é uma métrica utilizada em árvores de decisão para avaliar a impureza (ou desordem) de um conjunto de dados. Também é chamado de Gini Index.\n",
    "\n",
    "Quando uma árvore de decisão é construída com base no Gini Index, o atributo com a menor Impureza de Gini é escolhido para dividir um nó em cada etapa."
   ]
  },
  {
   "cell_type": "code",
   "execution_count": null,
   "id": "dc7cc103-638b-4825-aebc-6d07b1821170",
   "metadata": {},
   "outputs": [],
   "source": []
  }
 ],
 "metadata": {
  "kernelspec": {
   "display_name": "Python 3 (ipykernel)",
   "language": "python",
   "name": "python3"
  },
  "language_info": {
   "codemirror_mode": {
    "name": "ipython",
    "version": 3
   },
   "file_extension": ".py",
   "mimetype": "text/x-python",
   "name": "python",
   "nbconvert_exporter": "python",
   "pygments_lexer": "ipython3",
   "version": "3.11.2"
  }
 },
 "nbformat": 4,
 "nbformat_minor": 5
}
