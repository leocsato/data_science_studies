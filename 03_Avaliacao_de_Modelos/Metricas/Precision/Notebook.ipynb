{
 "cells": [
  {
   "cell_type": "markdown",
   "id": "f74f9116-5e43-40f4-9340-7580cf798ce9",
   "metadata": {},
   "source": [
    "Precisão:\n",
    "\n",
    "É a fração de instâncias relevantes entre as instâncias previstas."
   ]
  },
  {
   "cell_type": "markdown",
   "id": "26887f41-f300-4624-be45-ae82c3876eef",
   "metadata": {},
   "source": [
    "A fórmula para calcular a precisão é:\n",
    "\n",
    "$Precisão=\\frac{Verdadeiros Positivos+Falsos Positivos}{Verdadeiros Positivos}$"
   ]
  },
  {
   "cell_type": "code",
   "execution_count": 1,
   "id": "558c7885-6da0-4331-b3c8-f165836a554e",
   "metadata": {
    "execution": {
     "iopub.execute_input": "2024-10-31T04:47:42.706350Z",
     "iopub.status.busy": "2024-10-31T04:47:42.705742Z",
     "iopub.status.idle": "2024-10-31T04:47:43.245511Z",
     "shell.execute_reply": "2024-10-31T04:47:43.244647Z",
     "shell.execute_reply.started": "2024-10-31T04:47:42.706321Z"
    }
   },
   "outputs": [],
   "source": [
    "import numpy as np\n",
    "from sklearn.metrics import precision_score"
   ]
  },
  {
   "cell_type": "code",
   "execution_count": 8,
   "id": "dc7cc103-638b-4825-aebc-6d07b1821170",
   "metadata": {
    "execution": {
     "iopub.execute_input": "2024-10-31T04:47:56.237821Z",
     "iopub.status.busy": "2024-10-31T04:47:56.237293Z",
     "iopub.status.idle": "2024-10-31T04:47:56.243255Z",
     "shell.execute_reply": "2024-10-31T04:47:56.242091Z",
     "shell.execute_reply.started": "2024-10-31T04:47:56.237780Z"
    }
   },
   "outputs": [],
   "source": [
    "# Simulando rótulos verdadeiros e previsões de um modelo\n",
    "# Rótulos verdadeiros (0 ou 1)\n",
    "verdadeiros_rotulos = np.array([0, 1, 0, 0, 1, 1, 1, 0, 0, 0])"
   ]
  },
  {
   "cell_type": "code",
   "execution_count": 9,
   "id": "fabcdbd3-98f5-4d2c-bef8-183f5ea3b605",
   "metadata": {
    "execution": {
     "iopub.execute_input": "2024-10-31T04:47:56.883936Z",
     "iopub.status.busy": "2024-10-31T04:47:56.883143Z",
     "iopub.status.idle": "2024-10-31T04:47:56.894899Z",
     "shell.execute_reply": "2024-10-31T04:47:56.893504Z",
     "shell.execute_reply.started": "2024-10-31T04:47:56.883885Z"
    }
   },
   "outputs": [],
   "source": [
    "# Previsões do modelo (0 ou 1)\n",
    "previsoes = np.array([0, 1, 0, 0, 1, 1, 1, 0, 0, 1])\n",
    "\n",
    "# Calculando a precisão\n",
    "precisao = precision_score(verdadeiros_rotulos, previsoes)"
   ]
  },
  {
   "cell_type": "code",
   "execution_count": 10,
   "id": "d95d772c-6dcb-4926-a3f6-22b280e43af3",
   "metadata": {
    "execution": {
     "iopub.execute_input": "2024-10-31T04:47:57.065031Z",
     "iopub.status.busy": "2024-10-31T04:47:57.063881Z",
     "iopub.status.idle": "2024-10-31T04:47:57.072550Z",
     "shell.execute_reply": "2024-10-31T04:47:57.070973Z",
     "shell.execute_reply.started": "2024-10-31T04:47:57.064948Z"
    }
   },
   "outputs": [
    {
     "name": "stdout",
     "output_type": "stream",
     "text": [
      "Precisão: 0.8000\n"
     ]
    }
   ],
   "source": [
    "# Exibindo o resultado\n",
    "print(f\"Precisão: {precisao:.4f}\")"
   ]
  },
  {
   "cell_type": "code",
   "execution_count": null,
   "id": "ddc43357-6269-4b93-9237-b3581c9fc286",
   "metadata": {},
   "outputs": [],
   "source": []
  },
  {
   "cell_type": "code",
   "execution_count": null,
   "id": "3996e93e-e09c-4d67-a9f6-afb5b53c1e0f",
   "metadata": {},
   "outputs": [],
   "source": []
  }
 ],
 "metadata": {
  "kernelspec": {
   "display_name": "Python 3 (ipykernel)",
   "language": "python",
   "name": "python3"
  },
  "language_info": {
   "codemirror_mode": {
    "name": "ipython",
    "version": 3
   },
   "file_extension": ".py",
   "mimetype": "text/x-python",
   "name": "python",
   "nbconvert_exporter": "python",
   "pygments_lexer": "ipython3",
   "version": "3.11.2"
  }
 },
 "nbformat": 4,
 "nbformat_minor": 5
}
