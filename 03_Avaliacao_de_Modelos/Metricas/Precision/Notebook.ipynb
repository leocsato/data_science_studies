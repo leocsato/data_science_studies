{
 "cells": [
  {
   "cell_type": "markdown",
   "id": "f74f9116-5e43-40f4-9340-7580cf798ce9",
   "metadata": {},
   "source": [
    "Precisão:\n",
    "\n",
    "É a fração de instâncias relevantes entre as instâncias previstas."
   ]
  },
  {
   "cell_type": "code",
   "execution_count": 2,
   "id": "558c7885-6da0-4331-b3c8-f165836a554e",
   "metadata": {
    "execution": {
     "iopub.execute_input": "2024-05-10T04:10:09.507715Z",
     "iopub.status.busy": "2024-05-10T04:10:09.506467Z",
     "iopub.status.idle": "2024-05-10T04:10:09.513835Z",
     "shell.execute_reply": "2024-05-10T04:10:09.512707Z",
     "shell.execute_reply.started": "2024-05-10T04:10:09.507604Z"
    }
   },
   "outputs": [],
   "source": [
    "from sklearn.metrics import precision_score"
   ]
  },
  {
   "cell_type": "code",
   "execution_count": null,
   "id": "dc7cc103-638b-4825-aebc-6d07b1821170",
   "metadata": {},
   "outputs": [],
   "source": []
  }
 ],
 "metadata": {
  "kernelspec": {
   "display_name": "Python 3 (ipykernel)",
   "language": "python",
   "name": "python3"
  },
  "language_info": {
   "codemirror_mode": {
    "name": "ipython",
    "version": 3
   },
   "file_extension": ".py",
   "mimetype": "text/x-python",
   "name": "python",
   "nbconvert_exporter": "python",
   "pygments_lexer": "ipython3",
   "version": "3.11.2"
  }
 },
 "nbformat": 4,
 "nbformat_minor": 5
}
