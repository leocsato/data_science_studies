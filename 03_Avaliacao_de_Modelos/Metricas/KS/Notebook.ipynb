{
 "cells": [
  {
   "cell_type": "markdown",
   "id": "f74f9116-5e43-40f4-9340-7580cf798ce9",
   "metadata": {},
   "source": [
    "KS:\n",
    "\n",
    "O teste KS é uma medida não-paramétrica que é usada para comparar a distribuição de probabilidade em uma amostra com uma distribuição de referência ou com a de outra amostra.\n",
    "\n",
    "Quantifica a distância entre a função da distribuião empírica da amostra e a função distribuição acumulada da distribuição sendo utilizada na comparação (seja ela a distribuição de referência ou de outra amostra).\n",
    "\n",
    "A hipótese nula é que a amostra tem origem na distribuição com que ela está sendo comparada, seja ela a de referência ou a mesma distribuição da outra amostra."
   ]
  },
  {
   "cell_type": "code",
   "execution_count": 1,
   "id": "558c7885-6da0-4331-b3c8-f165836a554e",
   "metadata": {
    "execution": {
     "iopub.execute_input": "2024-10-31T04:45:48.256002Z",
     "iopub.status.busy": "2024-10-31T04:45:48.255321Z",
     "iopub.status.idle": "2024-10-31T04:45:49.046196Z",
     "shell.execute_reply": "2024-10-31T04:45:49.045670Z",
     "shell.execute_reply.started": "2024-10-31T04:45:48.255948Z"
    }
   },
   "outputs": [],
   "source": [
    "# from scipy.stats import kstest\n",
    "import numpy as np\n",
    "import matplotlib.pyplot as plt\n",
    "from scipy import stats"
   ]
  },
  {
   "cell_type": "code",
   "execution_count": 2,
   "id": "dc7cc103-638b-4825-aebc-6d07b1821170",
   "metadata": {
    "execution": {
     "iopub.execute_input": "2024-10-31T04:45:55.595661Z",
     "iopub.status.busy": "2024-10-31T04:45:55.595080Z",
     "iopub.status.idle": "2024-10-31T04:45:55.602251Z",
     "shell.execute_reply": "2024-10-31T04:45:55.601611Z",
     "shell.execute_reply.started": "2024-10-31T04:45:55.595622Z"
    }
   },
   "outputs": [],
   "source": [
    "# Simulando dados\n",
    "np.random.seed(42)\n",
    "# Dados da classe positiva\n",
    "classe_positiva = np.random.normal(loc=1, scale=0.5, size=1000)\n",
    "# Dados da classe negativa\n",
    "classe_negativa = np.random.normal(loc=0, scale=0.5, size=1000)\n",
    "\n",
    "# Calculando a CDF para ambas as classes\n",
    "ecdf_pos = np.sort(classe_positiva)\n",
    "ecdf_neg = np.sort(classe_negativa)\n",
    "\n",
    "# Cálculo da CDF\n",
    "cdf_pos = np.arange(1, len(ecdf_pos) + 1) / len(ecdf_pos)\n",
    "cdf_neg = np.arange(1, len(ecdf_neg) + 1) / len(ecdf_neg)"
   ]
  },
  {
   "cell_type": "code",
   "execution_count": 3,
   "id": "6956adc6-853c-47ea-883d-ef187f65dad8",
   "metadata": {
    "execution": {
     "iopub.execute_input": "2024-10-31T04:46:04.264841Z",
     "iopub.status.busy": "2024-10-31T04:46:04.264264Z",
     "iopub.status.idle": "2024-10-31T04:46:04.276278Z",
     "shell.execute_reply": "2024-10-31T04:46:04.274829Z",
     "shell.execute_reply.started": "2024-10-31T04:46:04.264800Z"
    }
   },
   "outputs": [
    {
     "name": "stdout",
     "output_type": "stream",
     "text": [
      "Estatística KS: 0.6790, Valor p: 0.0000\n"
     ]
    }
   ],
   "source": [
    "# Calculando a estatística KS\n",
    "ks_statistic, p_value = stats.ks_2samp(classe_positiva, classe_negativa)\n",
    "\n",
    "# Exibindo os resultados\n",
    "print(f\"Estatística KS: {ks_statistic:.4f}, Valor p: {p_value:.4f}\")"
   ]
  },
  {
   "cell_type": "markdown",
   "id": "56f631b8-357b-42c8-952b-9a657ece1baf",
   "metadata": {},
   "source": [
    " A estatística KS fornece uma medida útil para avaliar a separação entre as classes em problemas de classificação."
   ]
  },
  {
   "cell_type": "code",
   "execution_count": 5,
   "id": "0eeca6ca-8ec8-424a-ad2f-fe8e997b898e",
   "metadata": {
    "execution": {
     "iopub.execute_input": "2024-10-31T04:46:15.407371Z",
     "iopub.status.busy": "2024-10-31T04:46:15.406972Z",
     "iopub.status.idle": "2024-10-31T04:46:15.413114Z",
     "shell.execute_reply": "2024-10-31T04:46:15.411601Z",
     "shell.execute_reply.started": "2024-10-31T04:46:15.407347Z"
    }
   },
   "outputs": [],
   "source": [
    "# # Plotando as CDFs\n",
    "# plt.figure(figsize=(10, 6))\n",
    "# plt.step(ecdf_pos, cdf_pos, label='CDF Classe Positiva', color='blue', where='post')\n",
    "# plt.step(ecdf_neg, cdf_neg, label='CDF Classe Negativa', color='red', where='post')\n",
    "# plt.title('Funções de Distribuição Acumulada (CDF)')\n",
    "# plt.xlabel('Valor')\n",
    "# plt.ylabel('CDF')\n",
    "# plt.legend()\n",
    "# plt.grid()\n",
    "# plt.show()"
   ]
  },
  {
   "cell_type": "code",
   "execution_count": null,
   "id": "1412f385-e39b-40c3-98cf-5182a43247db",
   "metadata": {},
   "outputs": [],
   "source": []
  }
 ],
 "metadata": {
  "kernelspec": {
   "display_name": "Python 3 (ipykernel)",
   "language": "python",
   "name": "python3"
  },
  "language_info": {
   "codemirror_mode": {
    "name": "ipython",
    "version": 3
   },
   "file_extension": ".py",
   "mimetype": "text/x-python",
   "name": "python",
   "nbconvert_exporter": "python",
   "pygments_lexer": "ipython3",
   "version": "3.11.2"
  }
 },
 "nbformat": 4,
 "nbformat_minor": 5
}
