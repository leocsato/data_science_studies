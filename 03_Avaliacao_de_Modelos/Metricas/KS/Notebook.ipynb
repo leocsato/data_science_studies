{
 "cells": [
  {
   "cell_type": "markdown",
   "id": "f74f9116-5e43-40f4-9340-7580cf798ce9",
   "metadata": {},
   "source": [
    "KS:\n",
    "\n",
    "O teste KS é uma medida não-paramétrica que é usada para comparar a distribuição de probabilidade em uma amostra com uma distribuição de referência ou com a de outra amostra.\n",
    "\n",
    "Quantifica a distância entre a função da distribuião empírica da amostra e a função distribuição acumulada da distribuição sendo utilizada na comparação (seja ela a distribuição de referência ou de outra amostra).\n",
    "\n",
    "A hipótese nula é que a amostra tem origem na distribuição com que ela está sendo comparada, seja ela a de referência ou a mesma distribuição da outra amostra."
   ]
  },
  {
   "cell_type": "code",
   "execution_count": 2,
   "id": "558c7885-6da0-4331-b3c8-f165836a554e",
   "metadata": {
    "execution": {
     "iopub.execute_input": "2024-05-10T04:11:14.134886Z",
     "iopub.status.busy": "2024-05-10T04:11:14.134303Z",
     "iopub.status.idle": "2024-05-10T04:11:14.140254Z",
     "shell.execute_reply": "2024-05-10T04:11:14.139010Z",
     "shell.execute_reply.started": "2024-05-10T04:11:14.134845Z"
    }
   },
   "outputs": [],
   "source": [
    "from scipy.stats import kstest"
   ]
  },
  {
   "cell_type": "code",
   "execution_count": null,
   "id": "dc7cc103-638b-4825-aebc-6d07b1821170",
   "metadata": {},
   "outputs": [],
   "source": []
  }
 ],
 "metadata": {
  "kernelspec": {
   "display_name": "Python 3 (ipykernel)",
   "language": "python",
   "name": "python3"
  },
  "language_info": {
   "codemirror_mode": {
    "name": "ipython",
    "version": 3
   },
   "file_extension": ".py",
   "mimetype": "text/x-python",
   "name": "python",
   "nbconvert_exporter": "python",
   "pygments_lexer": "ipython3",
   "version": "3.11.2"
  }
 },
 "nbformat": 4,
 "nbformat_minor": 5
}
