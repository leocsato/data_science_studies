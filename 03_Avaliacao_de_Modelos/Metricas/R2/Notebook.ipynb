{
 "cells": [
  {
   "cell_type": "markdown",
   "id": "f74f9116-5e43-40f4-9340-7580cf798ce9",
   "metadata": {},
   "source": [
    "Conhecido como coeficiente de determinação, é a proporção da variação em uma variável dependente (que é a variável target) que é previsível ou explicável pela regressão linear e a(s) variáveis preditora(s). (Também chamadas de variáveis independentes).\n",
    "\n",
    "\n",
    "Em resumo, aferi a habilidade de um modelo previr ou explicar o resultado em uma configuração de regressão linear. Também utilizada para testar hipóteses, baseando-se em outras informações relacionadas."
   ]
  },
  {
   "cell_type": "code",
   "execution_count": 1,
   "id": "e74f508e-f707-4e51-917a-9ecd9cbe3dad",
   "metadata": {
    "execution": {
     "iopub.execute_input": "2024-10-31T04:50:27.633812Z",
     "iopub.status.busy": "2024-10-31T04:50:27.633341Z",
     "iopub.status.idle": "2024-10-31T04:50:28.183137Z",
     "shell.execute_reply": "2024-10-31T04:50:28.182098Z",
     "shell.execute_reply.started": "2024-10-31T04:50:27.633776Z"
    }
   },
   "outputs": [],
   "source": [
    "import numpy as np\n",
    "from sklearn.metrics import r2_score"
   ]
  },
  {
   "cell_type": "code",
   "execution_count": 2,
   "id": "5418e64b-58f9-42f7-a85f-d3a4feeee53b",
   "metadata": {
    "execution": {
     "iopub.execute_input": "2024-10-31T04:50:28.184794Z",
     "iopub.status.busy": "2024-10-31T04:50:28.184360Z",
     "iopub.status.idle": "2024-10-31T04:50:28.188374Z",
     "shell.execute_reply": "2024-10-31T04:50:28.187622Z",
     "shell.execute_reply.started": "2024-10-31T04:50:28.184763Z"
    }
   },
   "outputs": [],
   "source": [
    "np.random.seed(0)"
   ]
  },
  {
   "cell_type": "code",
   "execution_count": 3,
   "id": "5a786645-e74d-4e32-862f-b43818f05727",
   "metadata": {
    "execution": {
     "iopub.execute_input": "2024-10-31T04:50:28.189608Z",
     "iopub.status.busy": "2024-10-31T04:50:28.189266Z",
     "iopub.status.idle": "2024-10-31T04:50:28.195890Z",
     "shell.execute_reply": "2024-10-31T04:50:28.195062Z",
     "shell.execute_reply.started": "2024-10-31T04:50:28.189583Z"
    }
   },
   "outputs": [],
   "source": [
    "y_true = np.random.rand(100)\n",
    "y_pred = y_true + np.random.normal(0, 0.3, size=100)"
   ]
  },
  {
   "cell_type": "code",
   "execution_count": 4,
   "id": "0dcebfb1-b5b5-4f2c-add9-b53100352775",
   "metadata": {
    "execution": {
     "iopub.execute_input": "2024-10-31T04:50:28.232584Z",
     "iopub.status.busy": "2024-10-31T04:50:28.232259Z",
     "iopub.status.idle": "2024-10-31T04:50:28.242677Z",
     "shell.execute_reply": "2024-10-31T04:50:28.241740Z",
     "shell.execute_reply.started": "2024-10-31T04:50:28.232561Z"
    }
   },
   "outputs": [
    {
     "data": {
      "text/plain": [
       "-0.11502635942743678"
      ]
     },
     "execution_count": 4,
     "metadata": {},
     "output_type": "execute_result"
    }
   ],
   "source": [
    "r2_score(y_true, y_pred)"
   ]
  },
  {
   "cell_type": "code",
   "execution_count": null,
   "id": "3bdbc672-ac9f-4626-b200-b3fa36b18b02",
   "metadata": {},
   "outputs": [],
   "source": []
  },
  {
   "cell_type": "code",
   "execution_count": null,
   "id": "92563c05-d482-44fd-9fdd-4d77e60bff13",
   "metadata": {},
   "outputs": [],
   "source": []
  }
 ],
 "metadata": {
  "kernelspec": {
   "display_name": "Python 3 (ipykernel)",
   "language": "python",
   "name": "python3"
  },
  "language_info": {
   "codemirror_mode": {
    "name": "ipython",
    "version": 3
   },
   "file_extension": ".py",
   "mimetype": "text/x-python",
   "name": "python",
   "nbconvert_exporter": "python",
   "pygments_lexer": "ipython3",
   "version": "3.11.2"
  }
 },
 "nbformat": 4,
 "nbformat_minor": 5
}
