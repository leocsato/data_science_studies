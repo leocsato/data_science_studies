{
 "cells": [
  {
   "cell_type": "markdown",
   "id": "f74f9116-5e43-40f4-9340-7580cf798ce9",
   "metadata": {},
   "source": [
    "Conhecido como coeficiente de determinação, é a proporção da variação em uma variável dependente (que é a variável target) que é previsível ou explicável pela regressão linear e a(s) variáveis preditora(s). (Também chamadas de variáveis independentes).\n",
    "\n",
    "\n",
    "Em resumo, aferi a habilidade de um modelo previr ou explicar o resultado em uma configuração de regressão linear. Também utilizada para testar hipóteses, baseando-se em outras informações relacionadas."
   ]
  },
  {
   "cell_type": "code",
   "execution_count": 6,
   "id": "e74f508e-f707-4e51-917a-9ecd9cbe3dad",
   "metadata": {
    "execution": {
     "iopub.execute_input": "2024-05-10T04:18:26.483678Z",
     "iopub.status.busy": "2024-05-10T04:18:26.482267Z",
     "iopub.status.idle": "2024-05-10T04:18:26.490422Z",
     "shell.execute_reply": "2024-05-10T04:18:26.489276Z",
     "shell.execute_reply.started": "2024-05-10T04:18:26.483577Z"
    }
   },
   "outputs": [],
   "source": [
    "import numpy as np\n",
    "from sklearn.metrics import r2_score"
   ]
  },
  {
   "cell_type": "code",
   "execution_count": 7,
   "id": "5418e64b-58f9-42f7-a85f-d3a4feeee53b",
   "metadata": {
    "execution": {
     "iopub.execute_input": "2024-05-10T04:18:26.668317Z",
     "iopub.status.busy": "2024-05-10T04:18:26.667249Z",
     "iopub.status.idle": "2024-05-10T04:18:26.673980Z",
     "shell.execute_reply": "2024-05-10T04:18:26.672391Z",
     "shell.execute_reply.started": "2024-05-10T04:18:26.668252Z"
    }
   },
   "outputs": [],
   "source": [
    "np.random.seed(0)"
   ]
  },
  {
   "cell_type": "code",
   "execution_count": 8,
   "id": "5a786645-e74d-4e32-862f-b43818f05727",
   "metadata": {
    "execution": {
     "iopub.execute_input": "2024-05-10T04:18:26.817661Z",
     "iopub.status.busy": "2024-05-10T04:18:26.817022Z",
     "iopub.status.idle": "2024-05-10T04:18:26.822608Z",
     "shell.execute_reply": "2024-05-10T04:18:26.821517Z",
     "shell.execute_reply.started": "2024-05-10T04:18:26.817623Z"
    }
   },
   "outputs": [],
   "source": [
    "y_true = np.random.rand(100)\n",
    "y_pred = y_true + np.random.normal(0, 0.3, size=100)"
   ]
  },
  {
   "cell_type": "code",
   "execution_count": 9,
   "id": "0dcebfb1-b5b5-4f2c-add9-b53100352775",
   "metadata": {
    "execution": {
     "iopub.execute_input": "2024-05-10T04:18:27.011210Z",
     "iopub.status.busy": "2024-05-10T04:18:27.010252Z",
     "iopub.status.idle": "2024-05-10T04:18:27.020612Z",
     "shell.execute_reply": "2024-05-10T04:18:27.019523Z",
     "shell.execute_reply.started": "2024-05-10T04:18:27.011145Z"
    }
   },
   "outputs": [
    {
     "data": {
      "text/plain": [
       "-0.11502635942743678"
      ]
     },
     "execution_count": 9,
     "metadata": {},
     "output_type": "execute_result"
    }
   ],
   "source": [
    "r2_score(y_true, y_pred)"
   ]
  },
  {
   "cell_type": "code",
   "execution_count": null,
   "id": "3bdbc672-ac9f-4626-b200-b3fa36b18b02",
   "metadata": {},
   "outputs": [],
   "source": []
  },
  {
   "cell_type": "code",
   "execution_count": null,
   "id": "92563c05-d482-44fd-9fdd-4d77e60bff13",
   "metadata": {},
   "outputs": [],
   "source": []
  }
 ],
 "metadata": {
  "kernelspec": {
   "display_name": "Python 3 (ipykernel)",
   "language": "python",
   "name": "python3"
  },
  "language_info": {
   "codemirror_mode": {
    "name": "ipython",
    "version": 3
   },
   "file_extension": ".py",
   "mimetype": "text/x-python",
   "name": "python",
   "nbconvert_exporter": "python",
   "pygments_lexer": "ipython3",
   "version": "3.11.2"
  }
 },
 "nbformat": 4,
 "nbformat_minor": 5
}
