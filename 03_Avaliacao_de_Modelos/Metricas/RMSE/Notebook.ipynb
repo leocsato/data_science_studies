{
 "cells": [
  {
   "cell_type": "markdown",
   "id": "07cd51e1-cf9f-4d27-b7f9-a01e433fc68b",
   "metadata": {},
   "source": [
    "É utilizada para se referir a raiz do erro quadrático médio.\n",
    "Ele é calculado através primeiro do cálculo do MSE e então obtendo-se sua raiz quadrada."
   ]
  },
  {
   "cell_type": "code",
   "execution_count": 1,
   "id": "77141c09-eeb6-48f9-954d-0e0dce4c7698",
   "metadata": {
    "execution": {
     "iopub.execute_input": "2024-10-31T04:51:51.149318Z",
     "iopub.status.busy": "2024-10-31T04:51:51.148338Z",
     "iopub.status.idle": "2024-10-31T04:51:51.755302Z",
     "shell.execute_reply": "2024-10-31T04:51:51.754460Z",
     "shell.execute_reply.started": "2024-10-31T04:51:51.149212Z"
    }
   },
   "outputs": [],
   "source": [
    "import numpy as np\n",
    "from sklearn.metrics import mean_squared_error"
   ]
  },
  {
   "cell_type": "code",
   "execution_count": 2,
   "id": "c7a0e1bf-d2c7-44f1-9864-e80e1ec93064",
   "metadata": {
    "execution": {
     "iopub.execute_input": "2024-10-31T04:51:51.757430Z",
     "iopub.status.busy": "2024-10-31T04:51:51.756893Z",
     "iopub.status.idle": "2024-10-31T04:51:51.761586Z",
     "shell.execute_reply": "2024-10-31T04:51:51.760555Z",
     "shell.execute_reply.started": "2024-10-31T04:51:51.757391Z"
    }
   },
   "outputs": [],
   "source": [
    "y_pred = [2, 3, 5,]\n",
    "y_true = [1.3, 3.8, 6.9,]"
   ]
  },
  {
   "cell_type": "code",
   "execution_count": 3,
   "id": "8a257625-3f1e-4081-adff-74f1d0c88fd8",
   "metadata": {
    "execution": {
     "iopub.execute_input": "2024-10-31T04:51:51.763004Z",
     "iopub.status.busy": "2024-10-31T04:51:51.762594Z",
     "iopub.status.idle": "2024-10-31T04:51:51.773742Z",
     "shell.execute_reply": "2024-10-31T04:51:51.772538Z",
     "shell.execute_reply.started": "2024-10-31T04:51:51.762968Z"
    }
   },
   "outputs": [
    {
     "data": {
      "text/plain": [
       "1.2569805089976536"
      ]
     },
     "execution_count": 3,
     "metadata": {},
     "output_type": "execute_result"
    }
   ],
   "source": [
    "mse = mean_squared_error(y_pred, y_true)\n",
    "np.sqrt(mse)"
   ]
  },
  {
   "cell_type": "code",
   "execution_count": 4,
   "id": "f854e97d-e6ee-401d-8eb1-bc637ca975dd",
   "metadata": {
    "execution": {
     "iopub.execute_input": "2024-10-31T04:51:51.836689Z",
     "iopub.status.busy": "2024-10-31T04:51:51.836042Z",
     "iopub.status.idle": "2024-10-31T04:51:51.843892Z",
     "shell.execute_reply": "2024-10-31T04:51:51.842105Z",
     "shell.execute_reply.started": "2024-10-31T04:51:51.836642Z"
    }
   },
   "outputs": [
    {
     "name": "stdout",
     "output_type": "stream",
     "text": [
      "RMSE: 1.2569805089976536\n"
     ]
    }
   ],
   "source": [
    "print(\"RMSE:\", np.sqrt(mse))"
   ]
  },
  {
   "cell_type": "code",
   "execution_count": null,
   "id": "7f92564a-e925-4c89-b2a4-1aa932f97edb",
   "metadata": {},
   "outputs": [],
   "source": []
  }
 ],
 "metadata": {
  "kernelspec": {
   "display_name": "Python 3 (ipykernel)",
   "language": "python",
   "name": "python3"
  },
  "language_info": {
   "codemirror_mode": {
    "name": "ipython",
    "version": 3
   },
   "file_extension": ".py",
   "mimetype": "text/x-python",
   "name": "python",
   "nbconvert_exporter": "python",
   "pygments_lexer": "ipython3",
   "version": "3.11.2"
  }
 },
 "nbformat": 4,
 "nbformat_minor": 5
}
