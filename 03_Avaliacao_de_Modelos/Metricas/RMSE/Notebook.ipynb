{
 "cells": [
  {
   "cell_type": "markdown",
   "id": "07cd51e1-cf9f-4d27-b7f9-a01e433fc68b",
   "metadata": {},
   "source": [
    "É utilizada para se referir a raiz do erro quadrático médio.\n",
    "Ele é calculado através primeiro do cálculo do MSE e então obtendo-se sua raiz quadrada."
   ]
  },
  {
   "cell_type": "code",
   "execution_count": 4,
   "id": "77141c09-eeb6-48f9-954d-0e0dce4c7698",
   "metadata": {
    "execution": {
     "iopub.execute_input": "2024-05-10T03:57:31.843854Z",
     "iopub.status.busy": "2024-05-10T03:57:31.843269Z",
     "iopub.status.idle": "2024-05-10T03:57:31.849421Z",
     "shell.execute_reply": "2024-05-10T03:57:31.848125Z",
     "shell.execute_reply.started": "2024-05-10T03:57:31.843814Z"
    }
   },
   "outputs": [],
   "source": [
    "import numpy as np\n",
    "from sklearn.metrics import mean_squared_error"
   ]
  },
  {
   "cell_type": "code",
   "execution_count": 5,
   "id": "c7a0e1bf-d2c7-44f1-9864-e80e1ec93064",
   "metadata": {
    "execution": {
     "iopub.execute_input": "2024-05-10T03:57:32.524689Z",
     "iopub.status.busy": "2024-05-10T03:57:32.524082Z",
     "iopub.status.idle": "2024-05-10T03:57:32.530662Z",
     "shell.execute_reply": "2024-05-10T03:57:32.529230Z",
     "shell.execute_reply.started": "2024-05-10T03:57:32.524646Z"
    }
   },
   "outputs": [],
   "source": [
    "y_pred = [2, 3, 5,]\n",
    "y_true = [1.3, 3.8, 6.9,]"
   ]
  },
  {
   "cell_type": "code",
   "execution_count": 7,
   "id": "8a257625-3f1e-4081-adff-74f1d0c88fd8",
   "metadata": {
    "execution": {
     "iopub.execute_input": "2024-05-10T03:57:37.296316Z",
     "iopub.status.busy": "2024-05-10T03:57:37.295810Z",
     "iopub.status.idle": "2024-05-10T03:57:37.311257Z",
     "shell.execute_reply": "2024-05-10T03:57:37.309795Z",
     "shell.execute_reply.started": "2024-05-10T03:57:37.296277Z"
    }
   },
   "outputs": [
    {
     "data": {
      "text/plain": [
       "1.2569805089976536"
      ]
     },
     "execution_count": 7,
     "metadata": {},
     "output_type": "execute_result"
    }
   ],
   "source": [
    "mse = mean_squared_error(y_pred, y_true)\n",
    "np.sqrt(mse)"
   ]
  },
  {
   "cell_type": "code",
   "execution_count": 8,
   "id": "f854e97d-e6ee-401d-8eb1-bc637ca975dd",
   "metadata": {
    "execution": {
     "iopub.execute_input": "2024-05-10T03:57:41.933832Z",
     "iopub.status.busy": "2024-05-10T03:57:41.933328Z",
     "iopub.status.idle": "2024-05-10T03:57:41.940523Z",
     "shell.execute_reply": "2024-05-10T03:57:41.939136Z",
     "shell.execute_reply.started": "2024-05-10T03:57:41.933792Z"
    }
   },
   "outputs": [
    {
     "name": "stdout",
     "output_type": "stream",
     "text": [
      "RMSE: 1.2569805089976536\n"
     ]
    }
   ],
   "source": [
    "print(\"RMSE:\", np.sqrt(mse))"
   ]
  },
  {
   "cell_type": "code",
   "execution_count": null,
   "id": "7f92564a-e925-4c89-b2a4-1aa932f97edb",
   "metadata": {},
   "outputs": [],
   "source": []
  }
 ],
 "metadata": {
  "kernelspec": {
   "display_name": "Python 3 (ipykernel)",
   "language": "python",
   "name": "python3"
  },
  "language_info": {
   "codemirror_mode": {
    "name": "ipython",
    "version": 3
   },
   "file_extension": ".py",
   "mimetype": "text/x-python",
   "name": "python",
   "nbconvert_exporter": "python",
   "pygments_lexer": "ipython3",
   "version": "3.11.2"
  }
 },
 "nbformat": 4,
 "nbformat_minor": 5
}
