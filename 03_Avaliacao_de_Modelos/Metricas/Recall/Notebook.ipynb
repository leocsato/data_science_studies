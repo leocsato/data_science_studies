{
 "cells": [
  {
   "cell_type": "markdown",
   "id": "f74f9116-5e43-40f4-9340-7580cf798ce9",
   "metadata": {},
   "source": [
    "Recall:\n",
    "\n",
    "Também chamado de sensitividade em classificação binária, é a fração de instâncias relevantes que foram obtidas dentre a quantidade real de instâncias relevantes."
   ]
  },
  {
   "cell_type": "code",
   "execution_count": 1,
   "id": "558c7885-6da0-4331-b3c8-f165836a554e",
   "metadata": {
    "execution": {
     "iopub.execute_input": "2024-10-31T04:51:17.659319Z",
     "iopub.status.busy": "2024-10-31T04:51:17.658723Z",
     "iopub.status.idle": "2024-10-31T04:51:20.140546Z",
     "shell.execute_reply": "2024-10-31T04:51:20.139367Z",
     "shell.execute_reply.started": "2024-10-31T04:51:17.659273Z"
    }
   },
   "outputs": [],
   "source": [
    "import numpy as np\n",
    "from sklearn.metrics import recall_score\n",
    "from sklearn.model_selection import train_test_split\n",
    "from sklearn.datasets import make_classification\n",
    "from sklearn.ensemble import RandomForestClassifier"
   ]
  },
  {
   "cell_type": "code",
   "execution_count": 2,
   "id": "dc7cc103-638b-4825-aebc-6d07b1821170",
   "metadata": {
    "execution": {
     "iopub.execute_input": "2024-10-31T04:51:20.143823Z",
     "iopub.status.busy": "2024-10-31T04:51:20.142927Z",
     "iopub.status.idle": "2024-10-31T04:51:20.155338Z",
     "shell.execute_reply": "2024-10-31T04:51:20.153927Z",
     "shell.execute_reply.started": "2024-10-31T04:51:20.143772Z"
    }
   },
   "outputs": [],
   "source": [
    "# Gerar um conjunto de dados fictício\n",
    "X, y = make_classification(n_samples=1000, n_features=20, n_classes=2, \n",
    "                           n_informative=2, n_redundant=10, random_state=42)"
   ]
  },
  {
   "cell_type": "code",
   "execution_count": 3,
   "id": "f6951c2d-bd54-4949-8704-eba7f8467b0a",
   "metadata": {
    "execution": {
     "iopub.execute_input": "2024-10-31T04:51:20.157444Z",
     "iopub.status.busy": "2024-10-31T04:51:20.156898Z",
     "iopub.status.idle": "2024-10-31T04:51:20.434770Z",
     "shell.execute_reply": "2024-10-31T04:51:20.434028Z",
     "shell.execute_reply.started": "2024-10-31T04:51:20.157401Z"
    }
   },
   "outputs": [],
   "source": [
    "# Dividir o conjunto de dados em treino e teste\n",
    "X_train, X_test, y_train, y_test = train_test_split(X, y, test_size=0.3, random_state=42)\n",
    "\n",
    "# Treinar um modelo de classificação (Random Forest)\n",
    "model = RandomForestClassifier(random_state=42)\n",
    "model.fit(X_train, y_train)\n",
    "\n",
    "# Fazer previsões\n",
    "y_pred = model.predict(X_test)"
   ]
  },
  {
   "cell_type": "code",
   "execution_count": 4,
   "id": "db5ce4fa-7ac7-4393-b06c-e6f4ca401133",
   "metadata": {
    "execution": {
     "iopub.execute_input": "2024-10-31T04:51:20.436453Z",
     "iopub.status.busy": "2024-10-31T04:51:20.436118Z",
     "iopub.status.idle": "2024-10-31T04:51:20.443657Z",
     "shell.execute_reply": "2024-10-31T04:51:20.442817Z",
     "shell.execute_reply.started": "2024-10-31T04:51:20.436430Z"
    }
   },
   "outputs": [
    {
     "name": "stdout",
     "output_type": "stream",
     "text": [
      "Recall: 0.94\n"
     ]
    }
   ],
   "source": [
    "# Calcular o recall\n",
    "recall = recall_score(y_test, y_pred)\n",
    "\n",
    "print(f'Recall: {recall:.2f}')"
   ]
  },
  {
   "cell_type": "code",
   "execution_count": null,
   "id": "2542fd4e-b123-4ed9-8385-af8e0619159a",
   "metadata": {},
   "outputs": [],
   "source": []
  },
  {
   "cell_type": "code",
   "execution_count": null,
   "id": "5ebfe17b-cfe0-4d0b-aed7-44c88c1c40c7",
   "metadata": {},
   "outputs": [],
   "source": []
  },
  {
   "cell_type": "code",
   "execution_count": null,
   "id": "ab62641d-27e7-471d-9083-87a387cde67f",
   "metadata": {},
   "outputs": [],
   "source": []
  }
 ],
 "metadata": {
  "kernelspec": {
   "display_name": "Python 3 (ipykernel)",
   "language": "python",
   "name": "python3"
  },
  "language_info": {
   "codemirror_mode": {
    "name": "ipython",
    "version": 3
   },
   "file_extension": ".py",
   "mimetype": "text/x-python",
   "name": "python",
   "nbconvert_exporter": "python",
   "pygments_lexer": "ipython3",
   "version": "3.11.2"
  }
 },
 "nbformat": 4,
 "nbformat_minor": 5
}
