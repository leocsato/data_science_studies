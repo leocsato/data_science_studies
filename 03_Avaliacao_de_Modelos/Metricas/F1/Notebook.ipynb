{
 "cells": [
  {
   "cell_type": "markdown",
   "id": "f74f9116-5e43-40f4-9340-7580cf798ce9",
   "metadata": {},
   "source": [
    "Média harmônica de Recall e Precisão."
   ]
  },
  {
   "cell_type": "markdown",
   "id": "6e8e60ff-60ca-43fb-ad9b-c772ab2e6751",
   "metadata": {},
   "source": [
    "O F1-Score é uma métrica de avaliação que combina a precisão e a sensibilidade (recall) de um modelo de classificação. É especialmente útil em situações onde há um desbalanceamento entre as classes, pois fornece uma única medida que considera tanto os falsos positivos quanto os falsos negativos."
   ]
  },
  {
   "cell_type": "code",
   "execution_count": 2,
   "id": "558c7885-6da0-4331-b3c8-f165836a554e",
   "metadata": {
    "execution": {
     "iopub.execute_input": "2024-10-31T04:42:37.465017Z",
     "iopub.status.busy": "2024-10-31T04:42:37.464348Z",
     "iopub.status.idle": "2024-10-31T04:42:38.020489Z",
     "shell.execute_reply": "2024-10-31T04:42:38.019890Z",
     "shell.execute_reply.started": "2024-10-31T04:42:37.464936Z"
    }
   },
   "outputs": [],
   "source": [
    "import numpy as np\n",
    "from sklearn.metrics import f1_score, precision_score, recall_score"
   ]
  },
  {
   "cell_type": "code",
   "execution_count": 9,
   "id": "dc7cc103-638b-4825-aebc-6d07b1821170",
   "metadata": {
    "execution": {
     "iopub.execute_input": "2024-10-31T04:42:59.438550Z",
     "iopub.status.busy": "2024-10-31T04:42:59.437954Z",
     "iopub.status.idle": "2024-10-31T04:42:59.444147Z",
     "shell.execute_reply": "2024-10-31T04:42:59.443065Z",
     "shell.execute_reply.started": "2024-10-31T04:42:59.438502Z"
    }
   },
   "outputs": [],
   "source": [
    "# Simulando rótulos verdadeiros e previsões de um modelo\n",
    "# Rótulos verdadeiros (0 ou 1)\n",
    "verdadeiros_rotulos = np.array([0, 1, 1, 1, 1, 0, 0, 1, 0, 0])"
   ]
  },
  {
   "cell_type": "code",
   "execution_count": 12,
   "id": "31817f6e-4323-4032-85ea-b824a1b8f02a",
   "metadata": {
    "execution": {
     "iopub.execute_input": "2024-10-31T04:43:06.727584Z",
     "iopub.status.busy": "2024-10-31T04:43:06.726681Z",
     "iopub.status.idle": "2024-10-31T04:43:06.733144Z",
     "shell.execute_reply": "2024-10-31T04:43:06.732261Z",
     "shell.execute_reply.started": "2024-10-31T04:43:06.727528Z"
    }
   },
   "outputs": [],
   "source": [
    "# Previsões do modelo (0 ou 1)\n",
    "previsoes = np.array([0, 1, 0, 1, 1, 1, 1, 0, 0, 1])"
   ]
  },
  {
   "cell_type": "code",
   "execution_count": 13,
   "id": "4ef0836d-8192-40f6-a514-0ca0a711e556",
   "metadata": {
    "execution": {
     "iopub.execute_input": "2024-10-31T04:43:06.979539Z",
     "iopub.status.busy": "2024-10-31T04:43:06.978627Z",
     "iopub.status.idle": "2024-10-31T04:43:07.004306Z",
     "shell.execute_reply": "2024-10-31T04:43:07.003030Z",
     "shell.execute_reply.started": "2024-10-31T04:43:06.979491Z"
    }
   },
   "outputs": [
    {
     "name": "stdout",
     "output_type": "stream",
     "text": [
      "Precisão: 0.5000\n",
      "Recall: 0.6000\n",
      "F1-Score: 0.5455\n"
     ]
    }
   ],
   "source": [
    "# Calculando a precisão, recall e F1-Score\n",
    "precisao = precision_score(verdadeiros_rotulos, previsoes)\n",
    "recall = recall_score(verdadeiros_rotulos, previsoes)\n",
    "f1 = f1_score(verdadeiros_rotulos, previsoes)\n",
    "\n",
    "# Exibindo os resultados\n",
    "print(f\"Precisão: {precisao:.4f}\")\n",
    "print(f\"Recall: {recall:.4f}\")\n",
    "print(f\"F1-Score: {f1:.4f}\")"
   ]
  },
  {
   "cell_type": "code",
   "execution_count": null,
   "id": "be8a26d9-2481-4da4-b053-808f6ba48512",
   "metadata": {},
   "outputs": [],
   "source": []
  }
 ],
 "metadata": {
  "kernelspec": {
   "display_name": "Python 3 (ipykernel)",
   "language": "python",
   "name": "python3"
  },
  "language_info": {
   "codemirror_mode": {
    "name": "ipython",
    "version": 3
   },
   "file_extension": ".py",
   "mimetype": "text/x-python",
   "name": "python",
   "nbconvert_exporter": "python",
   "pygments_lexer": "ipython3",
   "version": "3.11.2"
  }
 },
 "nbformat": 4,
 "nbformat_minor": 5
}
