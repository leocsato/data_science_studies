{
 "cells": [
  {
   "cell_type": "markdown",
   "id": "f74f9116-5e43-40f4-9340-7580cf798ce9",
   "metadata": {},
   "source": [
    "Média harmônica de Recall e Precisão."
   ]
  },
  {
   "cell_type": "code",
   "execution_count": 1,
   "id": "558c7885-6da0-4331-b3c8-f165836a554e",
   "metadata": {
    "execution": {
     "iopub.execute_input": "2024-05-10T04:08:46.874707Z",
     "iopub.status.busy": "2024-05-10T04:08:46.874177Z",
     "iopub.status.idle": "2024-05-10T04:08:47.465783Z",
     "shell.execute_reply": "2024-05-10T04:08:47.465222Z",
     "shell.execute_reply.started": "2024-05-10T04:08:46.874677Z"
    }
   },
   "outputs": [],
   "source": [
    "from sklearn.metrics import f1_score"
   ]
  },
  {
   "cell_type": "code",
   "execution_count": null,
   "id": "dc7cc103-638b-4825-aebc-6d07b1821170",
   "metadata": {},
   "outputs": [],
   "source": []
  }
 ],
 "metadata": {
  "kernelspec": {
   "display_name": "Python 3 (ipykernel)",
   "language": "python",
   "name": "python3"
  },
  "language_info": {
   "codemirror_mode": {
    "name": "ipython",
    "version": 3
   },
   "file_extension": ".py",
   "mimetype": "text/x-python",
   "name": "python",
   "nbconvert_exporter": "python",
   "pygments_lexer": "ipython3",
   "version": "3.11.2"
  }
 },
 "nbformat": 4,
 "nbformat_minor": 5
}
