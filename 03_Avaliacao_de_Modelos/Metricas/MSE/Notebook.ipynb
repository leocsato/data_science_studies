{
 "cells": [
  {
   "cell_type": "markdown",
   "id": "07cd51e1-cf9f-4d27-b7f9-a01e433fc68b",
   "metadata": {},
   "source": [
    "É uma métrica tipicamente utilizada em regressão para medir a qualidade de um preditor. Seu valor é sempre positivo e quanto menor, melhor é o preditor.\n",
    "Verifica o valor médio das diferenças quadráticas entre as predições e os verdadeiros valores esperados."
   ]
  },
  {
   "cell_type": "code",
   "execution_count": 1,
   "id": "77141c09-eeb6-48f9-954d-0e0dce4c7698",
   "metadata": {
    "execution": {
     "iopub.execute_input": "2024-10-31T04:46:58.487956Z",
     "iopub.status.busy": "2024-10-31T04:46:58.487559Z",
     "iopub.status.idle": "2024-10-31T04:46:59.082835Z",
     "shell.execute_reply": "2024-10-31T04:46:59.082070Z",
     "shell.execute_reply.started": "2024-10-31T04:46:58.487923Z"
    }
   },
   "outputs": [],
   "source": [
    "from sklearn.metrics import mean_squared_error"
   ]
  },
  {
   "cell_type": "code",
   "execution_count": 2,
   "id": "c7a0e1bf-d2c7-44f1-9864-e80e1ec93064",
   "metadata": {
    "execution": {
     "iopub.execute_input": "2024-10-31T04:46:59.084926Z",
     "iopub.status.busy": "2024-10-31T04:46:59.084460Z",
     "iopub.status.idle": "2024-10-31T04:46:59.088529Z",
     "shell.execute_reply": "2024-10-31T04:46:59.087888Z",
     "shell.execute_reply.started": "2024-10-31T04:46:59.084895Z"
    }
   },
   "outputs": [],
   "source": [
    "y_pred = [2, 3, 5,]\n",
    "y_true = [1.3, 3.8, 6.9,]"
   ]
  },
  {
   "cell_type": "code",
   "execution_count": 3,
   "id": "8a257625-3f1e-4081-adff-74f1d0c88fd8",
   "metadata": {
    "execution": {
     "iopub.execute_input": "2024-10-31T04:46:59.089575Z",
     "iopub.status.busy": "2024-10-31T04:46:59.089261Z",
     "iopub.status.idle": "2024-10-31T04:46:59.097704Z",
     "shell.execute_reply": "2024-10-31T04:46:59.096874Z",
     "shell.execute_reply.started": "2024-10-31T04:46:59.089554Z"
    }
   },
   "outputs": [
    {
     "name": "stdout",
     "output_type": "stream",
     "text": [
      "MSE: 1.5800000000000003\n"
     ]
    }
   ],
   "source": [
    "mse = mean_squared_error(y_pred, y_true)\n",
    "print(\"MSE:\", mse)"
   ]
  },
  {
   "cell_type": "code",
   "execution_count": null,
   "id": "f854e97d-e6ee-401d-8eb1-bc637ca975dd",
   "metadata": {},
   "outputs": [],
   "source": []
  },
  {
   "cell_type": "code",
   "execution_count": null,
   "id": "7f92564a-e925-4c89-b2a4-1aa932f97edb",
   "metadata": {},
   "outputs": [],
   "source": []
  }
 ],
 "metadata": {
  "kernelspec": {
   "display_name": "Python 3 (ipykernel)",
   "language": "python",
   "name": "python3"
  },
  "language_info": {
   "codemirror_mode": {
    "name": "ipython",
    "version": 3
   },
   "file_extension": ".py",
   "mimetype": "text/x-python",
   "name": "python",
   "nbconvert_exporter": "python",
   "pygments_lexer": "ipython3",
   "version": "3.11.2"
  }
 },
 "nbformat": 4,
 "nbformat_minor": 5
}
