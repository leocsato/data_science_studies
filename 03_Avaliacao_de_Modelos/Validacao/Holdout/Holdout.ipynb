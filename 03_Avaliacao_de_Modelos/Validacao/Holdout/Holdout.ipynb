{
 "cells": [
  {
   "cell_type": "markdown",
   "metadata": {},
   "source": [
    "Holdout é uma técnica de validação de modelos em aprendizado de máquina que envolve dividir o conjunto de dados em duas partes: um conjunto de treino e um conjunto de teste."
   ]
  },
  {
   "cell_type": "code",
   "execution_count": 6,
   "metadata": {
    "execution": {
     "iopub.execute_input": "2024-05-10T03:29:46.436889Z",
     "iopub.status.busy": "2024-05-10T03:29:46.436255Z",
     "iopub.status.idle": "2024-05-10T03:29:46.441800Z",
     "shell.execute_reply": "2024-05-10T03:29:46.440843Z",
     "shell.execute_reply.started": "2024-05-10T03:29:46.436843Z"
    }
   },
   "outputs": [],
   "source": [
    "import numpy as np\n",
    "from sklearn.model_selection import train_test_split\n",
    "from sklearn import datasets\n",
    "from sklearn import svm"
   ]
  },
  {
   "cell_type": "code",
   "execution_count": 7,
   "metadata": {
    "execution": {
     "iopub.execute_input": "2024-05-10T03:29:46.757745Z",
     "iopub.status.busy": "2024-05-10T03:29:46.756791Z",
     "iopub.status.idle": "2024-05-10T03:29:46.769048Z",
     "shell.execute_reply": "2024-05-10T03:29:46.767762Z",
     "shell.execute_reply.started": "2024-05-10T03:29:46.757696Z"
    }
   },
   "outputs": [
    {
     "data": {
      "text/plain": [
       "((150, 4), (150,))"
      ]
     },
     "execution_count": 7,
     "metadata": {},
     "output_type": "execute_result"
    }
   ],
   "source": [
    "iris = datasets.load_iris()\n",
    "iris.data.shape, iris.target.shape"
   ]
  },
  {
   "cell_type": "markdown",
   "metadata": {},
   "source": [
    "# Holdout de 50%"
   ]
  },
  {
   "cell_type": "code",
   "execution_count": 8,
   "metadata": {
    "execution": {
     "iopub.execute_input": "2024-05-10T03:29:47.390798Z",
     "iopub.status.busy": "2024-05-10T03:29:47.389998Z",
     "iopub.status.idle": "2024-05-10T03:29:47.400197Z",
     "shell.execute_reply": "2024-05-10T03:29:47.398721Z",
     "shell.execute_reply.started": "2024-05-10T03:29:47.390747Z"
    }
   },
   "outputs": [],
   "source": [
    "X_train, X_test, y_train, y_test = train_test_split(\n",
    "    iris.data, iris.target,\n",
    "    test_size=0.5, random_state=0)"
   ]
  },
  {
   "cell_type": "code",
   "execution_count": 9,
   "metadata": {
    "execution": {
     "iopub.execute_input": "2024-05-10T03:29:47.645993Z",
     "iopub.status.busy": "2024-05-10T03:29:47.645693Z",
     "iopub.status.idle": "2024-05-10T03:29:47.650840Z",
     "shell.execute_reply": "2024-05-10T03:29:47.649969Z",
     "shell.execute_reply.started": "2024-05-10T03:29:47.645975Z"
    }
   },
   "outputs": [
    {
     "data": {
      "text/plain": [
       "((75, 4), (75,))"
      ]
     },
     "execution_count": 9,
     "metadata": {},
     "output_type": "execute_result"
    }
   ],
   "source": [
    "X_train.shape, y_train.shape"
   ]
  },
  {
   "cell_type": "code",
   "execution_count": 10,
   "metadata": {
    "execution": {
     "iopub.execute_input": "2024-05-10T03:29:48.383840Z",
     "iopub.status.busy": "2024-05-10T03:29:48.383159Z",
     "iopub.status.idle": "2024-05-10T03:29:48.391392Z",
     "shell.execute_reply": "2024-05-10T03:29:48.390281Z",
     "shell.execute_reply.started": "2024-05-10T03:29:48.383799Z"
    }
   },
   "outputs": [
    {
     "data": {
      "text/plain": [
       "((75, 4), (75,))"
      ]
     },
     "execution_count": 10,
     "metadata": {},
     "output_type": "execute_result"
    }
   ],
   "source": [
    "X_test.shape, y_test.shape"
   ]
  },
  {
   "cell_type": "code",
   "execution_count": 11,
   "metadata": {
    "execution": {
     "iopub.execute_input": "2024-05-10T03:29:49.640785Z",
     "iopub.status.busy": "2024-05-10T03:29:49.640166Z",
     "iopub.status.idle": "2024-05-10T03:29:49.684263Z",
     "shell.execute_reply": "2024-05-10T03:29:49.682970Z",
     "shell.execute_reply.started": "2024-05-10T03:29:49.640748Z"
    }
   },
   "outputs": [
    {
     "data": {
      "text/plain": [
       "0.9733333333333334"
      ]
     },
     "execution_count": 11,
     "metadata": {},
     "output_type": "execute_result"
    }
   ],
   "source": [
    "clf = svm.SVC(kernel='linear', C=1).fit(X_train, y_train)\n",
    "clf.score(X_test, y_test)      "
   ]
  },
  {
   "cell_type": "code",
   "execution_count": null,
   "metadata": {},
   "outputs": [],
   "source": []
  }
 ],
 "metadata": {
  "kernelspec": {
   "display_name": "Python 3 (ipykernel)",
   "language": "python",
   "name": "python3"
  },
  "language_info": {
   "codemirror_mode": {
    "name": "ipython",
    "version": 3
   },
   "file_extension": ".py",
   "mimetype": "text/x-python",
   "name": "python",
   "nbconvert_exporter": "python",
   "pygments_lexer": "ipython3",
   "version": "3.11.2"
  }
 },
 "nbformat": 4,
 "nbformat_minor": 4
}
