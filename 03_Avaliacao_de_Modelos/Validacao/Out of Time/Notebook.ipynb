{
 "cells": [
  {
   "cell_type": "markdown",
   "id": "878e4253-f64b-4008-a7d8-0e317b46f369",
   "metadata": {},
   "source": [
    "\"Out of time\" refere-se a uma abordagem de validação em que os dados são divididos com base em uma sequência temporal, ou seja, os dados de treinamento são usados antes de um determinado ponto no tempo, e os dados de teste são usados após esse ponto. Essa abordagem é comum em séries temporais."
   ]
  },
  {
   "cell_type": "markdown",
   "id": "3797552c-db55-472f-8038-59a400bad4f9",
   "metadata": {},
   "source": [
    "# Exemplo"
   ]
  },
  {
   "cell_type": "code",
   "execution_count": 2,
   "id": "03918519-b436-4cb0-a874-16450099ffed",
   "metadata": {
    "execution": {
     "iopub.execute_input": "2024-10-31T04:59:20.458676Z",
     "iopub.status.busy": "2024-10-31T04:59:20.458227Z",
     "iopub.status.idle": "2024-10-31T04:59:20.463488Z",
     "shell.execute_reply": "2024-10-31T04:59:20.462332Z",
     "shell.execute_reply.started": "2024-10-31T04:59:20.458651Z"
    }
   },
   "outputs": [],
   "source": [
    "import pandas as pd\n",
    "import numpy as np\n",
    "from sklearn.model_selection import train_test_split\n",
    "from sklearn.ensemble import RandomForestRegressor\n",
    "from sklearn.metrics import mean_squared_error"
   ]
  },
  {
   "cell_type": "code",
   "execution_count": 3,
   "id": "06454774-e5c4-4bf4-b1ad-05f862a63baf",
   "metadata": {
    "execution": {
     "iopub.execute_input": "2024-10-31T04:59:30.090864Z",
     "iopub.status.busy": "2024-10-31T04:59:30.090242Z",
     "iopub.status.idle": "2024-10-31T04:59:30.140929Z",
     "shell.execute_reply": "2024-10-31T04:59:30.139265Z",
     "shell.execute_reply.started": "2024-10-31T04:59:30.090813Z"
    }
   },
   "outputs": [],
   "source": [
    "# Gerar um conjunto de dados fictício com uma tendência temporal\n",
    "np.random.seed(42)\n",
    "dates = pd.date_range(start='2020-01-01', periods=100)\n",
    "data = pd.DataFrame({'date': dates, 'value': np.random.randn(100).cumsum()})"
   ]
  },
  {
   "cell_type": "code",
   "execution_count": 4,
   "id": "21423ce9-44fc-4be0-8e34-5b17ab8ca171",
   "metadata": {
    "execution": {
     "iopub.execute_input": "2024-10-31T04:59:34.817020Z",
     "iopub.status.busy": "2024-10-31T04:59:34.816530Z",
     "iopub.status.idle": "2024-10-31T04:59:34.822425Z",
     "shell.execute_reply": "2024-10-31T04:59:34.821169Z",
     "shell.execute_reply.started": "2024-10-31T04:59:34.816976Z"
    }
   },
   "outputs": [],
   "source": [
    "# Definir o ponto de corte no tempo\n",
    "cutoff_date = '2020-04-01'"
   ]
  },
  {
   "cell_type": "code",
   "execution_count": 5,
   "id": "29c3ad53-f055-45ea-889f-871f7a5fba84",
   "metadata": {
    "execution": {
     "iopub.execute_input": "2024-10-31T04:59:38.148835Z",
     "iopub.status.busy": "2024-10-31T04:59:38.148320Z",
     "iopub.status.idle": "2024-10-31T04:59:38.157823Z",
     "shell.execute_reply": "2024-10-31T04:59:38.156628Z",
     "shell.execute_reply.started": "2024-10-31T04:59:38.148789Z"
    }
   },
   "outputs": [],
   "source": [
    "# Dividir os dados em treino e teste com base na data\n",
    "train_data = data[data['date'] < cutoff_date]\n",
    "test_data = data[data['date'] >= cutoff_date]"
   ]
  },
  {
   "cell_type": "code",
   "execution_count": 6,
   "id": "a039fd66-6bcb-4019-b242-ec43328b131f",
   "metadata": {
    "execution": {
     "iopub.execute_input": "2024-10-31T04:59:41.931543Z",
     "iopub.status.busy": "2024-10-31T04:59:41.931036Z",
     "iopub.status.idle": "2024-10-31T04:59:41.939670Z",
     "shell.execute_reply": "2024-10-31T04:59:41.938311Z",
     "shell.execute_reply.started": "2024-10-31T04:59:41.931497Z"
    }
   },
   "outputs": [],
   "source": [
    "# Separar características e rótulos\n",
    "X_train = np.arange(len(train_data)).reshape(-1, 1)  # Usando o índice como característica\n",
    "y_train = train_data['value'].values\n",
    "\n",
    "X_test = np.arange(len(train_data), len(train_data) + len(test_data)).reshape(-1, 1)\n",
    "y_test = test_data['value'].values"
   ]
  },
  {
   "cell_type": "code",
   "execution_count": 7,
   "id": "a7e3afcd-4a2f-4d1e-951a-895aced78126",
   "metadata": {
    "execution": {
     "iopub.execute_input": "2024-10-31T04:59:47.771766Z",
     "iopub.status.busy": "2024-10-31T04:59:47.771168Z",
     "iopub.status.idle": "2024-10-31T04:59:47.918832Z",
     "shell.execute_reply": "2024-10-31T04:59:47.918001Z",
     "shell.execute_reply.started": "2024-10-31T04:59:47.771719Z"
    }
   },
   "outputs": [],
   "source": [
    "# Treinar um modelo de regressão (Random Forest)\n",
    "model = RandomForestRegressor(random_state=42)\n",
    "model.fit(X_train, y_train)\n",
    "\n",
    "# Fazer previsões no conjunto de teste (out of time)\n",
    "y_pred = model.predict(X_test)"
   ]
  },
  {
   "cell_type": "code",
   "execution_count": 8,
   "id": "c3d4e738-dce0-4c73-b6bd-25b7279ea7f9",
   "metadata": {
    "execution": {
     "iopub.execute_input": "2024-10-31T04:59:49.354346Z",
     "iopub.status.busy": "2024-10-31T04:59:49.353819Z",
     "iopub.status.idle": "2024-10-31T04:59:49.361119Z",
     "shell.execute_reply": "2024-10-31T04:59:49.359967Z",
     "shell.execute_reply.started": "2024-10-31T04:59:49.354301Z"
    }
   },
   "outputs": [
    {
     "name": "stdout",
     "output_type": "stream",
     "text": [
      "Erro Quadrático Médio (Out of Time): 1.43\n"
     ]
    }
   ],
   "source": [
    "# Calcular o erro quadrático médio\n",
    "mse = mean_squared_error(y_test, y_pred)\n",
    "\n",
    "print(f'Erro Quadrático Médio (Out of Time): {mse:.2f}')"
   ]
  },
  {
   "cell_type": "code",
   "execution_count": null,
   "id": "04464a92-7cdf-412e-be32-c1873ca33ac1",
   "metadata": {},
   "outputs": [],
   "source": []
  }
 ],
 "metadata": {
  "kernelspec": {
   "display_name": "Python 3 (ipykernel)",
   "language": "python",
   "name": "python3"
  },
  "language_info": {
   "codemirror_mode": {
    "name": "ipython",
    "version": 3
   },
   "file_extension": ".py",
   "mimetype": "text/x-python",
   "name": "python",
   "nbconvert_exporter": "python",
   "pygments_lexer": "ipython3",
   "version": "3.11.2"
  }
 },
 "nbformat": 4,
 "nbformat_minor": 5
}
