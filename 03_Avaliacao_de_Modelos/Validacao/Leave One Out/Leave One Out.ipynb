{
 "cells": [
  {
   "cell_type": "code",
   "execution_count": 1,
   "metadata": {
    "execution": {
     "iopub.execute_input": "2024-05-10T03:37:25.322522Z",
     "iopub.status.busy": "2024-05-10T03:37:25.321958Z",
     "iopub.status.idle": "2024-05-10T03:37:25.952850Z",
     "shell.execute_reply": "2024-05-10T03:37:25.951724Z",
     "shell.execute_reply.started": "2024-05-10T03:37:25.322482Z"
    }
   },
   "outputs": [],
   "source": [
    "from sklearn.model_selection import LeaveOneOut"
   ]
  },
  {
   "cell_type": "code",
   "execution_count": 2,
   "metadata": {
    "execution": {
     "iopub.execute_input": "2024-05-10T03:37:25.955518Z",
     "iopub.status.busy": "2024-05-10T03:37:25.954351Z",
     "iopub.status.idle": "2024-05-10T03:37:25.961999Z",
     "shell.execute_reply": "2024-05-10T03:37:25.961223Z",
     "shell.execute_reply.started": "2024-05-10T03:37:25.955441Z"
    }
   },
   "outputs": [
    {
     "name": "stdout",
     "output_type": "stream",
     "text": [
      "[1 2 3] [0]\n",
      "[0 2 3] [1]\n",
      "[0 1 3] [2]\n",
      "[0 1 2] [3]\n"
     ]
    }
   ],
   "source": [
    "X = [1, 2, 3, 4]\n",
    "loo = LeaveOneOut()\n",
    "for train, test in loo.split(X):\n",
    "    print(\"%s %s\" % (train, test))"
   ]
  },
  {
   "cell_type": "markdown",
   "metadata": {},
   "source": [
    "## Outro Exemplo"
   ]
  },
  {
   "cell_type": "code",
   "execution_count": 4,
   "metadata": {
    "execution": {
     "iopub.execute_input": "2024-05-10T03:37:42.429388Z",
     "iopub.status.busy": "2024-05-10T03:37:42.428786Z",
     "iopub.status.idle": "2024-05-10T03:37:42.435860Z",
     "shell.execute_reply": "2024-05-10T03:37:42.434351Z",
     "shell.execute_reply.started": "2024-05-10T03:37:42.429345Z"
    }
   },
   "outputs": [],
   "source": [
    "from sklearn.model_selection import KFold\n",
    "import numpy as np"
   ]
  },
  {
   "cell_type": "code",
   "execution_count": 5,
   "metadata": {
    "execution": {
     "iopub.execute_input": "2024-05-10T03:37:42.768953Z",
     "iopub.status.busy": "2024-05-10T03:37:42.768325Z",
     "iopub.status.idle": "2024-05-10T03:37:42.776602Z",
     "shell.execute_reply": "2024-05-10T03:37:42.776023Z",
     "shell.execute_reply.started": "2024-05-10T03:37:42.768903Z"
    }
   },
   "outputs": [
    {
     "name": "stdout",
     "output_type": "stream",
     "text": [
      "[1 2 3] [0]\n",
      "[0 2 3] [1]\n",
      "[0 1 3] [2]\n",
      "[0 1 2] [3]\n"
     ]
    }
   ],
   "source": [
    "X = [\"a\", \"b\", \"c\", \"d\"]\n",
    "kf = KFold(n_splits=4)\n",
    "for train, test in kf.split(X):\n",
    "    #Add here the model for training\n",
    "    print(\"%s %s\" % (train, test))"
   ]
  },
  {
   "cell_type": "code",
   "execution_count": 6,
   "metadata": {
    "execution": {
     "iopub.execute_input": "2024-05-10T03:37:55.704802Z",
     "iopub.status.busy": "2024-05-10T03:37:55.704501Z",
     "iopub.status.idle": "2024-05-10T03:37:55.709640Z",
     "shell.execute_reply": "2024-05-10T03:37:55.708426Z",
     "shell.execute_reply.started": "2024-05-10T03:37:55.704781Z"
    }
   },
   "outputs": [],
   "source": [
    "X = np.array([[0., 0.],\n",
    "              [1., 1.],\n",
    "              [-1., -1.],\n",
    "              [2., 2.]])\n",
    "\n",
    "y = np.array([0, 1, 0, 1])\n",
    "\n",
    "X_train, X_test, y_train, y_test = X[train], X[test], y[train], y[test]"
   ]
  },
  {
   "cell_type": "code",
   "execution_count": 7,
   "metadata": {
    "execution": {
     "iopub.execute_input": "2024-05-10T03:37:56.599929Z",
     "iopub.status.busy": "2024-05-10T03:37:56.599587Z",
     "iopub.status.idle": "2024-05-10T03:37:56.613155Z",
     "shell.execute_reply": "2024-05-10T03:37:56.611391Z",
     "shell.execute_reply.started": "2024-05-10T03:37:56.599909Z"
    }
   },
   "outputs": [
    {
     "data": {
      "text/plain": [
       "array([[ 0.,  0.],\n",
       "       [ 1.,  1.],\n",
       "       [-1., -1.]])"
      ]
     },
     "execution_count": 7,
     "metadata": {},
     "output_type": "execute_result"
    }
   ],
   "source": [
    "X_train"
   ]
  },
  {
   "cell_type": "code",
   "execution_count": 8,
   "metadata": {
    "execution": {
     "iopub.execute_input": "2024-05-10T03:37:57.709451Z",
     "iopub.status.busy": "2024-05-10T03:37:57.708038Z",
     "iopub.status.idle": "2024-05-10T03:37:57.720407Z",
     "shell.execute_reply": "2024-05-10T03:37:57.718382Z",
     "shell.execute_reply.started": "2024-05-10T03:37:57.709383Z"
    }
   },
   "outputs": [
    {
     "data": {
      "text/plain": [
       "array([[2., 2.]])"
      ]
     },
     "execution_count": 8,
     "metadata": {},
     "output_type": "execute_result"
    }
   ],
   "source": [
    "X_test"
   ]
  },
  {
   "cell_type": "code",
   "execution_count": 9,
   "metadata": {
    "execution": {
     "iopub.execute_input": "2024-05-10T03:37:58.797892Z",
     "iopub.status.busy": "2024-05-10T03:37:58.797238Z",
     "iopub.status.idle": "2024-05-10T03:37:58.804922Z",
     "shell.execute_reply": "2024-05-10T03:37:58.803603Z",
     "shell.execute_reply.started": "2024-05-10T03:37:58.797845Z"
    }
   },
   "outputs": [
    {
     "data": {
      "text/plain": [
       "array([0, 1, 0])"
      ]
     },
     "execution_count": 9,
     "metadata": {},
     "output_type": "execute_result"
    }
   ],
   "source": [
    "y_train"
   ]
  },
  {
   "cell_type": "code",
   "execution_count": 10,
   "metadata": {
    "execution": {
     "iopub.execute_input": "2024-05-10T03:37:59.743622Z",
     "iopub.status.busy": "2024-05-10T03:37:59.743073Z",
     "iopub.status.idle": "2024-05-10T03:37:59.749722Z",
     "shell.execute_reply": "2024-05-10T03:37:59.749033Z",
     "shell.execute_reply.started": "2024-05-10T03:37:59.743577Z"
    }
   },
   "outputs": [
    {
     "data": {
      "text/plain": [
       "array([1])"
      ]
     },
     "execution_count": 10,
     "metadata": {},
     "output_type": "execute_result"
    }
   ],
   "source": [
    "y_test"
   ]
  }
 ],
 "metadata": {
  "kernelspec": {
   "display_name": "Python 3 (ipykernel)",
   "language": "python",
   "name": "python3"
  },
  "language_info": {
   "codemirror_mode": {
    "name": "ipython",
    "version": 3
   },
   "file_extension": ".py",
   "mimetype": "text/x-python",
   "name": "python",
   "nbconvert_exporter": "python",
   "pygments_lexer": "ipython3",
   "version": "3.11.2"
  }
 },
 "nbformat": 4,
 "nbformat_minor": 4
}
