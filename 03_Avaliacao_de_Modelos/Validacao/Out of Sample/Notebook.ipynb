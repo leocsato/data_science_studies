{
 "cells": [
  {
   "cell_type": "markdown",
   "id": "48a6930f-809d-42ef-bf80-3d2f85a20ffd",
   "metadata": {},
   "source": [
    "\"Out of sample\" refere-se à avaliação de um modelo em dados que não foram utilizados durante o treinamento."
   ]
  },
  {
   "cell_type": "code",
   "execution_count": 1,
   "id": "ce1ff730-a5df-440e-9519-7017a0f24b00",
   "metadata": {
    "execution": {
     "iopub.execute_input": "2024-10-31T04:57:29.399361Z",
     "iopub.status.busy": "2024-10-31T04:57:29.398763Z",
     "iopub.status.idle": "2024-10-31T04:57:30.120484Z",
     "shell.execute_reply": "2024-10-31T04:57:30.119629Z",
     "shell.execute_reply.started": "2024-10-31T04:57:29.399317Z"
    }
   },
   "outputs": [],
   "source": [
    "import numpy as np\n",
    "from sklearn.datasets import load_iris\n",
    "from sklearn.model_selection import train_test_split\n",
    "from sklearn.ensemble import RandomForestClassifier\n",
    "from sklearn.metrics import accuracy_score"
   ]
  },
  {
   "cell_type": "code",
   "execution_count": 2,
   "id": "41804678-12c0-4e4e-95f4-9ff771b6217f",
   "metadata": {
    "execution": {
     "iopub.execute_input": "2024-10-31T04:57:34.356864Z",
     "iopub.status.busy": "2024-10-31T04:57:34.356353Z",
     "iopub.status.idle": "2024-10-31T04:57:34.458451Z",
     "shell.execute_reply": "2024-10-31T04:57:34.457655Z",
     "shell.execute_reply.started": "2024-10-31T04:57:34.356834Z"
    }
   },
   "outputs": [],
   "source": [
    "# Carregar um conjunto de dados (Iris)\n",
    "data = load_iris()\n",
    "X = data.data\n",
    "y = data.target"
   ]
  },
  {
   "cell_type": "code",
   "execution_count": 3,
   "id": "51e30641-2d6a-466e-8b11-16f664063250",
   "metadata": {
    "execution": {
     "iopub.execute_input": "2024-10-31T04:57:38.127092Z",
     "iopub.status.busy": "2024-10-31T04:57:38.126408Z",
     "iopub.status.idle": "2024-10-31T04:57:38.135858Z",
     "shell.execute_reply": "2024-10-31T04:57:38.134229Z",
     "shell.execute_reply.started": "2024-10-31T04:57:38.127044Z"
    }
   },
   "outputs": [],
   "source": [
    "# Dividir o conjunto de dados em treino e teste (70% treino, 30% teste)\n",
    "X_train, X_test, y_train, y_test = train_test_split(X, y, test_size=0.3, random_state=42)"
   ]
  },
  {
   "cell_type": "code",
   "execution_count": 4,
   "id": "44145cd4-10e7-4db5-b1ab-217db86ddbda",
   "metadata": {
    "execution": {
     "iopub.execute_input": "2024-10-31T04:57:46.924943Z",
     "iopub.status.busy": "2024-10-31T04:57:46.924454Z",
     "iopub.status.idle": "2024-10-31T04:57:47.090565Z",
     "shell.execute_reply": "2024-10-31T04:57:47.089785Z",
     "shell.execute_reply.started": "2024-10-31T04:57:46.924899Z"
    }
   },
   "outputs": [
    {
     "name": "stdout",
     "output_type": "stream",
     "text": [
      "Acurácia (Out of Sample): 1.00\n"
     ]
    }
   ],
   "source": [
    "# Treinar um modelo de classificação (Random Forest)\n",
    "model = RandomForestClassifier(random_state=42)\n",
    "model.fit(X_train, y_train)\n",
    "\n",
    "# Fazer previsões no conjunto de teste (out of sample)\n",
    "y_pred = model.predict(X_test)\n",
    "\n",
    "# Calcular a acurácia\n",
    "accuracy = accuracy_score(y_test, y_pred)\n",
    "\n",
    "print(f'Acurácia (Out of Sample): {accuracy:.2f}')"
   ]
  },
  {
   "cell_type": "markdown",
   "id": "89e359a8-d92d-45bc-a820-da8e3f2e819b",
   "metadata": {},
   "source": [
    "    A acurácia é uma métrica comum para avaliar o desempenho do modelo em dados \"out of sample\".\n",
    "    \n",
    "    Você pode experimentar diferentes modelos e conjuntos de dados para ver como o desempenho varia."
   ]
  },
  {
   "cell_type": "code",
   "execution_count": null,
   "id": "9859bdce-d571-4fd0-8dc8-0a1cc7c811a7",
   "metadata": {},
   "outputs": [],
   "source": []
  }
 ],
 "metadata": {
  "kernelspec": {
   "display_name": "Python 3 (ipykernel)",
   "language": "python",
   "name": "python3"
  },
  "language_info": {
   "codemirror_mode": {
    "name": "ipython",
    "version": 3
   },
   "file_extension": ".py",
   "mimetype": "text/x-python",
   "name": "python",
   "nbconvert_exporter": "python",
   "pygments_lexer": "ipython3",
   "version": "3.11.2"
  }
 },
 "nbformat": 4,
 "nbformat_minor": 5
}
