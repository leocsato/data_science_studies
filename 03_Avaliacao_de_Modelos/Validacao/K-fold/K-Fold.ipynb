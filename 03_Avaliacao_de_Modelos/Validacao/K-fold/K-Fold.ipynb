{
 "cells": [
  {
   "cell_type": "markdown",
   "metadata": {},
   "source": [
    "K-fold Cross-Validation é uma técnica de validação de modelos que melhora a avaliação do desempenho ao dividir o conjunto de dados em K partes (ou \"folds\")."
   ]
  },
  {
   "cell_type": "code",
   "execution_count": 1,
   "metadata": {
    "execution": {
     "iopub.execute_input": "2024-05-10T03:36:50.068628Z",
     "iopub.status.busy": "2024-05-10T03:36:50.068280Z",
     "iopub.status.idle": "2024-05-10T03:36:50.692793Z",
     "shell.execute_reply": "2024-05-10T03:36:50.692105Z",
     "shell.execute_reply.started": "2024-05-10T03:36:50.068590Z"
    }
   },
   "outputs": [],
   "source": [
    "import numpy as np\n",
    "from sklearn.model_selection import train_test_split\n",
    "from sklearn import datasets\n",
    "from sklearn import svm\n",
    "from sklearn.model_selection import cross_val_score\n",
    "from sklearn.metrics import precision_score, make_scorer\n",
    "from sklearn.metrics import recall_score"
   ]
  },
  {
   "cell_type": "code",
   "execution_count": 2,
   "metadata": {
    "execution": {
     "iopub.execute_input": "2024-05-10T03:36:50.693859Z",
     "iopub.status.busy": "2024-05-10T03:36:50.693585Z",
     "iopub.status.idle": "2024-05-10T03:36:50.703076Z",
     "shell.execute_reply": "2024-05-10T03:36:50.702285Z",
     "shell.execute_reply.started": "2024-05-10T03:36:50.693841Z"
    }
   },
   "outputs": [
    {
     "data": {
      "text/plain": [
       "((150, 4), (150,))"
      ]
     },
     "execution_count": 2,
     "metadata": {},
     "output_type": "execute_result"
    }
   ],
   "source": [
    "iris = datasets.load_iris()\n",
    "iris.data.shape, iris.target.shape"
   ]
  },
  {
   "cell_type": "markdown",
   "metadata": {},
   "source": [
    "# 4-fold"
   ]
  },
  {
   "cell_type": "code",
   "execution_count": 3,
   "metadata": {
    "execution": {
     "iopub.execute_input": "2024-05-10T03:36:50.705236Z",
     "iopub.status.busy": "2024-05-10T03:36:50.704930Z",
     "iopub.status.idle": "2024-05-10T03:36:50.719718Z",
     "shell.execute_reply": "2024-05-10T03:36:50.719016Z",
     "shell.execute_reply.started": "2024-05-10T03:36:50.705217Z"
    }
   },
   "outputs": [
    {
     "data": {
      "text/plain": [
       "array([1.        , 0.97368421, 0.97297297, 0.97297297])"
      ]
     },
     "execution_count": 3,
     "metadata": {},
     "output_type": "execute_result"
    }
   ],
   "source": [
    "clf = svm.SVC(kernel='linear', C=1)\n",
    "scores = cross_val_score(clf, iris.data, iris.target, cv=4)\n",
    "scores"
   ]
  },
  {
   "cell_type": "markdown",
   "metadata": {},
   "source": [
    "# 5-fold"
   ]
  },
  {
   "cell_type": "code",
   "execution_count": 4,
   "metadata": {
    "execution": {
     "iopub.execute_input": "2024-05-10T03:36:50.720860Z",
     "iopub.status.busy": "2024-05-10T03:36:50.720546Z",
     "iopub.status.idle": "2024-05-10T03:36:50.741904Z",
     "shell.execute_reply": "2024-05-10T03:36:50.741135Z",
     "shell.execute_reply.started": "2024-05-10T03:36:50.720835Z"
    }
   },
   "outputs": [
    {
     "data": {
      "text/plain": [
       "array([0.96658312, 1.        , 0.96658312, 0.96658312, 1.        ])"
      ]
     },
     "execution_count": 4,
     "metadata": {},
     "output_type": "execute_result"
    }
   ],
   "source": [
    "cross_val_score(clf, iris.data, iris.target,\n",
    "                scoring = 'f1_weighted',\n",
    "                cv=5)"
   ]
  },
  {
   "cell_type": "code",
   "execution_count": 5,
   "metadata": {
    "execution": {
     "iopub.execute_input": "2024-05-10T03:36:50.743223Z",
     "iopub.status.busy": "2024-05-10T03:36:50.742825Z",
     "iopub.status.idle": "2024-05-10T03:36:50.747513Z",
     "shell.execute_reply": "2024-05-10T03:36:50.746282Z",
     "shell.execute_reply.started": "2024-05-10T03:36:50.743192Z"
    }
   },
   "outputs": [],
   "source": [
    "params = { \n",
    "    'average' : 'micro'\n",
    "}"
   ]
  },
  {
   "cell_type": "code",
   "execution_count": 6,
   "metadata": {
    "execution": {
     "iopub.execute_input": "2024-05-10T03:36:50.749221Z",
     "iopub.status.busy": "2024-05-10T03:36:50.748865Z",
     "iopub.status.idle": "2024-05-10T03:36:50.752972Z",
     "shell.execute_reply": "2024-05-10T03:36:50.752114Z",
     "shell.execute_reply.started": "2024-05-10T03:36:50.749189Z"
    }
   },
   "outputs": [],
   "source": [
    "scorer = make_scorer(precision_score, average='weighted')"
   ]
  },
  {
   "cell_type": "code",
   "execution_count": 7,
   "metadata": {
    "execution": {
     "iopub.execute_input": "2024-05-10T03:36:50.754103Z",
     "iopub.status.busy": "2024-05-10T03:36:50.753805Z",
     "iopub.status.idle": "2024-05-10T03:36:50.788337Z",
     "shell.execute_reply": "2024-05-10T03:36:50.787736Z",
     "shell.execute_reply.started": "2024-05-10T03:36:50.754081Z"
    }
   },
   "outputs": [
    {
     "data": {
      "text/plain": [
       "array([0.96969697, 1.        , 0.96969697, 0.96969697, 1.        ])"
      ]
     },
     "execution_count": 7,
     "metadata": {},
     "output_type": "execute_result"
    }
   ],
   "source": [
    "cross_val_score(clf, iris.data, iris.target,\n",
    "                scoring = scorer,\n",
    "                cv=5)"
   ]
  },
  {
   "cell_type": "code",
   "execution_count": 8,
   "metadata": {
    "execution": {
     "iopub.execute_input": "2024-05-10T03:36:50.789536Z",
     "iopub.status.busy": "2024-05-10T03:36:50.789203Z",
     "iopub.status.idle": "2024-05-10T03:36:50.792874Z",
     "shell.execute_reply": "2024-05-10T03:36:50.792262Z",
     "shell.execute_reply.started": "2024-05-10T03:36:50.789507Z"
    }
   },
   "outputs": [],
   "source": [
    "scorer = make_scorer(recall_score, average='weighted')"
   ]
  },
  {
   "cell_type": "code",
   "execution_count": 9,
   "metadata": {
    "execution": {
     "iopub.execute_input": "2024-05-10T03:36:50.794245Z",
     "iopub.status.busy": "2024-05-10T03:36:50.793822Z",
     "iopub.status.idle": "2024-05-10T03:36:50.817585Z",
     "shell.execute_reply": "2024-05-10T03:36:50.817039Z",
     "shell.execute_reply.started": "2024-05-10T03:36:50.794209Z"
    }
   },
   "outputs": [
    {
     "data": {
      "text/plain": [
       "array([0.96666667, 1.        , 0.96666667, 0.96666667, 1.        ])"
      ]
     },
     "execution_count": 9,
     "metadata": {},
     "output_type": "execute_result"
    }
   ],
   "source": [
    "cross_val_score(clf, iris.data, iris.target,\n",
    "                scoring = scorer,\n",
    "                cv=5)"
   ]
  },
  {
   "cell_type": "markdown",
   "metadata": {},
   "source": [
    "## Outro Exemplo"
   ]
  },
  {
   "cell_type": "code",
   "execution_count": 10,
   "metadata": {
    "execution": {
     "iopub.execute_input": "2024-05-10T03:36:50.818673Z",
     "iopub.status.busy": "2024-05-10T03:36:50.818349Z",
     "iopub.status.idle": "2024-05-10T03:36:50.821703Z",
     "shell.execute_reply": "2024-05-10T03:36:50.821032Z",
     "shell.execute_reply.started": "2024-05-10T03:36:50.818646Z"
    }
   },
   "outputs": [],
   "source": [
    "from sklearn.model_selection import KFold"
   ]
  },
  {
   "cell_type": "code",
   "execution_count": 11,
   "metadata": {
    "execution": {
     "iopub.execute_input": "2024-05-10T03:36:50.822661Z",
     "iopub.status.busy": "2024-05-10T03:36:50.822406Z",
     "iopub.status.idle": "2024-05-10T03:36:50.827939Z",
     "shell.execute_reply": "2024-05-10T03:36:50.827154Z",
     "shell.execute_reply.started": "2024-05-10T03:36:50.822643Z"
    }
   },
   "outputs": [
    {
     "name": "stdout",
     "output_type": "stream",
     "text": [
      "[1 2 3] [0]\n",
      "[0 2 3] [1]\n",
      "[0 1 3] [2]\n",
      "[0 1 2] [3]\n"
     ]
    }
   ],
   "source": [
    "X = [\"a\", \"b\", \"e\", \"f\"]\n",
    "kf = KFold(n_splits=4)\n",
    "for train, test in kf.split(X):\n",
    "    print(\"%s %s\" % (train, test))"
   ]
  },
  {
   "cell_type": "code",
   "execution_count": 12,
   "metadata": {
    "execution": {
     "iopub.execute_input": "2024-05-10T03:36:50.830582Z",
     "iopub.status.busy": "2024-05-10T03:36:50.830152Z",
     "iopub.status.idle": "2024-05-10T03:36:50.835803Z",
     "shell.execute_reply": "2024-05-10T03:36:50.834929Z",
     "shell.execute_reply.started": "2024-05-10T03:36:50.830547Z"
    }
   },
   "outputs": [],
   "source": [
    "X = np.array([[0., 0.],\n",
    "              [1., 1.],\n",
    "              [-1., -1.],\n",
    "              [2., 2.]])\n",
    "y = np.array([0,\n",
    "              1,\n",
    "              0,\n",
    "              1])\n",
    "\n",
    "X_train, X_test, y_train, y_test = X[train], X[test], y[train], y[test]"
   ]
  },
  {
   "cell_type": "code",
   "execution_count": 13,
   "metadata": {
    "execution": {
     "iopub.execute_input": "2024-05-10T03:36:50.975585Z",
     "iopub.status.busy": "2024-05-10T03:36:50.974204Z",
     "iopub.status.idle": "2024-05-10T03:36:50.985907Z",
     "shell.execute_reply": "2024-05-10T03:36:50.984483Z",
     "shell.execute_reply.started": "2024-05-10T03:36:50.975490Z"
    }
   },
   "outputs": [
    {
     "data": {
      "text/plain": [
       "array([[ 0.,  0.],\n",
       "       [ 1.,  1.],\n",
       "       [-1., -1.]])"
      ]
     },
     "execution_count": 13,
     "metadata": {},
     "output_type": "execute_result"
    }
   ],
   "source": [
    "X_train"
   ]
  },
  {
   "cell_type": "code",
   "execution_count": 14,
   "metadata": {
    "execution": {
     "iopub.execute_input": "2024-05-10T03:36:51.432400Z",
     "iopub.status.busy": "2024-05-10T03:36:51.431746Z",
     "iopub.status.idle": "2024-05-10T03:36:51.441049Z",
     "shell.execute_reply": "2024-05-10T03:36:51.439390Z",
     "shell.execute_reply.started": "2024-05-10T03:36:51.432351Z"
    }
   },
   "outputs": [
    {
     "data": {
      "text/plain": [
       "array([[2., 2.]])"
      ]
     },
     "execution_count": 14,
     "metadata": {},
     "output_type": "execute_result"
    }
   ],
   "source": [
    "X_test"
   ]
  },
  {
   "cell_type": "code",
   "execution_count": 15,
   "metadata": {
    "execution": {
     "iopub.execute_input": "2024-05-10T03:36:51.672021Z",
     "iopub.status.busy": "2024-05-10T03:36:51.671383Z",
     "iopub.status.idle": "2024-05-10T03:36:51.676206Z",
     "shell.execute_reply": "2024-05-10T03:36:51.675566Z",
     "shell.execute_reply.started": "2024-05-10T03:36:51.671981Z"
    }
   },
   "outputs": [
    {
     "data": {
      "text/plain": [
       "array([0, 1, 0])"
      ]
     },
     "execution_count": 15,
     "metadata": {},
     "output_type": "execute_result"
    }
   ],
   "source": [
    "y_train"
   ]
  },
  {
   "cell_type": "code",
   "execution_count": 16,
   "metadata": {
    "execution": {
     "iopub.execute_input": "2024-05-10T03:36:52.099085Z",
     "iopub.status.busy": "2024-05-10T03:36:52.097730Z",
     "iopub.status.idle": "2024-05-10T03:36:52.106551Z",
     "shell.execute_reply": "2024-05-10T03:36:52.105844Z",
     "shell.execute_reply.started": "2024-05-10T03:36:52.099003Z"
    }
   },
   "outputs": [
    {
     "data": {
      "text/plain": [
       "array([1])"
      ]
     },
     "execution_count": 16,
     "metadata": {},
     "output_type": "execute_result"
    }
   ],
   "source": [
    "y_test"
   ]
  },
  {
   "cell_type": "markdown",
   "metadata": {
    "jp-MarkdownHeadingCollapsed": true
   },
   "source": [
    "Obs: Se k = n de amostras, isso é equivalente à Estratégia \"Leave One Out\"\n"
   ]
  },
  {
   "cell_type": "code",
   "execution_count": null,
   "metadata": {},
   "outputs": [],
   "source": []
  }
 ],
 "metadata": {
  "kernelspec": {
   "display_name": "Python 3 (ipykernel)",
   "language": "python",
   "name": "python3"
  },
  "language_info": {
   "codemirror_mode": {
    "name": "ipython",
    "version": 3
   },
   "file_extension": ".py",
   "mimetype": "text/x-python",
   "name": "python",
   "nbconvert_exporter": "python",
   "pygments_lexer": "ipython3",
   "version": "3.11.2"
  }
 },
 "nbformat": 4,
 "nbformat_minor": 4
}
