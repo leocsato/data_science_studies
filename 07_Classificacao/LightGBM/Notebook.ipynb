{
 "cells": [
  {
   "cell_type": "markdown",
   "id": "93505864-dd72-47d4-9366-1bfc890aae23",
   "metadata": {},
   "source": [
    "[EXTRA]"
   ]
  },
  {
   "cell_type": "markdown",
   "id": "c6421208-ac30-4955-9fa4-85d2e9d5c9af",
   "metadata": {},
   "source": [
    "[TO-DO]"
   ]
  },
  {
   "cell_type": "raw",
   "id": "e4bce765-a5c9-4f15-a57a-ee03ea7e485e",
   "metadata": {},
   "source": [
    "O LightGBM é um framework de Gradient Boosting que usa algoritmos baseados em árvores para criar um modelo forte, combinando muitas árvores de decisão fracas.\n",
    "\n",
    "É um método de ensemble que combina árvores de decisão de forma serial, com cada novo learner ajustando os resíduos da árvore anterior para que o modelo seja aprimorado.\n",
    "\n",
    "Para aumentar a eficiência e a escalabilidade, o LightGBM incorpora duas técnicas inovadoras: Gradient-based One-Side Sampling (GOSS) e Exclusive Feature Bundling (EFB)"
   ]
  },
  {
   "cell_type": "raw",
   "id": "f168621c-1648-4387-8016-9305f451bf6b",
   "metadata": {},
   "source": [
    "Aqui está uma breve visão geral de como o LightGBM funciona:\n",
    "\n",
    "1. Pré-processamento de dados: Limpar e transformar os dados antes de alimentá-los ao modelo.\n",
    "2. Crescimento da árvore com base nas folhas: Desenvolver as árvores em termos de folhas em vez de profundidade, selecionando a folha com o maior ganho de informações em cada etapa.\n",
    "3. Método baseado em histograma: usa histogramas para agrupar os dados em compartimentos, reduzindo o custo computacional e aumentando a eficiência.\n",
    "4. Amostragem de Um Lado baseada em Gradiente (GOSS): Pondera os pontos de dados de acordo com seus gradientes, dando mais importância àqueles com gradientes maiores durante o cálculo do ganho de informações.\n",
    "5. Agrupamento de features exclusivas (EFB): Combina features exclusivas para reduzir a dimensionalidade, aumentando assim a eficiência e diminuindo o uso da memória.\n",
    "6. Regularização: Utiliza os parâmetros lambda e gamma para aplicar a regularização L1 e L2, respectivamente, incentivando assim features mais simples e interpretáveis."
   ]
  }
 ],
 "metadata": {
  "kernelspec": {
   "display_name": "Python 3 (ipykernel)",
   "language": "python",
   "name": "python3"
  },
  "language_info": {
   "codemirror_mode": {
    "name": "ipython",
    "version": 3
   },
   "file_extension": ".py",
   "mimetype": "text/x-python",
   "name": "python",
   "nbconvert_exporter": "python",
   "pygments_lexer": "ipython3",
   "version": "3.11.2"
  }
 },
 "nbformat": 4,
 "nbformat_minor": 5
}
