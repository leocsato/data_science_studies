{
 "cells": [
  {
   "cell_type": "raw",
   "id": "e4bce765-a5c9-4f15-a57a-ee03ea7e485e",
   "metadata": {},
   "source": [
    "O LightGBM é um framework de Gradient Boosting que usa algoritmos baseados em árvores para criar um modelo forte, combinando muitas árvores de decisão fracas.\n",
    "\n",
    "É um método de ensemble que combina árvores de decisão de forma serial, com cada novo learner ajustando os resíduos da árvore anterior para que o modelo seja aprimorado.\n",
    "\n",
    "Para aumentar a eficiência e a escalabilidade, o LightGBM incorpora duas técnicas inovadoras: Gradient-based One-Side Sampling (GOSS) e Exclusive Feature Bundling (EFB)"
   ]
  },
  {
   "cell_type": "raw",
   "id": "f168621c-1648-4387-8016-9305f451bf6b",
   "metadata": {},
   "source": [
    "Aqui está uma breve visão geral de como o LightGBM funciona:\n",
    "\n",
    "1. Pré-processamento de dados: Limpar e transformar os dados antes de alimentá-los ao modelo.\n",
    "2. Crescimento da árvore com base nas folhas: Desenvolver as árvores em termos de folhas em vez de profundidade, selecionando a folha com o maior ganho de informações em cada etapa.\n",
    "3. Método baseado em histograma: usa histogramas para agrupar os dados em compartimentos, reduzindo o custo computacional e aumentando a eficiência.\n",
    "4. Amostragem de Um Lado baseada em Gradiente (GOSS): Pondera os pontos de dados de acordo com seus gradientes, dando mais importância àqueles com gradientes maiores durante o cálculo do ganho de informações.\n",
    "5. Agrupamento de features exclusivas (EFB): Combina features exclusivas para reduzir a dimensionalidade, aumentando assim a eficiência e diminuindo o uso da memória.\n",
    "6. Regularização: Utiliza os parâmetros lambda e gamma para aplicar a regularização L1 e L2, respectivamente, incentivando assim features mais simples e interpretáveis."
   ]
  },
  {
   "cell_type": "markdown",
   "id": "54d6526a-0df6-4de6-a948-fef91b9bda6c",
   "metadata": {},
   "source": [
    "----"
   ]
  },
  {
   "cell_type": "markdown",
   "id": "c0ffccf5-12b4-4413-82d9-d2d892f39a1e",
   "metadata": {},
   "source": [
    "# Exemplo"
   ]
  },
  {
   "cell_type": "code",
   "execution_count": 1,
   "id": "f8eb94fa-8318-43c3-a979-395bf0ef6b0d",
   "metadata": {
    "execution": {
     "iopub.execute_input": "2024-10-31T05:26:01.610563Z",
     "iopub.status.busy": "2024-10-31T05:26:01.609993Z",
     "iopub.status.idle": "2024-10-31T05:26:02.527690Z",
     "shell.execute_reply": "2024-10-31T05:26:02.526750Z",
     "shell.execute_reply.started": "2024-10-31T05:26:01.610522Z"
    }
   },
   "outputs": [
    {
     "name": "stderr",
     "output_type": "stream",
     "text": [
      "/tmp/ipykernel_8568/2493987982.py:2: DeprecationWarning: \n",
      "Pyarrow will become a required dependency of pandas in the next major release of pandas (pandas 3.0),\n",
      "(to allow more performant data types, such as the Arrow string type, and better interoperability with other libraries)\n",
      "but was not found to be installed on your system.\n",
      "If this would cause problems for you,\n",
      "please provide us feedback at https://github.com/pandas-dev/pandas/issues/54466\n",
      "        \n",
      "  import pandas as pd\n"
     ]
    }
   ],
   "source": [
    "import numpy as np\n",
    "import pandas as pd\n",
    "import lightgbm as lgb\n",
    "from sklearn.datasets import load_iris\n",
    "from sklearn.model_selection import train_test_split\n",
    "from sklearn.metrics import accuracy_score, classification_report"
   ]
  },
  {
   "cell_type": "code",
   "execution_count": 2,
   "id": "299da22d-4ce7-4c41-b4c9-cd046aedb9ce",
   "metadata": {
    "execution": {
     "iopub.execute_input": "2024-10-31T05:26:08.301708Z",
     "iopub.status.busy": "2024-10-31T05:26:08.300663Z",
     "iopub.status.idle": "2024-10-31T05:26:08.805756Z",
     "shell.execute_reply": "2024-10-31T05:26:08.805060Z",
     "shell.execute_reply.started": "2024-10-31T05:26:08.301661Z"
    }
   },
   "outputs": [
    {
     "name": "stdout",
     "output_type": "stream",
     "text": [
      "Acurácia: 1.00\n",
      "\n",
      "Relatório de Classificação:\n",
      "              precision    recall  f1-score   support\n",
      "\n",
      "           0       1.00      1.00      1.00        10\n",
      "           1       1.00      1.00      1.00         9\n",
      "           2       1.00      1.00      1.00        11\n",
      "\n",
      "    accuracy                           1.00        30\n",
      "   macro avg       1.00      1.00      1.00        30\n",
      "weighted avg       1.00      1.00      1.00        30\n",
      "\n"
     ]
    }
   ],
   "source": [
    "# 1. Carregando um conjunto de dados de exemplo (Iris)\n",
    "data = load_iris()\n",
    "X = data.data\n",
    "y = data.target\n",
    "\n",
    "# 2. Dividindo os dados em conjuntos de treino e teste\n",
    "X_train, X_test, y_train, y_test = train_test_split(X, y, test_size=0.2, random_state=42)\n",
    "\n",
    "# 3. Criando um Dataset do LightGBM\n",
    "train_data = lgb.Dataset(X_train, label=y_train)\n",
    "\n",
    "# 4. Definindo os parâmetros do modelo\n",
    "params = {\n",
    "    'objective': 'multiclass',\n",
    "    'num_class': 3,\n",
    "    'metric': 'multi_logloss',\n",
    "    'boosting_type': 'gbdt',\n",
    "    'learning_rate': 0.1,\n",
    "    'num_leaves': 31,\n",
    "    'verbose': -1\n",
    "}\n",
    "\n",
    "# 5. Treinando o modelo\n",
    "model = lgb.train(params, train_data, num_boost_round=100)\n",
    "\n",
    "# 6. Fazendo previsões\n",
    "y_pred = model.predict(X_test)\n",
    "y_pred_max = np.argmax(y_pred, axis=1)\n",
    "\n",
    "# 7. Avaliando o modelo\n",
    "accuracy = accuracy_score(y_test, y_pred_max)\n",
    "print(f\"Acurácia: {accuracy:.2f}\")\n",
    "\n",
    "# 8. Exibindo o relatório de classificação\n",
    "print(\"\\nRelatório de Classificação:\")\n",
    "print(classification_report(y_test, y_pred_max))"
   ]
  },
  {
   "cell_type": "code",
   "execution_count": null,
   "id": "aed95393-a19b-42a5-9d65-e22c4794a5bb",
   "metadata": {},
   "outputs": [],
   "source": []
  }
 ],
 "metadata": {
  "kernelspec": {
   "display_name": "Python 3 (ipykernel)",
   "language": "python",
   "name": "python3"
  },
  "language_info": {
   "codemirror_mode": {
    "name": "ipython",
    "version": 3
   },
   "file_extension": ".py",
   "mimetype": "text/x-python",
   "name": "python",
   "nbconvert_exporter": "python",
   "pygments_lexer": "ipython3",
   "version": "3.11.2"
  }
 },
 "nbformat": 4,
 "nbformat_minor": 5
}
