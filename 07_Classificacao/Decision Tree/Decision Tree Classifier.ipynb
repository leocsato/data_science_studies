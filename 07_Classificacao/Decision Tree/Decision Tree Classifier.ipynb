{
 "cells": [
  {
   "cell_type": "raw",
   "metadata": {},
   "source": [
    "O objetivo desse modelo de classificação é predizer o valor de uma variável alvo, atráves do aprendizado de regras de decisão simples que são inferidas de acordo com as features (características) dos dados. É um mapa dos possíveis resultados de uma série de escolhas relacionadas. Geralmente começa com um único nó, que se divide em possíveis resultados. Cada um desses resultados leva a nós adicionais, que se ramificam em outras possibilidades.\n",
    "\n",
    "São comumento usadas em operações de pesquisa, especialmente em análise de decisão, para ajudar na identificação de uma estratégia com maior chance de alcançar um objetivo, mas também são uma ferramenta popular em aprendizado de máquina (Machine Learning)."
   ]
  },
  {
   "cell_type": "code",
   "execution_count": 1,
   "metadata": {
    "execution": {
     "iopub.execute_input": "2024-08-01T16:37:47.792072Z",
     "iopub.status.busy": "2024-08-01T16:37:47.791348Z",
     "iopub.status.idle": "2024-08-01T16:37:49.150937Z",
     "shell.execute_reply": "2024-08-01T16:37:49.150378Z",
     "shell.execute_reply.started": "2024-08-01T16:37:47.792001Z"
    }
   },
   "outputs": [
    {
     "name": "stderr",
     "output_type": "stream",
     "text": [
      "/tmp/ipykernel_23736/1474093429.py:2: DeprecationWarning: \n",
      "Pyarrow will become a required dependency of pandas in the next major release of pandas (pandas 3.0),\n",
      "(to allow more performant data types, such as the Arrow string type, and better interoperability with other libraries)\n",
      "but was not found to be installed on your system.\n",
      "If this would cause problems for you,\n",
      "please provide us feedback at https://github.com/pandas-dev/pandas/issues/54466\n",
      "        \n",
      "  import pandas as pd\n"
     ]
    }
   ],
   "source": [
    "import numpy as np\n",
    "import pandas as pd\n",
    "import matplotlib.pyplot as plt\n",
    "import seaborn as sns\n",
    "from sklearn import model_selection\n",
    "from sklearn import tree\n",
    "from sklearn.datasets import load_iris\n",
    "from sklearn.metrics import (\n",
    "    accuracy_score, \n",
    "    classification_report, \n",
    "    confusion_matrix\n",
    ")"
   ]
  },
  {
   "cell_type": "code",
   "execution_count": 2,
   "metadata": {
    "execution": {
     "iopub.execute_input": "2024-08-01T16:37:49.151965Z",
     "iopub.status.busy": "2024-08-01T16:37:49.151625Z",
     "iopub.status.idle": "2024-08-01T16:37:49.155060Z",
     "shell.execute_reply": "2024-08-01T16:37:49.154422Z",
     "shell.execute_reply.started": "2024-08-01T16:37:49.151945Z"
    }
   },
   "outputs": [],
   "source": [
    "random_state = 42"
   ]
  },
  {
   "cell_type": "markdown",
   "metadata": {},
   "source": [
    "# Database"
   ]
  },
  {
   "cell_type": "code",
   "execution_count": 3,
   "metadata": {
    "execution": {
     "iopub.execute_input": "2024-08-01T16:37:49.156636Z",
     "iopub.status.busy": "2024-08-01T16:37:49.156373Z",
     "iopub.status.idle": "2024-08-01T16:37:49.164512Z",
     "shell.execute_reply": "2024-08-01T16:37:49.163838Z",
     "shell.execute_reply.started": "2024-08-01T16:37:49.156618Z"
    }
   },
   "outputs": [],
   "source": [
    "# X = [[0, 0], [1, 1]]\n",
    "# Y = [0, 1]\n",
    "iris = load_iris()\n",
    "X = iris.data  # Features\n",
    "y = iris.target  # Target labels"
   ]
  },
  {
   "cell_type": "code",
   "execution_count": 4,
   "metadata": {
    "execution": {
     "iopub.execute_input": "2024-08-01T16:37:49.165553Z",
     "iopub.status.busy": "2024-08-01T16:37:49.165264Z",
     "iopub.status.idle": "2024-08-01T16:37:49.174264Z",
     "shell.execute_reply": "2024-08-01T16:37:49.173578Z",
     "shell.execute_reply.started": "2024-08-01T16:37:49.165532Z"
    }
   },
   "outputs": [],
   "source": [
    "database_name = 'student-mat.csv'\n",
    "coluna_target = 'school'\n",
    "if database_name:\n",
    "    base = pd.read_csv(database_name, sep=';')\n",
    "    X = base.drop(columns=coluna_target)\n",
    "    y = base[[coluna_target]]"
   ]
  },
  {
   "cell_type": "markdown",
   "metadata": {},
   "source": [
    "# Dataprep"
   ]
  },
  {
   "cell_type": "code",
   "execution_count": 5,
   "metadata": {
    "execution": {
     "iopub.execute_input": "2024-08-01T16:37:49.175475Z",
     "iopub.status.busy": "2024-08-01T16:37:49.175093Z",
     "iopub.status.idle": "2024-08-01T16:37:49.179104Z",
     "shell.execute_reply": "2024-08-01T16:37:49.178373Z",
     "shell.execute_reply.started": "2024-08-01T16:37:49.175439Z"
    }
   },
   "outputs": [],
   "source": [
    "X_og = X.copy()"
   ]
  },
  {
   "cell_type": "markdown",
   "metadata": {},
   "source": [
    "# Mantendo apenas Variáveis Independentes Desejadas"
   ]
  },
  {
   "cell_type": "code",
   "execution_count": 6,
   "metadata": {
    "execution": {
     "iopub.execute_input": "2024-08-01T16:37:49.180679Z",
     "iopub.status.busy": "2024-08-01T16:37:49.180225Z",
     "iopub.status.idle": "2024-08-01T16:37:49.184483Z",
     "shell.execute_reply": "2024-08-01T16:37:49.183732Z",
     "shell.execute_reply.started": "2024-08-01T16:37:49.180641Z"
    }
   },
   "outputs": [],
   "source": [
    "accepted_features = [\n",
    "    # 'age',\n",
    "    # 'Medu',\n",
    "    # 'Fedu'\n",
    "]\n",
    "\n",
    "if accepted_features:\n",
    "    X = X[accepted_features]"
   ]
  },
  {
   "cell_type": "markdown",
   "metadata": {},
   "source": [
    "# Tratando Variáveis Categóricas"
   ]
  },
  {
   "cell_type": "code",
   "execution_count": 7,
   "metadata": {
    "execution": {
     "iopub.execute_input": "2024-08-01T16:37:49.185809Z",
     "iopub.status.busy": "2024-08-01T16:37:49.185385Z",
     "iopub.status.idle": "2024-08-01T16:37:49.217973Z",
     "shell.execute_reply": "2024-08-01T16:37:49.217300Z",
     "shell.execute_reply.started": "2024-08-01T16:37:49.185778Z"
    }
   },
   "outputs": [],
   "source": [
    "num_features = X_og.describe().columns.tolist()"
   ]
  },
  {
   "cell_type": "code",
   "execution_count": 8,
   "metadata": {
    "execution": {
     "iopub.execute_input": "2024-08-01T16:37:49.218930Z",
     "iopub.status.busy": "2024-08-01T16:37:49.218656Z",
     "iopub.status.idle": "2024-08-01T16:37:49.223189Z",
     "shell.execute_reply": "2024-08-01T16:37:49.222270Z",
     "shell.execute_reply.started": "2024-08-01T16:37:49.218911Z"
    }
   },
   "outputs": [],
   "source": [
    "cat_features = X_og.drop(columns=num_features).columns.tolist()"
   ]
  },
  {
   "cell_type": "code",
   "execution_count": 9,
   "metadata": {
    "execution": {
     "iopub.execute_input": "2024-08-01T16:37:49.224540Z",
     "iopub.status.busy": "2024-08-01T16:37:49.224183Z",
     "iopub.status.idle": "2024-08-01T16:37:49.242918Z",
     "shell.execute_reply": "2024-08-01T16:37:49.242331Z",
     "shell.execute_reply.started": "2024-08-01T16:37:49.224512Z"
    }
   },
   "outputs": [],
   "source": [
    "# One-hot encoding\n",
    "X = pd.get_dummies(X,\n",
    "                   columns=cat_features,\n",
    "                   drop_first=True)"
   ]
  },
  {
   "cell_type": "markdown",
   "metadata": {},
   "source": [
    "# Tratando Missings e Outliers"
   ]
  },
  {
   "cell_type": "code",
   "execution_count": 10,
   "metadata": {
    "execution": {
     "iopub.execute_input": "2024-08-01T16:37:49.243965Z",
     "iopub.status.busy": "2024-08-01T16:37:49.243691Z",
     "iopub.status.idle": "2024-08-01T16:37:49.246851Z",
     "shell.execute_reply": "2024-08-01T16:37:49.246035Z",
     "shell.execute_reply.started": "2024-08-01T16:37:49.243946Z"
    }
   },
   "outputs": [],
   "source": [
    "#"
   ]
  },
  {
   "cell_type": "markdown",
   "metadata": {},
   "source": [
    "## Dividir Base de Treino"
   ]
  },
  {
   "cell_type": "code",
   "execution_count": 11,
   "metadata": {
    "execution": {
     "iopub.execute_input": "2024-08-01T16:37:49.248037Z",
     "iopub.status.busy": "2024-08-01T16:37:49.247733Z",
     "iopub.status.idle": "2024-08-01T16:37:49.250957Z",
     "shell.execute_reply": "2024-08-01T16:37:49.250315Z",
     "shell.execute_reply.started": "2024-08-01T16:37:49.248013Z"
    }
   },
   "outputs": [],
   "source": [
    "train_size = 0.8"
   ]
  },
  {
   "cell_type": "code",
   "execution_count": 12,
   "metadata": {
    "execution": {
     "iopub.execute_input": "2024-08-01T16:37:49.253147Z",
     "iopub.status.busy": "2024-08-01T16:37:49.252907Z",
     "iopub.status.idle": "2024-08-01T16:37:49.258639Z",
     "shell.execute_reply": "2024-08-01T16:37:49.257944Z",
     "shell.execute_reply.started": "2024-08-01T16:37:49.253131Z"
    }
   },
   "outputs": [],
   "source": [
    "X_train, X_test, y_train, y_test = model_selection.train_test_split(X,\n",
    "                                                                    y,\n",
    "                                                                    train_size=train_size,\n",
    "                                                                    random_state=random_state)"
   ]
  },
  {
   "cell_type": "markdown",
   "metadata": {},
   "source": [
    "# Inicializar Classificador"
   ]
  },
  {
   "cell_type": "code",
   "execution_count": 13,
   "metadata": {
    "execution": {
     "iopub.execute_input": "2024-08-01T16:37:49.259610Z",
     "iopub.status.busy": "2024-08-01T16:37:49.259327Z",
     "iopub.status.idle": "2024-08-01T16:37:49.262497Z",
     "shell.execute_reply": "2024-08-01T16:37:49.261893Z",
     "shell.execute_reply.started": "2024-08-01T16:37:49.259594Z"
    }
   },
   "outputs": [],
   "source": [
    "clf_dict = {\n",
    "    'max_depth': 7, # Profundidade Máxima da Árvore\n",
    "    #'min_samples_split': 2,  # Mínimo para haver split de nó\n",
    "    #'min_samples_leaf': 1,  # Mínimo para ser nó de decisão\n",
    "    'random_state': random_state,\n",
    "}"
   ]
  },
  {
   "cell_type": "code",
   "execution_count": 14,
   "metadata": {
    "execution": {
     "iopub.execute_input": "2024-08-01T16:37:49.376002Z",
     "iopub.status.busy": "2024-08-01T16:37:49.375519Z",
     "iopub.status.idle": "2024-08-01T16:37:49.381509Z",
     "shell.execute_reply": "2024-08-01T16:37:49.379717Z",
     "shell.execute_reply.started": "2024-08-01T16:37:49.375970Z"
    }
   },
   "outputs": [],
   "source": [
    "clf = tree.DecisionTreeClassifier(**clf_dict)"
   ]
  },
  {
   "cell_type": "markdown",
   "metadata": {},
   "source": [
    "# Train"
   ]
  },
  {
   "cell_type": "code",
   "execution_count": 16,
   "metadata": {
    "execution": {
     "iopub.execute_input": "2024-08-01T16:37:49.811873Z",
     "iopub.status.busy": "2024-08-01T16:37:49.811312Z",
     "iopub.status.idle": "2024-08-01T16:37:49.835367Z",
     "shell.execute_reply": "2024-08-01T16:37:49.834000Z",
     "shell.execute_reply.started": "2024-08-01T16:37:49.811819Z"
    }
   },
   "outputs": [
    {
     "data": {
      "text/html": [
       "<style>#sk-container-id-1 {\n",
       "  /* Definition of color scheme common for light and dark mode */\n",
       "  --sklearn-color-text: black;\n",
       "  --sklearn-color-line: gray;\n",
       "  /* Definition of color scheme for unfitted estimators */\n",
       "  --sklearn-color-unfitted-level-0: #fff5e6;\n",
       "  --sklearn-color-unfitted-level-1: #f6e4d2;\n",
       "  --sklearn-color-unfitted-level-2: #ffe0b3;\n",
       "  --sklearn-color-unfitted-level-3: chocolate;\n",
       "  /* Definition of color scheme for fitted estimators */\n",
       "  --sklearn-color-fitted-level-0: #f0f8ff;\n",
       "  --sklearn-color-fitted-level-1: #d4ebff;\n",
       "  --sklearn-color-fitted-level-2: #b3dbfd;\n",
       "  --sklearn-color-fitted-level-3: cornflowerblue;\n",
       "\n",
       "  /* Specific color for light theme */\n",
       "  --sklearn-color-text-on-default-background: var(--sg-text-color, var(--theme-code-foreground, var(--jp-content-font-color1, black)));\n",
       "  --sklearn-color-background: var(--sg-background-color, var(--theme-background, var(--jp-layout-color0, white)));\n",
       "  --sklearn-color-border-box: var(--sg-text-color, var(--theme-code-foreground, var(--jp-content-font-color1, black)));\n",
       "  --sklearn-color-icon: #696969;\n",
       "\n",
       "  @media (prefers-color-scheme: dark) {\n",
       "    /* Redefinition of color scheme for dark theme */\n",
       "    --sklearn-color-text-on-default-background: var(--sg-text-color, var(--theme-code-foreground, var(--jp-content-font-color1, white)));\n",
       "    --sklearn-color-background: var(--sg-background-color, var(--theme-background, var(--jp-layout-color0, #111)));\n",
       "    --sklearn-color-border-box: var(--sg-text-color, var(--theme-code-foreground, var(--jp-content-font-color1, white)));\n",
       "    --sklearn-color-icon: #878787;\n",
       "  }\n",
       "}\n",
       "\n",
       "#sk-container-id-1 {\n",
       "  color: var(--sklearn-color-text);\n",
       "}\n",
       "\n",
       "#sk-container-id-1 pre {\n",
       "  padding: 0;\n",
       "}\n",
       "\n",
       "#sk-container-id-1 input.sk-hidden--visually {\n",
       "  border: 0;\n",
       "  clip: rect(1px 1px 1px 1px);\n",
       "  clip: rect(1px, 1px, 1px, 1px);\n",
       "  height: 1px;\n",
       "  margin: -1px;\n",
       "  overflow: hidden;\n",
       "  padding: 0;\n",
       "  position: absolute;\n",
       "  width: 1px;\n",
       "}\n",
       "\n",
       "#sk-container-id-1 div.sk-dashed-wrapped {\n",
       "  border: 1px dashed var(--sklearn-color-line);\n",
       "  margin: 0 0.4em 0.5em 0.4em;\n",
       "  box-sizing: border-box;\n",
       "  padding-bottom: 0.4em;\n",
       "  background-color: var(--sklearn-color-background);\n",
       "}\n",
       "\n",
       "#sk-container-id-1 div.sk-container {\n",
       "  /* jupyter's `normalize.less` sets `[hidden] { display: none; }`\n",
       "     but bootstrap.min.css set `[hidden] { display: none !important; }`\n",
       "     so we also need the `!important` here to be able to override the\n",
       "     default hidden behavior on the sphinx rendered scikit-learn.org.\n",
       "     See: https://github.com/scikit-learn/scikit-learn/issues/21755 */\n",
       "  display: inline-block !important;\n",
       "  position: relative;\n",
       "}\n",
       "\n",
       "#sk-container-id-1 div.sk-text-repr-fallback {\n",
       "  display: none;\n",
       "}\n",
       "\n",
       "div.sk-parallel-item,\n",
       "div.sk-serial,\n",
       "div.sk-item {\n",
       "  /* draw centered vertical line to link estimators */\n",
       "  background-image: linear-gradient(var(--sklearn-color-text-on-default-background), var(--sklearn-color-text-on-default-background));\n",
       "  background-size: 2px 100%;\n",
       "  background-repeat: no-repeat;\n",
       "  background-position: center center;\n",
       "}\n",
       "\n",
       "/* Parallel-specific style estimator block */\n",
       "\n",
       "#sk-container-id-1 div.sk-parallel-item::after {\n",
       "  content: \"\";\n",
       "  width: 100%;\n",
       "  border-bottom: 2px solid var(--sklearn-color-text-on-default-background);\n",
       "  flex-grow: 1;\n",
       "}\n",
       "\n",
       "#sk-container-id-1 div.sk-parallel {\n",
       "  display: flex;\n",
       "  align-items: stretch;\n",
       "  justify-content: center;\n",
       "  background-color: var(--sklearn-color-background);\n",
       "  position: relative;\n",
       "}\n",
       "\n",
       "#sk-container-id-1 div.sk-parallel-item {\n",
       "  display: flex;\n",
       "  flex-direction: column;\n",
       "}\n",
       "\n",
       "#sk-container-id-1 div.sk-parallel-item:first-child::after {\n",
       "  align-self: flex-end;\n",
       "  width: 50%;\n",
       "}\n",
       "\n",
       "#sk-container-id-1 div.sk-parallel-item:last-child::after {\n",
       "  align-self: flex-start;\n",
       "  width: 50%;\n",
       "}\n",
       "\n",
       "#sk-container-id-1 div.sk-parallel-item:only-child::after {\n",
       "  width: 0;\n",
       "}\n",
       "\n",
       "/* Serial-specific style estimator block */\n",
       "\n",
       "#sk-container-id-1 div.sk-serial {\n",
       "  display: flex;\n",
       "  flex-direction: column;\n",
       "  align-items: center;\n",
       "  background-color: var(--sklearn-color-background);\n",
       "  padding-right: 1em;\n",
       "  padding-left: 1em;\n",
       "}\n",
       "\n",
       "\n",
       "/* Toggleable style: style used for estimator/Pipeline/ColumnTransformer box that is\n",
       "clickable and can be expanded/collapsed.\n",
       "- Pipeline and ColumnTransformer use this feature and define the default style\n",
       "- Estimators will overwrite some part of the style using the `sk-estimator` class\n",
       "*/\n",
       "\n",
       "/* Pipeline and ColumnTransformer style (default) */\n",
       "\n",
       "#sk-container-id-1 div.sk-toggleable {\n",
       "  /* Default theme specific background. It is overwritten whether we have a\n",
       "  specific estimator or a Pipeline/ColumnTransformer */\n",
       "  background-color: var(--sklearn-color-background);\n",
       "}\n",
       "\n",
       "/* Toggleable label */\n",
       "#sk-container-id-1 label.sk-toggleable__label {\n",
       "  cursor: pointer;\n",
       "  display: block;\n",
       "  width: 100%;\n",
       "  margin-bottom: 0;\n",
       "  padding: 0.5em;\n",
       "  box-sizing: border-box;\n",
       "  text-align: center;\n",
       "}\n",
       "\n",
       "#sk-container-id-1 label.sk-toggleable__label-arrow:before {\n",
       "  /* Arrow on the left of the label */\n",
       "  content: \"▸\";\n",
       "  float: left;\n",
       "  margin-right: 0.25em;\n",
       "  color: var(--sklearn-color-icon);\n",
       "}\n",
       "\n",
       "#sk-container-id-1 label.sk-toggleable__label-arrow:hover:before {\n",
       "  color: var(--sklearn-color-text);\n",
       "}\n",
       "\n",
       "/* Toggleable content - dropdown */\n",
       "\n",
       "#sk-container-id-1 div.sk-toggleable__content {\n",
       "  max-height: 0;\n",
       "  max-width: 0;\n",
       "  overflow: hidden;\n",
       "  text-align: left;\n",
       "  /* unfitted */\n",
       "  background-color: var(--sklearn-color-unfitted-level-0);\n",
       "}\n",
       "\n",
       "#sk-container-id-1 div.sk-toggleable__content.fitted {\n",
       "  /* fitted */\n",
       "  background-color: var(--sklearn-color-fitted-level-0);\n",
       "}\n",
       "\n",
       "#sk-container-id-1 div.sk-toggleable__content pre {\n",
       "  margin: 0.2em;\n",
       "  border-radius: 0.25em;\n",
       "  color: var(--sklearn-color-text);\n",
       "  /* unfitted */\n",
       "  background-color: var(--sklearn-color-unfitted-level-0);\n",
       "}\n",
       "\n",
       "#sk-container-id-1 div.sk-toggleable__content.fitted pre {\n",
       "  /* unfitted */\n",
       "  background-color: var(--sklearn-color-fitted-level-0);\n",
       "}\n",
       "\n",
       "#sk-container-id-1 input.sk-toggleable__control:checked~div.sk-toggleable__content {\n",
       "  /* Expand drop-down */\n",
       "  max-height: 200px;\n",
       "  max-width: 100%;\n",
       "  overflow: auto;\n",
       "}\n",
       "\n",
       "#sk-container-id-1 input.sk-toggleable__control:checked~label.sk-toggleable__label-arrow:before {\n",
       "  content: \"▾\";\n",
       "}\n",
       "\n",
       "/* Pipeline/ColumnTransformer-specific style */\n",
       "\n",
       "#sk-container-id-1 div.sk-label input.sk-toggleable__control:checked~label.sk-toggleable__label {\n",
       "  color: var(--sklearn-color-text);\n",
       "  background-color: var(--sklearn-color-unfitted-level-2);\n",
       "}\n",
       "\n",
       "#sk-container-id-1 div.sk-label.fitted input.sk-toggleable__control:checked~label.sk-toggleable__label {\n",
       "  background-color: var(--sklearn-color-fitted-level-2);\n",
       "}\n",
       "\n",
       "/* Estimator-specific style */\n",
       "\n",
       "/* Colorize estimator box */\n",
       "#sk-container-id-1 div.sk-estimator input.sk-toggleable__control:checked~label.sk-toggleable__label {\n",
       "  /* unfitted */\n",
       "  background-color: var(--sklearn-color-unfitted-level-2);\n",
       "}\n",
       "\n",
       "#sk-container-id-1 div.sk-estimator.fitted input.sk-toggleable__control:checked~label.sk-toggleable__label {\n",
       "  /* fitted */\n",
       "  background-color: var(--sklearn-color-fitted-level-2);\n",
       "}\n",
       "\n",
       "#sk-container-id-1 div.sk-label label.sk-toggleable__label,\n",
       "#sk-container-id-1 div.sk-label label {\n",
       "  /* The background is the default theme color */\n",
       "  color: var(--sklearn-color-text-on-default-background);\n",
       "}\n",
       "\n",
       "/* On hover, darken the color of the background */\n",
       "#sk-container-id-1 div.sk-label:hover label.sk-toggleable__label {\n",
       "  color: var(--sklearn-color-text);\n",
       "  background-color: var(--sklearn-color-unfitted-level-2);\n",
       "}\n",
       "\n",
       "/* Label box, darken color on hover, fitted */\n",
       "#sk-container-id-1 div.sk-label.fitted:hover label.sk-toggleable__label.fitted {\n",
       "  color: var(--sklearn-color-text);\n",
       "  background-color: var(--sklearn-color-fitted-level-2);\n",
       "}\n",
       "\n",
       "/* Estimator label */\n",
       "\n",
       "#sk-container-id-1 div.sk-label label {\n",
       "  font-family: monospace;\n",
       "  font-weight: bold;\n",
       "  display: inline-block;\n",
       "  line-height: 1.2em;\n",
       "}\n",
       "\n",
       "#sk-container-id-1 div.sk-label-container {\n",
       "  text-align: center;\n",
       "}\n",
       "\n",
       "/* Estimator-specific */\n",
       "#sk-container-id-1 div.sk-estimator {\n",
       "  font-family: monospace;\n",
       "  border: 1px dotted var(--sklearn-color-border-box);\n",
       "  border-radius: 0.25em;\n",
       "  box-sizing: border-box;\n",
       "  margin-bottom: 0.5em;\n",
       "  /* unfitted */\n",
       "  background-color: var(--sklearn-color-unfitted-level-0);\n",
       "}\n",
       "\n",
       "#sk-container-id-1 div.sk-estimator.fitted {\n",
       "  /* fitted */\n",
       "  background-color: var(--sklearn-color-fitted-level-0);\n",
       "}\n",
       "\n",
       "/* on hover */\n",
       "#sk-container-id-1 div.sk-estimator:hover {\n",
       "  /* unfitted */\n",
       "  background-color: var(--sklearn-color-unfitted-level-2);\n",
       "}\n",
       "\n",
       "#sk-container-id-1 div.sk-estimator.fitted:hover {\n",
       "  /* fitted */\n",
       "  background-color: var(--sklearn-color-fitted-level-2);\n",
       "}\n",
       "\n",
       "/* Specification for estimator info (e.g. \"i\" and \"?\") */\n",
       "\n",
       "/* Common style for \"i\" and \"?\" */\n",
       "\n",
       ".sk-estimator-doc-link,\n",
       "a:link.sk-estimator-doc-link,\n",
       "a:visited.sk-estimator-doc-link {\n",
       "  float: right;\n",
       "  font-size: smaller;\n",
       "  line-height: 1em;\n",
       "  font-family: monospace;\n",
       "  background-color: var(--sklearn-color-background);\n",
       "  border-radius: 1em;\n",
       "  height: 1em;\n",
       "  width: 1em;\n",
       "  text-decoration: none !important;\n",
       "  margin-left: 1ex;\n",
       "  /* unfitted */\n",
       "  border: var(--sklearn-color-unfitted-level-1) 1pt solid;\n",
       "  color: var(--sklearn-color-unfitted-level-1);\n",
       "}\n",
       "\n",
       ".sk-estimator-doc-link.fitted,\n",
       "a:link.sk-estimator-doc-link.fitted,\n",
       "a:visited.sk-estimator-doc-link.fitted {\n",
       "  /* fitted */\n",
       "  border: var(--sklearn-color-fitted-level-1) 1pt solid;\n",
       "  color: var(--sklearn-color-fitted-level-1);\n",
       "}\n",
       "\n",
       "/* On hover */\n",
       "div.sk-estimator:hover .sk-estimator-doc-link:hover,\n",
       ".sk-estimator-doc-link:hover,\n",
       "div.sk-label-container:hover .sk-estimator-doc-link:hover,\n",
       ".sk-estimator-doc-link:hover {\n",
       "  /* unfitted */\n",
       "  background-color: var(--sklearn-color-unfitted-level-3);\n",
       "  color: var(--sklearn-color-background);\n",
       "  text-decoration: none;\n",
       "}\n",
       "\n",
       "div.sk-estimator.fitted:hover .sk-estimator-doc-link.fitted:hover,\n",
       ".sk-estimator-doc-link.fitted:hover,\n",
       "div.sk-label-container:hover .sk-estimator-doc-link.fitted:hover,\n",
       ".sk-estimator-doc-link.fitted:hover {\n",
       "  /* fitted */\n",
       "  background-color: var(--sklearn-color-fitted-level-3);\n",
       "  color: var(--sklearn-color-background);\n",
       "  text-decoration: none;\n",
       "}\n",
       "\n",
       "/* Span, style for the box shown on hovering the info icon */\n",
       ".sk-estimator-doc-link span {\n",
       "  display: none;\n",
       "  z-index: 9999;\n",
       "  position: relative;\n",
       "  font-weight: normal;\n",
       "  right: .2ex;\n",
       "  padding: .5ex;\n",
       "  margin: .5ex;\n",
       "  width: min-content;\n",
       "  min-width: 20ex;\n",
       "  max-width: 50ex;\n",
       "  color: var(--sklearn-color-text);\n",
       "  box-shadow: 2pt 2pt 4pt #999;\n",
       "  /* unfitted */\n",
       "  background: var(--sklearn-color-unfitted-level-0);\n",
       "  border: .5pt solid var(--sklearn-color-unfitted-level-3);\n",
       "}\n",
       "\n",
       ".sk-estimator-doc-link.fitted span {\n",
       "  /* fitted */\n",
       "  background: var(--sklearn-color-fitted-level-0);\n",
       "  border: var(--sklearn-color-fitted-level-3);\n",
       "}\n",
       "\n",
       ".sk-estimator-doc-link:hover span {\n",
       "  display: block;\n",
       "}\n",
       "\n",
       "/* \"?\"-specific style due to the `<a>` HTML tag */\n",
       "\n",
       "#sk-container-id-1 a.estimator_doc_link {\n",
       "  float: right;\n",
       "  font-size: 1rem;\n",
       "  line-height: 1em;\n",
       "  font-family: monospace;\n",
       "  background-color: var(--sklearn-color-background);\n",
       "  border-radius: 1rem;\n",
       "  height: 1rem;\n",
       "  width: 1rem;\n",
       "  text-decoration: none;\n",
       "  /* unfitted */\n",
       "  color: var(--sklearn-color-unfitted-level-1);\n",
       "  border: var(--sklearn-color-unfitted-level-1) 1pt solid;\n",
       "}\n",
       "\n",
       "#sk-container-id-1 a.estimator_doc_link.fitted {\n",
       "  /* fitted */\n",
       "  border: var(--sklearn-color-fitted-level-1) 1pt solid;\n",
       "  color: var(--sklearn-color-fitted-level-1);\n",
       "}\n",
       "\n",
       "/* On hover */\n",
       "#sk-container-id-1 a.estimator_doc_link:hover {\n",
       "  /* unfitted */\n",
       "  background-color: var(--sklearn-color-unfitted-level-3);\n",
       "  color: var(--sklearn-color-background);\n",
       "  text-decoration: none;\n",
       "}\n",
       "\n",
       "#sk-container-id-1 a.estimator_doc_link.fitted:hover {\n",
       "  /* fitted */\n",
       "  background-color: var(--sklearn-color-fitted-level-3);\n",
       "}\n",
       "</style><div id=\"sk-container-id-1\" class=\"sk-top-container\"><div class=\"sk-text-repr-fallback\"><pre>DecisionTreeClassifier(max_depth=7, random_state=42)</pre><b>In a Jupyter environment, please rerun this cell to show the HTML representation or trust the notebook. <br />On GitHub, the HTML representation is unable to render, please try loading this page with nbviewer.org.</b></div><div class=\"sk-container\" hidden><div class=\"sk-item\"><div class=\"sk-estimator fitted sk-toggleable\"><input class=\"sk-toggleable__control sk-hidden--visually\" id=\"sk-estimator-id-1\" type=\"checkbox\" checked><label for=\"sk-estimator-id-1\" class=\"sk-toggleable__label fitted sk-toggleable__label-arrow fitted\">&nbsp;&nbsp;DecisionTreeClassifier<a class=\"sk-estimator-doc-link fitted\" rel=\"noreferrer\" target=\"_blank\" href=\"https://scikit-learn.org/1.4/modules/generated/sklearn.tree.DecisionTreeClassifier.html\">?<span>Documentation for DecisionTreeClassifier</span></a><span class=\"sk-estimator-doc-link fitted\">i<span>Fitted</span></span></label><div class=\"sk-toggleable__content fitted\"><pre>DecisionTreeClassifier(max_depth=7, random_state=42)</pre></div> </div></div></div></div>"
      ],
      "text/plain": [
       "DecisionTreeClassifier(max_depth=7, random_state=42)"
      ]
     },
     "execution_count": 16,
     "metadata": {},
     "output_type": "execute_result"
    }
   ],
   "source": [
    "clf.fit(X_train, y_train)"
   ]
  },
  {
   "cell_type": "markdown",
   "metadata": {},
   "source": [
    "# Predict"
   ]
  },
  {
   "cell_type": "code",
   "execution_count": 17,
   "metadata": {
    "execution": {
     "iopub.execute_input": "2024-08-01T16:37:50.122361Z",
     "iopub.status.busy": "2024-08-01T16:37:50.121772Z",
     "iopub.status.idle": "2024-08-01T16:37:50.132365Z",
     "shell.execute_reply": "2024-08-01T16:37:50.131279Z",
     "shell.execute_reply.started": "2024-08-01T16:37:50.122316Z"
    }
   },
   "outputs": [],
   "source": [
    "# y_pred = clf.predict([[2., 2.]])\n",
    "y_pred = clf.predict(X_test)"
   ]
  },
  {
   "cell_type": "code",
   "execution_count": 18,
   "metadata": {
    "execution": {
     "iopub.execute_input": "2024-08-01T16:37:50.497923Z",
     "iopub.status.busy": "2024-08-01T16:37:50.496694Z",
     "iopub.status.idle": "2024-08-01T16:37:50.508226Z",
     "shell.execute_reply": "2024-08-01T16:37:50.506943Z",
     "shell.execute_reply.started": "2024-08-01T16:37:50.497869Z"
    }
   },
   "outputs": [],
   "source": [
    "# y_pred_probs  = clf.predict_proba([[2., 2.]])\n",
    "y_pred_probs  = clf.predict_proba(X_test)"
   ]
  },
  {
   "cell_type": "markdown",
   "metadata": {
    "execution": {
     "iopub.execute_input": "2024-04-26T05:55:05.393764Z",
     "iopub.status.busy": "2024-04-26T05:55:05.392407Z",
     "iopub.status.idle": "2024-04-26T05:55:05.399824Z",
     "shell.execute_reply": "2024-04-26T05:55:05.398488Z",
     "shell.execute_reply.started": "2024-04-26T05:55:05.393682Z"
    }
   },
   "source": [
    "# Teste"
   ]
  },
  {
   "cell_type": "code",
   "execution_count": 19,
   "metadata": {
    "execution": {
     "iopub.execute_input": "2024-08-01T16:37:50.796596Z",
     "iopub.status.busy": "2024-08-01T16:37:50.795916Z",
     "iopub.status.idle": "2024-08-01T16:37:50.803175Z",
     "shell.execute_reply": "2024-08-01T16:37:50.801637Z",
     "shell.execute_reply.started": "2024-08-01T16:37:50.796537Z"
    }
   },
   "outputs": [],
   "source": [
    "classes = None # ['class 0', 'class 1']"
   ]
  },
  {
   "cell_type": "code",
   "execution_count": 20,
   "metadata": {
    "execution": {
     "iopub.execute_input": "2024-08-01T16:37:50.947201Z",
     "iopub.status.busy": "2024-08-01T16:37:50.946735Z",
     "iopub.status.idle": "2024-08-01T16:37:50.955411Z",
     "shell.execute_reply": "2024-08-01T16:37:50.954510Z",
     "shell.execute_reply.started": "2024-08-01T16:37:50.947157Z"
    }
   },
   "outputs": [],
   "source": [
    "accuracy = accuracy_score(y_test, y_pred)"
   ]
  },
  {
   "cell_type": "code",
   "execution_count": 21,
   "metadata": {
    "execution": {
     "iopub.execute_input": "2024-08-01T16:37:51.333882Z",
     "iopub.status.busy": "2024-08-01T16:37:51.333553Z",
     "iopub.status.idle": "2024-08-01T16:37:51.340267Z",
     "shell.execute_reply": "2024-08-01T16:37:51.338672Z",
     "shell.execute_reply.started": "2024-08-01T16:37:51.333864Z"
    }
   },
   "outputs": [
    {
     "name": "stdout",
     "output_type": "stream",
     "text": [
      "Acurácia: 0.85\n"
     ]
    }
   ],
   "source": [
    "print(f\"Acurácia: {accuracy:.2f}\")"
   ]
  },
  {
   "cell_type": "code",
   "execution_count": 22,
   "metadata": {
    "execution": {
     "iopub.execute_input": "2024-08-01T16:37:51.503066Z",
     "iopub.status.busy": "2024-08-01T16:37:51.502365Z",
     "iopub.status.idle": "2024-08-01T16:37:51.533879Z",
     "shell.execute_reply": "2024-08-01T16:37:51.532533Z",
     "shell.execute_reply.started": "2024-08-01T16:37:51.503012Z"
    }
   },
   "outputs": [],
   "source": [
    "results = classification_report(y_test,\n",
    "                                y_pred,\n",
    "                                target_names=classes)"
   ]
  },
  {
   "cell_type": "code",
   "execution_count": 23,
   "metadata": {
    "execution": {
     "iopub.execute_input": "2024-08-01T16:37:51.672340Z",
     "iopub.status.busy": "2024-08-01T16:37:51.671368Z",
     "iopub.status.idle": "2024-08-01T16:37:51.677801Z",
     "shell.execute_reply": "2024-08-01T16:37:51.676593Z",
     "shell.execute_reply.started": "2024-08-01T16:37:51.672281Z"
    },
    "scrolled": true
   },
   "outputs": [
    {
     "name": "stdout",
     "output_type": "stream",
     "text": [
      "              precision    recall  f1-score   support\n",
      "\n",
      "          GP       0.89      0.94      0.91        67\n",
      "          MS       0.50      0.33      0.40        12\n",
      "\n",
      "    accuracy                           0.85        79\n",
      "   macro avg       0.69      0.64      0.66        79\n",
      "weighted avg       0.83      0.85      0.84        79\n",
      "\n"
     ]
    }
   ],
   "source": [
    "print(results)"
   ]
  },
  {
   "cell_type": "markdown",
   "metadata": {},
   "source": [
    "# Teste de Validação Cruzada"
   ]
  },
  {
   "cell_type": "code",
   "execution_count": 24,
   "metadata": {
    "execution": {
     "iopub.execute_input": "2024-08-01T16:37:52.912349Z",
     "iopub.status.busy": "2024-08-01T16:37:52.911755Z",
     "iopub.status.idle": "2024-08-01T16:37:52.919115Z",
     "shell.execute_reply": "2024-08-01T16:37:52.917457Z",
     "shell.execute_reply.started": "2024-08-01T16:37:52.912288Z"
    }
   },
   "outputs": [],
   "source": [
    "metricas = {'acc': 'accuracy',\n",
    "            'recall': 'recall_macro',\n",
    "            'f1': 'f1_macro',\n",
    "           }"
   ]
  },
  {
   "cell_type": "code",
   "execution_count": 25,
   "metadata": {
    "execution": {
     "iopub.execute_input": "2024-08-01T16:37:53.082644Z",
     "iopub.status.busy": "2024-08-01T16:37:53.081929Z",
     "iopub.status.idle": "2024-08-01T16:37:53.264333Z",
     "shell.execute_reply": "2024-08-01T16:37:53.263034Z",
     "shell.execute_reply.started": "2024-08-01T16:37:53.082568Z"
    }
   },
   "outputs": [],
   "source": [
    "# Validação de Cruzada de 5 dobras\n",
    "k = 5  # Número de dobras\n",
    "cv_scores = model_selection.cross_validate(clf,\n",
    "                                            X,\n",
    "                                            y,\n",
    "                                            scoring=metricas,\n",
    "                                            cv=k)"
   ]
  },
  {
   "cell_type": "code",
   "execution_count": 26,
   "metadata": {
    "execution": {
     "iopub.execute_input": "2024-08-01T16:37:53.266033Z",
     "iopub.status.busy": "2024-08-01T16:37:53.265639Z",
     "iopub.status.idle": "2024-08-01T16:37:53.273020Z",
     "shell.execute_reply": "2024-08-01T16:37:53.272077Z",
     "shell.execute_reply.started": "2024-08-01T16:37:53.266002Z"
    }
   },
   "outputs": [
    {
     "data": {
      "text/plain": [
       "{'fit_time': array([0.01410532, 0.01346636, 0.00606847, 0.0065217 , 0.00784183]),\n",
       " 'score_time': array([0.03904414, 0.02088237, 0.01655006, 0.02279902, 0.02014685]),\n",
       " 'test_acc': array([0.91139241, 0.89873418, 0.87341772, 0.65822785, 0.6835443 ]),\n",
       " 'test_recall': array([0.70793651, 0.65238095, 0.58968254, 0.61349206, 0.56231884]),\n",
       " 'test_f1': array([0.74219114, 0.68650794, 0.60813492, 0.52356489, 0.52121212])}"
      ]
     },
     "execution_count": 26,
     "metadata": {},
     "output_type": "execute_result"
    }
   ],
   "source": [
    "cv_scores"
   ]
  },
  {
   "cell_type": "code",
   "execution_count": 27,
   "metadata": {
    "execution": {
     "iopub.execute_input": "2024-08-01T16:37:53.439242Z",
     "iopub.status.busy": "2024-08-01T16:37:53.438444Z",
     "iopub.status.idle": "2024-08-01T16:37:53.443522Z",
     "shell.execute_reply": "2024-08-01T16:37:53.442289Z",
     "shell.execute_reply.started": "2024-08-01T16:37:53.439211Z"
    }
   },
   "outputs": [],
   "source": [
    "mean_test_acc = np.mean(cv_scores['test_acc'])\n",
    "std_test_acc = np.std(cv_scores['test_acc'])"
   ]
  },
  {
   "cell_type": "code",
   "execution_count": 28,
   "metadata": {
    "execution": {
     "iopub.execute_input": "2024-08-01T16:37:54.285596Z",
     "iopub.status.busy": "2024-08-01T16:37:54.285018Z",
     "iopub.status.idle": "2024-08-01T16:37:54.291810Z",
     "shell.execute_reply": "2024-08-01T16:37:54.290972Z",
     "shell.execute_reply.started": "2024-08-01T16:37:54.285557Z"
    }
   },
   "outputs": [
    {
     "name": "stdout",
     "output_type": "stream",
     "text": [
      "Média de cross-validation para acc: 0.81\n",
      "Desvio-padrão de cross-validation para acc: 0.11\n"
     ]
    }
   ],
   "source": [
    "print(f\"Média de cross-validation para acc: {mean_test_acc:.2f}\")\n",
    "print(f\"Desvio-padrão de cross-validation para acc: {std_test_acc:.2f}\")"
   ]
  },
  {
   "cell_type": "markdown",
   "metadata": {},
   "source": [
    "# Matriz de Confusão"
   ]
  },
  {
   "cell_type": "code",
   "execution_count": 29,
   "metadata": {
    "execution": {
     "iopub.execute_input": "2024-08-01T16:37:55.536782Z",
     "iopub.status.busy": "2024-08-01T16:37:55.535862Z",
     "iopub.status.idle": "2024-08-01T16:37:55.543269Z",
     "shell.execute_reply": "2024-08-01T16:37:55.542144Z",
     "shell.execute_reply.started": "2024-08-01T16:37:55.536738Z"
    }
   },
   "outputs": [],
   "source": [
    "def plot_confusion_matrix(cm, classes):\n",
    "    plt.figure(figsize=(8, 6))\n",
    "    sns.heatmap(cm, annot=True, fmt='d', cmap='Blues', \n",
    "                xticklabels=classes, yticklabels=classes)\n",
    "    plt.title('Matriz de Confusão')\n",
    "    plt.xlabel('Rótulos Previstos')\n",
    "    plt.ylabel('Rótulos Verdadeiros')\n",
    "    plt.show()"
   ]
  },
  {
   "cell_type": "code",
   "execution_count": 30,
   "metadata": {
    "execution": {
     "iopub.execute_input": "2024-08-01T16:37:55.773344Z",
     "iopub.status.busy": "2024-08-01T16:37:55.773012Z",
     "iopub.status.idle": "2024-08-01T16:37:55.780323Z",
     "shell.execute_reply": "2024-08-01T16:37:55.779550Z",
     "shell.execute_reply.started": "2024-08-01T16:37:55.773324Z"
    }
   },
   "outputs": [],
   "source": [
    "conf_matrix = confusion_matrix(y_test, y_pred)"
   ]
  },
  {
   "cell_type": "code",
   "execution_count": 31,
   "metadata": {
    "execution": {
     "iopub.execute_input": "2024-08-01T16:37:55.916239Z",
     "iopub.status.busy": "2024-08-01T16:37:55.915642Z",
     "iopub.status.idle": "2024-08-01T16:37:56.179743Z",
     "shell.execute_reply": "2024-08-01T16:37:56.178832Z",
     "shell.execute_reply.started": "2024-08-01T16:37:55.916196Z"
    }
   },
   "outputs": [
    {
     "data": {
      "image/png": "[encoded data removed]",
      "text/plain": [
       "<Figure size 800x600 with 2 Axes>"
      ]
     },
     "metadata": {},
     "output_type": "display_data"
    }
   ],
   "source": [
    "plot_confusion_matrix(conf_matrix, classes=iris.target_names)\n"
   ]
  },
  {
   "cell_type": "code",
   "execution_count": null,
   "metadata": {},
   "outputs": [],
   "source": []
  },
  {
   "cell_type": "code",
   "execution_count": null,
   "metadata": {},
   "outputs": [],
   "source": []
  }
 ],
 "metadata": {
  "kernelspec": {
   "display_name": "Python 3 (ipykernel)",
   "language": "python",
   "name": "python3"
  },
  "language_info": {
   "codemirror_mode": {
    "name": "ipython",
    "version": 3
   },
   "file_extension": ".py",
   "mimetype": "text/x-python",
   "name": "python",
   "nbconvert_exporter": "python",
   "pygments_lexer": "ipython3",
   "version": "3.11.2"
  }
 },
 "nbformat": 4,
 "nbformat_minor": 4
}
