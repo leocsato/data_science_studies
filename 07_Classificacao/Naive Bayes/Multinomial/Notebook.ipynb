{
 "cells": [
  {
   "cell_type": "raw",
   "id": "5567c853-695d-43aa-971e-ff22de1feac3",
   "metadata": {},
   "source": [
    "Esse tipo de Classificador Naive Bayes assume a distribuição Multinomial, que é para lidar especialmente com dados discretos como contagem de palavras em documentos ou frequência de termos.\n",
    "A distribuição Multinomial estima a chance de que sejam observadas contagem específicas de palavras em um documento.\n",
    "O nome desse Classificador é Multinomial Naive Bayes ."
   ]
  },
  {
   "cell_type": "raw",
   "id": "e9530c0b-806b-4518-b775-a12ba49ea190",
   "metadata": {},
   "source": [
    "É um algoritmo de Naive Bayes.\n",
    "É utilizado principalmente para dados categóricos ou discretos, como contagem de palavras em documentos de texto. Por exemplo, na classificação de documentos de texto, você pode representar cada documento como um vetor de contagens de palavras. Esta abordagem é útil quando a frequência das características é mais importante do que sua presença ou ausência."
   ]
  },
  {
   "cell_type": "raw",
   "id": "671bbc30-28be-410e-8f57-e8e85a17a584",
   "metadata": {},
   "source": [
    "Aqui está uma explicação passo a passo de como o Multinomial Naive Bayes funciona:\n",
    "\n",
    "Preparação dos Dados:\n",
    "Os dados são representados como vetores de características, onde cada característica representa a contagem de ocorrências de uma determinada palavra (ou outra unidade discreta) em um documento.\n",
    "Tipicamente, os dados são representados como uma matriz de contagem, onde cada linha representa um documento e cada coluna representa uma palavra, e os valores indicam a contagem de ocorrências de cada palavra nos documentos.\n",
    "Treinamento do Modelo:\n",
    "Estimação das probabilidades a priori\n",
    "Estimação das probabilidades condicionais\n",
    "Classificação de Novos Exemplos\n",
    "Cálculo das probabilidades a posteriori\n",
    "\n",
    "As características (palavras) são tratadas como variáveis discretas, e as probabilidades condicionais P(xi∣Ck) são estimadas a partir das contagens de palavras nos documentos de treinamento.\n",
    "Classificação: O modelo atribui a classe mais provável ŷ​ para o novo exemplo com base nas probabilidades a posteriori calculadas:"
   ]
  },
  {
   "cell_type": "raw",
   "id": "11566114-f3b2-42cd-8aa1-d4121cda821d",
   "metadata": {},
   "source": [
    "[TO-DO]"
   ]
  },
  {
   "cell_type": "code",
   "execution_count": null,
   "id": "e1cd93de-2f0e-44af-8479-8af6f46858c1",
   "metadata": {},
   "outputs": [],
   "source": []
  },
  {
   "cell_type": "code",
   "execution_count": null,
   "id": "e2569805-5709-408a-b5f3-8805caa77a11",
   "metadata": {},
   "outputs": [],
   "source": []
  }
 ],
 "metadata": {
  "kernelspec": {
   "display_name": "Python 3 (ipykernel)",
   "language": "python",
   "name": "python3"
  },
  "language_info": {
   "codemirror_mode": {
    "name": "ipython",
    "version": 3
   },
   "file_extension": ".py",
   "mimetype": "text/x-python",
   "name": "python",
   "nbconvert_exporter": "python",
   "pygments_lexer": "ipython3",
   "version": "3.11.2"
  }
 },
 "nbformat": 4,
 "nbformat_minor": 5
}
