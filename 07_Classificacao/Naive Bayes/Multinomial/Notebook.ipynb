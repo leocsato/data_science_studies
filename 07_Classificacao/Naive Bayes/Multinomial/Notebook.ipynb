{
 "cells": [
  {
   "cell_type": "raw",
   "id": "5567c853-695d-43aa-971e-ff22de1feac3",
   "metadata": {},
   "source": [
    "Esse tipo de Classificador Naive Bayes assume a distribuição Multinomial, que é para lidar especialmente com dados discretos como contagem de palavras em documentos ou frequência de termos.\n",
    "A distribuição Multinomial estima a chance de que sejam observadas contagem específicas de palavras em um documento.\n",
    "O nome desse Classificador é Multinomial Naive Bayes ."
   ]
  },
  {
   "cell_type": "raw",
   "id": "e9530c0b-806b-4518-b775-a12ba49ea190",
   "metadata": {},
   "source": [
    "É um algoritmo de Naive Bayes.\n",
    "É utilizado principalmente para dados categóricos ou discretos, como contagem de palavras em documentos de texto. Por exemplo, na classificação de documentos de texto, você pode representar cada documento como um vetor de contagens de palavras. Esta abordagem é útil quando a frequência das características é mais importante do que sua presença ou ausência."
   ]
  },
  {
   "cell_type": "raw",
   "id": "671bbc30-28be-410e-8f57-e8e85a17a584",
   "metadata": {},
   "source": [
    "Aqui está uma explicação passo a passo de como o Multinomial Naive Bayes funciona:\n",
    "\n",
    "Preparação dos Dados:\n",
    "Os dados são representados como vetores de características, onde cada característica representa a contagem de ocorrências de uma determinada palavra (ou outra unidade discreta) em um documento.\n",
    "Tipicamente, os dados são representados como uma matriz de contagem, onde cada linha representa um documento e cada coluna representa uma palavra, e os valores indicam a contagem de ocorrências de cada palavra nos documentos.\n",
    "Treinamento do Modelo:\n",
    "Estimação das probabilidades a priori\n",
    "Estimação das probabilidades condicionais\n",
    "Classificação de Novos Exemplos\n",
    "Cálculo das probabilidades a posteriori\n",
    "\n",
    "As características (palavras) são tratadas como variáveis discretas, e as probabilidades condicionais P(xi∣Ck) são estimadas a partir das contagens de palavras nos documentos de treinamento.\n",
    "Classificação: O modelo atribui a classe mais provável ŷ​ para o novo exemplo com base nas probabilidades a posteriori calculadas:"
   ]
  },
  {
   "cell_type": "markdown",
   "id": "5e3bb812-5793-4923-a9e1-47276c9695fb",
   "metadata": {},
   "source": [
    "-----"
   ]
  },
  {
   "cell_type": "code",
   "execution_count": 2,
   "id": "e1cd93de-2f0e-44af-8479-8af6f46858c1",
   "metadata": {
    "execution": {
     "iopub.execute_input": "2024-10-31T05:27:07.527831Z",
     "iopub.status.busy": "2024-10-31T05:27:07.527362Z",
     "iopub.status.idle": "2024-10-31T05:27:07.533218Z",
     "shell.execute_reply": "2024-10-31T05:27:07.531864Z",
     "shell.execute_reply.started": "2024-10-31T05:27:07.527809Z"
    }
   },
   "outputs": [],
   "source": [
    "import numpy as np\n",
    "import pandas as pd\n",
    "from sklearn.datasets import fetch_20newsgroups\n",
    "from sklearn.model_selection import train_test_split\n",
    "from sklearn.feature_extraction.text import CountVectorizer\n",
    "from sklearn.naive_bayes import MultinomialNB\n",
    "from sklearn.metrics import accuracy_score, classification_report"
   ]
  },
  {
   "cell_type": "code",
   "execution_count": 3,
   "id": "e2569805-5709-408a-b5f3-8805caa77a11",
   "metadata": {
    "execution": {
     "iopub.execute_input": "2024-10-31T05:27:09.882584Z",
     "iopub.status.busy": "2024-10-31T05:27:09.881340Z",
     "iopub.status.idle": "2024-10-31T05:27:30.475272Z",
     "shell.execute_reply": "2024-10-31T05:27:30.473936Z",
     "shell.execute_reply.started": "2024-10-31T05:27:09.882505Z"
    }
   },
   "outputs": [
    {
     "name": "stdout",
     "output_type": "stream",
     "text": [
      "Acurácia: 0.94\n",
      "\n",
      "Relatório de Classificação:\n",
      "               precision    recall  f1-score   support\n",
      "\n",
      "comp.graphics       0.95      0.93      0.94       192\n",
      "    sci.space       0.94      0.95      0.95       200\n",
      "\n",
      "     accuracy                           0.94       392\n",
      "    macro avg       0.94      0.94      0.94       392\n",
      " weighted avg       0.94      0.94      0.94       392\n",
      "\n"
     ]
    }
   ],
   "source": [
    "# 1. Carregando um conjunto de dados de exemplo (20 Newsgroups)\n",
    "data = fetch_20newsgroups(subset='all',\n",
    "                          categories=['sci.space', 'comp.graphics'],\n",
    "                          remove=('headers', 'footers', 'quotes'))\n",
    "X = data.data\n",
    "y = data.target\n",
    "\n",
    "# 2. Dividindo os dados em conjuntos de treino e teste\n",
    "X_train, X_test, y_train, y_test = train_test_split(X, y, test_size=0.2, random_state=42)\n",
    "\n",
    "# 3. Convertendo texto em contagem de palavras (Bag of Words)\n",
    "vectorizer = CountVectorizer()\n",
    "X_train_counts = vectorizer.fit_transform(X_train)\n",
    "X_test_counts = vectorizer.transform(X_test)\n",
    "\n",
    "# 4. Criando e treinando o modelo Naive Bayes Multinomial\n",
    "model = MultinomialNB()\n",
    "model.fit(X_train_counts, y_train)\n",
    "\n",
    "# 5. Fazendo previsões\n",
    "y_pred = model.predict(X_test_counts)\n",
    "\n",
    "# 6. Avaliando o modelo\n",
    "accuracy = accuracy_score(y_test, y_pred)\n",
    "print(f\"Acurácia: {accuracy:.2f}\")\n",
    "\n",
    "# 7. Exibindo o relatório de classificação\n",
    "print(\"\\nRelatório de Classificação:\")\n",
    "print(classification_report(y_test, y_pred, target_names=data.target_names))"
   ]
  },
  {
   "cell_type": "code",
   "execution_count": null,
   "id": "e1c4184c-44bf-450a-9074-bd4556f7b04e",
   "metadata": {},
   "outputs": [],
   "source": []
  }
 ],
 "metadata": {
  "kernelspec": {
   "display_name": "Python 3 (ipykernel)",
   "language": "python",
   "name": "python3"
  },
  "language_info": {
   "codemirror_mode": {
    "name": "ipython",
    "version": 3
   },
   "file_extension": ".py",
   "mimetype": "text/x-python",
   "name": "python",
   "nbconvert_exporter": "python",
   "pygments_lexer": "ipython3",
   "version": "3.11.2"
  }
 },
 "nbformat": 4,
 "nbformat_minor": 5
}
