{
 "cells": [
  {
   "cell_type": "raw",
   "metadata": {},
   "source": [
    "É um algoritmo de Naive Bayes.\n",
    "É apropriado para dados contínuos que seguem uma distribuição normal. Por exemplo, se você estiver trabalhando com características que têm distribuição aproximadamente normal, como altura, peso, temperatura, etc., este modelo pode ser mais adequado."
   ]
  },
  {
   "cell_type": "raw",
   "metadata": {},
   "source": [
    "Implementa o classificador Naive Bayes para dados contínuos, estabelencendo a suposição de que os valores contínuos associados com cada classe estão distribuídos de acordo com uma distribuição normal."
   ]
  },
  {
   "cell_type": "raw",
   "metadata": {},
   "source": [
    "Aqui está uma explicação passo a passo de como o Gaussiano Naive Bayes funciona:\n",
    "\n",
    "Preparação dos Dados:\n",
    "Representação dos dados: Os dados são representados como vetores de características numéricas.\n",
    "Normalização (opcional): Se necessário, os dados podem ser normalizados para garantir que todas as características tenham a mesma escala.\n",
    "Treinamento do Modelo:\n",
    "Estimação das probabilidades a priori: Calcula-se a probabilidade a priori de cada classe, ou seja, a frequência com que cada classe ocorre no conjunto de treinamento.\n",
    "Estimação dos parâmetros da distribuição normal: Para cada classe Ck​ e para cada característica xi​, são estimados a média μki​ e o desvio padrão σki​ dos valores dessa característica.\n",
    "\n",
    "Classificação de Novos Exemplos:\n",
    "Cálculo das probabilidades a posteriori: Quando um novo exemplo é apresentado ao modelo, calcula-se a probabilidade a posteriori de cada classe para o exemplo dado utilizando o Teorema de Bayes:\n",
    "\n",
    "Classificação: O modelo atribui a classe mais provável para o novo exemplo com base nas probabilidades a posteriori calculadas. Em outras palavras, o modelo seleciona a classe que maximiza a probabilidade a posteriori.\n"
   ]
  },
  {
   "cell_type": "code",
   "execution_count": 1,
   "metadata": {
    "execution": {
     "iopub.execute_input": "2024-04-26T05:56:02.406233Z",
     "iopub.status.busy": "2024-04-26T05:56:02.405615Z",
     "iopub.status.idle": "2024-04-26T05:56:02.919228Z",
     "shell.execute_reply": "2024-04-26T05:56:02.918412Z",
     "shell.execute_reply.started": "2024-04-26T05:56:02.406181Z"
    }
   },
   "outputs": [
    {
     "name": "stdout",
     "output_type": "stream",
     "text": [
      "[1]\n",
      "[1]\n"
     ]
    }
   ],
   "source": [
    "import numpy as np\n",
    "X = np.array([[-1, -1], [-2, -1], [-3, -2], [1, 1], [2, 1], [3, 2]])\n",
    "Y = np.array([1, 1, 1, 2, 2, 2])\n",
    "from sklearn.naive_bayes import GaussianNB\n",
    "clf = GaussianNB()\n",
    "clf.fit(X, Y)\n",
    "\n",
    "print(clf.predict([[-0.8, -1]]))\n",
    "\n",
    "clf_pf = GaussianNB()\n",
    "clf_pf.partial_fit(X, Y, np.unique(Y))\n",
    "\n",
    "print(clf_pf.predict([[-0.8, -1]]))"
   ]
  }
 ],
 "metadata": {
  "kernelspec": {
   "display_name": "Python 3 (ipykernel)",
   "language": "python",
   "name": "python3"
  },
  "language_info": {
   "codemirror_mode": {
    "name": "ipython",
    "version": 3
   },
   "file_extension": ".py",
   "mimetype": "text/x-python",
   "name": "python",
   "nbconvert_exporter": "python",
   "pygments_lexer": "ipython3",
   "version": "3.11.2"
  }
 },
 "nbformat": 4,
 "nbformat_minor": 4
}
