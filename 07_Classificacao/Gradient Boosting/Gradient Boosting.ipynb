{
 "cells": [
  {
   "cell_type": "raw",
   "metadata": {},
   "source": [
    "O Gradiente Boosting é uma técnica de aprendizado de máquina utilizada para problemas de regressão e classificação. Ele produz um modelo de previsão na forma de um conjunto de modelos de previsão fracos, geralmente árvores de decisão.\n",
    "\n",
    "Conceito Básico:\n",
    "O Gradiente Boosting combina modelos fracos em um único modelo forte de maneira iterativa.\n",
    "Cada novo modelo tenta corrigir os erros do modelo anterior.\n",
    "\n",
    "O Gradiente Boosting é um algoritmo de descida de gradiente.\n",
    "Ele otimiza uma função de custo escolhendo iterativamente funções (hipóteses fracas) que apontam na direção oposta do gradiente da função de perda.\n",
    "Isso permite a otimização de uma função de perda diferenciável arbitrária.\n",
    "\n",
    "Exemplos de Frameworks que utilizam Gradient Boosting:\n",
    "- XGBoost\n",
    "- LightGBM\n",
    "- CatBoost"
   ]
  },
  {
   "cell_type": "code",
   "execution_count": 1,
   "metadata": {
    "execution": {
     "iopub.execute_input": "2024-04-26T05:55:19.766038Z",
     "iopub.status.busy": "2024-04-26T05:55:19.765418Z",
     "iopub.status.idle": "2024-04-26T05:55:20.865577Z",
     "shell.execute_reply": "2024-04-26T05:55:20.864799Z",
     "shell.execute_reply.started": "2024-04-26T05:55:19.765986Z"
    }
   },
   "outputs": [
    {
     "data": {
      "text/plain": [
       "0.913"
      ]
     },
     "execution_count": 1,
     "metadata": {},
     "output_type": "execute_result"
    }
   ],
   "source": [
    "from sklearn.datasets import make_hastie_10_2\n",
    "from sklearn.ensemble import GradientBoostingClassifier\n",
    "\n",
    "X, y = make_hastie_10_2(random_state=0)\n",
    "X_train, X_test = X[:2000], X[2000:]\n",
    "y_train, y_test = y[:2000], y[2000:]\n",
    "\n",
    "clf = GradientBoostingClassifier(n_estimators=100, learning_rate=1.0,\n",
    "    max_depth=1, random_state=0).fit(X_train, y_train)\n",
    "clf.score(X_test, y_test)                 \n"
   ]
  },
  {
   "cell_type": "code",
   "execution_count": null,
   "metadata": {},
   "outputs": [],
   "source": []
  }
 ],
 "metadata": {
  "kernelspec": {
   "display_name": "Python 3 (ipykernel)",
   "language": "python",
   "name": "python3"
  },
  "language_info": {
   "codemirror_mode": {
    "name": "ipython",
    "version": 3
   },
   "file_extension": ".py",
   "mimetype": "text/x-python",
   "name": "python",
   "nbconvert_exporter": "python",
   "pygments_lexer": "ipython3",
   "version": "3.11.2"
  }
 },
 "nbformat": 4,
 "nbformat_minor": 4
}
