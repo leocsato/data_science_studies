{
 "cells": [
  {
   "cell_type": "raw",
   "metadata": {},
   "source": [
    "O Gradiente Boosting é uma técnica de aprendizado de máquina utilizada para problemas de regressão e classificação. Ele produz um modelo de previsão na forma de um conjunto de modelos de previsão fracos, geralmente árvores de decisão.\n",
    "\n",
    "Conceito Básico:\n",
    "O Gradiente Boosting combina modelos fracos em um único modelo forte de maneira iterativa.\n",
    "Cada novo modelo tenta corrigir os erros do modelo anterior.\n",
    "\n",
    "O Gradiente Boosting é um algoritmo de descida de gradiente.\n",
    "Ele otimiza uma função de custo escolhendo iterativamente funções (hipóteses fracas) que apontam na direção oposta do gradiente da função de perda.\n",
    "Isso permite a otimização de uma função de perda diferenciável arbitrária.\n",
    "\n",
    "Exemplos de Frameworks que utilizam Gradient Boosting:\n",
    "- XGBoost\n",
    "- LightGBM\n",
    "- CatBoost"
   ]
  },
  {
   "cell_type": "code",
   "execution_count": 38,
   "metadata": {
    "execution": {
     "iopub.execute_input": "2024-08-01T16:46:07.211835Z",
     "iopub.status.busy": "2024-08-01T16:46:07.211345Z",
     "iopub.status.idle": "2024-08-01T16:46:07.217343Z",
     "shell.execute_reply": "2024-08-01T16:46:07.215977Z",
     "shell.execute_reply.started": "2024-08-01T16:46:07.211794Z"
    }
   },
   "outputs": [],
   "source": [
    "import numpy as np\n",
    "import pandas as pd\n",
    "import matplotlib.pyplot as plt\n",
    "import seaborn as sns\n",
    "from sklearn import model_selection\n",
    "from sklearn.ensemble import GradientBoostingClassifier\n",
    "from sklearn.datasets import make_hastie_10_2\n",
    "from sklearn.metrics import (\n",
    "    accuracy_score, \n",
    "    classification_report, \n",
    "    confusion_matrix\n",
    ")"
   ]
  },
  {
   "cell_type": "code",
   "execution_count": 39,
   "metadata": {
    "execution": {
     "iopub.execute_input": "2024-08-01T16:46:07.355602Z",
     "iopub.status.busy": "2024-08-01T16:46:07.355022Z",
     "iopub.status.idle": "2024-08-01T16:46:07.361431Z",
     "shell.execute_reply": "2024-08-01T16:46:07.359854Z",
     "shell.execute_reply.started": "2024-08-01T16:46:07.355558Z"
    }
   },
   "outputs": [],
   "source": [
    "random_state = 42"
   ]
  },
  {
   "cell_type": "markdown",
   "metadata": {},
   "source": [
    "## Uso Simples"
   ]
  },
  {
   "cell_type": "code",
   "execution_count": 3,
   "metadata": {
    "execution": {
     "iopub.execute_input": "2024-08-01T16:42:27.386859Z",
     "iopub.status.busy": "2024-08-01T16:42:27.386465Z",
     "iopub.status.idle": "2024-08-01T16:42:27.802878Z",
     "shell.execute_reply": "2024-08-01T16:42:27.802233Z",
     "shell.execute_reply.started": "2024-08-01T16:42:27.386826Z"
    }
   },
   "outputs": [
    {
     "data": {
      "text/plain": [
       "0.913"
      ]
     },
     "execution_count": 3,
     "metadata": {},
     "output_type": "execute_result"
    }
   ],
   "source": [
    "X, y = make_hastie_10_2(random_state=0)\n",
    "X_train, X_test = X[:2000], X[2000:]\n",
    "y_train, y_test = y[:2000], y[2000:]\n",
    "\n",
    "clf = GradientBoostingClassifier(n_estimators=100, learning_rate=1.0,\n",
    "    max_depth=1, random_state=0).fit(X_train, y_train)\n",
    "clf.score(X_test, y_test)   "
   ]
  },
  {
   "cell_type": "markdown",
   "metadata": {},
   "source": [
    "# Database"
   ]
  },
  {
   "cell_type": "code",
   "execution_count": 8,
   "metadata": {
    "execution": {
     "iopub.execute_input": "2024-08-01T16:43:12.585540Z",
     "iopub.status.busy": "2024-08-01T16:43:12.585047Z",
     "iopub.status.idle": "2024-08-01T16:43:12.601078Z",
     "shell.execute_reply": "2024-08-01T16:43:12.599815Z",
     "shell.execute_reply.started": "2024-08-01T16:43:12.585499Z"
    }
   },
   "outputs": [],
   "source": [
    "# X = [[0, 0], [1, 1]]\n",
    "# Y = [0, 1]\n",
    "X, y = make_hastie_10_2()"
   ]
  },
  {
   "cell_type": "code",
   "execution_count": 7,
   "metadata": {
    "execution": {
     "iopub.execute_input": "2024-08-01T16:43:09.002460Z",
     "iopub.status.busy": "2024-08-01T16:43:09.002099Z",
     "iopub.status.idle": "2024-08-01T16:43:09.010435Z",
     "shell.execute_reply": "2024-08-01T16:43:09.009844Z",
     "shell.execute_reply.started": "2024-08-01T16:43:09.002444Z"
    }
   },
   "outputs": [],
   "source": [
    "database_name = 'student-mat.csv'\n",
    "coluna_target = 'school'\n",
    "if database_name:\n",
    "    base = pd.read_csv(database_name, sep=';')\n",
    "    X = base.drop(columns=coluna_target)\n",
    "    y = base[[coluna_target]]"
   ]
  },
  {
   "cell_type": "markdown",
   "metadata": {},
   "source": [
    "# Dataprep"
   ]
  },
  {
   "cell_type": "code",
   "execution_count": 9,
   "metadata": {
    "execution": {
     "iopub.execute_input": "2024-08-01T16:43:13.769933Z",
     "iopub.status.busy": "2024-08-01T16:43:13.769251Z",
     "iopub.status.idle": "2024-08-01T16:43:13.775451Z",
     "shell.execute_reply": "2024-08-01T16:43:13.774268Z",
     "shell.execute_reply.started": "2024-08-01T16:43:13.769885Z"
    }
   },
   "outputs": [],
   "source": [
    "X_og = X.copy()"
   ]
  },
  {
   "cell_type": "markdown",
   "metadata": {},
   "source": [
    "# Mantendo apenas Variáveis Independentes Desejadas"
   ]
  },
  {
   "cell_type": "code",
   "execution_count": 10,
   "metadata": {
    "execution": {
     "iopub.execute_input": "2024-08-01T16:43:14.394791Z",
     "iopub.status.busy": "2024-08-01T16:43:14.393983Z",
     "iopub.status.idle": "2024-08-01T16:43:14.399321Z",
     "shell.execute_reply": "2024-08-01T16:43:14.398302Z",
     "shell.execute_reply.started": "2024-08-01T16:43:14.394745Z"
    }
   },
   "outputs": [],
   "source": [
    "accepted_features = [\n",
    "    # 'age',\n",
    "    # 'Medu',\n",
    "    # 'Fedu'\n",
    "]\n",
    "\n",
    "if accepted_features:\n",
    "    X = X[accepted_features]"
   ]
  },
  {
   "cell_type": "markdown",
   "metadata": {},
   "source": [
    "# Tratando Variáveis Categóricas"
   ]
  },
  {
   "cell_type": "code",
   "execution_count": 12,
   "metadata": {
    "execution": {
     "iopub.execute_input": "2024-08-01T16:43:46.283691Z",
     "iopub.status.busy": "2024-08-01T16:43:46.282634Z",
     "iopub.status.idle": "2024-08-01T16:43:46.288117Z",
     "shell.execute_reply": "2024-08-01T16:43:46.287158Z",
     "shell.execute_reply.started": "2024-08-01T16:43:46.283652Z"
    }
   },
   "outputs": [],
   "source": [
    "try:\n",
    "    num_features = X_og.describe().columns.tolist()\n",
    "except:\n",
    "    pass"
   ]
  },
  {
   "cell_type": "code",
   "execution_count": 13,
   "metadata": {
    "execution": {
     "iopub.execute_input": "2024-08-01T16:43:55.239978Z",
     "iopub.status.busy": "2024-08-01T16:43:55.239265Z",
     "iopub.status.idle": "2024-08-01T16:43:55.246372Z",
     "shell.execute_reply": "2024-08-01T16:43:55.244933Z",
     "shell.execute_reply.started": "2024-08-01T16:43:55.239932Z"
    }
   },
   "outputs": [],
   "source": [
    "try:\n",
    "    cat_features = X_og.drop(columns=num_features).columns.tolist()\n",
    "except:\n",
    "    pass"
   ]
  },
  {
   "cell_type": "code",
   "execution_count": 14,
   "metadata": {
    "execution": {
     "iopub.execute_input": "2024-08-01T16:44:07.124427Z",
     "iopub.status.busy": "2024-08-01T16:44:07.123530Z",
     "iopub.status.idle": "2024-08-01T16:44:07.130452Z",
     "shell.execute_reply": "2024-08-01T16:44:07.128888Z",
     "shell.execute_reply.started": "2024-08-01T16:44:07.124377Z"
    }
   },
   "outputs": [],
   "source": [
    "try:\n",
    "    # One-hot encoding\n",
    "    X = pd.get_dummies(X,\n",
    "                       columns=cat_features,\n",
    "                       drop_first=True)\n",
    "except:\n",
    "    pass"
   ]
  },
  {
   "cell_type": "markdown",
   "metadata": {},
   "source": [
    "# Tratando Missings e Outliers"
   ]
  },
  {
   "cell_type": "code",
   "execution_count": 15,
   "metadata": {
    "execution": {
     "iopub.execute_input": "2024-08-01T16:44:09.722356Z",
     "iopub.status.busy": "2024-08-01T16:44:09.721161Z",
     "iopub.status.idle": "2024-08-01T16:44:09.727760Z",
     "shell.execute_reply": "2024-08-01T16:44:09.726516Z",
     "shell.execute_reply.started": "2024-08-01T16:44:09.722285Z"
    }
   },
   "outputs": [],
   "source": [
    "#"
   ]
  },
  {
   "cell_type": "markdown",
   "metadata": {},
   "source": [
    "## Dividir Base de Treino"
   ]
  },
  {
   "cell_type": "code",
   "execution_count": 16,
   "metadata": {
    "execution": {
     "iopub.execute_input": "2024-08-01T16:44:10.185014Z",
     "iopub.status.busy": "2024-08-01T16:44:10.184523Z",
     "iopub.status.idle": "2024-08-01T16:44:10.189114Z",
     "shell.execute_reply": "2024-08-01T16:44:10.188041Z",
     "shell.execute_reply.started": "2024-08-01T16:44:10.184982Z"
    }
   },
   "outputs": [],
   "source": [
    "train_size = 0.8"
   ]
  },
  {
   "cell_type": "code",
   "execution_count": 17,
   "metadata": {
    "execution": {
     "iopub.execute_input": "2024-08-01T16:44:10.546660Z",
     "iopub.status.busy": "2024-08-01T16:44:10.545894Z",
     "iopub.status.idle": "2024-08-01T16:44:10.555441Z",
     "shell.execute_reply": "2024-08-01T16:44:10.554424Z",
     "shell.execute_reply.started": "2024-08-01T16:44:10.546575Z"
    }
   },
   "outputs": [],
   "source": [
    "X_train, X_test, y_train, y_test = model_selection.train_test_split(X,\n",
    "                                                                    y,\n",
    "                                                                    train_size=train_size,\n",
    "                                                                    random_state=random_state)"
   ]
  },
  {
   "cell_type": "markdown",
   "metadata": {},
   "source": [
    "# Inicializar Classificador"
   ]
  },
  {
   "cell_type": "code",
   "execution_count": 18,
   "metadata": {
    "execution": {
     "iopub.execute_input": "2024-08-01T16:44:11.857196Z",
     "iopub.status.busy": "2024-08-01T16:44:11.856572Z",
     "iopub.status.idle": "2024-08-01T16:44:11.861759Z",
     "shell.execute_reply": "2024-08-01T16:44:11.861062Z",
     "shell.execute_reply.started": "2024-08-01T16:44:11.857151Z"
    }
   },
   "outputs": [],
   "source": [
    "clf_dict = {\n",
    "    'max_depth': 7, # Profundidade Máxima da Árvore\n",
    "    #'min_samples_split': 2,  # Mínimo para haver split de nó\n",
    "    #'min_samples_leaf': 1,  # Mínimo para ser nó de decisão\n",
    "    'random_state': random_state,\n",
    "}"
   ]
  },
  {
   "cell_type": "code",
   "execution_count": 19,
   "metadata": {
    "execution": {
     "iopub.execute_input": "2024-08-01T16:44:12.101550Z",
     "iopub.status.busy": "2024-08-01T16:44:12.100958Z",
     "iopub.status.idle": "2024-08-01T16:44:12.107513Z",
     "shell.execute_reply": "2024-08-01T16:44:12.105967Z",
     "shell.execute_reply.started": "2024-08-01T16:44:12.101506Z"
    }
   },
   "outputs": [],
   "source": [
    "clf = GradientBoostingClassifier(**clf_dict)"
   ]
  },
  {
   "cell_type": "markdown",
   "metadata": {},
   "source": [
    "# Train"
   ]
  },
  {
   "cell_type": "code",
   "execution_count": 21,
   "metadata": {
    "execution": {
     "iopub.execute_input": "2024-08-01T16:44:19.797564Z",
     "iopub.status.busy": "2024-08-01T16:44:19.797005Z",
     "iopub.status.idle": "2024-08-01T16:44:29.431630Z",
     "shell.execute_reply": "2024-08-01T16:44:29.430879Z",
     "shell.execute_reply.started": "2024-08-01T16:44:19.797525Z"
    }
   },
   "outputs": [
    {
     "data": {
      "text/html": [
       "<style>#sk-container-id-1 {\n",
       "  /* Definition of color scheme common for light and dark mode */\n",
       "  --sklearn-color-text: black;\n",
       "  --sklearn-color-line: gray;\n",
       "  /* Definition of color scheme for unfitted estimators */\n",
       "  --sklearn-color-unfitted-level-0: #fff5e6;\n",
       "  --sklearn-color-unfitted-level-1: #f6e4d2;\n",
       "  --sklearn-color-unfitted-level-2: #ffe0b3;\n",
       "  --sklearn-color-unfitted-level-3: chocolate;\n",
       "  /* Definition of color scheme for fitted estimators */\n",
       "  --sklearn-color-fitted-level-0: #f0f8ff;\n",
       "  --sklearn-color-fitted-level-1: #d4ebff;\n",
       "  --sklearn-color-fitted-level-2: #b3dbfd;\n",
       "  --sklearn-color-fitted-level-3: cornflowerblue;\n",
       "\n",
       "  /* Specific color for light theme */\n",
       "  --sklearn-color-text-on-default-background: var(--sg-text-color, var(--theme-code-foreground, var(--jp-content-font-color1, black)));\n",
       "  --sklearn-color-background: var(--sg-background-color, var(--theme-background, var(--jp-layout-color0, white)));\n",
       "  --sklearn-color-border-box: var(--sg-text-color, var(--theme-code-foreground, var(--jp-content-font-color1, black)));\n",
       "  --sklearn-color-icon: #696969;\n",
       "\n",
       "  @media (prefers-color-scheme: dark) {\n",
       "    /* Redefinition of color scheme for dark theme */\n",
       "    --sklearn-color-text-on-default-background: var(--sg-text-color, var(--theme-code-foreground, var(--jp-content-font-color1, white)));\n",
       "    --sklearn-color-background: var(--sg-background-color, var(--theme-background, var(--jp-layout-color0, #111)));\n",
       "    --sklearn-color-border-box: var(--sg-text-color, var(--theme-code-foreground, var(--jp-content-font-color1, white)));\n",
       "    --sklearn-color-icon: #878787;\n",
       "  }\n",
       "}\n",
       "\n",
       "#sk-container-id-1 {\n",
       "  color: var(--sklearn-color-text);\n",
       "}\n",
       "\n",
       "#sk-container-id-1 pre {\n",
       "  padding: 0;\n",
       "}\n",
       "\n",
       "#sk-container-id-1 input.sk-hidden--visually {\n",
       "  border: 0;\n",
       "  clip: rect(1px 1px 1px 1px);\n",
       "  clip: rect(1px, 1px, 1px, 1px);\n",
       "  height: 1px;\n",
       "  margin: -1px;\n",
       "  overflow: hidden;\n",
       "  padding: 0;\n",
       "  position: absolute;\n",
       "  width: 1px;\n",
       "}\n",
       "\n",
       "#sk-container-id-1 div.sk-dashed-wrapped {\n",
       "  border: 1px dashed var(--sklearn-color-line);\n",
       "  margin: 0 0.4em 0.5em 0.4em;\n",
       "  box-sizing: border-box;\n",
       "  padding-bottom: 0.4em;\n",
       "  background-color: var(--sklearn-color-background);\n",
       "}\n",
       "\n",
       "#sk-container-id-1 div.sk-container {\n",
       "  /* jupyter's `normalize.less` sets `[hidden] { display: none; }`\n",
       "     but bootstrap.min.css set `[hidden] { display: none !important; }`\n",
       "     so we also need the `!important` here to be able to override the\n",
       "     default hidden behavior on the sphinx rendered scikit-learn.org.\n",
       "     See: https://github.com/scikit-learn/scikit-learn/issues/21755 */\n",
       "  display: inline-block !important;\n",
       "  position: relative;\n",
       "}\n",
       "\n",
       "#sk-container-id-1 div.sk-text-repr-fallback {\n",
       "  display: none;\n",
       "}\n",
       "\n",
       "div.sk-parallel-item,\n",
       "div.sk-serial,\n",
       "div.sk-item {\n",
       "  /* draw centered vertical line to link estimators */\n",
       "  background-image: linear-gradient(var(--sklearn-color-text-on-default-background), var(--sklearn-color-text-on-default-background));\n",
       "  background-size: 2px 100%;\n",
       "  background-repeat: no-repeat;\n",
       "  background-position: center center;\n",
       "}\n",
       "\n",
       "/* Parallel-specific style estimator block */\n",
       "\n",
       "#sk-container-id-1 div.sk-parallel-item::after {\n",
       "  content: \"\";\n",
       "  width: 100%;\n",
       "  border-bottom: 2px solid var(--sklearn-color-text-on-default-background);\n",
       "  flex-grow: 1;\n",
       "}\n",
       "\n",
       "#sk-container-id-1 div.sk-parallel {\n",
       "  display: flex;\n",
       "  align-items: stretch;\n",
       "  justify-content: center;\n",
       "  background-color: var(--sklearn-color-background);\n",
       "  position: relative;\n",
       "}\n",
       "\n",
       "#sk-container-id-1 div.sk-parallel-item {\n",
       "  display: flex;\n",
       "  flex-direction: column;\n",
       "}\n",
       "\n",
       "#sk-container-id-1 div.sk-parallel-item:first-child::after {\n",
       "  align-self: flex-end;\n",
       "  width: 50%;\n",
       "}\n",
       "\n",
       "#sk-container-id-1 div.sk-parallel-item:last-child::after {\n",
       "  align-self: flex-start;\n",
       "  width: 50%;\n",
       "}\n",
       "\n",
       "#sk-container-id-1 div.sk-parallel-item:only-child::after {\n",
       "  width: 0;\n",
       "}\n",
       "\n",
       "/* Serial-specific style estimator block */\n",
       "\n",
       "#sk-container-id-1 div.sk-serial {\n",
       "  display: flex;\n",
       "  flex-direction: column;\n",
       "  align-items: center;\n",
       "  background-color: var(--sklearn-color-background);\n",
       "  padding-right: 1em;\n",
       "  padding-left: 1em;\n",
       "}\n",
       "\n",
       "\n",
       "/* Toggleable style: style used for estimator/Pipeline/ColumnTransformer box that is\n",
       "clickable and can be expanded/collapsed.\n",
       "- Pipeline and ColumnTransformer use this feature and define the default style\n",
       "- Estimators will overwrite some part of the style using the `sk-estimator` class\n",
       "*/\n",
       "\n",
       "/* Pipeline and ColumnTransformer style (default) */\n",
       "\n",
       "#sk-container-id-1 div.sk-toggleable {\n",
       "  /* Default theme specific background. It is overwritten whether we have a\n",
       "  specific estimator or a Pipeline/ColumnTransformer */\n",
       "  background-color: var(--sklearn-color-background);\n",
       "}\n",
       "\n",
       "/* Toggleable label */\n",
       "#sk-container-id-1 label.sk-toggleable__label {\n",
       "  cursor: pointer;\n",
       "  display: block;\n",
       "  width: 100%;\n",
       "  margin-bottom: 0;\n",
       "  padding: 0.5em;\n",
       "  box-sizing: border-box;\n",
       "  text-align: center;\n",
       "}\n",
       "\n",
       "#sk-container-id-1 label.sk-toggleable__label-arrow:before {\n",
       "  /* Arrow on the left of the label */\n",
       "  content: \"▸\";\n",
       "  float: left;\n",
       "  margin-right: 0.25em;\n",
       "  color: var(--sklearn-color-icon);\n",
       "}\n",
       "\n",
       "#sk-container-id-1 label.sk-toggleable__label-arrow:hover:before {\n",
       "  color: var(--sklearn-color-text);\n",
       "}\n",
       "\n",
       "/* Toggleable content - dropdown */\n",
       "\n",
       "#sk-container-id-1 div.sk-toggleable__content {\n",
       "  max-height: 0;\n",
       "  max-width: 0;\n",
       "  overflow: hidden;\n",
       "  text-align: left;\n",
       "  /* unfitted */\n",
       "  background-color: var(--sklearn-color-unfitted-level-0);\n",
       "}\n",
       "\n",
       "#sk-container-id-1 div.sk-toggleable__content.fitted {\n",
       "  /* fitted */\n",
       "  background-color: var(--sklearn-color-fitted-level-0);\n",
       "}\n",
       "\n",
       "#sk-container-id-1 div.sk-toggleable__content pre {\n",
       "  margin: 0.2em;\n",
       "  border-radius: 0.25em;\n",
       "  color: var(--sklearn-color-text);\n",
       "  /* unfitted */\n",
       "  background-color: var(--sklearn-color-unfitted-level-0);\n",
       "}\n",
       "\n",
       "#sk-container-id-1 div.sk-toggleable__content.fitted pre {\n",
       "  /* unfitted */\n",
       "  background-color: var(--sklearn-color-fitted-level-0);\n",
       "}\n",
       "\n",
       "#sk-container-id-1 input.sk-toggleable__control:checked~div.sk-toggleable__content {\n",
       "  /* Expand drop-down */\n",
       "  max-height: 200px;\n",
       "  max-width: 100%;\n",
       "  overflow: auto;\n",
       "}\n",
       "\n",
       "#sk-container-id-1 input.sk-toggleable__control:checked~label.sk-toggleable__label-arrow:before {\n",
       "  content: \"▾\";\n",
       "}\n",
       "\n",
       "/* Pipeline/ColumnTransformer-specific style */\n",
       "\n",
       "#sk-container-id-1 div.sk-label input.sk-toggleable__control:checked~label.sk-toggleable__label {\n",
       "  color: var(--sklearn-color-text);\n",
       "  background-color: var(--sklearn-color-unfitted-level-2);\n",
       "}\n",
       "\n",
       "#sk-container-id-1 div.sk-label.fitted input.sk-toggleable__control:checked~label.sk-toggleable__label {\n",
       "  background-color: var(--sklearn-color-fitted-level-2);\n",
       "}\n",
       "\n",
       "/* Estimator-specific style */\n",
       "\n",
       "/* Colorize estimator box */\n",
       "#sk-container-id-1 div.sk-estimator input.sk-toggleable__control:checked~label.sk-toggleable__label {\n",
       "  /* unfitted */\n",
       "  background-color: var(--sklearn-color-unfitted-level-2);\n",
       "}\n",
       "\n",
       "#sk-container-id-1 div.sk-estimator.fitted input.sk-toggleable__control:checked~label.sk-toggleable__label {\n",
       "  /* fitted */\n",
       "  background-color: var(--sklearn-color-fitted-level-2);\n",
       "}\n",
       "\n",
       "#sk-container-id-1 div.sk-label label.sk-toggleable__label,\n",
       "#sk-container-id-1 div.sk-label label {\n",
       "  /* The background is the default theme color */\n",
       "  color: var(--sklearn-color-text-on-default-background);\n",
       "}\n",
       "\n",
       "/* On hover, darken the color of the background */\n",
       "#sk-container-id-1 div.sk-label:hover label.sk-toggleable__label {\n",
       "  color: var(--sklearn-color-text);\n",
       "  background-color: var(--sklearn-color-unfitted-level-2);\n",
       "}\n",
       "\n",
       "/* Label box, darken color on hover, fitted */\n",
       "#sk-container-id-1 div.sk-label.fitted:hover label.sk-toggleable__label.fitted {\n",
       "  color: var(--sklearn-color-text);\n",
       "  background-color: var(--sklearn-color-fitted-level-2);\n",
       "}\n",
       "\n",
       "/* Estimator label */\n",
       "\n",
       "#sk-container-id-1 div.sk-label label {\n",
       "  font-family: monospace;\n",
       "  font-weight: bold;\n",
       "  display: inline-block;\n",
       "  line-height: 1.2em;\n",
       "}\n",
       "\n",
       "#sk-container-id-1 div.sk-label-container {\n",
       "  text-align: center;\n",
       "}\n",
       "\n",
       "/* Estimator-specific */\n",
       "#sk-container-id-1 div.sk-estimator {\n",
       "  font-family: monospace;\n",
       "  border: 1px dotted var(--sklearn-color-border-box);\n",
       "  border-radius: 0.25em;\n",
       "  box-sizing: border-box;\n",
       "  margin-bottom: 0.5em;\n",
       "  /* unfitted */\n",
       "  background-color: var(--sklearn-color-unfitted-level-0);\n",
       "}\n",
       "\n",
       "#sk-container-id-1 div.sk-estimator.fitted {\n",
       "  /* fitted */\n",
       "  background-color: var(--sklearn-color-fitted-level-0);\n",
       "}\n",
       "\n",
       "/* on hover */\n",
       "#sk-container-id-1 div.sk-estimator:hover {\n",
       "  /* unfitted */\n",
       "  background-color: var(--sklearn-color-unfitted-level-2);\n",
       "}\n",
       "\n",
       "#sk-container-id-1 div.sk-estimator.fitted:hover {\n",
       "  /* fitted */\n",
       "  background-color: var(--sklearn-color-fitted-level-2);\n",
       "}\n",
       "\n",
       "/* Specification for estimator info (e.g. \"i\" and \"?\") */\n",
       "\n",
       "/* Common style for \"i\" and \"?\" */\n",
       "\n",
       ".sk-estimator-doc-link,\n",
       "a:link.sk-estimator-doc-link,\n",
       "a:visited.sk-estimator-doc-link {\n",
       "  float: right;\n",
       "  font-size: smaller;\n",
       "  line-height: 1em;\n",
       "  font-family: monospace;\n",
       "  background-color: var(--sklearn-color-background);\n",
       "  border-radius: 1em;\n",
       "  height: 1em;\n",
       "  width: 1em;\n",
       "  text-decoration: none !important;\n",
       "  margin-left: 1ex;\n",
       "  /* unfitted */\n",
       "  border: var(--sklearn-color-unfitted-level-1) 1pt solid;\n",
       "  color: var(--sklearn-color-unfitted-level-1);\n",
       "}\n",
       "\n",
       ".sk-estimator-doc-link.fitted,\n",
       "a:link.sk-estimator-doc-link.fitted,\n",
       "a:visited.sk-estimator-doc-link.fitted {\n",
       "  /* fitted */\n",
       "  border: var(--sklearn-color-fitted-level-1) 1pt solid;\n",
       "  color: var(--sklearn-color-fitted-level-1);\n",
       "}\n",
       "\n",
       "/* On hover */\n",
       "div.sk-estimator:hover .sk-estimator-doc-link:hover,\n",
       ".sk-estimator-doc-link:hover,\n",
       "div.sk-label-container:hover .sk-estimator-doc-link:hover,\n",
       ".sk-estimator-doc-link:hover {\n",
       "  /* unfitted */\n",
       "  background-color: var(--sklearn-color-unfitted-level-3);\n",
       "  color: var(--sklearn-color-background);\n",
       "  text-decoration: none;\n",
       "}\n",
       "\n",
       "div.sk-estimator.fitted:hover .sk-estimator-doc-link.fitted:hover,\n",
       ".sk-estimator-doc-link.fitted:hover,\n",
       "div.sk-label-container:hover .sk-estimator-doc-link.fitted:hover,\n",
       ".sk-estimator-doc-link.fitted:hover {\n",
       "  /* fitted */\n",
       "  background-color: var(--sklearn-color-fitted-level-3);\n",
       "  color: var(--sklearn-color-background);\n",
       "  text-decoration: none;\n",
       "}\n",
       "\n",
       "/* Span, style for the box shown on hovering the info icon */\n",
       ".sk-estimator-doc-link span {\n",
       "  display: none;\n",
       "  z-index: 9999;\n",
       "  position: relative;\n",
       "  font-weight: normal;\n",
       "  right: .2ex;\n",
       "  padding: .5ex;\n",
       "  margin: .5ex;\n",
       "  width: min-content;\n",
       "  min-width: 20ex;\n",
       "  max-width: 50ex;\n",
       "  color: var(--sklearn-color-text);\n",
       "  box-shadow: 2pt 2pt 4pt #999;\n",
       "  /* unfitted */\n",
       "  background: var(--sklearn-color-unfitted-level-0);\n",
       "  border: .5pt solid var(--sklearn-color-unfitted-level-3);\n",
       "}\n",
       "\n",
       ".sk-estimator-doc-link.fitted span {\n",
       "  /* fitted */\n",
       "  background: var(--sklearn-color-fitted-level-0);\n",
       "  border: var(--sklearn-color-fitted-level-3);\n",
       "}\n",
       "\n",
       ".sk-estimator-doc-link:hover span {\n",
       "  display: block;\n",
       "}\n",
       "\n",
       "/* \"?\"-specific style due to the `<a>` HTML tag */\n",
       "\n",
       "#sk-container-id-1 a.estimator_doc_link {\n",
       "  float: right;\n",
       "  font-size: 1rem;\n",
       "  line-height: 1em;\n",
       "  font-family: monospace;\n",
       "  background-color: var(--sklearn-color-background);\n",
       "  border-radius: 1rem;\n",
       "  height: 1rem;\n",
       "  width: 1rem;\n",
       "  text-decoration: none;\n",
       "  /* unfitted */\n",
       "  color: var(--sklearn-color-unfitted-level-1);\n",
       "  border: var(--sklearn-color-unfitted-level-1) 1pt solid;\n",
       "}\n",
       "\n",
       "#sk-container-id-1 a.estimator_doc_link.fitted {\n",
       "  /* fitted */\n",
       "  border: var(--sklearn-color-fitted-level-1) 1pt solid;\n",
       "  color: var(--sklearn-color-fitted-level-1);\n",
       "}\n",
       "\n",
       "/* On hover */\n",
       "#sk-container-id-1 a.estimator_doc_link:hover {\n",
       "  /* unfitted */\n",
       "  background-color: var(--sklearn-color-unfitted-level-3);\n",
       "  color: var(--sklearn-color-background);\n",
       "  text-decoration: none;\n",
       "}\n",
       "\n",
       "#sk-container-id-1 a.estimator_doc_link.fitted:hover {\n",
       "  /* fitted */\n",
       "  background-color: var(--sklearn-color-fitted-level-3);\n",
       "}\n",
       "</style><div id=\"sk-container-id-1\" class=\"sk-top-container\"><div class=\"sk-text-repr-fallback\"><pre>GradientBoostingClassifier(max_depth=7, random_state=42)</pre><b>In a Jupyter environment, please rerun this cell to show the HTML representation or trust the notebook. <br />On GitHub, the HTML representation is unable to render, please try loading this page with nbviewer.org.</b></div><div class=\"sk-container\" hidden><div class=\"sk-item\"><div class=\"sk-estimator fitted sk-toggleable\"><input class=\"sk-toggleable__control sk-hidden--visually\" id=\"sk-estimator-id-1\" type=\"checkbox\" checked><label for=\"sk-estimator-id-1\" class=\"sk-toggleable__label fitted sk-toggleable__label-arrow fitted\">&nbsp;&nbsp;GradientBoostingClassifier<a class=\"sk-estimator-doc-link fitted\" rel=\"noreferrer\" target=\"_blank\" href=\"https://scikit-learn.org/1.4/modules/generated/sklearn.ensemble.GradientBoostingClassifier.html\">?<span>Documentation for GradientBoostingClassifier</span></a><span class=\"sk-estimator-doc-link fitted\">i<span>Fitted</span></span></label><div class=\"sk-toggleable__content fitted\"><pre>GradientBoostingClassifier(max_depth=7, random_state=42)</pre></div> </div></div></div></div>"
      ],
      "text/plain": [
       "GradientBoostingClassifier(max_depth=7, random_state=42)"
      ]
     },
     "execution_count": 21,
     "metadata": {},
     "output_type": "execute_result"
    }
   ],
   "source": [
    "clf.fit(X_train, y_train)"
   ]
  },
  {
   "cell_type": "markdown",
   "metadata": {},
   "source": [
    "# Predict"
   ]
  },
  {
   "cell_type": "code",
   "execution_count": 22,
   "metadata": {
    "execution": {
     "iopub.execute_input": "2024-08-01T16:44:31.877919Z",
     "iopub.status.busy": "2024-08-01T16:44:31.877544Z",
     "iopub.status.idle": "2024-08-01T16:44:31.889741Z",
     "shell.execute_reply": "2024-08-01T16:44:31.888915Z",
     "shell.execute_reply.started": "2024-08-01T16:44:31.877899Z"
    }
   },
   "outputs": [],
   "source": [
    "# y_pred = clf.predict([[2., 2.]])\n",
    "y_pred = clf.predict(X_test)"
   ]
  },
  {
   "cell_type": "code",
   "execution_count": 23,
   "metadata": {
    "execution": {
     "iopub.execute_input": "2024-08-01T16:44:32.498965Z",
     "iopub.status.busy": "2024-08-01T16:44:32.498049Z",
     "iopub.status.idle": "2024-08-01T16:44:32.522181Z",
     "shell.execute_reply": "2024-08-01T16:44:32.520769Z",
     "shell.execute_reply.started": "2024-08-01T16:44:32.498914Z"
    }
   },
   "outputs": [],
   "source": [
    "# y_pred_probs  = clf.predict_proba([[2., 2.]])\n",
    "y_pred_probs  = clf.predict_proba(X_test)"
   ]
  },
  {
   "cell_type": "markdown",
   "metadata": {
    "execution": {
     "iopub.execute_input": "2024-04-26T05:55:05.393764Z",
     "iopub.status.busy": "2024-04-26T05:55:05.392407Z",
     "iopub.status.idle": "2024-04-26T05:55:05.399824Z",
     "shell.execute_reply": "2024-04-26T05:55:05.398488Z",
     "shell.execute_reply.started": "2024-04-26T05:55:05.393682Z"
    }
   },
   "source": [
    "# Teste"
   ]
  },
  {
   "cell_type": "code",
   "execution_count": 24,
   "metadata": {
    "execution": {
     "iopub.execute_input": "2024-08-01T16:44:33.317666Z",
     "iopub.status.busy": "2024-08-01T16:44:33.316752Z",
     "iopub.status.idle": "2024-08-01T16:44:33.323492Z",
     "shell.execute_reply": "2024-08-01T16:44:33.321625Z",
     "shell.execute_reply.started": "2024-08-01T16:44:33.317624Z"
    }
   },
   "outputs": [],
   "source": [
    "classes = None # ['class 0', 'class 1']"
   ]
  },
  {
   "cell_type": "code",
   "execution_count": 25,
   "metadata": {
    "execution": {
     "iopub.execute_input": "2024-08-01T16:44:33.667929Z",
     "iopub.status.busy": "2024-08-01T16:44:33.667639Z",
     "iopub.status.idle": "2024-08-01T16:44:33.673537Z",
     "shell.execute_reply": "2024-08-01T16:44:33.672389Z",
     "shell.execute_reply.started": "2024-08-01T16:44:33.667909Z"
    }
   },
   "outputs": [],
   "source": [
    "accuracy = accuracy_score(y_test, y_pred)"
   ]
  },
  {
   "cell_type": "code",
   "execution_count": 26,
   "metadata": {
    "execution": {
     "iopub.execute_input": "2024-08-01T16:44:34.300498Z",
     "iopub.status.busy": "2024-08-01T16:44:34.299742Z",
     "iopub.status.idle": "2024-08-01T16:44:34.305973Z",
     "shell.execute_reply": "2024-08-01T16:44:34.304803Z",
     "shell.execute_reply.started": "2024-08-01T16:44:34.300461Z"
    }
   },
   "outputs": [
    {
     "name": "stdout",
     "output_type": "stream",
     "text": [
      "Acurácia: 0.92\n"
     ]
    }
   ],
   "source": [
    "print(f\"Acurácia: {accuracy:.2f}\")"
   ]
  },
  {
   "cell_type": "code",
   "execution_count": 27,
   "metadata": {
    "execution": {
     "iopub.execute_input": "2024-08-01T16:44:35.001564Z",
     "iopub.status.busy": "2024-08-01T16:44:35.000808Z",
     "iopub.status.idle": "2024-08-01T16:44:35.034428Z",
     "shell.execute_reply": "2024-08-01T16:44:35.033327Z",
     "shell.execute_reply.started": "2024-08-01T16:44:35.001509Z"
    }
   },
   "outputs": [],
   "source": [
    "results = classification_report(y_test,\n",
    "                                y_pred,\n",
    "                                target_names=classes)"
   ]
  },
  {
   "cell_type": "code",
   "execution_count": 28,
   "metadata": {
    "execution": {
     "iopub.execute_input": "2024-08-01T16:44:35.485647Z",
     "iopub.status.busy": "2024-08-01T16:44:35.484643Z",
     "iopub.status.idle": "2024-08-01T16:44:35.492477Z",
     "shell.execute_reply": "2024-08-01T16:44:35.491014Z",
     "shell.execute_reply.started": "2024-08-01T16:44:35.485583Z"
    },
    "scrolled": true
   },
   "outputs": [
    {
     "name": "stdout",
     "output_type": "stream",
     "text": [
      "              precision    recall  f1-score   support\n",
      "\n",
      "        -1.0       0.91      0.92      0.92      1214\n",
      "         1.0       0.92      0.91      0.91      1186\n",
      "\n",
      "    accuracy                           0.92      2400\n",
      "   macro avg       0.92      0.92      0.92      2400\n",
      "weighted avg       0.92      0.92      0.92      2400\n",
      "\n"
     ]
    }
   ],
   "source": [
    "print(results)"
   ]
  },
  {
   "cell_type": "markdown",
   "metadata": {},
   "source": [
    "# Teste de Validação Cruzada"
   ]
  },
  {
   "cell_type": "code",
   "execution_count": 29,
   "metadata": {
    "execution": {
     "iopub.execute_input": "2024-08-01T16:44:38.281484Z",
     "iopub.status.busy": "2024-08-01T16:44:38.280330Z",
     "iopub.status.idle": "2024-08-01T16:44:38.287894Z",
     "shell.execute_reply": "2024-08-01T16:44:38.286383Z",
     "shell.execute_reply.started": "2024-08-01T16:44:38.281416Z"
    }
   },
   "outputs": [],
   "source": [
    "metricas = {'acc': 'accuracy',\n",
    "            'recall': 'recall_macro',\n",
    "            'f1': 'f1_macro',\n",
    "           }"
   ]
  },
  {
   "cell_type": "code",
   "execution_count": 30,
   "metadata": {
    "execution": {
     "iopub.execute_input": "2024-08-01T16:44:38.449230Z",
     "iopub.status.busy": "2024-08-01T16:44:38.448444Z",
     "iopub.status.idle": "2024-08-01T16:45:24.053597Z",
     "shell.execute_reply": "2024-08-01T16:45:24.052956Z",
     "shell.execute_reply.started": "2024-08-01T16:44:38.449184Z"
    }
   },
   "outputs": [],
   "source": [
    "# Validação de Cruzada de 5 dobras\n",
    "k = 5  # Número de dobras\n",
    "cv_scores = model_selection.cross_validate(clf,\n",
    "                                            X,\n",
    "                                            y,\n",
    "                                            scoring=metricas,\n",
    "                                            cv=k)"
   ]
  },
  {
   "cell_type": "code",
   "execution_count": 31,
   "metadata": {
    "execution": {
     "iopub.execute_input": "2024-08-01T16:45:24.054923Z",
     "iopub.status.busy": "2024-08-01T16:45:24.054539Z",
     "iopub.status.idle": "2024-08-01T16:45:24.061397Z",
     "shell.execute_reply": "2024-08-01T16:45:24.060519Z",
     "shell.execute_reply.started": "2024-08-01T16:45:24.054895Z"
    }
   },
   "outputs": [
    {
     "data": {
      "text/plain": [
       "{'fit_time': array([9.27271676, 9.13639164, 9.20628691, 8.88342905, 9.02967525]),\n",
       " 'score_time': array([0.01160669, 0.01441741, 0.01254106, 0.01156592, 0.01129389]),\n",
       " 'test_acc': array([0.91375   , 0.91875   , 0.91958333, 0.90666667, 0.91875   ]),\n",
       " 'test_recall': array([0.91384672, 0.918808  , 0.91962678, 0.90670724, 0.91876672]),\n",
       " 'test_f1': array([0.91373908, 0.91874829, 0.91958298, 0.90666641, 0.91874987])}"
      ]
     },
     "execution_count": 31,
     "metadata": {},
     "output_type": "execute_result"
    }
   ],
   "source": [
    "cv_scores"
   ]
  },
  {
   "cell_type": "code",
   "execution_count": 32,
   "metadata": {
    "execution": {
     "iopub.execute_input": "2024-08-01T16:45:24.062766Z",
     "iopub.status.busy": "2024-08-01T16:45:24.062365Z",
     "iopub.status.idle": "2024-08-01T16:45:24.068164Z",
     "shell.execute_reply": "2024-08-01T16:45:24.067079Z",
     "shell.execute_reply.started": "2024-08-01T16:45:24.062736Z"
    }
   },
   "outputs": [],
   "source": [
    "mean_test_acc = np.mean(cv_scores['test_acc'])\n",
    "std_test_acc = np.std(cv_scores['test_acc'])"
   ]
  },
  {
   "cell_type": "code",
   "execution_count": 33,
   "metadata": {
    "execution": {
     "iopub.execute_input": "2024-08-01T16:45:24.070271Z",
     "iopub.status.busy": "2024-08-01T16:45:24.069937Z",
     "iopub.status.idle": "2024-08-01T16:45:24.075287Z",
     "shell.execute_reply": "2024-08-01T16:45:24.073760Z",
     "shell.execute_reply.started": "2024-08-01T16:45:24.070246Z"
    }
   },
   "outputs": [
    {
     "name": "stdout",
     "output_type": "stream",
     "text": [
      "Média de cross-validation para acc: 0.92\n",
      "Desvio-padrão de cross-validation para acc: 0.00\n"
     ]
    }
   ],
   "source": [
    "print(f\"Média de cross-validation para acc: {mean_test_acc:.2f}\")\n",
    "print(f\"Desvio-padrão de cross-validation para acc: {std_test_acc:.2f}\")"
   ]
  },
  {
   "cell_type": "markdown",
   "metadata": {},
   "source": [
    "# Matriz de Confusão"
   ]
  },
  {
   "cell_type": "code",
   "execution_count": 34,
   "metadata": {
    "execution": {
     "iopub.execute_input": "2024-08-01T16:45:24.076679Z",
     "iopub.status.busy": "2024-08-01T16:45:24.076365Z",
     "iopub.status.idle": "2024-08-01T16:45:24.081553Z",
     "shell.execute_reply": "2024-08-01T16:45:24.080560Z",
     "shell.execute_reply.started": "2024-08-01T16:45:24.076655Z"
    }
   },
   "outputs": [],
   "source": [
    "def plot_confusion_matrix(cm, classes):\n",
    "    plt.figure(figsize=(8, 6))\n",
    "    sns.heatmap(cm, annot=True, fmt='d', cmap='Blues', \n",
    "                xticklabels=classes, yticklabels=classes)\n",
    "    plt.title('Matriz de Confusão')\n",
    "    plt.xlabel('Rótulos Previstos')\n",
    "    plt.ylabel('Rótulos Verdadeiros')\n",
    "    plt.show()"
   ]
  },
  {
   "cell_type": "code",
   "execution_count": 35,
   "metadata": {
    "execution": {
     "iopub.execute_input": "2024-08-01T16:45:24.082894Z",
     "iopub.status.busy": "2024-08-01T16:45:24.082481Z",
     "iopub.status.idle": "2024-08-01T16:45:24.087997Z",
     "shell.execute_reply": "2024-08-01T16:45:24.087538Z",
     "shell.execute_reply.started": "2024-08-01T16:45:24.082867Z"
    }
   },
   "outputs": [],
   "source": [
    "conf_matrix = confusion_matrix(y_test, y_pred)"
   ]
  },
  {
   "cell_type": "code",
   "execution_count": 37,
   "metadata": {
    "execution": {
     "iopub.execute_input": "2024-08-01T16:45:43.396920Z",
     "iopub.status.busy": "2024-08-01T16:45:43.396246Z",
     "iopub.status.idle": "2024-08-01T16:45:43.652658Z",
     "shell.execute_reply": "2024-08-01T16:45:43.651972Z",
     "shell.execute_reply.started": "2024-08-01T16:45:43.396873Z"
    }
   },
   "outputs": [
    {
     "data": {
      "image/png": "[encoded data removed]",
      "text/plain": [
       "<Figure size 800x600 with 2 Axes>"
      ]
     },
     "metadata": {},
     "output_type": "display_data"
    }
   ],
   "source": [
    "plot_confusion_matrix(conf_matrix, classes=set(y))\n"
   ]
  },
  {
   "cell_type": "code",
   "execution_count": null,
   "metadata": {},
   "outputs": [],
   "source": []
  },
  {
   "cell_type": "code",
   "execution_count": null,
   "metadata": {},
   "outputs": [],
   "source": []
  }
 ],
 "metadata": {
  "kernelspec": {
   "display_name": "Python 3 (ipykernel)",
   "language": "python",
   "name": "python3"
  },
  "language_info": {
   "codemirror_mode": {
    "name": "ipython",
    "version": 3
   },
   "file_extension": ".py",
   "mimetype": "text/x-python",
   "name": "python",
   "nbconvert_exporter": "python",
   "pygments_lexer": "ipython3",
   "version": "3.11.2"
  }
 },
 "nbformat": 4,
 "nbformat_minor": 4
}
