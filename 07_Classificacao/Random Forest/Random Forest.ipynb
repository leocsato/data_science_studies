{
 "cells": [
  {
   "cell_type": "raw",
   "metadata": {},
   "source": [
    "Existe uma técnica chamada Random Forest (em inglês), onde multíplas árvores de decisão são construídas e elas \"votam\" para predizer a classificação final de inputs.  "
   ]
  },
  {
   "cell_type": "raw",
   "metadata": {},
   "source": [
    "As Random Forests são de fato um exemplo de bagging (Bootstrap Aggregating). O bagging é uma técnica de ensemble em que várias instâncias de um mesmo modelo são treinadas em diferentes subconjuntos aleatórios do conjunto de dados original, e as previsões são combinadas por votação (para classificação) ou média (para regressão).\n",
    "As Random Forests aplicam essa ideia ao usar uma coleção de árvores de decisão, treinadas em diferentes subconjuntos dos dados, e agregam suas previsões para melhorar a precisão e a robustez do modelo.\n",
    "\n",
    "No contexto de  Random Forests, o Bootstrap é utilizado para criar múltiplos conjuntos de dados de treinamento a partir do conjunto de dados original. Cada conjunto de dados de treinamento é gerado amostrando aleatoriamente observações do conjunto de dados original com substituição. Esses conjuntos de dados são então usados para treinar árvores de decisão individuais dentro da floresta.\n",
    "O processo específico é o seguinte:\n",
    "Amostragem com Substituição (Bootstrap): A partir do conjunto de dados original, várias amostras são criadas, cada uma contendo o mesmo número de observações, mas permitindo que algumas observações se repitam e outras não sejam incluídas.\n",
    "Treinamento de Árvores de Decisão: Para cada amostra bootstrap, uma árvore de decisão é treinada usando o conjunto de dados correspondente. Cada árvore é treinada de forma independente e pode usar diferentes subconjuntos de observações e atributos devido à natureza aleatória do processo de bootstrap e da seleção de atributos no Random Forest.\n",
    "Agregação de Previsões: Uma vez que todas as árvores foram treinadas, as previsões de cada árvore são combinadas para produzir uma previsão final. No caso de classificação, as previsões podem ser agregadas por votação da classe mais comum entre as árvores. Para regressão, as previsões podem ser agregadas por média.\n",
    "Ao utilizar o Bootstrap para criar conjuntos de dados de treinamento, a Random Forest consegue introduzir diversidade entre as árvores de decisão individuais, o que ajuda a reduzir o overfitting e a aumentar a precisão do modelo final."
   ]
  },
  {
   "cell_type": "code",
   "execution_count": 1,
   "metadata": {
    "execution": {
     "iopub.execute_input": "2024-08-01T16:59:54.286935Z",
     "iopub.status.busy": "2024-08-01T16:59:54.285939Z",
     "iopub.status.idle": "2024-08-01T16:59:55.813843Z",
     "shell.execute_reply": "2024-08-01T16:59:55.813391Z",
     "shell.execute_reply.started": "2024-08-01T16:59:54.286867Z"
    }
   },
   "outputs": [
    {
     "name": "stderr",
     "output_type": "stream",
     "text": [
      "/tmp/ipykernel_28285/3857481183.py:2: DeprecationWarning: \n",
      "Pyarrow will become a required dependency of pandas in the next major release of pandas (pandas 3.0),\n",
      "(to allow more performant data types, such as the Arrow string type, and better interoperability with other libraries)\n",
      "but was not found to be installed on your system.\n",
      "If this would cause problems for you,\n",
      "please provide us feedback at https://github.com/pandas-dev/pandas/issues/54466\n",
      "        \n",
      "  import pandas as pd\n"
     ]
    }
   ],
   "source": [
    "import numpy as np\n",
    "import pandas as pd\n",
    "import matplotlib.pyplot as plt\n",
    "import seaborn as sns\n",
    "from sklearn import model_selection\n",
    "from sklearn.ensemble import RandomForestClassifier\n",
    "from sklearn.datasets import make_classification\n",
    "from sklearn.metrics import (\n",
    "    accuracy_score, \n",
    "    classification_report, \n",
    "    confusion_matrix\n",
    ")"
   ]
  },
  {
   "cell_type": "code",
   "execution_count": 2,
   "metadata": {
    "execution": {
     "iopub.execute_input": "2024-08-01T16:59:55.814722Z",
     "iopub.status.busy": "2024-08-01T16:59:55.814416Z",
     "iopub.status.idle": "2024-08-01T16:59:55.817371Z",
     "shell.execute_reply": "2024-08-01T16:59:55.816743Z",
     "shell.execute_reply.started": "2024-08-01T16:59:55.814705Z"
    }
   },
   "outputs": [],
   "source": [
    "random_state = 42"
   ]
  },
  {
   "cell_type": "markdown",
   "metadata": {
    "jp-MarkdownHeadingCollapsed": true
   },
   "source": [
    "## Uso Simples"
   ]
  },
  {
   "cell_type": "code",
   "execution_count": 1,
   "metadata": {
    "execution": {
     "iopub.execute_input": "2024-04-26T05:56:17.975595Z",
     "iopub.status.busy": "2024-04-26T05:56:17.975046Z",
     "iopub.status.idle": "2024-04-26T05:56:18.790427Z",
     "shell.execute_reply": "2024-04-26T05:56:18.789075Z",
     "shell.execute_reply.started": "2024-04-26T05:56:17.975551Z"
    }
   },
   "outputs": [
    {
     "name": "stdout",
     "output_type": "stream",
     "text": [
      "[0.14205973 0.76664038 0.0282433  0.06305659]\n",
      "[1]\n"
     ]
    }
   ],
   "source": [
    "X, y = make_classification(n_samples=1000, n_features=4,\n",
    "                           n_informative=2, n_redundant=0,\n",
    "                           random_state=0, shuffle=False)\n",
    "\n",
    "\n",
    "clf = RandomForestClassifier(max_depth=2, random_state=0)\n",
    "clf.fit(X, y)\n",
    "\n",
    "\n",
    "print(clf.feature_importances_)\n",
    "\n",
    "print(clf.predict([[0, 0, 0, 0]]))"
   ]
  },
  {
   "cell_type": "markdown",
   "metadata": {},
   "source": [
    "# Database"
   ]
  },
  {
   "cell_type": "code",
   "execution_count": 3,
   "metadata": {
    "execution": {
     "iopub.execute_input": "2024-08-01T16:59:56.858546Z",
     "iopub.status.busy": "2024-08-01T16:59:56.858153Z",
     "iopub.status.idle": "2024-08-01T16:59:56.863938Z",
     "shell.execute_reply": "2024-08-01T16:59:56.863319Z",
     "shell.execute_reply.started": "2024-08-01T16:59:56.858519Z"
    }
   },
   "outputs": [],
   "source": [
    "# X = [[0, 0], [1, 1]]\n",
    "# Y = [0, 1]\n",
    "X, y = make_classification(n_samples=1000, n_features=4,\n",
    "                           n_informative=2, n_redundant=0,\n",
    "                           random_state=0, shuffle=False)"
   ]
  },
  {
   "cell_type": "code",
   "execution_count": 4,
   "metadata": {
    "execution": {
     "iopub.execute_input": "2024-08-01T16:59:57.033966Z",
     "iopub.status.busy": "2024-08-01T16:59:57.033014Z",
     "iopub.status.idle": "2024-08-01T16:59:57.040265Z",
     "shell.execute_reply": "2024-08-01T16:59:57.039116Z",
     "shell.execute_reply.started": "2024-08-01T16:59:57.033912Z"
    }
   },
   "outputs": [],
   "source": [
    "database_name = ''#'student-mat.csv'\n",
    "coluna_target = ''#'school'\n",
    "if database_name:\n",
    "    base = pd.read_csv(database_name, sep=';')\n",
    "    X = base.drop(columns=coluna_target)\n",
    "    y = base[[coluna_target]]"
   ]
  },
  {
   "cell_type": "markdown",
   "metadata": {},
   "source": [
    "# Dataprep"
   ]
  },
  {
   "cell_type": "code",
   "execution_count": 5,
   "metadata": {
    "execution": {
     "iopub.execute_input": "2024-08-01T16:59:58.175343Z",
     "iopub.status.busy": "2024-08-01T16:59:58.174679Z",
     "iopub.status.idle": "2024-08-01T16:59:58.181434Z",
     "shell.execute_reply": "2024-08-01T16:59:58.180059Z",
     "shell.execute_reply.started": "2024-08-01T16:59:58.175293Z"
    }
   },
   "outputs": [],
   "source": [
    "X_og = X.copy()"
   ]
  },
  {
   "cell_type": "markdown",
   "metadata": {},
   "source": [
    "# Mantendo apenas Variáveis Independentes Desejadas"
   ]
  },
  {
   "cell_type": "code",
   "execution_count": 6,
   "metadata": {
    "execution": {
     "iopub.execute_input": "2024-08-01T16:59:59.180704Z",
     "iopub.status.busy": "2024-08-01T16:59:59.180249Z",
     "iopub.status.idle": "2024-08-01T16:59:59.185433Z",
     "shell.execute_reply": "2024-08-01T16:59:59.184563Z",
     "shell.execute_reply.started": "2024-08-01T16:59:59.180661Z"
    }
   },
   "outputs": [],
   "source": [
    "accepted_features = [\n",
    "    # 'age',\n",
    "    # 'Medu',\n",
    "    # 'Fedu'\n",
    "]\n",
    "\n",
    "if accepted_features:\n",
    "    X = X[accepted_features]"
   ]
  },
  {
   "cell_type": "markdown",
   "metadata": {},
   "source": [
    "# Tratando Variáveis Categóricas"
   ]
  },
  {
   "cell_type": "code",
   "execution_count": 7,
   "metadata": {
    "execution": {
     "iopub.execute_input": "2024-08-01T17:00:00.022127Z",
     "iopub.status.busy": "2024-08-01T17:00:00.021444Z",
     "iopub.status.idle": "2024-08-01T17:00:00.027762Z",
     "shell.execute_reply": "2024-08-01T17:00:00.026990Z",
     "shell.execute_reply.started": "2024-08-01T17:00:00.022073Z"
    }
   },
   "outputs": [],
   "source": [
    "try:\n",
    "    num_features = X_og.describe().columns.tolist()\n",
    "except:\n",
    "    pass"
   ]
  },
  {
   "cell_type": "code",
   "execution_count": 8,
   "metadata": {
    "execution": {
     "iopub.execute_input": "2024-08-01T17:00:00.157752Z",
     "iopub.status.busy": "2024-08-01T17:00:00.157139Z",
     "iopub.status.idle": "2024-08-01T17:00:00.163897Z",
     "shell.execute_reply": "2024-08-01T17:00:00.162003Z",
     "shell.execute_reply.started": "2024-08-01T17:00:00.157703Z"
    }
   },
   "outputs": [],
   "source": [
    "try:\n",
    "    cat_features = X_og.drop(columns=num_features).columns.tolist()\n",
    "except:\n",
    "    pass"
   ]
  },
  {
   "cell_type": "code",
   "execution_count": 9,
   "metadata": {
    "execution": {
     "iopub.execute_input": "2024-08-01T17:00:00.303193Z",
     "iopub.status.busy": "2024-08-01T17:00:00.302825Z",
     "iopub.status.idle": "2024-08-01T17:00:00.307409Z",
     "shell.execute_reply": "2024-08-01T17:00:00.306328Z",
     "shell.execute_reply.started": "2024-08-01T17:00:00.303171Z"
    }
   },
   "outputs": [],
   "source": [
    "try:\n",
    "    # One-hot encoding\n",
    "    X = pd.get_dummies(X,\n",
    "                       columns=cat_features,\n",
    "                       drop_first=True)\n",
    "except:\n",
    "    pass"
   ]
  },
  {
   "cell_type": "markdown",
   "metadata": {},
   "source": [
    "# Tratando Missings e Outliers"
   ]
  },
  {
   "cell_type": "code",
   "execution_count": 10,
   "metadata": {
    "execution": {
     "iopub.execute_input": "2024-08-01T16:58:58.806307Z",
     "iopub.status.busy": "2024-08-01T16:58:58.805752Z",
     "iopub.status.idle": "2024-08-01T16:58:58.812627Z",
     "shell.execute_reply": "2024-08-01T16:58:58.810883Z",
     "shell.execute_reply.started": "2024-08-01T16:58:58.806266Z"
    }
   },
   "outputs": [],
   "source": [
    "#"
   ]
  },
  {
   "cell_type": "markdown",
   "metadata": {},
   "source": [
    "## Dividir Base de Treino"
   ]
  },
  {
   "cell_type": "code",
   "execution_count": 10,
   "metadata": {
    "execution": {
     "iopub.execute_input": "2024-08-01T17:00:02.147831Z",
     "iopub.status.busy": "2024-08-01T17:00:02.146538Z",
     "iopub.status.idle": "2024-08-01T17:00:02.152658Z",
     "shell.execute_reply": "2024-08-01T17:00:02.151445Z",
     "shell.execute_reply.started": "2024-08-01T17:00:02.147748Z"
    }
   },
   "outputs": [],
   "source": [
    "train_size = 0.8"
   ]
  },
  {
   "cell_type": "code",
   "execution_count": 11,
   "metadata": {
    "execution": {
     "iopub.execute_input": "2024-08-01T17:00:02.293101Z",
     "iopub.status.busy": "2024-08-01T17:00:02.292360Z",
     "iopub.status.idle": "2024-08-01T17:00:02.301605Z",
     "shell.execute_reply": "2024-08-01T17:00:02.300406Z",
     "shell.execute_reply.started": "2024-08-01T17:00:02.293035Z"
    }
   },
   "outputs": [],
   "source": [
    "X_train, X_test, y_train, y_test = model_selection.train_test_split(X,\n",
    "                                                                    y,\n",
    "                                                                    train_size=train_size,\n",
    "                                                                    random_state=random_state)"
   ]
  },
  {
   "cell_type": "markdown",
   "metadata": {},
   "source": [
    "# Inicializar Classificador"
   ]
  },
  {
   "cell_type": "code",
   "execution_count": 12,
   "metadata": {
    "execution": {
     "iopub.execute_input": "2024-08-01T17:00:03.730671Z",
     "iopub.status.busy": "2024-08-01T17:00:03.730010Z",
     "iopub.status.idle": "2024-08-01T17:00:03.736384Z",
     "shell.execute_reply": "2024-08-01T17:00:03.735215Z",
     "shell.execute_reply.started": "2024-08-01T17:00:03.730618Z"
    }
   },
   "outputs": [],
   "source": [
    "clf_dict = {\n",
    "    'max_depth': 7, # Profundidade Máxima da Árvore\n",
    "    #'min_samples_split': 2,  # Mínimo para haver split de nó\n",
    "    #'min_samples_leaf': 1,  # Mínimo para ser nó de decisão\n",
    "    #'random_state': random_state,\n",
    "    # 'n_neighbors': 3,\n",
    "}"
   ]
  },
  {
   "cell_type": "code",
   "execution_count": 13,
   "metadata": {
    "execution": {
     "iopub.execute_input": "2024-08-01T17:00:04.261077Z",
     "iopub.status.busy": "2024-08-01T17:00:04.259880Z",
     "iopub.status.idle": "2024-08-01T17:00:04.266125Z",
     "shell.execute_reply": "2024-08-01T17:00:04.264622Z",
     "shell.execute_reply.started": "2024-08-01T17:00:04.261018Z"
    }
   },
   "outputs": [],
   "source": [
    "clf = RandomForestClassifier(**clf_dict)"
   ]
  },
  {
   "cell_type": "markdown",
   "metadata": {},
   "source": [
    "# Train"
   ]
  },
  {
   "cell_type": "code",
   "execution_count": 14,
   "metadata": {
    "execution": {
     "iopub.execute_input": "2024-08-01T17:00:05.462383Z",
     "iopub.status.busy": "2024-08-01T17:00:05.461645Z",
     "iopub.status.idle": "2024-08-01T17:00:05.718794Z",
     "shell.execute_reply": "2024-08-01T17:00:05.718128Z",
     "shell.execute_reply.started": "2024-08-01T17:00:05.462328Z"
    }
   },
   "outputs": [
    {
     "data": {
      "text/html": [
       "<style>#sk-container-id-1 {\n",
       "  /* Definition of color scheme common for light and dark mode */\n",
       "  --sklearn-color-text: black;\n",
       "  --sklearn-color-line: gray;\n",
       "  /* Definition of color scheme for unfitted estimators */\n",
       "  --sklearn-color-unfitted-level-0: #fff5e6;\n",
       "  --sklearn-color-unfitted-level-1: #f6e4d2;\n",
       "  --sklearn-color-unfitted-level-2: #ffe0b3;\n",
       "  --sklearn-color-unfitted-level-3: chocolate;\n",
       "  /* Definition of color scheme for fitted estimators */\n",
       "  --sklearn-color-fitted-level-0: #f0f8ff;\n",
       "  --sklearn-color-fitted-level-1: #d4ebff;\n",
       "  --sklearn-color-fitted-level-2: #b3dbfd;\n",
       "  --sklearn-color-fitted-level-3: cornflowerblue;\n",
       "\n",
       "  /* Specific color for light theme */\n",
       "  --sklearn-color-text-on-default-background: var(--sg-text-color, var(--theme-code-foreground, var(--jp-content-font-color1, black)));\n",
       "  --sklearn-color-background: var(--sg-background-color, var(--theme-background, var(--jp-layout-color0, white)));\n",
       "  --sklearn-color-border-box: var(--sg-text-color, var(--theme-code-foreground, var(--jp-content-font-color1, black)));\n",
       "  --sklearn-color-icon: #696969;\n",
       "\n",
       "  @media (prefers-color-scheme: dark) {\n",
       "    /* Redefinition of color scheme for dark theme */\n",
       "    --sklearn-color-text-on-default-background: var(--sg-text-color, var(--theme-code-foreground, var(--jp-content-font-color1, white)));\n",
       "    --sklearn-color-background: var(--sg-background-color, var(--theme-background, var(--jp-layout-color0, #111)));\n",
       "    --sklearn-color-border-box: var(--sg-text-color, var(--theme-code-foreground, var(--jp-content-font-color1, white)));\n",
       "    --sklearn-color-icon: #878787;\n",
       "  }\n",
       "}\n",
       "\n",
       "#sk-container-id-1 {\n",
       "  color: var(--sklearn-color-text);\n",
       "}\n",
       "\n",
       "#sk-container-id-1 pre {\n",
       "  padding: 0;\n",
       "}\n",
       "\n",
       "#sk-container-id-1 input.sk-hidden--visually {\n",
       "  border: 0;\n",
       "  clip: rect(1px 1px 1px 1px);\n",
       "  clip: rect(1px, 1px, 1px, 1px);\n",
       "  height: 1px;\n",
       "  margin: -1px;\n",
       "  overflow: hidden;\n",
       "  padding: 0;\n",
       "  position: absolute;\n",
       "  width: 1px;\n",
       "}\n",
       "\n",
       "#sk-container-id-1 div.sk-dashed-wrapped {\n",
       "  border: 1px dashed var(--sklearn-color-line);\n",
       "  margin: 0 0.4em 0.5em 0.4em;\n",
       "  box-sizing: border-box;\n",
       "  padding-bottom: 0.4em;\n",
       "  background-color: var(--sklearn-color-background);\n",
       "}\n",
       "\n",
       "#sk-container-id-1 div.sk-container {\n",
       "  /* jupyter's `normalize.less` sets `[hidden] { display: none; }`\n",
       "     but bootstrap.min.css set `[hidden] { display: none !important; }`\n",
       "     so we also need the `!important` here to be able to override the\n",
       "     default hidden behavior on the sphinx rendered scikit-learn.org.\n",
       "     See: https://github.com/scikit-learn/scikit-learn/issues/21755 */\n",
       "  display: inline-block !important;\n",
       "  position: relative;\n",
       "}\n",
       "\n",
       "#sk-container-id-1 div.sk-text-repr-fallback {\n",
       "  display: none;\n",
       "}\n",
       "\n",
       "div.sk-parallel-item,\n",
       "div.sk-serial,\n",
       "div.sk-item {\n",
       "  /* draw centered vertical line to link estimators */\n",
       "  background-image: linear-gradient(var(--sklearn-color-text-on-default-background), var(--sklearn-color-text-on-default-background));\n",
       "  background-size: 2px 100%;\n",
       "  background-repeat: no-repeat;\n",
       "  background-position: center center;\n",
       "}\n",
       "\n",
       "/* Parallel-specific style estimator block */\n",
       "\n",
       "#sk-container-id-1 div.sk-parallel-item::after {\n",
       "  content: \"\";\n",
       "  width: 100%;\n",
       "  border-bottom: 2px solid var(--sklearn-color-text-on-default-background);\n",
       "  flex-grow: 1;\n",
       "}\n",
       "\n",
       "#sk-container-id-1 div.sk-parallel {\n",
       "  display: flex;\n",
       "  align-items: stretch;\n",
       "  justify-content: center;\n",
       "  background-color: var(--sklearn-color-background);\n",
       "  position: relative;\n",
       "}\n",
       "\n",
       "#sk-container-id-1 div.sk-parallel-item {\n",
       "  display: flex;\n",
       "  flex-direction: column;\n",
       "}\n",
       "\n",
       "#sk-container-id-1 div.sk-parallel-item:first-child::after {\n",
       "  align-self: flex-end;\n",
       "  width: 50%;\n",
       "}\n",
       "\n",
       "#sk-container-id-1 div.sk-parallel-item:last-child::after {\n",
       "  align-self: flex-start;\n",
       "  width: 50%;\n",
       "}\n",
       "\n",
       "#sk-container-id-1 div.sk-parallel-item:only-child::after {\n",
       "  width: 0;\n",
       "}\n",
       "\n",
       "/* Serial-specific style estimator block */\n",
       "\n",
       "#sk-container-id-1 div.sk-serial {\n",
       "  display: flex;\n",
       "  flex-direction: column;\n",
       "  align-items: center;\n",
       "  background-color: var(--sklearn-color-background);\n",
       "  padding-right: 1em;\n",
       "  padding-left: 1em;\n",
       "}\n",
       "\n",
       "\n",
       "/* Toggleable style: style used for estimator/Pipeline/ColumnTransformer box that is\n",
       "clickable and can be expanded/collapsed.\n",
       "- Pipeline and ColumnTransformer use this feature and define the default style\n",
       "- Estimators will overwrite some part of the style using the `sk-estimator` class\n",
       "*/\n",
       "\n",
       "/* Pipeline and ColumnTransformer style (default) */\n",
       "\n",
       "#sk-container-id-1 div.sk-toggleable {\n",
       "  /* Default theme specific background. It is overwritten whether we have a\n",
       "  specific estimator or a Pipeline/ColumnTransformer */\n",
       "  background-color: var(--sklearn-color-background);\n",
       "}\n",
       "\n",
       "/* Toggleable label */\n",
       "#sk-container-id-1 label.sk-toggleable__label {\n",
       "  cursor: pointer;\n",
       "  display: block;\n",
       "  width: 100%;\n",
       "  margin-bottom: 0;\n",
       "  padding: 0.5em;\n",
       "  box-sizing: border-box;\n",
       "  text-align: center;\n",
       "}\n",
       "\n",
       "#sk-container-id-1 label.sk-toggleable__label-arrow:before {\n",
       "  /* Arrow on the left of the label */\n",
       "  content: \"▸\";\n",
       "  float: left;\n",
       "  margin-right: 0.25em;\n",
       "  color: var(--sklearn-color-icon);\n",
       "}\n",
       "\n",
       "#sk-container-id-1 label.sk-toggleable__label-arrow:hover:before {\n",
       "  color: var(--sklearn-color-text);\n",
       "}\n",
       "\n",
       "/* Toggleable content - dropdown */\n",
       "\n",
       "#sk-container-id-1 div.sk-toggleable__content {\n",
       "  max-height: 0;\n",
       "  max-width: 0;\n",
       "  overflow: hidden;\n",
       "  text-align: left;\n",
       "  /* unfitted */\n",
       "  background-color: var(--sklearn-color-unfitted-level-0);\n",
       "}\n",
       "\n",
       "#sk-container-id-1 div.sk-toggleable__content.fitted {\n",
       "  /* fitted */\n",
       "  background-color: var(--sklearn-color-fitted-level-0);\n",
       "}\n",
       "\n",
       "#sk-container-id-1 div.sk-toggleable__content pre {\n",
       "  margin: 0.2em;\n",
       "  border-radius: 0.25em;\n",
       "  color: var(--sklearn-color-text);\n",
       "  /* unfitted */\n",
       "  background-color: var(--sklearn-color-unfitted-level-0);\n",
       "}\n",
       "\n",
       "#sk-container-id-1 div.sk-toggleable__content.fitted pre {\n",
       "  /* unfitted */\n",
       "  background-color: var(--sklearn-color-fitted-level-0);\n",
       "}\n",
       "\n",
       "#sk-container-id-1 input.sk-toggleable__control:checked~div.sk-toggleable__content {\n",
       "  /* Expand drop-down */\n",
       "  max-height: 200px;\n",
       "  max-width: 100%;\n",
       "  overflow: auto;\n",
       "}\n",
       "\n",
       "#sk-container-id-1 input.sk-toggleable__control:checked~label.sk-toggleable__label-arrow:before {\n",
       "  content: \"▾\";\n",
       "}\n",
       "\n",
       "/* Pipeline/ColumnTransformer-specific style */\n",
       "\n",
       "#sk-container-id-1 div.sk-label input.sk-toggleable__control:checked~label.sk-toggleable__label {\n",
       "  color: var(--sklearn-color-text);\n",
       "  background-color: var(--sklearn-color-unfitted-level-2);\n",
       "}\n",
       "\n",
       "#sk-container-id-1 div.sk-label.fitted input.sk-toggleable__control:checked~label.sk-toggleable__label {\n",
       "  background-color: var(--sklearn-color-fitted-level-2);\n",
       "}\n",
       "\n",
       "/* Estimator-specific style */\n",
       "\n",
       "/* Colorize estimator box */\n",
       "#sk-container-id-1 div.sk-estimator input.sk-toggleable__control:checked~label.sk-toggleable__label {\n",
       "  /* unfitted */\n",
       "  background-color: var(--sklearn-color-unfitted-level-2);\n",
       "}\n",
       "\n",
       "#sk-container-id-1 div.sk-estimator.fitted input.sk-toggleable__control:checked~label.sk-toggleable__label {\n",
       "  /* fitted */\n",
       "  background-color: var(--sklearn-color-fitted-level-2);\n",
       "}\n",
       "\n",
       "#sk-container-id-1 div.sk-label label.sk-toggleable__label,\n",
       "#sk-container-id-1 div.sk-label label {\n",
       "  /* The background is the default theme color */\n",
       "  color: var(--sklearn-color-text-on-default-background);\n",
       "}\n",
       "\n",
       "/* On hover, darken the color of the background */\n",
       "#sk-container-id-1 div.sk-label:hover label.sk-toggleable__label {\n",
       "  color: var(--sklearn-color-text);\n",
       "  background-color: var(--sklearn-color-unfitted-level-2);\n",
       "}\n",
       "\n",
       "/* Label box, darken color on hover, fitted */\n",
       "#sk-container-id-1 div.sk-label.fitted:hover label.sk-toggleable__label.fitted {\n",
       "  color: var(--sklearn-color-text);\n",
       "  background-color: var(--sklearn-color-fitted-level-2);\n",
       "}\n",
       "\n",
       "/* Estimator label */\n",
       "\n",
       "#sk-container-id-1 div.sk-label label {\n",
       "  font-family: monospace;\n",
       "  font-weight: bold;\n",
       "  display: inline-block;\n",
       "  line-height: 1.2em;\n",
       "}\n",
       "\n",
       "#sk-container-id-1 div.sk-label-container {\n",
       "  text-align: center;\n",
       "}\n",
       "\n",
       "/* Estimator-specific */\n",
       "#sk-container-id-1 div.sk-estimator {\n",
       "  font-family: monospace;\n",
       "  border: 1px dotted var(--sklearn-color-border-box);\n",
       "  border-radius: 0.25em;\n",
       "  box-sizing: border-box;\n",
       "  margin-bottom: 0.5em;\n",
       "  /* unfitted */\n",
       "  background-color: var(--sklearn-color-unfitted-level-0);\n",
       "}\n",
       "\n",
       "#sk-container-id-1 div.sk-estimator.fitted {\n",
       "  /* fitted */\n",
       "  background-color: var(--sklearn-color-fitted-level-0);\n",
       "}\n",
       "\n",
       "/* on hover */\n",
       "#sk-container-id-1 div.sk-estimator:hover {\n",
       "  /* unfitted */\n",
       "  background-color: var(--sklearn-color-unfitted-level-2);\n",
       "}\n",
       "\n",
       "#sk-container-id-1 div.sk-estimator.fitted:hover {\n",
       "  /* fitted */\n",
       "  background-color: var(--sklearn-color-fitted-level-2);\n",
       "}\n",
       "\n",
       "/* Specification for estimator info (e.g. \"i\" and \"?\") */\n",
       "\n",
       "/* Common style for \"i\" and \"?\" */\n",
       "\n",
       ".sk-estimator-doc-link,\n",
       "a:link.sk-estimator-doc-link,\n",
       "a:visited.sk-estimator-doc-link {\n",
       "  float: right;\n",
       "  font-size: smaller;\n",
       "  line-height: 1em;\n",
       "  font-family: monospace;\n",
       "  background-color: var(--sklearn-color-background);\n",
       "  border-radius: 1em;\n",
       "  height: 1em;\n",
       "  width: 1em;\n",
       "  text-decoration: none !important;\n",
       "  margin-left: 1ex;\n",
       "  /* unfitted */\n",
       "  border: var(--sklearn-color-unfitted-level-1) 1pt solid;\n",
       "  color: var(--sklearn-color-unfitted-level-1);\n",
       "}\n",
       "\n",
       ".sk-estimator-doc-link.fitted,\n",
       "a:link.sk-estimator-doc-link.fitted,\n",
       "a:visited.sk-estimator-doc-link.fitted {\n",
       "  /* fitted */\n",
       "  border: var(--sklearn-color-fitted-level-1) 1pt solid;\n",
       "  color: var(--sklearn-color-fitted-level-1);\n",
       "}\n",
       "\n",
       "/* On hover */\n",
       "div.sk-estimator:hover .sk-estimator-doc-link:hover,\n",
       ".sk-estimator-doc-link:hover,\n",
       "div.sk-label-container:hover .sk-estimator-doc-link:hover,\n",
       ".sk-estimator-doc-link:hover {\n",
       "  /* unfitted */\n",
       "  background-color: var(--sklearn-color-unfitted-level-3);\n",
       "  color: var(--sklearn-color-background);\n",
       "  text-decoration: none;\n",
       "}\n",
       "\n",
       "div.sk-estimator.fitted:hover .sk-estimator-doc-link.fitted:hover,\n",
       ".sk-estimator-doc-link.fitted:hover,\n",
       "div.sk-label-container:hover .sk-estimator-doc-link.fitted:hover,\n",
       ".sk-estimator-doc-link.fitted:hover {\n",
       "  /* fitted */\n",
       "  background-color: var(--sklearn-color-fitted-level-3);\n",
       "  color: var(--sklearn-color-background);\n",
       "  text-decoration: none;\n",
       "}\n",
       "\n",
       "/* Span, style for the box shown on hovering the info icon */\n",
       ".sk-estimator-doc-link span {\n",
       "  display: none;\n",
       "  z-index: 9999;\n",
       "  position: relative;\n",
       "  font-weight: normal;\n",
       "  right: .2ex;\n",
       "  padding: .5ex;\n",
       "  margin: .5ex;\n",
       "  width: min-content;\n",
       "  min-width: 20ex;\n",
       "  max-width: 50ex;\n",
       "  color: var(--sklearn-color-text);\n",
       "  box-shadow: 2pt 2pt 4pt #999;\n",
       "  /* unfitted */\n",
       "  background: var(--sklearn-color-unfitted-level-0);\n",
       "  border: .5pt solid var(--sklearn-color-unfitted-level-3);\n",
       "}\n",
       "\n",
       ".sk-estimator-doc-link.fitted span {\n",
       "  /* fitted */\n",
       "  background: var(--sklearn-color-fitted-level-0);\n",
       "  border: var(--sklearn-color-fitted-level-3);\n",
       "}\n",
       "\n",
       ".sk-estimator-doc-link:hover span {\n",
       "  display: block;\n",
       "}\n",
       "\n",
       "/* \"?\"-specific style due to the `<a>` HTML tag */\n",
       "\n",
       "#sk-container-id-1 a.estimator_doc_link {\n",
       "  float: right;\n",
       "  font-size: 1rem;\n",
       "  line-height: 1em;\n",
       "  font-family: monospace;\n",
       "  background-color: var(--sklearn-color-background);\n",
       "  border-radius: 1rem;\n",
       "  height: 1rem;\n",
       "  width: 1rem;\n",
       "  text-decoration: none;\n",
       "  /* unfitted */\n",
       "  color: var(--sklearn-color-unfitted-level-1);\n",
       "  border: var(--sklearn-color-unfitted-level-1) 1pt solid;\n",
       "}\n",
       "\n",
       "#sk-container-id-1 a.estimator_doc_link.fitted {\n",
       "  /* fitted */\n",
       "  border: var(--sklearn-color-fitted-level-1) 1pt solid;\n",
       "  color: var(--sklearn-color-fitted-level-1);\n",
       "}\n",
       "\n",
       "/* On hover */\n",
       "#sk-container-id-1 a.estimator_doc_link:hover {\n",
       "  /* unfitted */\n",
       "  background-color: var(--sklearn-color-unfitted-level-3);\n",
       "  color: var(--sklearn-color-background);\n",
       "  text-decoration: none;\n",
       "}\n",
       "\n",
       "#sk-container-id-1 a.estimator_doc_link.fitted:hover {\n",
       "  /* fitted */\n",
       "  background-color: var(--sklearn-color-fitted-level-3);\n",
       "}\n",
       "</style><div id=\"sk-container-id-1\" class=\"sk-top-container\"><div class=\"sk-text-repr-fallback\"><pre>RandomForestClassifier(max_depth=7)</pre><b>In a Jupyter environment, please rerun this cell to show the HTML representation or trust the notebook. <br />On GitHub, the HTML representation is unable to render, please try loading this page with nbviewer.org.</b></div><div class=\"sk-container\" hidden><div class=\"sk-item\"><div class=\"sk-estimator fitted sk-toggleable\"><input class=\"sk-toggleable__control sk-hidden--visually\" id=\"sk-estimator-id-1\" type=\"checkbox\" checked><label for=\"sk-estimator-id-1\" class=\"sk-toggleable__label fitted sk-toggleable__label-arrow fitted\">&nbsp;&nbsp;RandomForestClassifier<a class=\"sk-estimator-doc-link fitted\" rel=\"noreferrer\" target=\"_blank\" href=\"https://scikit-learn.org/1.4/modules/generated/sklearn.ensemble.RandomForestClassifier.html\">?<span>Documentation for RandomForestClassifier</span></a><span class=\"sk-estimator-doc-link fitted\">i<span>Fitted</span></span></label><div class=\"sk-toggleable__content fitted\"><pre>RandomForestClassifier(max_depth=7)</pre></div> </div></div></div></div>"
      ],
      "text/plain": [
       "RandomForestClassifier(max_depth=7)"
      ]
     },
     "execution_count": 14,
     "metadata": {},
     "output_type": "execute_result"
    }
   ],
   "source": [
    "clf.fit(X_train, y_train)"
   ]
  },
  {
   "cell_type": "code",
   "execution_count": 15,
   "metadata": {
    "execution": {
     "iopub.execute_input": "2024-08-01T17:00:06.110509Z",
     "iopub.status.busy": "2024-08-01T17:00:06.110239Z",
     "iopub.status.idle": "2024-08-01T17:00:06.121665Z",
     "shell.execute_reply": "2024-08-01T17:00:06.120597Z",
     "shell.execute_reply.started": "2024-08-01T17:00:06.110490Z"
    }
   },
   "outputs": [
    {
     "name": "stdout",
     "output_type": "stream",
     "text": [
      "[0.07194047 0.86234249 0.03190576 0.03381127]\n"
     ]
    }
   ],
   "source": [
    "print(clf.feature_importances_)"
   ]
  },
  {
   "cell_type": "markdown",
   "metadata": {},
   "source": [
    "# Predict"
   ]
  },
  {
   "cell_type": "code",
   "execution_count": 16,
   "metadata": {
    "execution": {
     "iopub.execute_input": "2024-08-01T17:00:09.464347Z",
     "iopub.status.busy": "2024-08-01T17:00:09.463690Z",
     "iopub.status.idle": "2024-08-01T17:00:09.483498Z",
     "shell.execute_reply": "2024-08-01T17:00:09.482165Z",
     "shell.execute_reply.started": "2024-08-01T17:00:09.464305Z"
    }
   },
   "outputs": [],
   "source": [
    "# y_pred = clf.predict([[2., 2.]])\n",
    "y_pred = clf.predict(X_test)"
   ]
  },
  {
   "cell_type": "code",
   "execution_count": 17,
   "metadata": {
    "execution": {
     "iopub.execute_input": "2024-08-01T17:00:11.013246Z",
     "iopub.status.busy": "2024-08-01T17:00:11.012637Z",
     "iopub.status.idle": "2024-08-01T17:00:11.032445Z",
     "shell.execute_reply": "2024-08-01T17:00:11.031165Z",
     "shell.execute_reply.started": "2024-08-01T17:00:11.013200Z"
    }
   },
   "outputs": [],
   "source": [
    "# y_pred_probs  = clf.predict_proba([[2., 2.]])\n",
    "y_pred_probs  = clf.predict_proba(X_test)"
   ]
  },
  {
   "cell_type": "markdown",
   "metadata": {
    "execution": {
     "iopub.execute_input": "2024-04-26T05:55:05.393764Z",
     "iopub.status.busy": "2024-04-26T05:55:05.392407Z",
     "iopub.status.idle": "2024-04-26T05:55:05.399824Z",
     "shell.execute_reply": "2024-04-26T05:55:05.398488Z",
     "shell.execute_reply.started": "2024-04-26T05:55:05.393682Z"
    }
   },
   "source": [
    "# Teste"
   ]
  },
  {
   "cell_type": "code",
   "execution_count": 18,
   "metadata": {
    "execution": {
     "iopub.execute_input": "2024-08-01T17:00:12.013889Z",
     "iopub.status.busy": "2024-08-01T17:00:12.013269Z",
     "iopub.status.idle": "2024-08-01T17:00:12.018878Z",
     "shell.execute_reply": "2024-08-01T17:00:12.017997Z",
     "shell.execute_reply.started": "2024-08-01T17:00:12.013848Z"
    }
   },
   "outputs": [],
   "source": [
    "classes = None # ['class 0', 'class 1']"
   ]
  },
  {
   "cell_type": "code",
   "execution_count": 19,
   "metadata": {
    "execution": {
     "iopub.execute_input": "2024-08-01T17:00:12.455148Z",
     "iopub.status.busy": "2024-08-01T17:00:12.454803Z",
     "iopub.status.idle": "2024-08-01T17:00:12.459615Z",
     "shell.execute_reply": "2024-08-01T17:00:12.458829Z",
     "shell.execute_reply.started": "2024-08-01T17:00:12.455124Z"
    }
   },
   "outputs": [],
   "source": [
    "accuracy = accuracy_score(y_test, y_pred)"
   ]
  },
  {
   "cell_type": "code",
   "execution_count": 20,
   "metadata": {
    "execution": {
     "iopub.execute_input": "2024-08-01T17:00:13.144130Z",
     "iopub.status.busy": "2024-08-01T17:00:13.143621Z",
     "iopub.status.idle": "2024-08-01T17:00:13.149123Z",
     "shell.execute_reply": "2024-08-01T17:00:13.148117Z",
     "shell.execute_reply.started": "2024-08-01T17:00:13.144094Z"
    }
   },
   "outputs": [
    {
     "name": "stdout",
     "output_type": "stream",
     "text": [
      "Acurácia: 0.94\n"
     ]
    }
   ],
   "source": [
    "print(f\"Acurácia: {accuracy:.2f}\")"
   ]
  },
  {
   "cell_type": "code",
   "execution_count": 21,
   "metadata": {
    "execution": {
     "iopub.execute_input": "2024-08-01T17:00:13.811714Z",
     "iopub.status.busy": "2024-08-01T17:00:13.811076Z",
     "iopub.status.idle": "2024-08-01T17:00:13.836051Z",
     "shell.execute_reply": "2024-08-01T17:00:13.834867Z",
     "shell.execute_reply.started": "2024-08-01T17:00:13.811665Z"
    }
   },
   "outputs": [],
   "source": [
    "results = classification_report(y_test,\n",
    "                                y_pred,\n",
    "                                target_names=classes)"
   ]
  },
  {
   "cell_type": "code",
   "execution_count": 22,
   "metadata": {
    "execution": {
     "iopub.execute_input": "2024-08-01T17:00:14.143748Z",
     "iopub.status.busy": "2024-08-01T17:00:14.142520Z",
     "iopub.status.idle": "2024-08-01T17:00:14.150811Z",
     "shell.execute_reply": "2024-08-01T17:00:14.148954Z",
     "shell.execute_reply.started": "2024-08-01T17:00:14.143681Z"
    },
    "scrolled": true
   },
   "outputs": [
    {
     "name": "stdout",
     "output_type": "stream",
     "text": [
      "              precision    recall  f1-score   support\n",
      "\n",
      "           0       0.95      0.92      0.93        99\n",
      "           1       0.92      0.95      0.94       101\n",
      "\n",
      "    accuracy                           0.94       200\n",
      "   macro avg       0.94      0.93      0.93       200\n",
      "weighted avg       0.94      0.94      0.93       200\n",
      "\n"
     ]
    }
   ],
   "source": [
    "print(results)"
   ]
  },
  {
   "cell_type": "markdown",
   "metadata": {},
   "source": [
    "# Teste de Validação Cruzada"
   ]
  },
  {
   "cell_type": "code",
   "execution_count": 23,
   "metadata": {
    "execution": {
     "iopub.execute_input": "2024-08-01T17:00:15.854574Z",
     "iopub.status.busy": "2024-08-01T17:00:15.853421Z",
     "iopub.status.idle": "2024-08-01T17:00:15.860512Z",
     "shell.execute_reply": "2024-08-01T17:00:15.859319Z",
     "shell.execute_reply.started": "2024-08-01T17:00:15.854510Z"
    }
   },
   "outputs": [],
   "source": [
    "metricas = {'acc': 'accuracy',\n",
    "            'recall': 'recall_macro',\n",
    "            'f1': 'f1_macro',\n",
    "           }"
   ]
  },
  {
   "cell_type": "code",
   "execution_count": 24,
   "metadata": {
    "execution": {
     "iopub.execute_input": "2024-08-01T17:00:16.122871Z",
     "iopub.status.busy": "2024-08-01T17:00:16.122191Z",
     "iopub.status.idle": "2024-08-01T17:00:17.132803Z",
     "shell.execute_reply": "2024-08-01T17:00:17.131980Z",
     "shell.execute_reply.started": "2024-08-01T17:00:16.122821Z"
    }
   },
   "outputs": [],
   "source": [
    "# Validação de Cruzada de 5 dobras\n",
    "k = 5  # Número de dobras\n",
    "cv_scores = model_selection.cross_validate(clf,\n",
    "                                            X,\n",
    "                                            y,\n",
    "                                            scoring=metricas,\n",
    "                                            cv=k)"
   ]
  },
  {
   "cell_type": "code",
   "execution_count": 25,
   "metadata": {
    "execution": {
     "iopub.execute_input": "2024-08-01T17:00:17.134439Z",
     "iopub.status.busy": "2024-08-01T17:00:17.134057Z",
     "iopub.status.idle": "2024-08-01T17:00:17.140353Z",
     "shell.execute_reply": "2024-08-01T17:00:17.139604Z",
     "shell.execute_reply.started": "2024-08-01T17:00:17.134410Z"
    }
   },
   "outputs": [
    {
     "data": {
      "text/plain": [
       "{'fit_time': array([0.26613402, 0.18025708, 0.16097188, 0.17042518, 0.18188405]),\n",
       " 'score_time': array([0.00815988, 0.00755572, 0.00773311, 0.00830364, 0.00753212]),\n",
       " 'test_acc': array([0.955, 0.975, 0.95 , 0.94 , 0.925]),\n",
       " 'test_recall': array([0.95454545, 0.97474747, 0.95009501, 0.94039404, 0.925     ]),\n",
       " 'test_f1': array([0.95486346, 0.97496934, 0.95      , 0.93994595, 0.92468178])}"
      ]
     },
     "execution_count": 25,
     "metadata": {},
     "output_type": "execute_result"
    }
   ],
   "source": [
    "cv_scores"
   ]
  },
  {
   "cell_type": "code",
   "execution_count": 26,
   "metadata": {
    "execution": {
     "iopub.execute_input": "2024-08-01T17:00:17.141630Z",
     "iopub.status.busy": "2024-08-01T17:00:17.141279Z",
     "iopub.status.idle": "2024-08-01T17:00:17.147627Z",
     "shell.execute_reply": "2024-08-01T17:00:17.146641Z",
     "shell.execute_reply.started": "2024-08-01T17:00:17.141599Z"
    }
   },
   "outputs": [],
   "source": [
    "mean_test_acc = np.mean(cv_scores['test_acc'])\n",
    "std_test_acc = np.std(cv_scores['test_acc'])"
   ]
  },
  {
   "cell_type": "code",
   "execution_count": 27,
   "metadata": {
    "execution": {
     "iopub.execute_input": "2024-08-01T17:00:17.654467Z",
     "iopub.status.busy": "2024-08-01T17:00:17.653846Z",
     "iopub.status.idle": "2024-08-01T17:00:17.659924Z",
     "shell.execute_reply": "2024-08-01T17:00:17.658953Z",
     "shell.execute_reply.started": "2024-08-01T17:00:17.654420Z"
    }
   },
   "outputs": [
    {
     "name": "stdout",
     "output_type": "stream",
     "text": [
      "Média de cross-validation para acc: 0.95\n",
      "Desvio-padrão de cross-validation para acc: 0.02\n"
     ]
    }
   ],
   "source": [
    "print(f\"Média de cross-validation para acc: {mean_test_acc:.2f}\")\n",
    "print(f\"Desvio-padrão de cross-validation para acc: {std_test_acc:.2f}\")"
   ]
  },
  {
   "cell_type": "markdown",
   "metadata": {},
   "source": [
    "# Matriz de Confusão"
   ]
  },
  {
   "cell_type": "code",
   "execution_count": 28,
   "metadata": {
    "execution": {
     "iopub.execute_input": "2024-08-01T17:00:18.506079Z",
     "iopub.status.busy": "2024-08-01T17:00:18.505443Z",
     "iopub.status.idle": "2024-08-01T17:00:18.514523Z",
     "shell.execute_reply": "2024-08-01T17:00:18.512828Z",
     "shell.execute_reply.started": "2024-08-01T17:00:18.506037Z"
    }
   },
   "outputs": [],
   "source": [
    "def plot_confusion_matrix(cm, classes):\n",
    "    plt.figure(figsize=(8, 6))\n",
    "    sns.heatmap(cm, annot=True, fmt='d', cmap='Blues', \n",
    "                xticklabels=classes, yticklabels=classes)\n",
    "    plt.title('Matriz de Confusão')\n",
    "    plt.xlabel('Rótulos Previstos')\n",
    "    plt.ylabel('Rótulos Verdadeiros')\n",
    "    plt.show()"
   ]
  },
  {
   "cell_type": "code",
   "execution_count": 29,
   "metadata": {
    "execution": {
     "iopub.execute_input": "2024-08-01T17:00:18.693208Z",
     "iopub.status.busy": "2024-08-01T17:00:18.692893Z",
     "iopub.status.idle": "2024-08-01T17:00:18.698521Z",
     "shell.execute_reply": "2024-08-01T17:00:18.697798Z",
     "shell.execute_reply.started": "2024-08-01T17:00:18.693191Z"
    }
   },
   "outputs": [],
   "source": [
    "conf_matrix = confusion_matrix(y_test, y_pred)"
   ]
  },
  {
   "cell_type": "code",
   "execution_count": 30,
   "metadata": {
    "execution": {
     "iopub.execute_input": "2024-08-01T17:00:18.880293Z",
     "iopub.status.busy": "2024-08-01T17:00:18.879607Z",
     "iopub.status.idle": "2024-08-01T17:00:19.151699Z",
     "shell.execute_reply": "2024-08-01T17:00:19.150422Z",
     "shell.execute_reply.started": "2024-08-01T17:00:18.880251Z"
    }
   },
   "outputs": [
    {
     "data": {
      "image/png": "[encoded data removed]",
      "text/plain": [
       "<Figure size 800x600 with 2 Axes>"
      ]
     },
     "metadata": {},
     "output_type": "display_data"
    }
   ],
   "source": [
    "plot_confusion_matrix(conf_matrix, classes=set(y))\n"
   ]
  },
  {
   "cell_type": "code",
   "execution_count": null,
   "metadata": {},
   "outputs": [],
   "source": []
  },
  {
   "cell_type": "code",
   "execution_count": null,
   "metadata": {},
   "outputs": [],
   "source": []
  },
  {
   "cell_type": "code",
   "execution_count": null,
   "metadata": {},
   "outputs": [],
   "source": []
  },
  {
   "cell_type": "code",
   "execution_count": null,
   "metadata": {},
   "outputs": [],
   "source": []
  },
  {
   "cell_type": "raw",
   "metadata": {},
   "source": [
    "Esse algoritmo:\n",
    "- É capaz de lidar tanto com problemas de classificação quanto de regressão.\n",
    "- É um ensemble de diversos classificadores/regressores.\n",
    "- Introduz aleatoriedade tanto no subconjunto de dados quanto no subconjunto de features que cada classificador/regressor irá utilizar.\n",
    "- É baseado em Árvores de Decisão, porém é mais robusto contra overfitting.\n",
    "- Toda árvore na \"floresta\" vai votar no resultado, e a predição final é determinada pela maioria. \n",
    "- Usa bagging, ou seja, seleciona amostras aleatórias dos dados (com substituição) e treina modelos independentes.\n",
    "- Além disso, utilizada de aleatoriedade de features. Em resumo, gera um subconjunto aleatório das features para as árvores. Dessa forma, busca garantir baixa correlação entre as árvores."
   ]
  }
 ],
 "metadata": {
  "kernelspec": {
   "display_name": "Python 3 (ipykernel)",
   "language": "python",
   "name": "python3"
  },
  "language_info": {
   "codemirror_mode": {
    "name": "ipython",
    "version": 3
   },
   "file_extension": ".py",
   "mimetype": "text/x-python",
   "name": "python",
   "nbconvert_exporter": "python",
   "pygments_lexer": "ipython3",
   "version": "3.11.2"
  }
 },
 "nbformat": 4,
 "nbformat_minor": 4
}
