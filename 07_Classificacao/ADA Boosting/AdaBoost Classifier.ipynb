{
 "cells": [
  {
   "cell_type": "raw",
   "metadata": {},
   "source": [
    "A ideia central por trás do _______ é treinar uma sequência de modelos de aprendizado fraco (weak learners), geralmente árvores de decisão rasas, onde cada modelo é treinado para corrigir os erros do modelo anterior. Durante o treinamento, o AdaBoost atribui pesos diferentes às instâncias de treinamento, dando mais peso às instâncias que foram classificadas erroneamente pelo modelo anterior.\n",
    "\n",
    "O processo de treinamento do _______ pode ser resumido da seguinte maneira:\n",
    "Inicialização dos pesos: No início do treinamento, todas as instâncias de treinamento são atribuídas com pesos iguais.\n",
    "Treinamento do primeiro modelo: Um modelo inicial, geralmente um modelo fraco como uma árvore de decisão simples, é treinado usando os pesos iniciais.\n",
    "Cálculo do erro ponderado: O erro ponderado do modelo inicial é calculado com base nos pesos das instâncias de treinamento. Isso nos dá uma medida de quão bem o modelo está se saindo em relação aos pesos atribuídos às instâncias.\n",
    "Atualização dos pesos: Os pesos das instâncias são ajustados para dar mais peso às instâncias que foram classificadas erroneamente pelo modelo anterior. Isso faz com que o próximo modelo se concentre mais nas instâncias que são difíceis de classificar.\n",
    "Treinamento dos modelos subsequentes: O processo é repetido, treinando uma sequência de modelos adicionais, onde cada modelo subsequente tenta corrigir os erros do modelo anterior.\n",
    "Combinação dos modelos: As previsões de todos os modelos são combinadas por meio de uma votação ponderada, onde o peso de cada modelo é determinado pela sua performance no treinamento."
   ]
  },
  {
   "cell_type": "code",
   "execution_count": 6,
   "metadata": {
    "execution": {
     "iopub.execute_input": "2024-04-26T05:54:04.409112Z",
     "iopub.status.busy": "2024-04-26T05:54:04.408607Z",
     "iopub.status.idle": "2024-04-26T05:54:04.415499Z",
     "shell.execute_reply": "2024-04-26T05:54:04.413982Z",
     "shell.execute_reply.started": "2024-04-26T05:54:04.409069Z"
    }
   },
   "outputs": [],
   "source": [
    "from sklearn.model_selection import cross_val_score\n",
    "from sklearn.datasets import load_iris\n",
    "from sklearn.ensemble import AdaBoostClassifier\n"
   ]
  },
  {
   "cell_type": "code",
   "execution_count": 10,
   "metadata": {
    "execution": {
     "iopub.execute_input": "2024-04-26T05:54:44.529010Z",
     "iopub.status.busy": "2024-04-26T05:54:44.528403Z",
     "iopub.status.idle": "2024-04-26T05:54:44.670895Z",
     "shell.execute_reply": "2024-04-26T05:54:44.669841Z",
     "shell.execute_reply.started": "2024-04-26T05:54:44.528970Z"
    },
    "scrolled": true
   },
   "outputs": [
    {
     "name": "stderr",
     "output_type": "stream",
     "text": [
      "/home/glyph-vasts/D/Utilidades/Virtual_Envs/Python/data_science_studies/lib/python3.11/site-packages/sklearn/ensemble/_weight_boosting.py:519: FutureWarning: The SAMME.R algorithm (the default) is deprecated and will be removed in 1.6. Use the SAMME algorithm to circumvent this warning.\n",
      "  warnings.warn(\n",
      "/home/glyph-vasts/D/Utilidades/Virtual_Envs/Python/data_science_studies/lib/python3.11/site-packages/sklearn/ensemble/_weight_boosting.py:519: FutureWarning: The SAMME.R algorithm (the default) is deprecated and will be removed in 1.6. Use the SAMME algorithm to circumvent this warning.\n",
      "  warnings.warn(\n",
      "/home/glyph-vasts/D/Utilidades/Virtual_Envs/Python/data_science_studies/lib/python3.11/site-packages/sklearn/ensemble/_weight_boosting.py:519: FutureWarning: The SAMME.R algorithm (the default) is deprecated and will be removed in 1.6. Use the SAMME algorithm to circumvent this warning.\n",
      "  warnings.warn(\n",
      "/home/glyph-vasts/D/Utilidades/Virtual_Envs/Python/data_science_studies/lib/python3.11/site-packages/sklearn/ensemble/_weight_boosting.py:519: FutureWarning: The SAMME.R algorithm (the default) is deprecated and will be removed in 1.6. Use the SAMME algorithm to circumvent this warning.\n",
      "  warnings.warn(\n",
      "/home/glyph-vasts/D/Utilidades/Virtual_Envs/Python/data_science_studies/lib/python3.11/site-packages/sklearn/ensemble/_weight_boosting.py:519: FutureWarning: The SAMME.R algorithm (the default) is deprecated and will be removed in 1.6. Use the SAMME algorithm to circumvent this warning.\n",
      "  warnings.warn(\n"
     ]
    }
   ],
   "source": [
    "# %%timeit\n",
    "iris = load_iris()\n",
    "clf = AdaBoostClassifier(n_estimators=10)\n",
    "scores = cross_val_score(clf, iris.data, iris.target)\n",
    "             \n"
   ]
  },
  {
   "cell_type": "code",
   "execution_count": 11,
   "metadata": {
    "execution": {
     "iopub.execute_input": "2024-04-26T05:54:47.488880Z",
     "iopub.status.busy": "2024-04-26T05:54:47.488572Z",
     "iopub.status.idle": "2024-04-26T05:54:47.496456Z",
     "shell.execute_reply": "2024-04-26T05:54:47.495568Z",
     "shell.execute_reply.started": "2024-04-26T05:54:47.488861Z"
    }
   },
   "outputs": [
    {
     "data": {
      "text/plain": [
       "array([0.96666667, 0.93333333, 0.9       , 0.93333333, 1.        ])"
      ]
     },
     "execution_count": 11,
     "metadata": {},
     "output_type": "execute_result"
    }
   ],
   "source": [
    "scores"
   ]
  },
  {
   "cell_type": "code",
   "execution_count": 12,
   "metadata": {
    "execution": {
     "iopub.execute_input": "2024-04-26T05:54:54.435816Z",
     "iopub.status.busy": "2024-04-26T05:54:54.435373Z",
     "iopub.status.idle": "2024-04-26T05:54:54.442811Z",
     "shell.execute_reply": "2024-04-26T05:54:54.441879Z",
     "shell.execute_reply.started": "2024-04-26T05:54:54.435778Z"
    }
   },
   "outputs": [
    {
     "data": {
      "text/plain": [
       "0.9466666666666667"
      ]
     },
     "execution_count": 12,
     "metadata": {},
     "output_type": "execute_result"
    }
   ],
   "source": [
    "scores.mean()"
   ]
  },
  {
   "cell_type": "code",
   "execution_count": null,
   "metadata": {},
   "outputs": [],
   "source": []
  }
 ],
 "metadata": {
  "kernelspec": {
   "display_name": "Python 3 (ipykernel)",
   "language": "python",
   "name": "python3"
  },
  "language_info": {
   "codemirror_mode": {
    "name": "ipython",
    "version": 3
   },
   "file_extension": ".py",
   "mimetype": "text/x-python",
   "name": "python",
   "nbconvert_exporter": "python",
   "pygments_lexer": "ipython3",
   "version": "3.11.2"
  }
 },
 "nbformat": 4,
 "nbformat_minor": 4
}
