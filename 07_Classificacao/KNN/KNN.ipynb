{
 "cells": [
  {
   "cell_type": "markdown",
   "metadata": {},
   "source": [
    "É uma classificação não-paramétrica. Também pode ser utilizada em regressão. Utiliza funções de distância para identificar pontos próximas a um dado ou os vizinhos próximos de um dado ponto."
   ]
  },
  {
   "cell_type": "raw",
   "metadata": {},
   "source": [
    "O Algoritmo de KNN segue os seguintes passos básicos:\n",
    "1. Calcular a distância\n",
    "2. Encontrar os vizinhos próximos\n",
    "3. Votação de possíveis categorias para o novo ponto, baseando-se nos vizinhos próximos\n",
    "\n",
    "Pesquisas mostram que a distância euclidiana não é mais útil quando há muitas dimensões.  Nesse caso, pode ser preferível utilizar outras distâncias como a similaridade de cosseno (menos afetada por grandes quantidades de dimensões)\n",
    "\n",
    "Positivos:\n",
    "    • Simplicidade\n",
    "    • Interpretabilitdade\n",
    "    • Não-linearidade\n",
    "\n",
    "Negativos:\n",
    "    • Maldição da dimensionalidade. Na medida que o número de características (features) aumenta, o desempenho do KNN tende a diminuir. Uma das razões é que o aumento do número de features gera a necessidade de mais dados. Além disso, o crescimento na quantidade de dimensões leva ao problema do overfitting. Os dados necessários crescem exponencialmente na medida que você aumenta o número de dimensões.\n",
    "    • Não há uma forma certa de escolher o melhor K, é preciso testar alguns valores (possívelmente utilizando método do cotovelo para analíse de desempenho)\n",
    "    • Na medida que aumenta o número de dados de treino necessários, também aumenta a quantidade necessária de memória para o classificador.\n",
    "    • Requer escalonamento dos dados porque KNN geralmente utiliza a distância euclidiana e esse cálculo é sensível a magnitudes. Características (features) com altas magnitudes vão pesar mais que aquelas com menores magnitudes. \n",
    "    "
   ]
  },
  {
   "cell_type": "code",
   "execution_count": 1,
   "metadata": {
    "execution": {
     "iopub.execute_input": "2024-10-31T05:25:09.427534Z",
     "iopub.status.busy": "2024-10-31T05:25:09.426996Z",
     "iopub.status.idle": "2024-10-31T05:25:10.678944Z",
     "shell.execute_reply": "2024-10-31T05:25:10.678332Z",
     "shell.execute_reply.started": "2024-10-31T05:25:09.427490Z"
    }
   },
   "outputs": [
    {
     "name": "stderr",
     "output_type": "stream",
     "text": [
      "/tmp/ipykernel_5898/3819035679.py:2: DeprecationWarning: \n",
      "Pyarrow will become a required dependency of pandas in the next major release of pandas (pandas 3.0),\n",
      "(to allow more performant data types, such as the Arrow string type, and better interoperability with other libraries)\n",
      "but was not found to be installed on your system.\n",
      "If this would cause problems for you,\n",
      "please provide us feedback at https://github.com/pandas-dev/pandas/issues/54466\n",
      "        \n",
      "  import pandas as pd\n"
     ]
    }
   ],
   "source": [
    "import numpy as np\n",
    "import pandas as pd\n",
    "import matplotlib.pyplot as plt\n",
    "import seaborn as sns\n",
    "from sklearn import model_selection\n",
    "from sklearn.neighbors import KNeighborsClassifier\n",
    "from sklearn.datasets import make_hastie_10_2\n",
    "from sklearn.metrics import (\n",
    "    accuracy_score, \n",
    "    classification_report, \n",
    "    confusion_matrix\n",
    ")"
   ]
  },
  {
   "cell_type": "code",
   "execution_count": 2,
   "metadata": {
    "execution": {
     "iopub.execute_input": "2024-10-31T05:25:10.680177Z",
     "iopub.status.busy": "2024-10-31T05:25:10.679824Z",
     "iopub.status.idle": "2024-10-31T05:25:10.683499Z",
     "shell.execute_reply": "2024-10-31T05:25:10.682708Z",
     "shell.execute_reply.started": "2024-10-31T05:25:10.680160Z"
    }
   },
   "outputs": [],
   "source": [
    "random_state = 42"
   ]
  },
  {
   "cell_type": "markdown",
   "metadata": {
    "jp-MarkdownHeadingCollapsed": true
   },
   "source": [
    "## Uso Simples"
   ]
  },
  {
   "cell_type": "code",
   "execution_count": 3,
   "metadata": {
    "execution": {
     "iopub.execute_input": "2024-10-31T05:25:10.685374Z",
     "iopub.status.busy": "2024-10-31T05:25:10.684845Z",
     "iopub.status.idle": "2024-10-31T05:25:10.695341Z",
     "shell.execute_reply": "2024-10-31T05:25:10.694703Z",
     "shell.execute_reply.started": "2024-10-31T05:25:10.685332Z"
    }
   },
   "outputs": [
    {
     "name": "stdout",
     "output_type": "stream",
     "text": [
      "[0]\n",
      "[[0.66666667 0.33333333]]\n"
     ]
    }
   ],
   "source": [
    "X = [[0], [1], [2], [3]]\n",
    "y = [0, 0, 1, 1]\n",
    "from sklearn.neighbors import KNeighborsClassifier\n",
    "neigh = KNeighborsClassifier(n_neighbors=3)\n",
    "neigh.fit(X, y) \n",
    "\n",
    "print(neigh.predict([[1.1]]))\n",
    "\n",
    "print(neigh.predict_proba([[0.9]]))"
   ]
  },
  {
   "cell_type": "markdown",
   "metadata": {
    "jp-MarkdownHeadingCollapsed": true
   },
   "source": [
    "## Exemplos: "
   ]
  },
  {
   "cell_type": "code",
   "execution_count": 4,
   "metadata": {
    "execution": {
     "iopub.execute_input": "2024-10-31T05:25:10.697038Z",
     "iopub.status.busy": "2024-10-31T05:25:10.696679Z",
     "iopub.status.idle": "2024-10-31T05:25:10.749486Z",
     "shell.execute_reply": "2024-10-31T05:25:10.748508Z",
     "shell.execute_reply.started": "2024-10-31T05:25:10.697006Z"
    },
    "scrolled": true
   },
   "outputs": [
    {
     "name": "stdout",
     "output_type": "stream",
     "text": [
      "(array([[0.5]]), array([[2]]))\n"
     ]
    }
   ],
   "source": [
    "# No exemplo a seguir, criamos uma classe NeighborsClassifier a partir de uma matriz que representa nosso conjunto de dados e perguntamos \n",
    "# qual é o ponto mais próximo de [1,1,1]\n",
    "\n",
    "samples = [[0., 0., 0.], [0., .5, 0.], [1., 1., .5]]\n",
    "from sklearn.neighbors import NearestNeighbors\n",
    "neigh = NearestNeighbors(n_neighbors=1)\n",
    "neigh.fit(samples) \n",
    "\n",
    "print(neigh.kneighbors([[1., 1., 1.]])) \n"
   ]
  },
  {
   "cell_type": "code",
   "execution_count": 5,
   "metadata": {
    "execution": {
     "iopub.execute_input": "2024-10-31T05:25:10.751289Z",
     "iopub.status.busy": "2024-10-31T05:25:10.750703Z",
     "iopub.status.idle": "2024-10-31T05:25:10.754457Z",
     "shell.execute_reply": "2024-10-31T05:25:10.753663Z",
     "shell.execute_reply.started": "2024-10-31T05:25:10.751256Z"
    }
   },
   "outputs": [],
   "source": [
    "# Como você pode ver, ele retorna [[0.5]] e [[2]], o que significa que o elemento está a uma distância de 0,5 e é o terceiro \n",
    "# elemento de amostras (os índices começam em 0).\n",
    "# Você também pode consultar vários pontos:"
   ]
  },
  {
   "cell_type": "code",
   "execution_count": 6,
   "metadata": {
    "execution": {
     "iopub.execute_input": "2024-10-31T05:25:10.755748Z",
     "iopub.status.busy": "2024-10-31T05:25:10.755399Z",
     "iopub.status.idle": "2024-10-31T05:25:10.765587Z",
     "shell.execute_reply": "2024-10-31T05:25:10.764823Z",
     "shell.execute_reply.started": "2024-10-31T05:25:10.755718Z"
    }
   },
   "outputs": [
    {
     "data": {
      "text/plain": [
       "array([[1],\n",
       "       [2]])"
      ]
     },
     "execution_count": 6,
     "metadata": {},
     "output_type": "execute_result"
    }
   ],
   "source": [
    "X = [[0., 1., 0.], [1., 0., 1.]]\n",
    "neigh.kneighbors(X,\n",
    "                 return_distance=False) \n"
   ]
  },
  {
   "cell_type": "markdown",
   "metadata": {},
   "source": [
    "# Database"
   ]
  },
  {
   "cell_type": "code",
   "execution_count": 7,
   "metadata": {
    "execution": {
     "iopub.execute_input": "2024-10-31T05:25:10.766828Z",
     "iopub.status.busy": "2024-10-31T05:25:10.766490Z",
     "iopub.status.idle": "2024-10-31T05:25:10.778419Z",
     "shell.execute_reply": "2024-10-31T05:25:10.777492Z",
     "shell.execute_reply.started": "2024-10-31T05:25:10.766802Z"
    }
   },
   "outputs": [],
   "source": [
    "# X = [[0, 0], [1, 1]]\n",
    "# Y = [0, 1]\n",
    "X, y = make_hastie_10_2()"
   ]
  },
  {
   "cell_type": "code",
   "execution_count": 8,
   "metadata": {
    "execution": {
     "iopub.execute_input": "2024-10-31T05:25:10.779832Z",
     "iopub.status.busy": "2024-10-31T05:25:10.779458Z",
     "iopub.status.idle": "2024-10-31T05:25:10.785262Z",
     "shell.execute_reply": "2024-10-31T05:25:10.784119Z",
     "shell.execute_reply.started": "2024-10-31T05:25:10.779801Z"
    }
   },
   "outputs": [],
   "source": [
    "database_name = ''#'student-mat.csv'\n",
    "coluna_target = ''#'school'\n",
    "if database_name:\n",
    "    base = pd.read_csv(database_name, sep=';')\n",
    "    X = base.drop(columns=coluna_target)\n",
    "    y = base[[coluna_target]]"
   ]
  },
  {
   "cell_type": "markdown",
   "metadata": {},
   "source": [
    "# Dataprep"
   ]
  },
  {
   "cell_type": "code",
   "execution_count": 9,
   "metadata": {
    "execution": {
     "iopub.execute_input": "2024-10-31T05:25:10.786869Z",
     "iopub.status.busy": "2024-10-31T05:25:10.786496Z",
     "iopub.status.idle": "2024-10-31T05:25:10.791278Z",
     "shell.execute_reply": "2024-10-31T05:25:10.790191Z",
     "shell.execute_reply.started": "2024-10-31T05:25:10.786838Z"
    }
   },
   "outputs": [],
   "source": [
    "X_og = X.copy()"
   ]
  },
  {
   "cell_type": "markdown",
   "metadata": {},
   "source": [
    "# Mantendo apenas Variáveis Independentes Desejadas"
   ]
  },
  {
   "cell_type": "code",
   "execution_count": 10,
   "metadata": {
    "execution": {
     "iopub.execute_input": "2024-10-31T05:25:10.796044Z",
     "iopub.status.busy": "2024-10-31T05:25:10.795428Z",
     "iopub.status.idle": "2024-10-31T05:25:10.800365Z",
     "shell.execute_reply": "2024-10-31T05:25:10.799260Z",
     "shell.execute_reply.started": "2024-10-31T05:25:10.796014Z"
    }
   },
   "outputs": [],
   "source": [
    "accepted_features = [\n",
    "    # 'age',\n",
    "    # 'Medu',\n",
    "    # 'Fedu'\n",
    "]\n",
    "\n",
    "if accepted_features:\n",
    "    X = X[accepted_features]"
   ]
  },
  {
   "cell_type": "markdown",
   "metadata": {},
   "source": [
    "# Tratando Variáveis Categóricas"
   ]
  },
  {
   "cell_type": "code",
   "execution_count": 11,
   "metadata": {
    "execution": {
     "iopub.execute_input": "2024-10-31T05:25:10.802033Z",
     "iopub.status.busy": "2024-10-31T05:25:10.801652Z",
     "iopub.status.idle": "2024-10-31T05:25:10.806630Z",
     "shell.execute_reply": "2024-10-31T05:25:10.805594Z",
     "shell.execute_reply.started": "2024-10-31T05:25:10.802005Z"
    }
   },
   "outputs": [],
   "source": [
    "try:\n",
    "    num_features = X_og.describe().columns.tolist()\n",
    "except:\n",
    "    pass"
   ]
  },
  {
   "cell_type": "code",
   "execution_count": 12,
   "metadata": {
    "execution": {
     "iopub.execute_input": "2024-10-31T05:25:10.808167Z",
     "iopub.status.busy": "2024-10-31T05:25:10.807737Z",
     "iopub.status.idle": "2024-10-31T05:25:10.812397Z",
     "shell.execute_reply": "2024-10-31T05:25:10.811466Z",
     "shell.execute_reply.started": "2024-10-31T05:25:10.808137Z"
    }
   },
   "outputs": [],
   "source": [
    "try:\n",
    "    cat_features = X_og.drop(columns=num_features).columns.tolist()\n",
    "except:\n",
    "    pass"
   ]
  },
  {
   "cell_type": "code",
   "execution_count": 13,
   "metadata": {
    "execution": {
     "iopub.execute_input": "2024-10-31T05:25:10.813855Z",
     "iopub.status.busy": "2024-10-31T05:25:10.813514Z",
     "iopub.status.idle": "2024-10-31T05:25:10.818249Z",
     "shell.execute_reply": "2024-10-31T05:25:10.817465Z",
     "shell.execute_reply.started": "2024-10-31T05:25:10.813826Z"
    }
   },
   "outputs": [],
   "source": [
    "try:\n",
    "    # One-hot encoding\n",
    "    X = pd.get_dummies(X,\n",
    "                       columns=cat_features,\n",
    "                       drop_first=True)\n",
    "except:\n",
    "    pass"
   ]
  },
  {
   "cell_type": "markdown",
   "metadata": {},
   "source": [
    "# Tratando Missings e Outliers"
   ]
  },
  {
   "cell_type": "code",
   "execution_count": 14,
   "metadata": {
    "execution": {
     "iopub.execute_input": "2024-10-31T05:25:10.819784Z",
     "iopub.status.busy": "2024-10-31T05:25:10.819311Z",
     "iopub.status.idle": "2024-10-31T05:25:10.823093Z",
     "shell.execute_reply": "2024-10-31T05:25:10.822331Z",
     "shell.execute_reply.started": "2024-10-31T05:25:10.819753Z"
    }
   },
   "outputs": [],
   "source": [
    "#"
   ]
  },
  {
   "cell_type": "markdown",
   "metadata": {},
   "source": [
    "## Dividir Base de Treino"
   ]
  },
  {
   "cell_type": "code",
   "execution_count": 15,
   "metadata": {
    "execution": {
     "iopub.execute_input": "2024-10-31T05:25:10.824443Z",
     "iopub.status.busy": "2024-10-31T05:25:10.824047Z",
     "iopub.status.idle": "2024-10-31T05:25:10.828915Z",
     "shell.execute_reply": "2024-10-31T05:25:10.827786Z",
     "shell.execute_reply.started": "2024-10-31T05:25:10.824410Z"
    }
   },
   "outputs": [],
   "source": [
    "train_size = 0.8"
   ]
  },
  {
   "cell_type": "code",
   "execution_count": 16,
   "metadata": {
    "execution": {
     "iopub.execute_input": "2024-10-31T05:25:10.831004Z",
     "iopub.status.busy": "2024-10-31T05:25:10.830444Z",
     "iopub.status.idle": "2024-10-31T05:25:10.840697Z",
     "shell.execute_reply": "2024-10-31T05:25:10.839497Z",
     "shell.execute_reply.started": "2024-10-31T05:25:10.830942Z"
    }
   },
   "outputs": [],
   "source": [
    "X_train, X_test, y_train, y_test = model_selection.train_test_split(X,\n",
    "                                                                    y,\n",
    "                                                                    train_size=train_size,\n",
    "                                                                    random_state=random_state)"
   ]
  },
  {
   "cell_type": "markdown",
   "metadata": {},
   "source": [
    "# Inicializar Classificador"
   ]
  },
  {
   "cell_type": "code",
   "execution_count": 17,
   "metadata": {
    "execution": {
     "iopub.execute_input": "2024-10-31T05:25:10.842753Z",
     "iopub.status.busy": "2024-10-31T05:25:10.842248Z",
     "iopub.status.idle": "2024-10-31T05:25:10.848068Z",
     "shell.execute_reply": "2024-10-31T05:25:10.846780Z",
     "shell.execute_reply.started": "2024-10-31T05:25:10.842710Z"
    }
   },
   "outputs": [],
   "source": [
    "clf_dict = {\n",
    "    #'max_depth': 7, # Profundidade Máxima da Árvore\n",
    "    #'min_samples_split': 2,  # Mínimo para haver split de nó\n",
    "    #'min_samples_leaf': 1,  # Mínimo para ser nó de decisão\n",
    "    #'random_state': random_state,\n",
    "    'n_neighbors': 3,\n",
    "}"
   ]
  },
  {
   "cell_type": "code",
   "execution_count": 18,
   "metadata": {
    "execution": {
     "iopub.execute_input": "2024-10-31T05:25:10.849854Z",
     "iopub.status.busy": "2024-10-31T05:25:10.849491Z",
     "iopub.status.idle": "2024-10-31T05:25:10.853303Z",
     "shell.execute_reply": "2024-10-31T05:25:10.852507Z",
     "shell.execute_reply.started": "2024-10-31T05:25:10.849833Z"
    }
   },
   "outputs": [],
   "source": [
    "clf = KNeighborsClassifier(**clf_dict)"
   ]
  },
  {
   "cell_type": "markdown",
   "metadata": {},
   "source": [
    "# Train"
   ]
  },
  {
   "cell_type": "code",
   "execution_count": 19,
   "metadata": {
    "execution": {
     "iopub.execute_input": "2024-10-31T05:25:10.854890Z",
     "iopub.status.busy": "2024-10-31T05:25:10.854581Z",
     "iopub.status.idle": "2024-10-31T05:25:10.883906Z",
     "shell.execute_reply": "2024-10-31T05:25:10.882981Z",
     "shell.execute_reply.started": "2024-10-31T05:25:10.854870Z"
    }
   },
   "outputs": [
    {
     "data": {
      "text/html": [
       "<style>#sk-container-id-1 {\n",
       "  /* Definition of color scheme common for light and dark mode */\n",
       "  --sklearn-color-text: black;\n",
       "  --sklearn-color-line: gray;\n",
       "  /* Definition of color scheme for unfitted estimators */\n",
       "  --sklearn-color-unfitted-level-0: #fff5e6;\n",
       "  --sklearn-color-unfitted-level-1: #f6e4d2;\n",
       "  --sklearn-color-unfitted-level-2: #ffe0b3;\n",
       "  --sklearn-color-unfitted-level-3: chocolate;\n",
       "  /* Definition of color scheme for fitted estimators */\n",
       "  --sklearn-color-fitted-level-0: #f0f8ff;\n",
       "  --sklearn-color-fitted-level-1: #d4ebff;\n",
       "  --sklearn-color-fitted-level-2: #b3dbfd;\n",
       "  --sklearn-color-fitted-level-3: cornflowerblue;\n",
       "\n",
       "  /* Specific color for light theme */\n",
       "  --sklearn-color-text-on-default-background: var(--sg-text-color, var(--theme-code-foreground, var(--jp-content-font-color1, black)));\n",
       "  --sklearn-color-background: var(--sg-background-color, var(--theme-background, var(--jp-layout-color0, white)));\n",
       "  --sklearn-color-border-box: var(--sg-text-color, var(--theme-code-foreground, var(--jp-content-font-color1, black)));\n",
       "  --sklearn-color-icon: #696969;\n",
       "\n",
       "  @media (prefers-color-scheme: dark) {\n",
       "    /* Redefinition of color scheme for dark theme */\n",
       "    --sklearn-color-text-on-default-background: var(--sg-text-color, var(--theme-code-foreground, var(--jp-content-font-color1, white)));\n",
       "    --sklearn-color-background: var(--sg-background-color, var(--theme-background, var(--jp-layout-color0, #111)));\n",
       "    --sklearn-color-border-box: var(--sg-text-color, var(--theme-code-foreground, var(--jp-content-font-color1, white)));\n",
       "    --sklearn-color-icon: #878787;\n",
       "  }\n",
       "}\n",
       "\n",
       "#sk-container-id-1 {\n",
       "  color: var(--sklearn-color-text);\n",
       "}\n",
       "\n",
       "#sk-container-id-1 pre {\n",
       "  padding: 0;\n",
       "}\n",
       "\n",
       "#sk-container-id-1 input.sk-hidden--visually {\n",
       "  border: 0;\n",
       "  clip: rect(1px 1px 1px 1px);\n",
       "  clip: rect(1px, 1px, 1px, 1px);\n",
       "  height: 1px;\n",
       "  margin: -1px;\n",
       "  overflow: hidden;\n",
       "  padding: 0;\n",
       "  position: absolute;\n",
       "  width: 1px;\n",
       "}\n",
       "\n",
       "#sk-container-id-1 div.sk-dashed-wrapped {\n",
       "  border: 1px dashed var(--sklearn-color-line);\n",
       "  margin: 0 0.4em 0.5em 0.4em;\n",
       "  box-sizing: border-box;\n",
       "  padding-bottom: 0.4em;\n",
       "  background-color: var(--sklearn-color-background);\n",
       "}\n",
       "\n",
       "#sk-container-id-1 div.sk-container {\n",
       "  /* jupyter's `normalize.less` sets `[hidden] { display: none; }`\n",
       "     but bootstrap.min.css set `[hidden] { display: none !important; }`\n",
       "     so we also need the `!important` here to be able to override the\n",
       "     default hidden behavior on the sphinx rendered scikit-learn.org.\n",
       "     See: https://github.com/scikit-learn/scikit-learn/issues/21755 */\n",
       "  display: inline-block !important;\n",
       "  position: relative;\n",
       "}\n",
       "\n",
       "#sk-container-id-1 div.sk-text-repr-fallback {\n",
       "  display: none;\n",
       "}\n",
       "\n",
       "div.sk-parallel-item,\n",
       "div.sk-serial,\n",
       "div.sk-item {\n",
       "  /* draw centered vertical line to link estimators */\n",
       "  background-image: linear-gradient(var(--sklearn-color-text-on-default-background), var(--sklearn-color-text-on-default-background));\n",
       "  background-size: 2px 100%;\n",
       "  background-repeat: no-repeat;\n",
       "  background-position: center center;\n",
       "}\n",
       "\n",
       "/* Parallel-specific style estimator block */\n",
       "\n",
       "#sk-container-id-1 div.sk-parallel-item::after {\n",
       "  content: \"\";\n",
       "  width: 100%;\n",
       "  border-bottom: 2px solid var(--sklearn-color-text-on-default-background);\n",
       "  flex-grow: 1;\n",
       "}\n",
       "\n",
       "#sk-container-id-1 div.sk-parallel {\n",
       "  display: flex;\n",
       "  align-items: stretch;\n",
       "  justify-content: center;\n",
       "  background-color: var(--sklearn-color-background);\n",
       "  position: relative;\n",
       "}\n",
       "\n",
       "#sk-container-id-1 div.sk-parallel-item {\n",
       "  display: flex;\n",
       "  flex-direction: column;\n",
       "}\n",
       "\n",
       "#sk-container-id-1 div.sk-parallel-item:first-child::after {\n",
       "  align-self: flex-end;\n",
       "  width: 50%;\n",
       "}\n",
       "\n",
       "#sk-container-id-1 div.sk-parallel-item:last-child::after {\n",
       "  align-self: flex-start;\n",
       "  width: 50%;\n",
       "}\n",
       "\n",
       "#sk-container-id-1 div.sk-parallel-item:only-child::after {\n",
       "  width: 0;\n",
       "}\n",
       "\n",
       "/* Serial-specific style estimator block */\n",
       "\n",
       "#sk-container-id-1 div.sk-serial {\n",
       "  display: flex;\n",
       "  flex-direction: column;\n",
       "  align-items: center;\n",
       "  background-color: var(--sklearn-color-background);\n",
       "  padding-right: 1em;\n",
       "  padding-left: 1em;\n",
       "}\n",
       "\n",
       "\n",
       "/* Toggleable style: style used for estimator/Pipeline/ColumnTransformer box that is\n",
       "clickable and can be expanded/collapsed.\n",
       "- Pipeline and ColumnTransformer use this feature and define the default style\n",
       "- Estimators will overwrite some part of the style using the `sk-estimator` class\n",
       "*/\n",
       "\n",
       "/* Pipeline and ColumnTransformer style (default) */\n",
       "\n",
       "#sk-container-id-1 div.sk-toggleable {\n",
       "  /* Default theme specific background. It is overwritten whether we have a\n",
       "  specific estimator or a Pipeline/ColumnTransformer */\n",
       "  background-color: var(--sklearn-color-background);\n",
       "}\n",
       "\n",
       "/* Toggleable label */\n",
       "#sk-container-id-1 label.sk-toggleable__label {\n",
       "  cursor: pointer;\n",
       "  display: block;\n",
       "  width: 100%;\n",
       "  margin-bottom: 0;\n",
       "  padding: 0.5em;\n",
       "  box-sizing: border-box;\n",
       "  text-align: center;\n",
       "}\n",
       "\n",
       "#sk-container-id-1 label.sk-toggleable__label-arrow:before {\n",
       "  /* Arrow on the left of the label */\n",
       "  content: \"▸\";\n",
       "  float: left;\n",
       "  margin-right: 0.25em;\n",
       "  color: var(--sklearn-color-icon);\n",
       "}\n",
       "\n",
       "#sk-container-id-1 label.sk-toggleable__label-arrow:hover:before {\n",
       "  color: var(--sklearn-color-text);\n",
       "}\n",
       "\n",
       "/* Toggleable content - dropdown */\n",
       "\n",
       "#sk-container-id-1 div.sk-toggleable__content {\n",
       "  max-height: 0;\n",
       "  max-width: 0;\n",
       "  overflow: hidden;\n",
       "  text-align: left;\n",
       "  /* unfitted */\n",
       "  background-color: var(--sklearn-color-unfitted-level-0);\n",
       "}\n",
       "\n",
       "#sk-container-id-1 div.sk-toggleable__content.fitted {\n",
       "  /* fitted */\n",
       "  background-color: var(--sklearn-color-fitted-level-0);\n",
       "}\n",
       "\n",
       "#sk-container-id-1 div.sk-toggleable__content pre {\n",
       "  margin: 0.2em;\n",
       "  border-radius: 0.25em;\n",
       "  color: var(--sklearn-color-text);\n",
       "  /* unfitted */\n",
       "  background-color: var(--sklearn-color-unfitted-level-0);\n",
       "}\n",
       "\n",
       "#sk-container-id-1 div.sk-toggleable__content.fitted pre {\n",
       "  /* unfitted */\n",
       "  background-color: var(--sklearn-color-fitted-level-0);\n",
       "}\n",
       "\n",
       "#sk-container-id-1 input.sk-toggleable__control:checked~div.sk-toggleable__content {\n",
       "  /* Expand drop-down */\n",
       "  max-height: 200px;\n",
       "  max-width: 100%;\n",
       "  overflow: auto;\n",
       "}\n",
       "\n",
       "#sk-container-id-1 input.sk-toggleable__control:checked~label.sk-toggleable__label-arrow:before {\n",
       "  content: \"▾\";\n",
       "}\n",
       "\n",
       "/* Pipeline/ColumnTransformer-specific style */\n",
       "\n",
       "#sk-container-id-1 div.sk-label input.sk-toggleable__control:checked~label.sk-toggleable__label {\n",
       "  color: var(--sklearn-color-text);\n",
       "  background-color: var(--sklearn-color-unfitted-level-2);\n",
       "}\n",
       "\n",
       "#sk-container-id-1 div.sk-label.fitted input.sk-toggleable__control:checked~label.sk-toggleable__label {\n",
       "  background-color: var(--sklearn-color-fitted-level-2);\n",
       "}\n",
       "\n",
       "/* Estimator-specific style */\n",
       "\n",
       "/* Colorize estimator box */\n",
       "#sk-container-id-1 div.sk-estimator input.sk-toggleable__control:checked~label.sk-toggleable__label {\n",
       "  /* unfitted */\n",
       "  background-color: var(--sklearn-color-unfitted-level-2);\n",
       "}\n",
       "\n",
       "#sk-container-id-1 div.sk-estimator.fitted input.sk-toggleable__control:checked~label.sk-toggleable__label {\n",
       "  /* fitted */\n",
       "  background-color: var(--sklearn-color-fitted-level-2);\n",
       "}\n",
       "\n",
       "#sk-container-id-1 div.sk-label label.sk-toggleable__label,\n",
       "#sk-container-id-1 div.sk-label label {\n",
       "  /* The background is the default theme color */\n",
       "  color: var(--sklearn-color-text-on-default-background);\n",
       "}\n",
       "\n",
       "/* On hover, darken the color of the background */\n",
       "#sk-container-id-1 div.sk-label:hover label.sk-toggleable__label {\n",
       "  color: var(--sklearn-color-text);\n",
       "  background-color: var(--sklearn-color-unfitted-level-2);\n",
       "}\n",
       "\n",
       "/* Label box, darken color on hover, fitted */\n",
       "#sk-container-id-1 div.sk-label.fitted:hover label.sk-toggleable__label.fitted {\n",
       "  color: var(--sklearn-color-text);\n",
       "  background-color: var(--sklearn-color-fitted-level-2);\n",
       "}\n",
       "\n",
       "/* Estimator label */\n",
       "\n",
       "#sk-container-id-1 div.sk-label label {\n",
       "  font-family: monospace;\n",
       "  font-weight: bold;\n",
       "  display: inline-block;\n",
       "  line-height: 1.2em;\n",
       "}\n",
       "\n",
       "#sk-container-id-1 div.sk-label-container {\n",
       "  text-align: center;\n",
       "}\n",
       "\n",
       "/* Estimator-specific */\n",
       "#sk-container-id-1 div.sk-estimator {\n",
       "  font-family: monospace;\n",
       "  border: 1px dotted var(--sklearn-color-border-box);\n",
       "  border-radius: 0.25em;\n",
       "  box-sizing: border-box;\n",
       "  margin-bottom: 0.5em;\n",
       "  /* unfitted */\n",
       "  background-color: var(--sklearn-color-unfitted-level-0);\n",
       "}\n",
       "\n",
       "#sk-container-id-1 div.sk-estimator.fitted {\n",
       "  /* fitted */\n",
       "  background-color: var(--sklearn-color-fitted-level-0);\n",
       "}\n",
       "\n",
       "/* on hover */\n",
       "#sk-container-id-1 div.sk-estimator:hover {\n",
       "  /* unfitted */\n",
       "  background-color: var(--sklearn-color-unfitted-level-2);\n",
       "}\n",
       "\n",
       "#sk-container-id-1 div.sk-estimator.fitted:hover {\n",
       "  /* fitted */\n",
       "  background-color: var(--sklearn-color-fitted-level-2);\n",
       "}\n",
       "\n",
       "/* Specification for estimator info (e.g. \"i\" and \"?\") */\n",
       "\n",
       "/* Common style for \"i\" and \"?\" */\n",
       "\n",
       ".sk-estimator-doc-link,\n",
       "a:link.sk-estimator-doc-link,\n",
       "a:visited.sk-estimator-doc-link {\n",
       "  float: right;\n",
       "  font-size: smaller;\n",
       "  line-height: 1em;\n",
       "  font-family: monospace;\n",
       "  background-color: var(--sklearn-color-background);\n",
       "  border-radius: 1em;\n",
       "  height: 1em;\n",
       "  width: 1em;\n",
       "  text-decoration: none !important;\n",
       "  margin-left: 1ex;\n",
       "  /* unfitted */\n",
       "  border: var(--sklearn-color-unfitted-level-1) 1pt solid;\n",
       "  color: var(--sklearn-color-unfitted-level-1);\n",
       "}\n",
       "\n",
       ".sk-estimator-doc-link.fitted,\n",
       "a:link.sk-estimator-doc-link.fitted,\n",
       "a:visited.sk-estimator-doc-link.fitted {\n",
       "  /* fitted */\n",
       "  border: var(--sklearn-color-fitted-level-1) 1pt solid;\n",
       "  color: var(--sklearn-color-fitted-level-1);\n",
       "}\n",
       "\n",
       "/* On hover */\n",
       "div.sk-estimator:hover .sk-estimator-doc-link:hover,\n",
       ".sk-estimator-doc-link:hover,\n",
       "div.sk-label-container:hover .sk-estimator-doc-link:hover,\n",
       ".sk-estimator-doc-link:hover {\n",
       "  /* unfitted */\n",
       "  background-color: var(--sklearn-color-unfitted-level-3);\n",
       "  color: var(--sklearn-color-background);\n",
       "  text-decoration: none;\n",
       "}\n",
       "\n",
       "div.sk-estimator.fitted:hover .sk-estimator-doc-link.fitted:hover,\n",
       ".sk-estimator-doc-link.fitted:hover,\n",
       "div.sk-label-container:hover .sk-estimator-doc-link.fitted:hover,\n",
       ".sk-estimator-doc-link.fitted:hover {\n",
       "  /* fitted */\n",
       "  background-color: var(--sklearn-color-fitted-level-3);\n",
       "  color: var(--sklearn-color-background);\n",
       "  text-decoration: none;\n",
       "}\n",
       "\n",
       "/* Span, style for the box shown on hovering the info icon */\n",
       ".sk-estimator-doc-link span {\n",
       "  display: none;\n",
       "  z-index: 9999;\n",
       "  position: relative;\n",
       "  font-weight: normal;\n",
       "  right: .2ex;\n",
       "  padding: .5ex;\n",
       "  margin: .5ex;\n",
       "  width: min-content;\n",
       "  min-width: 20ex;\n",
       "  max-width: 50ex;\n",
       "  color: var(--sklearn-color-text);\n",
       "  box-shadow: 2pt 2pt 4pt #999;\n",
       "  /* unfitted */\n",
       "  background: var(--sklearn-color-unfitted-level-0);\n",
       "  border: .5pt solid var(--sklearn-color-unfitted-level-3);\n",
       "}\n",
       "\n",
       ".sk-estimator-doc-link.fitted span {\n",
       "  /* fitted */\n",
       "  background: var(--sklearn-color-fitted-level-0);\n",
       "  border: var(--sklearn-color-fitted-level-3);\n",
       "}\n",
       "\n",
       ".sk-estimator-doc-link:hover span {\n",
       "  display: block;\n",
       "}\n",
       "\n",
       "/* \"?\"-specific style due to the `<a>` HTML tag */\n",
       "\n",
       "#sk-container-id-1 a.estimator_doc_link {\n",
       "  float: right;\n",
       "  font-size: 1rem;\n",
       "  line-height: 1em;\n",
       "  font-family: monospace;\n",
       "  background-color: var(--sklearn-color-background);\n",
       "  border-radius: 1rem;\n",
       "  height: 1rem;\n",
       "  width: 1rem;\n",
       "  text-decoration: none;\n",
       "  /* unfitted */\n",
       "  color: var(--sklearn-color-unfitted-level-1);\n",
       "  border: var(--sklearn-color-unfitted-level-1) 1pt solid;\n",
       "}\n",
       "\n",
       "#sk-container-id-1 a.estimator_doc_link.fitted {\n",
       "  /* fitted */\n",
       "  border: var(--sklearn-color-fitted-level-1) 1pt solid;\n",
       "  color: var(--sklearn-color-fitted-level-1);\n",
       "}\n",
       "\n",
       "/* On hover */\n",
       "#sk-container-id-1 a.estimator_doc_link:hover {\n",
       "  /* unfitted */\n",
       "  background-color: var(--sklearn-color-unfitted-level-3);\n",
       "  color: var(--sklearn-color-background);\n",
       "  text-decoration: none;\n",
       "}\n",
       "\n",
       "#sk-container-id-1 a.estimator_doc_link.fitted:hover {\n",
       "  /* fitted */\n",
       "  background-color: var(--sklearn-color-fitted-level-3);\n",
       "}\n",
       "</style><div id=\"sk-container-id-1\" class=\"sk-top-container\"><div class=\"sk-text-repr-fallback\"><pre>KNeighborsClassifier(n_neighbors=3)</pre><b>In a Jupyter environment, please rerun this cell to show the HTML representation or trust the notebook. <br />On GitHub, the HTML representation is unable to render, please try loading this page with nbviewer.org.</b></div><div class=\"sk-container\" hidden><div class=\"sk-item\"><div class=\"sk-estimator fitted sk-toggleable\"><input class=\"sk-toggleable__control sk-hidden--visually\" id=\"sk-estimator-id-1\" type=\"checkbox\" checked><label for=\"sk-estimator-id-1\" class=\"sk-toggleable__label fitted sk-toggleable__label-arrow fitted\">&nbsp;&nbsp;KNeighborsClassifier<a class=\"sk-estimator-doc-link fitted\" rel=\"noreferrer\" target=\"_blank\" href=\"https://scikit-learn.org/1.4/modules/generated/sklearn.neighbors.KNeighborsClassifier.html\">?<span>Documentation for KNeighborsClassifier</span></a><span class=\"sk-estimator-doc-link fitted\">i<span>Fitted</span></span></label><div class=\"sk-toggleable__content fitted\"><pre>KNeighborsClassifier(n_neighbors=3)</pre></div> </div></div></div></div>"
      ],
      "text/plain": [
       "KNeighborsClassifier(n_neighbors=3)"
      ]
     },
     "execution_count": 19,
     "metadata": {},
     "output_type": "execute_result"
    }
   ],
   "source": [
    "clf.fit(X_train, y_train)"
   ]
  },
  {
   "cell_type": "markdown",
   "metadata": {},
   "source": [
    "# Predict"
   ]
  },
  {
   "cell_type": "code",
   "execution_count": 20,
   "metadata": {
    "execution": {
     "iopub.execute_input": "2024-10-31T05:25:10.885035Z",
     "iopub.status.busy": "2024-10-31T05:25:10.884803Z",
     "iopub.status.idle": "2024-10-31T05:25:11.286778Z",
     "shell.execute_reply": "2024-10-31T05:25:11.286064Z",
     "shell.execute_reply.started": "2024-10-31T05:25:10.885016Z"
    }
   },
   "outputs": [],
   "source": [
    "# y_pred = clf.predict([[2., 2.]])\n",
    "y_pred = clf.predict(X_test)"
   ]
  },
  {
   "cell_type": "code",
   "execution_count": 21,
   "metadata": {
    "execution": {
     "iopub.execute_input": "2024-10-31T05:25:11.288129Z",
     "iopub.status.busy": "2024-10-31T05:25:11.287777Z",
     "iopub.status.idle": "2024-10-31T05:25:11.574035Z",
     "shell.execute_reply": "2024-10-31T05:25:11.573400Z",
     "shell.execute_reply.started": "2024-10-31T05:25:11.288103Z"
    }
   },
   "outputs": [],
   "source": [
    "# y_pred_probs  = clf.predict_proba([[2., 2.]])\n",
    "y_pred_probs  = clf.predict_proba(X_test)"
   ]
  },
  {
   "cell_type": "markdown",
   "metadata": {
    "execution": {
     "iopub.execute_input": "2024-04-26T05:55:05.393764Z",
     "iopub.status.busy": "2024-04-26T05:55:05.392407Z",
     "iopub.status.idle": "2024-04-26T05:55:05.399824Z",
     "shell.execute_reply": "2024-04-26T05:55:05.398488Z",
     "shell.execute_reply.started": "2024-04-26T05:55:05.393682Z"
    }
   },
   "source": [
    "# Teste"
   ]
  },
  {
   "cell_type": "code",
   "execution_count": 22,
   "metadata": {
    "execution": {
     "iopub.execute_input": "2024-10-31T05:25:11.575015Z",
     "iopub.status.busy": "2024-10-31T05:25:11.574738Z",
     "iopub.status.idle": "2024-10-31T05:25:11.577690Z",
     "shell.execute_reply": "2024-10-31T05:25:11.577146Z",
     "shell.execute_reply.started": "2024-10-31T05:25:11.574996Z"
    }
   },
   "outputs": [],
   "source": [
    "classes = None # ['class 0', 'class 1']"
   ]
  },
  {
   "cell_type": "code",
   "execution_count": 23,
   "metadata": {
    "execution": {
     "iopub.execute_input": "2024-10-31T05:25:11.578558Z",
     "iopub.status.busy": "2024-10-31T05:25:11.578299Z",
     "iopub.status.idle": "2024-10-31T05:25:11.586827Z",
     "shell.execute_reply": "2024-10-31T05:25:11.586182Z",
     "shell.execute_reply.started": "2024-10-31T05:25:11.578542Z"
    }
   },
   "outputs": [],
   "source": [
    "accuracy = accuracy_score(y_test, y_pred)"
   ]
  },
  {
   "cell_type": "code",
   "execution_count": 24,
   "metadata": {
    "execution": {
     "iopub.execute_input": "2024-10-31T05:25:11.587857Z",
     "iopub.status.busy": "2024-10-31T05:25:11.587538Z",
     "iopub.status.idle": "2024-10-31T05:25:11.591650Z",
     "shell.execute_reply": "2024-10-31T05:25:11.590917Z",
     "shell.execute_reply.started": "2024-10-31T05:25:11.587840Z"
    }
   },
   "outputs": [
    {
     "name": "stdout",
     "output_type": "stream",
     "text": [
      "Acurácia: 0.74\n"
     ]
    }
   ],
   "source": [
    "print(f\"Acurácia: {accuracy:.2f}\")"
   ]
  },
  {
   "cell_type": "code",
   "execution_count": 25,
   "metadata": {
    "execution": {
     "iopub.execute_input": "2024-10-31T05:25:11.592741Z",
     "iopub.status.busy": "2024-10-31T05:25:11.592476Z",
     "iopub.status.idle": "2024-10-31T05:25:11.604731Z",
     "shell.execute_reply": "2024-10-31T05:25:11.604193Z",
     "shell.execute_reply.started": "2024-10-31T05:25:11.592722Z"
    }
   },
   "outputs": [],
   "source": [
    "results = classification_report(y_test,\n",
    "                                y_pred,\n",
    "                                target_names=classes)"
   ]
  },
  {
   "cell_type": "code",
   "execution_count": 26,
   "metadata": {
    "execution": {
     "iopub.execute_input": "2024-10-31T05:25:11.605614Z",
     "iopub.status.busy": "2024-10-31T05:25:11.605381Z",
     "iopub.status.idle": "2024-10-31T05:25:11.609154Z",
     "shell.execute_reply": "2024-10-31T05:25:11.608286Z",
     "shell.execute_reply.started": "2024-10-31T05:25:11.605597Z"
    },
    "scrolled": true
   },
   "outputs": [
    {
     "name": "stdout",
     "output_type": "stream",
     "text": [
      "              precision    recall  f1-score   support\n",
      "\n",
      "        -1.0       0.67      0.96      0.79      1210\n",
      "         1.0       0.92      0.51      0.66      1190\n",
      "\n",
      "    accuracy                           0.74      2400\n",
      "   macro avg       0.79      0.73      0.72      2400\n",
      "weighted avg       0.79      0.74      0.72      2400\n",
      "\n"
     ]
    }
   ],
   "source": [
    "print(results)"
   ]
  },
  {
   "cell_type": "markdown",
   "metadata": {},
   "source": [
    "# Teste de Validação Cruzada"
   ]
  },
  {
   "cell_type": "code",
   "execution_count": 27,
   "metadata": {
    "execution": {
     "iopub.execute_input": "2024-10-31T05:25:11.610282Z",
     "iopub.status.busy": "2024-10-31T05:25:11.609991Z",
     "iopub.status.idle": "2024-10-31T05:25:11.613250Z",
     "shell.execute_reply": "2024-10-31T05:25:11.612573Z",
     "shell.execute_reply.started": "2024-10-31T05:25:11.610262Z"
    }
   },
   "outputs": [],
   "source": [
    "metricas = {'acc': 'accuracy',\n",
    "            'recall': 'recall_macro',\n",
    "            'f1': 'f1_macro',\n",
    "           }"
   ]
  },
  {
   "cell_type": "code",
   "execution_count": 28,
   "metadata": {
    "execution": {
     "iopub.execute_input": "2024-10-31T05:25:11.616529Z",
     "iopub.status.busy": "2024-10-31T05:25:11.616232Z",
     "iopub.status.idle": "2024-10-31T05:25:13.453334Z",
     "shell.execute_reply": "2024-10-31T05:25:13.452625Z",
     "shell.execute_reply.started": "2024-10-31T05:25:11.616509Z"
    }
   },
   "outputs": [],
   "source": [
    "# Validação de Cruzada de 5 dobras\n",
    "k = 5  # Número de dobras\n",
    "cv_scores = model_selection.cross_validate(clf,\n",
    "                                            X,\n",
    "                                            y,\n",
    "                                            scoring=metricas,\n",
    "                                            cv=k)"
   ]
  },
  {
   "cell_type": "code",
   "execution_count": 29,
   "metadata": {
    "execution": {
     "iopub.execute_input": "2024-10-31T05:25:13.454231Z",
     "iopub.status.busy": "2024-10-31T05:25:13.454007Z",
     "iopub.status.idle": "2024-10-31T05:25:13.459367Z",
     "shell.execute_reply": "2024-10-31T05:25:13.458754Z",
     "shell.execute_reply.started": "2024-10-31T05:25:13.454213Z"
    }
   },
   "outputs": [
    {
     "data": {
      "text/plain": [
       "{'fit_time': array([0.0112257 , 0.00992465, 0.01127124, 0.01027894, 0.00961852]),\n",
       " 'score_time': array([0.34790063, 0.37897968, 0.38800478, 0.32800984, 0.33340168]),\n",
       " 'test_acc': array([0.72041667, 0.72375   , 0.74083333, 0.73333333, 0.73041667]),\n",
       " 'test_recall': array([0.72140315, 0.72492437, 0.74193522, 0.73446003, 0.73153287]),\n",
       " 'test_f1': array([0.70425758, 0.70814246, 0.72806762, 0.71955327, 0.71675972])}"
      ]
     },
     "execution_count": 29,
     "metadata": {},
     "output_type": "execute_result"
    }
   ],
   "source": [
    "cv_scores"
   ]
  },
  {
   "cell_type": "code",
   "execution_count": 30,
   "metadata": {
    "execution": {
     "iopub.execute_input": "2024-10-31T05:25:13.460135Z",
     "iopub.status.busy": "2024-10-31T05:25:13.459960Z",
     "iopub.status.idle": "2024-10-31T05:25:13.466659Z",
     "shell.execute_reply": "2024-10-31T05:25:13.465423Z",
     "shell.execute_reply.started": "2024-10-31T05:25:13.460120Z"
    }
   },
   "outputs": [],
   "source": [
    "mean_test_acc = np.mean(cv_scores['test_acc'])\n",
    "std_test_acc = np.std(cv_scores['test_acc'])"
   ]
  },
  {
   "cell_type": "code",
   "execution_count": 31,
   "metadata": {
    "execution": {
     "iopub.execute_input": "2024-10-31T05:25:13.467959Z",
     "iopub.status.busy": "2024-10-31T05:25:13.467556Z",
     "iopub.status.idle": "2024-10-31T05:25:13.472382Z",
     "shell.execute_reply": "2024-10-31T05:25:13.471392Z",
     "shell.execute_reply.started": "2024-10-31T05:25:13.467934Z"
    }
   },
   "outputs": [
    {
     "name": "stdout",
     "output_type": "stream",
     "text": [
      "Média de cross-validation para acc: 0.73\n",
      "Desvio-padrão de cross-validation para acc: 0.01\n"
     ]
    }
   ],
   "source": [
    "print(f\"Média de cross-validation para acc: {mean_test_acc:.2f}\")\n",
    "print(f\"Desvio-padrão de cross-validation para acc: {std_test_acc:.2f}\")"
   ]
  },
  {
   "cell_type": "markdown",
   "metadata": {},
   "source": [
    "# Matriz de Confusão"
   ]
  },
  {
   "cell_type": "code",
   "execution_count": 32,
   "metadata": {
    "execution": {
     "iopub.execute_input": "2024-10-31T05:25:13.473659Z",
     "iopub.status.busy": "2024-10-31T05:25:13.473433Z",
     "iopub.status.idle": "2024-10-31T05:25:13.478999Z",
     "shell.execute_reply": "2024-10-31T05:25:13.477661Z",
     "shell.execute_reply.started": "2024-10-31T05:25:13.473643Z"
    }
   },
   "outputs": [],
   "source": [
    "def plot_confusion_matrix(cm, classes):\n",
    "    plt.figure(figsize=(8, 6))\n",
    "    sns.heatmap(cm, annot=True, fmt='d', cmap='Blues', \n",
    "                xticklabels=classes, yticklabels=classes)\n",
    "    plt.title('Matriz de Confusão')\n",
    "    plt.xlabel('Rótulos Previstos')\n",
    "    plt.ylabel('Rótulos Verdadeiros')\n",
    "    plt.show()"
   ]
  },
  {
   "cell_type": "code",
   "execution_count": 33,
   "metadata": {
    "execution": {
     "iopub.execute_input": "2024-10-31T05:25:13.480324Z",
     "iopub.status.busy": "2024-10-31T05:25:13.479975Z",
     "iopub.status.idle": "2024-10-31T05:25:13.486941Z",
     "shell.execute_reply": "2024-10-31T05:25:13.486433Z",
     "shell.execute_reply.started": "2024-10-31T05:25:13.480296Z"
    }
   },
   "outputs": [],
   "source": [
    "conf_matrix = confusion_matrix(y_test, y_pred)"
   ]
  },
  {
   "cell_type": "code",
   "execution_count": 34,
   "metadata": {
    "execution": {
     "iopub.execute_input": "2024-10-31T05:25:13.487862Z",
     "iopub.status.busy": "2024-10-31T05:25:13.487617Z",
     "iopub.status.idle": "2024-10-31T05:25:13.706548Z",
     "shell.execute_reply": "2024-10-31T05:25:13.705642Z",
     "shell.execute_reply.started": "2024-10-31T05:25:13.487845Z"
    }
   },
   "outputs": [
    {
     "data": {
      "image/png": "[encoded data removed]",
      "text/plain": [
       "<Figure size 800x600 with 2 Axes>"
      ]
     },
     "metadata": {},
     "output_type": "display_data"
    }
   ],
   "source": [
    "plot_confusion_matrix(conf_matrix, classes=set(y))\n"
   ]
  },
  {
   "cell_type": "code",
   "execution_count": null,
   "metadata": {},
   "outputs": [],
   "source": []
  }
 ],
 "metadata": {
  "kernelspec": {
   "display_name": "Python 3 (ipykernel)",
   "language": "python",
   "name": "python3"
  },
  "language_info": {
   "codemirror_mode": {
    "name": "ipython",
    "version": 3
   },
   "file_extension": ".py",
   "mimetype": "text/x-python",
   "name": "python",
   "nbconvert_exporter": "python",
   "pygments_lexer": "ipython3",
   "version": "3.11.2"
  }
 },
 "nbformat": 4,
 "nbformat_minor": 4
}
