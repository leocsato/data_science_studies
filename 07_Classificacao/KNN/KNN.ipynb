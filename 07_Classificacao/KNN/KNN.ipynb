{
 "cells": [
  {
   "cell_type": "markdown",
   "metadata": {},
   "source": [
    "É uma classificação não-paramétrica. Também pode ser utilizada em regressão. Utiliza funções de distância para identificar pontos próximas a um dado ou os vizinhos próximos de um dado ponto."
   ]
  },
  {
   "cell_type": "raw",
   "metadata": {},
   "source": [
    "O Algoritmo de KNN segue os seguintes passos básicos:\n",
    "1. Calcular a distância\n",
    "2. Encontrar os vizinhos próximos\n",
    "3. Votação de possíveis categorias para o novo ponto, baseando-se nos vizinhos próximos\n",
    "\n",
    "Pesquisas mostram que a distância euclidiana não é mais útil quando há muitas dimensões.  Nesse caso, pode ser preferível utilizar outras distâncias como a similaridade de cosseno (menos afetada por grandes quantidades de dimensões)\n",
    "\n",
    "Positivos:\n",
    "    • Simplicidade\n",
    "    • Interpretabilitdade\n",
    "    • Não-linearidade\n",
    "\n",
    "Negativos:\n",
    "    • Maldição da dimensionalidade. Na medida que o número de características (features) aumenta, o desempenho do KNN tende a diminuir. Uma das razões é que o aumento do número de features gera a necessidade de mais dados. Além disso, o crescimento na quantidade de dimensões leva ao problema do overfitting. Os dados necessários crescem exponencialmente na medida que você aumenta o número de dimensões.\n",
    "    • Não há uma forma certa de escolher o melhor K, é preciso testar alguns valores (possívelmente utilizando método do cotovelo para analíse de desempenho)\n",
    "    • Na medida que aumenta o número de dados de treino necessários, também aumenta a quantidade necessária de memória para o classificador.\n",
    "    • Requer escalonamento dos dados porque KNN geralmente utiliza a distância euclidiana e esse cálculo é sensível a magnitudes. Características (features) com altas magnitudes vão pesar mais que aquelas com menores magnitudes. \n",
    "    "
   ]
  },
  {
   "cell_type": "code",
   "execution_count": 1,
   "metadata": {
    "execution": {
     "iopub.execute_input": "2024-08-01T16:55:22.180587Z",
     "iopub.status.busy": "2024-08-01T16:55:22.180313Z",
     "iopub.status.idle": "2024-08-01T16:55:23.459979Z",
     "shell.execute_reply": "2024-08-01T16:55:23.459448Z",
     "shell.execute_reply.started": "2024-08-01T16:55:22.180563Z"
    }
   },
   "outputs": [
    {
     "name": "stderr",
     "output_type": "stream",
     "text": [
      "/tmp/ipykernel_20725/3819035679.py:2: DeprecationWarning: \n",
      "Pyarrow will become a required dependency of pandas in the next major release of pandas (pandas 3.0),\n",
      "(to allow more performant data types, such as the Arrow string type, and better interoperability with other libraries)\n",
      "but was not found to be installed on your system.\n",
      "If this would cause problems for you,\n",
      "please provide us feedback at https://github.com/pandas-dev/pandas/issues/54466\n",
      "        \n",
      "  import pandas as pd\n"
     ]
    }
   ],
   "source": [
    "import numpy as np\n",
    "import pandas as pd\n",
    "import matplotlib.pyplot as plt\n",
    "import seaborn as sns\n",
    "from sklearn import model_selection\n",
    "from sklearn.neighbors import KNeighborsClassifier\n",
    "from sklearn.datasets import make_hastie_10_2\n",
    "from sklearn.metrics import (\n",
    "    accuracy_score, \n",
    "    classification_report, \n",
    "    confusion_matrix\n",
    ")"
   ]
  },
  {
   "cell_type": "code",
   "execution_count": 2,
   "metadata": {
    "execution": {
     "iopub.execute_input": "2024-08-01T16:55:23.461193Z",
     "iopub.status.busy": "2024-08-01T16:55:23.460870Z",
     "iopub.status.idle": "2024-08-01T16:55:23.463984Z",
     "shell.execute_reply": "2024-08-01T16:55:23.463455Z",
     "shell.execute_reply.started": "2024-08-01T16:55:23.461175Z"
    }
   },
   "outputs": [],
   "source": [
    "random_state = 42"
   ]
  },
  {
   "cell_type": "markdown",
   "metadata": {
    "jp-MarkdownHeadingCollapsed": true
   },
   "source": [
    "## Uso Simples"
   ]
  },
  {
   "cell_type": "code",
   "execution_count": 1,
   "metadata": {
    "execution": {
     "iopub.execute_input": "2024-04-26T05:55:33.402976Z",
     "iopub.status.busy": "2024-04-26T05:55:33.402412Z",
     "iopub.status.idle": "2024-04-26T05:55:33.985341Z",
     "shell.execute_reply": "2024-04-26T05:55:33.984482Z",
     "shell.execute_reply.started": "2024-04-26T05:55:33.402931Z"
    }
   },
   "outputs": [
    {
     "name": "stdout",
     "output_type": "stream",
     "text": [
      "[0]\n",
      "[[0.66666667 0.33333333]]\n"
     ]
    }
   ],
   "source": [
    "X = [[0], [1], [2], [3]]\n",
    "y = [0, 0, 1, 1]\n",
    "from sklearn.neighbors import KNeighborsClassifier\n",
    "neigh = KNeighborsClassifier(n_neighbors=3)\n",
    "neigh.fit(X, y) \n",
    "\n",
    "print(neigh.predict([[1.1]]))\n",
    "\n",
    "print(neigh.predict_proba([[0.9]]))"
   ]
  },
  {
   "cell_type": "markdown",
   "metadata": {
    "jp-MarkdownHeadingCollapsed": true
   },
   "source": [
    "## Exemplos: "
   ]
  },
  {
   "cell_type": "code",
   "execution_count": 2,
   "metadata": {
    "execution": {
     "iopub.execute_input": "2024-04-26T05:55:37.431769Z",
     "iopub.status.busy": "2024-04-26T05:55:37.431377Z",
     "iopub.status.idle": "2024-04-26T05:55:37.459276Z",
     "shell.execute_reply": "2024-04-26T05:55:37.458546Z",
     "shell.execute_reply.started": "2024-04-26T05:55:37.431747Z"
    },
    "scrolled": true
   },
   "outputs": [
    {
     "name": "stdout",
     "output_type": "stream",
     "text": [
      "(array([[0.5]]), array([[2]]))\n"
     ]
    }
   ],
   "source": [
    "# No exemplo a seguir, criamos uma classe NeighborsClassifier a partir de uma matriz que representa nosso conjunto de dados e perguntamos \n",
    "# qual é o ponto mais próximo de [1,1,1]\n",
    "\n",
    "samples = [[0., 0., 0.], [0., .5, 0.], [1., 1., .5]]\n",
    "from sklearn.neighbors import NearestNeighbors\n",
    "neigh = NearestNeighbors(n_neighbors=1)\n",
    "neigh.fit(samples) \n",
    "\n",
    "print(neigh.kneighbors([[1., 1., 1.]])) \n"
   ]
  },
  {
   "cell_type": "code",
   "execution_count": 3,
   "metadata": {
    "execution": {
     "iopub.execute_input": "2024-04-26T05:55:38.131542Z",
     "iopub.status.busy": "2024-04-26T05:55:38.130773Z",
     "iopub.status.idle": "2024-04-26T05:55:38.136162Z",
     "shell.execute_reply": "2024-04-26T05:55:38.135107Z",
     "shell.execute_reply.started": "2024-04-26T05:55:38.131477Z"
    }
   },
   "outputs": [],
   "source": [
    "# Como você pode ver, ele retorna [[0.5]] e [[2]], o que significa que o elemento está a uma distância de 0,5 e é o terceiro \n",
    "# elemento de amostras (os índices começam em 0).\n",
    "# Você também pode consultar vários pontos:"
   ]
  },
  {
   "cell_type": "code",
   "execution_count": 4,
   "metadata": {
    "execution": {
     "iopub.execute_input": "2024-04-26T05:55:38.604296Z",
     "iopub.status.busy": "2024-04-26T05:55:38.603594Z",
     "iopub.status.idle": "2024-04-26T05:55:38.616612Z",
     "shell.execute_reply": "2024-04-26T05:55:38.614991Z",
     "shell.execute_reply.started": "2024-04-26T05:55:38.604241Z"
    }
   },
   "outputs": [
    {
     "data": {
      "text/plain": [
       "array([[1],\n",
       "       [2]])"
      ]
     },
     "execution_count": 4,
     "metadata": {},
     "output_type": "execute_result"
    }
   ],
   "source": [
    "X = [[0., 1., 0.], [1., 0., 1.]]\n",
    "neigh.kneighbors(X,\n",
    "                 return_distance=False) \n"
   ]
  },
  {
   "cell_type": "markdown",
   "metadata": {},
   "source": [
    "# Database"
   ]
  },
  {
   "cell_type": "code",
   "execution_count": 3,
   "metadata": {
    "execution": {
     "iopub.execute_input": "2024-08-01T16:55:27.907401Z",
     "iopub.status.busy": "2024-08-01T16:55:27.906880Z",
     "iopub.status.idle": "2024-08-01T16:55:27.921785Z",
     "shell.execute_reply": "2024-08-01T16:55:27.920678Z",
     "shell.execute_reply.started": "2024-08-01T16:55:27.907365Z"
    }
   },
   "outputs": [],
   "source": [
    "# X = [[0, 0], [1, 1]]\n",
    "# Y = [0, 1]\n",
    "X, y = make_hastie_10_2()"
   ]
  },
  {
   "cell_type": "code",
   "execution_count": 5,
   "metadata": {
    "execution": {
     "iopub.execute_input": "2024-08-01T16:55:46.320055Z",
     "iopub.status.busy": "2024-08-01T16:55:46.318847Z",
     "iopub.status.idle": "2024-08-01T16:55:46.325529Z",
     "shell.execute_reply": "2024-08-01T16:55:46.324345Z",
     "shell.execute_reply.started": "2024-08-01T16:55:46.320009Z"
    }
   },
   "outputs": [],
   "source": [
    "database_name = ''#'student-mat.csv'\n",
    "coluna_target = ''#'school'\n",
    "if database_name:\n",
    "    base = pd.read_csv(database_name, sep=';')\n",
    "    X = base.drop(columns=coluna_target)\n",
    "    y = base[[coluna_target]]"
   ]
  },
  {
   "cell_type": "markdown",
   "metadata": {},
   "source": [
    "# Dataprep"
   ]
  },
  {
   "cell_type": "code",
   "execution_count": 6,
   "metadata": {
    "execution": {
     "iopub.execute_input": "2024-08-01T16:55:52.292452Z",
     "iopub.status.busy": "2024-08-01T16:55:52.291606Z",
     "iopub.status.idle": "2024-08-01T16:55:52.299639Z",
     "shell.execute_reply": "2024-08-01T16:55:52.297860Z",
     "shell.execute_reply.started": "2024-08-01T16:55:52.292386Z"
    }
   },
   "outputs": [],
   "source": [
    "X_og = X.copy()"
   ]
  },
  {
   "cell_type": "markdown",
   "metadata": {},
   "source": [
    "# Mantendo apenas Variáveis Independentes Desejadas"
   ]
  },
  {
   "cell_type": "code",
   "execution_count": 7,
   "metadata": {
    "execution": {
     "iopub.execute_input": "2024-08-01T16:55:53.068760Z",
     "iopub.status.busy": "2024-08-01T16:55:53.068144Z",
     "iopub.status.idle": "2024-08-01T16:55:53.073844Z",
     "shell.execute_reply": "2024-08-01T16:55:53.072844Z",
     "shell.execute_reply.started": "2024-08-01T16:55:53.068708Z"
    }
   },
   "outputs": [],
   "source": [
    "accepted_features = [\n",
    "    # 'age',\n",
    "    # 'Medu',\n",
    "    # 'Fedu'\n",
    "]\n",
    "\n",
    "if accepted_features:\n",
    "    X = X[accepted_features]"
   ]
  },
  {
   "cell_type": "markdown",
   "metadata": {},
   "source": [
    "# Tratando Variáveis Categóricas"
   ]
  },
  {
   "cell_type": "code",
   "execution_count": 8,
   "metadata": {
    "execution": {
     "iopub.execute_input": "2024-08-01T16:55:53.637514Z",
     "iopub.status.busy": "2024-08-01T16:55:53.636852Z",
     "iopub.status.idle": "2024-08-01T16:55:53.644190Z",
     "shell.execute_reply": "2024-08-01T16:55:53.642389Z",
     "shell.execute_reply.started": "2024-08-01T16:55:53.637464Z"
    }
   },
   "outputs": [],
   "source": [
    "try:\n",
    "    num_features = X_og.describe().columns.tolist()\n",
    "except:\n",
    "    pass"
   ]
  },
  {
   "cell_type": "code",
   "execution_count": 9,
   "metadata": {
    "execution": {
     "iopub.execute_input": "2024-08-01T16:55:54.256231Z",
     "iopub.status.busy": "2024-08-01T16:55:54.255366Z",
     "iopub.status.idle": "2024-08-01T16:55:54.262914Z",
     "shell.execute_reply": "2024-08-01T16:55:54.261403Z",
     "shell.execute_reply.started": "2024-08-01T16:55:54.256183Z"
    }
   },
   "outputs": [],
   "source": [
    "try:\n",
    "    cat_features = X_og.drop(columns=num_features).columns.tolist()\n",
    "except:\n",
    "    pass"
   ]
  },
  {
   "cell_type": "code",
   "execution_count": 10,
   "metadata": {
    "execution": {
     "iopub.execute_input": "2024-08-01T16:55:54.440203Z",
     "iopub.status.busy": "2024-08-01T16:55:54.439860Z",
     "iopub.status.idle": "2024-08-01T16:55:54.444391Z",
     "shell.execute_reply": "2024-08-01T16:55:54.443350Z",
     "shell.execute_reply.started": "2024-08-01T16:55:54.440182Z"
    }
   },
   "outputs": [],
   "source": [
    "try:\n",
    "    # One-hot encoding\n",
    "    X = pd.get_dummies(X,\n",
    "                       columns=cat_features,\n",
    "                       drop_first=True)\n",
    "except:\n",
    "    pass"
   ]
  },
  {
   "cell_type": "markdown",
   "metadata": {},
   "source": [
    "# Tratando Missings e Outliers"
   ]
  },
  {
   "cell_type": "code",
   "execution_count": 11,
   "metadata": {
    "execution": {
     "iopub.execute_input": "2024-08-01T16:55:54.810161Z",
     "iopub.status.busy": "2024-08-01T16:55:54.809686Z",
     "iopub.status.idle": "2024-08-01T16:55:54.813592Z",
     "shell.execute_reply": "2024-08-01T16:55:54.812821Z",
     "shell.execute_reply.started": "2024-08-01T16:55:54.810128Z"
    }
   },
   "outputs": [],
   "source": [
    "#"
   ]
  },
  {
   "cell_type": "markdown",
   "metadata": {},
   "source": [
    "## Dividir Base de Treino"
   ]
  },
  {
   "cell_type": "code",
   "execution_count": 12,
   "metadata": {
    "execution": {
     "iopub.execute_input": "2024-08-01T16:55:55.490351Z",
     "iopub.status.busy": "2024-08-01T16:55:55.489305Z",
     "iopub.status.idle": "2024-08-01T16:55:55.494759Z",
     "shell.execute_reply": "2024-08-01T16:55:55.493817Z",
     "shell.execute_reply.started": "2024-08-01T16:55:55.490288Z"
    }
   },
   "outputs": [],
   "source": [
    "train_size = 0.8"
   ]
  },
  {
   "cell_type": "code",
   "execution_count": 13,
   "metadata": {
    "execution": {
     "iopub.execute_input": "2024-08-01T16:55:55.790268Z",
     "iopub.status.busy": "2024-08-01T16:55:55.789724Z",
     "iopub.status.idle": "2024-08-01T16:55:55.798383Z",
     "shell.execute_reply": "2024-08-01T16:55:55.796578Z",
     "shell.execute_reply.started": "2024-08-01T16:55:55.790227Z"
    }
   },
   "outputs": [],
   "source": [
    "X_train, X_test, y_train, y_test = model_selection.train_test_split(X,\n",
    "                                                                    y,\n",
    "                                                                    train_size=train_size,\n",
    "                                                                    random_state=random_state)"
   ]
  },
  {
   "cell_type": "markdown",
   "metadata": {},
   "source": [
    "# Inicializar Classificador"
   ]
  },
  {
   "cell_type": "code",
   "execution_count": 14,
   "metadata": {
    "execution": {
     "iopub.execute_input": "2024-08-01T16:55:56.239636Z",
     "iopub.status.busy": "2024-08-01T16:55:56.239009Z",
     "iopub.status.idle": "2024-08-01T16:55:56.245233Z",
     "shell.execute_reply": "2024-08-01T16:55:56.244008Z",
     "shell.execute_reply.started": "2024-08-01T16:55:56.239586Z"
    }
   },
   "outputs": [],
   "source": [
    "clf_dict = {\n",
    "    #'max_depth': 7, # Profundidade Máxima da Árvore\n",
    "    #'min_samples_split': 2,  # Mínimo para haver split de nó\n",
    "    #'min_samples_leaf': 1,  # Mínimo para ser nó de decisão\n",
    "    #'random_state': random_state,\n",
    "    'n_neighbors': 3,\n",
    "}"
   ]
  },
  {
   "cell_type": "code",
   "execution_count": 15,
   "metadata": {
    "execution": {
     "iopub.execute_input": "2024-08-01T16:55:56.912853Z",
     "iopub.status.busy": "2024-08-01T16:55:56.912359Z",
     "iopub.status.idle": "2024-08-01T16:55:56.919587Z",
     "shell.execute_reply": "2024-08-01T16:55:56.917801Z",
     "shell.execute_reply.started": "2024-08-01T16:55:56.912809Z"
    }
   },
   "outputs": [],
   "source": [
    "clf = KNeighborsClassifier(**clf_dict)"
   ]
  },
  {
   "cell_type": "markdown",
   "metadata": {},
   "source": [
    "# Train"
   ]
  },
  {
   "cell_type": "code",
   "execution_count": 16,
   "metadata": {
    "execution": {
     "iopub.execute_input": "2024-08-01T16:55:58.108312Z",
     "iopub.status.busy": "2024-08-01T16:55:58.107143Z",
     "iopub.status.idle": "2024-08-01T16:55:58.164669Z",
     "shell.execute_reply": "2024-08-01T16:55:58.163645Z",
     "shell.execute_reply.started": "2024-08-01T16:55:58.108253Z"
    }
   },
   "outputs": [
    {
     "data": {
      "text/html": [
       "<style>#sk-container-id-1 {\n",
       "  /* Definition of color scheme common for light and dark mode */\n",
       "  --sklearn-color-text: black;\n",
       "  --sklearn-color-line: gray;\n",
       "  /* Definition of color scheme for unfitted estimators */\n",
       "  --sklearn-color-unfitted-level-0: #fff5e6;\n",
       "  --sklearn-color-unfitted-level-1: #f6e4d2;\n",
       "  --sklearn-color-unfitted-level-2: #ffe0b3;\n",
       "  --sklearn-color-unfitted-level-3: chocolate;\n",
       "  /* Definition of color scheme for fitted estimators */\n",
       "  --sklearn-color-fitted-level-0: #f0f8ff;\n",
       "  --sklearn-color-fitted-level-1: #d4ebff;\n",
       "  --sklearn-color-fitted-level-2: #b3dbfd;\n",
       "  --sklearn-color-fitted-level-3: cornflowerblue;\n",
       "\n",
       "  /* Specific color for light theme */\n",
       "  --sklearn-color-text-on-default-background: var(--sg-text-color, var(--theme-code-foreground, var(--jp-content-font-color1, black)));\n",
       "  --sklearn-color-background: var(--sg-background-color, var(--theme-background, var(--jp-layout-color0, white)));\n",
       "  --sklearn-color-border-box: var(--sg-text-color, var(--theme-code-foreground, var(--jp-content-font-color1, black)));\n",
       "  --sklearn-color-icon: #696969;\n",
       "\n",
       "  @media (prefers-color-scheme: dark) {\n",
       "    /* Redefinition of color scheme for dark theme */\n",
       "    --sklearn-color-text-on-default-background: var(--sg-text-color, var(--theme-code-foreground, var(--jp-content-font-color1, white)));\n",
       "    --sklearn-color-background: var(--sg-background-color, var(--theme-background, var(--jp-layout-color0, #111)));\n",
       "    --sklearn-color-border-box: var(--sg-text-color, var(--theme-code-foreground, var(--jp-content-font-color1, white)));\n",
       "    --sklearn-color-icon: #878787;\n",
       "  }\n",
       "}\n",
       "\n",
       "#sk-container-id-1 {\n",
       "  color: var(--sklearn-color-text);\n",
       "}\n",
       "\n",
       "#sk-container-id-1 pre {\n",
       "  padding: 0;\n",
       "}\n",
       "\n",
       "#sk-container-id-1 input.sk-hidden--visually {\n",
       "  border: 0;\n",
       "  clip: rect(1px 1px 1px 1px);\n",
       "  clip: rect(1px, 1px, 1px, 1px);\n",
       "  height: 1px;\n",
       "  margin: -1px;\n",
       "  overflow: hidden;\n",
       "  padding: 0;\n",
       "  position: absolute;\n",
       "  width: 1px;\n",
       "}\n",
       "\n",
       "#sk-container-id-1 div.sk-dashed-wrapped {\n",
       "  border: 1px dashed var(--sklearn-color-line);\n",
       "  margin: 0 0.4em 0.5em 0.4em;\n",
       "  box-sizing: border-box;\n",
       "  padding-bottom: 0.4em;\n",
       "  background-color: var(--sklearn-color-background);\n",
       "}\n",
       "\n",
       "#sk-container-id-1 div.sk-container {\n",
       "  /* jupyter's `normalize.less` sets `[hidden] { display: none; }`\n",
       "     but bootstrap.min.css set `[hidden] { display: none !important; }`\n",
       "     so we also need the `!important` here to be able to override the\n",
       "     default hidden behavior on the sphinx rendered scikit-learn.org.\n",
       "     See: https://github.com/scikit-learn/scikit-learn/issues/21755 */\n",
       "  display: inline-block !important;\n",
       "  position: relative;\n",
       "}\n",
       "\n",
       "#sk-container-id-1 div.sk-text-repr-fallback {\n",
       "  display: none;\n",
       "}\n",
       "\n",
       "div.sk-parallel-item,\n",
       "div.sk-serial,\n",
       "div.sk-item {\n",
       "  /* draw centered vertical line to link estimators */\n",
       "  background-image: linear-gradient(var(--sklearn-color-text-on-default-background), var(--sklearn-color-text-on-default-background));\n",
       "  background-size: 2px 100%;\n",
       "  background-repeat: no-repeat;\n",
       "  background-position: center center;\n",
       "}\n",
       "\n",
       "/* Parallel-specific style estimator block */\n",
       "\n",
       "#sk-container-id-1 div.sk-parallel-item::after {\n",
       "  content: \"\";\n",
       "  width: 100%;\n",
       "  border-bottom: 2px solid var(--sklearn-color-text-on-default-background);\n",
       "  flex-grow: 1;\n",
       "}\n",
       "\n",
       "#sk-container-id-1 div.sk-parallel {\n",
       "  display: flex;\n",
       "  align-items: stretch;\n",
       "  justify-content: center;\n",
       "  background-color: var(--sklearn-color-background);\n",
       "  position: relative;\n",
       "}\n",
       "\n",
       "#sk-container-id-1 div.sk-parallel-item {\n",
       "  display: flex;\n",
       "  flex-direction: column;\n",
       "}\n",
       "\n",
       "#sk-container-id-1 div.sk-parallel-item:first-child::after {\n",
       "  align-self: flex-end;\n",
       "  width: 50%;\n",
       "}\n",
       "\n",
       "#sk-container-id-1 div.sk-parallel-item:last-child::after {\n",
       "  align-self: flex-start;\n",
       "  width: 50%;\n",
       "}\n",
       "\n",
       "#sk-container-id-1 div.sk-parallel-item:only-child::after {\n",
       "  width: 0;\n",
       "}\n",
       "\n",
       "/* Serial-specific style estimator block */\n",
       "\n",
       "#sk-container-id-1 div.sk-serial {\n",
       "  display: flex;\n",
       "  flex-direction: column;\n",
       "  align-items: center;\n",
       "  background-color: var(--sklearn-color-background);\n",
       "  padding-right: 1em;\n",
       "  padding-left: 1em;\n",
       "}\n",
       "\n",
       "\n",
       "/* Toggleable style: style used for estimator/Pipeline/ColumnTransformer box that is\n",
       "clickable and can be expanded/collapsed.\n",
       "- Pipeline and ColumnTransformer use this feature and define the default style\n",
       "- Estimators will overwrite some part of the style using the `sk-estimator` class\n",
       "*/\n",
       "\n",
       "/* Pipeline and ColumnTransformer style (default) */\n",
       "\n",
       "#sk-container-id-1 div.sk-toggleable {\n",
       "  /* Default theme specific background. It is overwritten whether we have a\n",
       "  specific estimator or a Pipeline/ColumnTransformer */\n",
       "  background-color: var(--sklearn-color-background);\n",
       "}\n",
       "\n",
       "/* Toggleable label */\n",
       "#sk-container-id-1 label.sk-toggleable__label {\n",
       "  cursor: pointer;\n",
       "  display: block;\n",
       "  width: 100%;\n",
       "  margin-bottom: 0;\n",
       "  padding: 0.5em;\n",
       "  box-sizing: border-box;\n",
       "  text-align: center;\n",
       "}\n",
       "\n",
       "#sk-container-id-1 label.sk-toggleable__label-arrow:before {\n",
       "  /* Arrow on the left of the label */\n",
       "  content: \"▸\";\n",
       "  float: left;\n",
       "  margin-right: 0.25em;\n",
       "  color: var(--sklearn-color-icon);\n",
       "}\n",
       "\n",
       "#sk-container-id-1 label.sk-toggleable__label-arrow:hover:before {\n",
       "  color: var(--sklearn-color-text);\n",
       "}\n",
       "\n",
       "/* Toggleable content - dropdown */\n",
       "\n",
       "#sk-container-id-1 div.sk-toggleable__content {\n",
       "  max-height: 0;\n",
       "  max-width: 0;\n",
       "  overflow: hidden;\n",
       "  text-align: left;\n",
       "  /* unfitted */\n",
       "  background-color: var(--sklearn-color-unfitted-level-0);\n",
       "}\n",
       "\n",
       "#sk-container-id-1 div.sk-toggleable__content.fitted {\n",
       "  /* fitted */\n",
       "  background-color: var(--sklearn-color-fitted-level-0);\n",
       "}\n",
       "\n",
       "#sk-container-id-1 div.sk-toggleable__content pre {\n",
       "  margin: 0.2em;\n",
       "  border-radius: 0.25em;\n",
       "  color: var(--sklearn-color-text);\n",
       "  /* unfitted */\n",
       "  background-color: var(--sklearn-color-unfitted-level-0);\n",
       "}\n",
       "\n",
       "#sk-container-id-1 div.sk-toggleable__content.fitted pre {\n",
       "  /* unfitted */\n",
       "  background-color: var(--sklearn-color-fitted-level-0);\n",
       "}\n",
       "\n",
       "#sk-container-id-1 input.sk-toggleable__control:checked~div.sk-toggleable__content {\n",
       "  /* Expand drop-down */\n",
       "  max-height: 200px;\n",
       "  max-width: 100%;\n",
       "  overflow: auto;\n",
       "}\n",
       "\n",
       "#sk-container-id-1 input.sk-toggleable__control:checked~label.sk-toggleable__label-arrow:before {\n",
       "  content: \"▾\";\n",
       "}\n",
       "\n",
       "/* Pipeline/ColumnTransformer-specific style */\n",
       "\n",
       "#sk-container-id-1 div.sk-label input.sk-toggleable__control:checked~label.sk-toggleable__label {\n",
       "  color: var(--sklearn-color-text);\n",
       "  background-color: var(--sklearn-color-unfitted-level-2);\n",
       "}\n",
       "\n",
       "#sk-container-id-1 div.sk-label.fitted input.sk-toggleable__control:checked~label.sk-toggleable__label {\n",
       "  background-color: var(--sklearn-color-fitted-level-2);\n",
       "}\n",
       "\n",
       "/* Estimator-specific style */\n",
       "\n",
       "/* Colorize estimator box */\n",
       "#sk-container-id-1 div.sk-estimator input.sk-toggleable__control:checked~label.sk-toggleable__label {\n",
       "  /* unfitted */\n",
       "  background-color: var(--sklearn-color-unfitted-level-2);\n",
       "}\n",
       "\n",
       "#sk-container-id-1 div.sk-estimator.fitted input.sk-toggleable__control:checked~label.sk-toggleable__label {\n",
       "  /* fitted */\n",
       "  background-color: var(--sklearn-color-fitted-level-2);\n",
       "}\n",
       "\n",
       "#sk-container-id-1 div.sk-label label.sk-toggleable__label,\n",
       "#sk-container-id-1 div.sk-label label {\n",
       "  /* The background is the default theme color */\n",
       "  color: var(--sklearn-color-text-on-default-background);\n",
       "}\n",
       "\n",
       "/* On hover, darken the color of the background */\n",
       "#sk-container-id-1 div.sk-label:hover label.sk-toggleable__label {\n",
       "  color: var(--sklearn-color-text);\n",
       "  background-color: var(--sklearn-color-unfitted-level-2);\n",
       "}\n",
       "\n",
       "/* Label box, darken color on hover, fitted */\n",
       "#sk-container-id-1 div.sk-label.fitted:hover label.sk-toggleable__label.fitted {\n",
       "  color: var(--sklearn-color-text);\n",
       "  background-color: var(--sklearn-color-fitted-level-2);\n",
       "}\n",
       "\n",
       "/* Estimator label */\n",
       "\n",
       "#sk-container-id-1 div.sk-label label {\n",
       "  font-family: monospace;\n",
       "  font-weight: bold;\n",
       "  display: inline-block;\n",
       "  line-height: 1.2em;\n",
       "}\n",
       "\n",
       "#sk-container-id-1 div.sk-label-container {\n",
       "  text-align: center;\n",
       "}\n",
       "\n",
       "/* Estimator-specific */\n",
       "#sk-container-id-1 div.sk-estimator {\n",
       "  font-family: monospace;\n",
       "  border: 1px dotted var(--sklearn-color-border-box);\n",
       "  border-radius: 0.25em;\n",
       "  box-sizing: border-box;\n",
       "  margin-bottom: 0.5em;\n",
       "  /* unfitted */\n",
       "  background-color: var(--sklearn-color-unfitted-level-0);\n",
       "}\n",
       "\n",
       "#sk-container-id-1 div.sk-estimator.fitted {\n",
       "  /* fitted */\n",
       "  background-color: var(--sklearn-color-fitted-level-0);\n",
       "}\n",
       "\n",
       "/* on hover */\n",
       "#sk-container-id-1 div.sk-estimator:hover {\n",
       "  /* unfitted */\n",
       "  background-color: var(--sklearn-color-unfitted-level-2);\n",
       "}\n",
       "\n",
       "#sk-container-id-1 div.sk-estimator.fitted:hover {\n",
       "  /* fitted */\n",
       "  background-color: var(--sklearn-color-fitted-level-2);\n",
       "}\n",
       "\n",
       "/* Specification for estimator info (e.g. \"i\" and \"?\") */\n",
       "\n",
       "/* Common style for \"i\" and \"?\" */\n",
       "\n",
       ".sk-estimator-doc-link,\n",
       "a:link.sk-estimator-doc-link,\n",
       "a:visited.sk-estimator-doc-link {\n",
       "  float: right;\n",
       "  font-size: smaller;\n",
       "  line-height: 1em;\n",
       "  font-family: monospace;\n",
       "  background-color: var(--sklearn-color-background);\n",
       "  border-radius: 1em;\n",
       "  height: 1em;\n",
       "  width: 1em;\n",
       "  text-decoration: none !important;\n",
       "  margin-left: 1ex;\n",
       "  /* unfitted */\n",
       "  border: var(--sklearn-color-unfitted-level-1) 1pt solid;\n",
       "  color: var(--sklearn-color-unfitted-level-1);\n",
       "}\n",
       "\n",
       ".sk-estimator-doc-link.fitted,\n",
       "a:link.sk-estimator-doc-link.fitted,\n",
       "a:visited.sk-estimator-doc-link.fitted {\n",
       "  /* fitted */\n",
       "  border: var(--sklearn-color-fitted-level-1) 1pt solid;\n",
       "  color: var(--sklearn-color-fitted-level-1);\n",
       "}\n",
       "\n",
       "/* On hover */\n",
       "div.sk-estimator:hover .sk-estimator-doc-link:hover,\n",
       ".sk-estimator-doc-link:hover,\n",
       "div.sk-label-container:hover .sk-estimator-doc-link:hover,\n",
       ".sk-estimator-doc-link:hover {\n",
       "  /* unfitted */\n",
       "  background-color: var(--sklearn-color-unfitted-level-3);\n",
       "  color: var(--sklearn-color-background);\n",
       "  text-decoration: none;\n",
       "}\n",
       "\n",
       "div.sk-estimator.fitted:hover .sk-estimator-doc-link.fitted:hover,\n",
       ".sk-estimator-doc-link.fitted:hover,\n",
       "div.sk-label-container:hover .sk-estimator-doc-link.fitted:hover,\n",
       ".sk-estimator-doc-link.fitted:hover {\n",
       "  /* fitted */\n",
       "  background-color: var(--sklearn-color-fitted-level-3);\n",
       "  color: var(--sklearn-color-background);\n",
       "  text-decoration: none;\n",
       "}\n",
       "\n",
       "/* Span, style for the box shown on hovering the info icon */\n",
       ".sk-estimator-doc-link span {\n",
       "  display: none;\n",
       "  z-index: 9999;\n",
       "  position: relative;\n",
       "  font-weight: normal;\n",
       "  right: .2ex;\n",
       "  padding: .5ex;\n",
       "  margin: .5ex;\n",
       "  width: min-content;\n",
       "  min-width: 20ex;\n",
       "  max-width: 50ex;\n",
       "  color: var(--sklearn-color-text);\n",
       "  box-shadow: 2pt 2pt 4pt #999;\n",
       "  /* unfitted */\n",
       "  background: var(--sklearn-color-unfitted-level-0);\n",
       "  border: .5pt solid var(--sklearn-color-unfitted-level-3);\n",
       "}\n",
       "\n",
       ".sk-estimator-doc-link.fitted span {\n",
       "  /* fitted */\n",
       "  background: var(--sklearn-color-fitted-level-0);\n",
       "  border: var(--sklearn-color-fitted-level-3);\n",
       "}\n",
       "\n",
       ".sk-estimator-doc-link:hover span {\n",
       "  display: block;\n",
       "}\n",
       "\n",
       "/* \"?\"-specific style due to the `<a>` HTML tag */\n",
       "\n",
       "#sk-container-id-1 a.estimator_doc_link {\n",
       "  float: right;\n",
       "  font-size: 1rem;\n",
       "  line-height: 1em;\n",
       "  font-family: monospace;\n",
       "  background-color: var(--sklearn-color-background);\n",
       "  border-radius: 1rem;\n",
       "  height: 1rem;\n",
       "  width: 1rem;\n",
       "  text-decoration: none;\n",
       "  /* unfitted */\n",
       "  color: var(--sklearn-color-unfitted-level-1);\n",
       "  border: var(--sklearn-color-unfitted-level-1) 1pt solid;\n",
       "}\n",
       "\n",
       "#sk-container-id-1 a.estimator_doc_link.fitted {\n",
       "  /* fitted */\n",
       "  border: var(--sklearn-color-fitted-level-1) 1pt solid;\n",
       "  color: var(--sklearn-color-fitted-level-1);\n",
       "}\n",
       "\n",
       "/* On hover */\n",
       "#sk-container-id-1 a.estimator_doc_link:hover {\n",
       "  /* unfitted */\n",
       "  background-color: var(--sklearn-color-unfitted-level-3);\n",
       "  color: var(--sklearn-color-background);\n",
       "  text-decoration: none;\n",
       "}\n",
       "\n",
       "#sk-container-id-1 a.estimator_doc_link.fitted:hover {\n",
       "  /* fitted */\n",
       "  background-color: var(--sklearn-color-fitted-level-3);\n",
       "}\n",
       "</style><div id=\"sk-container-id-1\" class=\"sk-top-container\"><div class=\"sk-text-repr-fallback\"><pre>KNeighborsClassifier(n_neighbors=3)</pre><b>In a Jupyter environment, please rerun this cell to show the HTML representation or trust the notebook. <br />On GitHub, the HTML representation is unable to render, please try loading this page with nbviewer.org.</b></div><div class=\"sk-container\" hidden><div class=\"sk-item\"><div class=\"sk-estimator fitted sk-toggleable\"><input class=\"sk-toggleable__control sk-hidden--visually\" id=\"sk-estimator-id-1\" type=\"checkbox\" checked><label for=\"sk-estimator-id-1\" class=\"sk-toggleable__label fitted sk-toggleable__label-arrow fitted\">&nbsp;&nbsp;KNeighborsClassifier<a class=\"sk-estimator-doc-link fitted\" rel=\"noreferrer\" target=\"_blank\" href=\"https://scikit-learn.org/1.4/modules/generated/sklearn.neighbors.KNeighborsClassifier.html\">?<span>Documentation for KNeighborsClassifier</span></a><span class=\"sk-estimator-doc-link fitted\">i<span>Fitted</span></span></label><div class=\"sk-toggleable__content fitted\"><pre>KNeighborsClassifier(n_neighbors=3)</pre></div> </div></div></div></div>"
      ],
      "text/plain": [
       "KNeighborsClassifier(n_neighbors=3)"
      ]
     },
     "execution_count": 16,
     "metadata": {},
     "output_type": "execute_result"
    }
   ],
   "source": [
    "clf.fit(X_train, y_train)"
   ]
  },
  {
   "cell_type": "markdown",
   "metadata": {},
   "source": [
    "# Predict"
   ]
  },
  {
   "cell_type": "code",
   "execution_count": 17,
   "metadata": {
    "execution": {
     "iopub.execute_input": "2024-08-01T16:55:59.138878Z",
     "iopub.status.busy": "2024-08-01T16:55:59.138232Z",
     "iopub.status.idle": "2024-08-01T16:55:59.573588Z",
     "shell.execute_reply": "2024-08-01T16:55:59.573025Z",
     "shell.execute_reply.started": "2024-08-01T16:55:59.138819Z"
    }
   },
   "outputs": [],
   "source": [
    "# y_pred = clf.predict([[2., 2.]])\n",
    "y_pred = clf.predict(X_test)"
   ]
  },
  {
   "cell_type": "code",
   "execution_count": 18,
   "metadata": {
    "execution": {
     "iopub.execute_input": "2024-08-01T16:55:59.749895Z",
     "iopub.status.busy": "2024-08-01T16:55:59.749557Z",
     "iopub.status.idle": "2024-08-01T16:56:00.072014Z",
     "shell.execute_reply": "2024-08-01T16:56:00.071433Z",
     "shell.execute_reply.started": "2024-08-01T16:55:59.749875Z"
    }
   },
   "outputs": [],
   "source": [
    "# y_pred_probs  = clf.predict_proba([[2., 2.]])\n",
    "y_pred_probs  = clf.predict_proba(X_test)"
   ]
  },
  {
   "cell_type": "markdown",
   "metadata": {
    "execution": {
     "iopub.execute_input": "2024-04-26T05:55:05.393764Z",
     "iopub.status.busy": "2024-04-26T05:55:05.392407Z",
     "iopub.status.idle": "2024-04-26T05:55:05.399824Z",
     "shell.execute_reply": "2024-04-26T05:55:05.398488Z",
     "shell.execute_reply.started": "2024-04-26T05:55:05.393682Z"
    }
   },
   "source": [
    "# Teste"
   ]
  },
  {
   "cell_type": "code",
   "execution_count": 19,
   "metadata": {
    "execution": {
     "iopub.execute_input": "2024-08-01T16:56:00.501010Z",
     "iopub.status.busy": "2024-08-01T16:56:00.500562Z",
     "iopub.status.idle": "2024-08-01T16:56:00.505983Z",
     "shell.execute_reply": "2024-08-01T16:56:00.504149Z",
     "shell.execute_reply.started": "2024-08-01T16:56:00.500982Z"
    }
   },
   "outputs": [],
   "source": [
    "classes = None # ['class 0', 'class 1']"
   ]
  },
  {
   "cell_type": "code",
   "execution_count": 20,
   "metadata": {
    "execution": {
     "iopub.execute_input": "2024-08-01T16:56:00.795008Z",
     "iopub.status.busy": "2024-08-01T16:56:00.794427Z",
     "iopub.status.idle": "2024-08-01T16:56:00.801125Z",
     "shell.execute_reply": "2024-08-01T16:56:00.800034Z",
     "shell.execute_reply.started": "2024-08-01T16:56:00.794972Z"
    }
   },
   "outputs": [],
   "source": [
    "accuracy = accuracy_score(y_test, y_pred)"
   ]
  },
  {
   "cell_type": "code",
   "execution_count": 21,
   "metadata": {
    "execution": {
     "iopub.execute_input": "2024-08-01T16:56:00.985402Z",
     "iopub.status.busy": "2024-08-01T16:56:00.984864Z",
     "iopub.status.idle": "2024-08-01T16:56:00.991399Z",
     "shell.execute_reply": "2024-08-01T16:56:00.990216Z",
     "shell.execute_reply.started": "2024-08-01T16:56:00.985361Z"
    }
   },
   "outputs": [
    {
     "name": "stdout",
     "output_type": "stream",
     "text": [
      "Acurácia: 0.73\n"
     ]
    }
   ],
   "source": [
    "print(f\"Acurácia: {accuracy:.2f}\")"
   ]
  },
  {
   "cell_type": "code",
   "execution_count": 22,
   "metadata": {
    "execution": {
     "iopub.execute_input": "2024-08-01T16:56:01.605303Z",
     "iopub.status.busy": "2024-08-01T16:56:01.604652Z",
     "iopub.status.idle": "2024-08-01T16:56:01.635338Z",
     "shell.execute_reply": "2024-08-01T16:56:01.634353Z",
     "shell.execute_reply.started": "2024-08-01T16:56:01.605257Z"
    }
   },
   "outputs": [],
   "source": [
    "results = classification_report(y_test,\n",
    "                                y_pred,\n",
    "                                target_names=classes)"
   ]
  },
  {
   "cell_type": "code",
   "execution_count": 23,
   "metadata": {
    "execution": {
     "iopub.execute_input": "2024-08-01T16:56:01.801443Z",
     "iopub.status.busy": "2024-08-01T16:56:01.800685Z",
     "iopub.status.idle": "2024-08-01T16:56:01.808486Z",
     "shell.execute_reply": "2024-08-01T16:56:01.806889Z",
     "shell.execute_reply.started": "2024-08-01T16:56:01.801383Z"
    },
    "scrolled": true
   },
   "outputs": [
    {
     "name": "stdout",
     "output_type": "stream",
     "text": [
      "              precision    recall  f1-score   support\n",
      "\n",
      "        -1.0       0.65      0.96      0.77      1168\n",
      "         1.0       0.93      0.51      0.66      1232\n",
      "\n",
      "    accuracy                           0.73      2400\n",
      "   macro avg       0.79      0.73      0.72      2400\n",
      "weighted avg       0.79      0.73      0.71      2400\n",
      "\n"
     ]
    }
   ],
   "source": [
    "print(results)"
   ]
  },
  {
   "cell_type": "markdown",
   "metadata": {},
   "source": [
    "# Teste de Validação Cruzada"
   ]
  },
  {
   "cell_type": "code",
   "execution_count": 24,
   "metadata": {
    "execution": {
     "iopub.execute_input": "2024-08-01T16:56:06.650079Z",
     "iopub.status.busy": "2024-08-01T16:56:06.648740Z",
     "iopub.status.idle": "2024-08-01T16:56:06.657518Z",
     "shell.execute_reply": "2024-08-01T16:56:06.655831Z",
     "shell.execute_reply.started": "2024-08-01T16:56:06.650005Z"
    }
   },
   "outputs": [],
   "source": [
    "metricas = {'acc': 'accuracy',\n",
    "            'recall': 'recall_macro',\n",
    "            'f1': 'f1_macro',\n",
    "           }"
   ]
  },
  {
   "cell_type": "code",
   "execution_count": 25,
   "metadata": {
    "execution": {
     "iopub.execute_input": "2024-08-01T16:56:07.120642Z",
     "iopub.status.busy": "2024-08-01T16:56:07.120358Z",
     "iopub.status.idle": "2024-08-01T16:56:09.106734Z",
     "shell.execute_reply": "2024-08-01T16:56:09.106130Z",
     "shell.execute_reply.started": "2024-08-01T16:56:07.120623Z"
    }
   },
   "outputs": [],
   "source": [
    "# Validação de Cruzada de 5 dobras\n",
    "k = 5  # Número de dobras\n",
    "cv_scores = model_selection.cross_validate(clf,\n",
    "                                            X,\n",
    "                                            y,\n",
    "                                            scoring=metricas,\n",
    "                                            cv=k)"
   ]
  },
  {
   "cell_type": "code",
   "execution_count": 26,
   "metadata": {
    "execution": {
     "iopub.execute_input": "2024-08-01T16:56:09.108022Z",
     "iopub.status.busy": "2024-08-01T16:56:09.107714Z",
     "iopub.status.idle": "2024-08-01T16:56:09.113197Z",
     "shell.execute_reply": "2024-08-01T16:56:09.112568Z",
     "shell.execute_reply.started": "2024-08-01T16:56:09.108000Z"
    }
   },
   "outputs": [
    {
     "data": {
      "text/plain": [
       "{'fit_time': array([0.01362944, 0.01074076, 0.01084924, 0.01202226, 0.00986981]),\n",
       " 'score_time': array([0.39177513, 0.39064503, 0.40095067, 0.39016247, 0.34722447]),\n",
       " 'test_acc': array([0.73041667, 0.74083333, 0.7325    , 0.7325    , 0.73      ]),\n",
       " 'test_recall': array([0.73079995, 0.74120345, 0.73289092, 0.73287426, 0.73018315]),\n",
       " 'test_f1': array([0.7155314 , 0.72754649, 0.71709753, 0.71845727, 0.71637642])}"
      ]
     },
     "execution_count": 26,
     "metadata": {},
     "output_type": "execute_result"
    }
   ],
   "source": [
    "cv_scores"
   ]
  },
  {
   "cell_type": "code",
   "execution_count": 27,
   "metadata": {
    "execution": {
     "iopub.execute_input": "2024-08-01T16:56:09.691565Z",
     "iopub.status.busy": "2024-08-01T16:56:09.691298Z",
     "iopub.status.idle": "2024-08-01T16:56:09.695771Z",
     "shell.execute_reply": "2024-08-01T16:56:09.694224Z",
     "shell.execute_reply.started": "2024-08-01T16:56:09.691549Z"
    }
   },
   "outputs": [],
   "source": [
    "mean_test_acc = np.mean(cv_scores['test_acc'])\n",
    "std_test_acc = np.std(cv_scores['test_acc'])"
   ]
  },
  {
   "cell_type": "code",
   "execution_count": 28,
   "metadata": {
    "execution": {
     "iopub.execute_input": "2024-08-01T16:56:09.876883Z",
     "iopub.status.busy": "2024-08-01T16:56:09.876353Z",
     "iopub.status.idle": "2024-08-01T16:56:09.883482Z",
     "shell.execute_reply": "2024-08-01T16:56:09.882296Z",
     "shell.execute_reply.started": "2024-08-01T16:56:09.876843Z"
    }
   },
   "outputs": [
    {
     "name": "stdout",
     "output_type": "stream",
     "text": [
      "Média de cross-validation para acc: 0.73\n",
      "Desvio-padrão de cross-validation para acc: 0.00\n"
     ]
    }
   ],
   "source": [
    "print(f\"Média de cross-validation para acc: {mean_test_acc:.2f}\")\n",
    "print(f\"Desvio-padrão de cross-validation para acc: {std_test_acc:.2f}\")"
   ]
  },
  {
   "cell_type": "markdown",
   "metadata": {},
   "source": [
    "# Matriz de Confusão"
   ]
  },
  {
   "cell_type": "code",
   "execution_count": 29,
   "metadata": {
    "execution": {
     "iopub.execute_input": "2024-08-01T16:56:10.248692Z",
     "iopub.status.busy": "2024-08-01T16:56:10.248288Z",
     "iopub.status.idle": "2024-08-01T16:56:10.253018Z",
     "shell.execute_reply": "2024-08-01T16:56:10.252434Z",
     "shell.execute_reply.started": "2024-08-01T16:56:10.248664Z"
    }
   },
   "outputs": [],
   "source": [
    "def plot_confusion_matrix(cm, classes):\n",
    "    plt.figure(figsize=(8, 6))\n",
    "    sns.heatmap(cm, annot=True, fmt='d', cmap='Blues', \n",
    "                xticklabels=classes, yticklabels=classes)\n",
    "    plt.title('Matriz de Confusão')\n",
    "    plt.xlabel('Rótulos Previstos')\n",
    "    plt.ylabel('Rótulos Verdadeiros')\n",
    "    plt.show()"
   ]
  },
  {
   "cell_type": "code",
   "execution_count": 30,
   "metadata": {
    "execution": {
     "iopub.execute_input": "2024-08-01T16:56:10.767075Z",
     "iopub.status.busy": "2024-08-01T16:56:10.766422Z",
     "iopub.status.idle": "2024-08-01T16:56:10.778950Z",
     "shell.execute_reply": "2024-08-01T16:56:10.777852Z",
     "shell.execute_reply.started": "2024-08-01T16:56:10.767029Z"
    }
   },
   "outputs": [],
   "source": [
    "conf_matrix = confusion_matrix(y_test, y_pred)"
   ]
  },
  {
   "cell_type": "code",
   "execution_count": 31,
   "metadata": {
    "execution": {
     "iopub.execute_input": "2024-08-01T16:56:11.027028Z",
     "iopub.status.busy": "2024-08-01T16:56:11.026657Z",
     "iopub.status.idle": "2024-08-01T16:56:11.283819Z",
     "shell.execute_reply": "2024-08-01T16:56:11.283249Z",
     "shell.execute_reply.started": "2024-08-01T16:56:11.027005Z"
    }
   },
   "outputs": [
    {
     "data": {
      "image/png": "[encoded data removed]",
      "text/plain": [
       "<Figure size 800x600 with 2 Axes>"
      ]
     },
     "metadata": {},
     "output_type": "display_data"
    }
   ],
   "source": [
    "plot_confusion_matrix(conf_matrix, classes=set(y))\n"
   ]
  },
  {
   "cell_type": "code",
   "execution_count": null,
   "metadata": {},
   "outputs": [],
   "source": []
  }
 ],
 "metadata": {
  "kernelspec": {
   "display_name": "Python 3 (ipykernel)",
   "language": "python",
   "name": "python3"
  },
  "language_info": {
   "codemirror_mode": {
    "name": "ipython",
    "version": 3
   },
   "file_extension": ".py",
   "mimetype": "text/x-python",
   "name": "python",
   "nbconvert_exporter": "python",
   "pygments_lexer": "ipython3",
   "version": "3.11.2"
  }
 },
 "nbformat": 4,
 "nbformat_minor": 4
}
