{
 "cells": [
  {
   "cell_type": "markdown",
   "metadata": {},
   "source": [
    "É uma classificação não-paramétrica. Também pode ser utilizada em regressão. Utiliza funções de distância para identificar pontos próximas a um dado ou os vizinhos próximos de um dado ponto."
   ]
  },
  {
   "cell_type": "raw",
   "metadata": {},
   "source": [
    "O Algoritmo de KNN segue os seguintes passos básicos:\n",
    "1. Calcular a distância\n",
    "2. Encontrar os vizinhos próximos\n",
    "3. Votação de possíveis categorias para o novo ponto, baseando-se nos vizinhos próximos\n",
    "\n",
    "Pesquisas mostram que a distância euclidiana não é mais útil quando há muitas dimensões.  Nesse caso, pode ser preferível utilizar outras distâncias como a similaridade de cosseno (menos afetada por grandes quantidades de dimensões)\n",
    "\n",
    "Positivos:\n",
    "    • Simplicidade\n",
    "    • Interpretabilitdade\n",
    "    • Não-linearidade\n",
    "\n",
    "Negativos:\n",
    "    • Maldição da dimensionalidade. Na medida que o número de características (features) aumenta, o desempenho do KNN tende a diminuir. Uma das razões é que o aumento do número de features gera a necessidade de mais dados. Além disso, o crescimento na quantidade de dimensões leva ao problema do overfitting. Os dados necessários crescem exponencialmente na medida que você aumenta o número de dimensões.\n",
    "    • Não há uma forma certa de escolher o melhor K, é preciso testar alguns valores (possívelmente utilizando método do cotovelo para analíse de desempenho)\n",
    "    • Na medida que aumenta o número de dados de treino necessários, também aumenta a quantidade necessária de memória para o classificador.\n",
    "    • Requer escalonamento dos dados porque KNN geralmente utiliza a distância euclidiana e esse cálculo é sensível a magnitudes. Características (features) com altas magnitudes vão pesar mais que aquelas com menores magnitudes. \n",
    "    "
   ]
  },
  {
   "cell_type": "code",
   "execution_count": 1,
   "metadata": {
    "execution": {
     "iopub.execute_input": "2024-04-26T05:55:33.402976Z",
     "iopub.status.busy": "2024-04-26T05:55:33.402412Z",
     "iopub.status.idle": "2024-04-26T05:55:33.985341Z",
     "shell.execute_reply": "2024-04-26T05:55:33.984482Z",
     "shell.execute_reply.started": "2024-04-26T05:55:33.402931Z"
    }
   },
   "outputs": [
    {
     "name": "stdout",
     "output_type": "stream",
     "text": [
      "[0]\n",
      "[[0.66666667 0.33333333]]\n"
     ]
    }
   ],
   "source": [
    "X = [[0], [1], [2], [3]]\n",
    "y = [0, 0, 1, 1]\n",
    "from sklearn.neighbors import KNeighborsClassifier\n",
    "neigh = KNeighborsClassifier(n_neighbors=3)\n",
    "neigh.fit(X, y) \n",
    "\n",
    "print(neigh.predict([[1.1]]))\n",
    "\n",
    "print(neigh.predict_proba([[0.9]]))"
   ]
  },
  {
   "cell_type": "markdown",
   "metadata": {},
   "source": [
    "## Exemplos: "
   ]
  },
  {
   "cell_type": "code",
   "execution_count": 2,
   "metadata": {
    "execution": {
     "iopub.execute_input": "2024-04-26T05:55:37.431769Z",
     "iopub.status.busy": "2024-04-26T05:55:37.431377Z",
     "iopub.status.idle": "2024-04-26T05:55:37.459276Z",
     "shell.execute_reply": "2024-04-26T05:55:37.458546Z",
     "shell.execute_reply.started": "2024-04-26T05:55:37.431747Z"
    },
    "scrolled": true
   },
   "outputs": [
    {
     "name": "stdout",
     "output_type": "stream",
     "text": [
      "(array([[0.5]]), array([[2]]))\n"
     ]
    }
   ],
   "source": [
    "# No exemplo a seguir, criamos uma classe NeighborsClassifier a partir de uma matriz que representa nosso conjunto de dados e perguntamos \n",
    "# qual é o ponto mais próximo de [1,1,1]\n",
    "\n",
    "samples = [[0., 0., 0.], [0., .5, 0.], [1., 1., .5]]\n",
    "from sklearn.neighbors import NearestNeighbors\n",
    "neigh = NearestNeighbors(n_neighbors=1)\n",
    "neigh.fit(samples) \n",
    "\n",
    "print(neigh.kneighbors([[1., 1., 1.]])) \n"
   ]
  },
  {
   "cell_type": "code",
   "execution_count": 3,
   "metadata": {
    "execution": {
     "iopub.execute_input": "2024-04-26T05:55:38.131542Z",
     "iopub.status.busy": "2024-04-26T05:55:38.130773Z",
     "iopub.status.idle": "2024-04-26T05:55:38.136162Z",
     "shell.execute_reply": "2024-04-26T05:55:38.135107Z",
     "shell.execute_reply.started": "2024-04-26T05:55:38.131477Z"
    }
   },
   "outputs": [],
   "source": [
    "# Como você pode ver, ele retorna [[0.5]] e [[2]], o que significa que o elemento está a uma distância de 0,5 e é o terceiro \n",
    "# elemento de amostras (os índices começam em 0).\n",
    "# Você também pode consultar vários pontos:"
   ]
  },
  {
   "cell_type": "code",
   "execution_count": 4,
   "metadata": {
    "execution": {
     "iopub.execute_input": "2024-04-26T05:55:38.604296Z",
     "iopub.status.busy": "2024-04-26T05:55:38.603594Z",
     "iopub.status.idle": "2024-04-26T05:55:38.616612Z",
     "shell.execute_reply": "2024-04-26T05:55:38.614991Z",
     "shell.execute_reply.started": "2024-04-26T05:55:38.604241Z"
    }
   },
   "outputs": [
    {
     "data": {
      "text/plain": [
       "array([[1],\n",
       "       [2]])"
      ]
     },
     "execution_count": 4,
     "metadata": {},
     "output_type": "execute_result"
    }
   ],
   "source": [
    "X = [[0., 1., 0.], [1., 0., 1.]]\n",
    "neigh.kneighbors(X,\n",
    "                 return_distance=False) \n"
   ]
  },
  {
   "cell_type": "code",
   "execution_count": null,
   "metadata": {},
   "outputs": [],
   "source": []
  }
 ],
 "metadata": {
  "kernelspec": {
   "display_name": "Python 3 (ipykernel)",
   "language": "python",
   "name": "python3"
  },
  "language_info": {
   "codemirror_mode": {
    "name": "ipython",
    "version": 3
   },
   "file_extension": ".py",
   "mimetype": "text/x-python",
   "name": "python",
   "nbconvert_exporter": "python",
   "pygments_lexer": "ipython3",
   "version": "3.11.2"
  }
 },
 "nbformat": 4,
 "nbformat_minor": 4
}
