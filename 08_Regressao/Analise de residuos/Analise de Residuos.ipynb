{
 "cells": [
  {
   "cell_type": "markdown",
   "metadata": {},
   "source": [
    "# Gráficos de Resíduos"
   ]
  },
  {
   "cell_type": "markdown",
   "metadata": {
    "execution": {
     "iopub.execute_input": "2024-05-10T05:32:16.583146Z",
     "iopub.status.busy": "2024-05-10T05:32:16.582148Z",
     "iopub.status.idle": "2024-05-10T05:32:16.602007Z",
     "shell.execute_reply": "2024-05-10T05:32:16.600838Z",
     "shell.execute_reply.started": "2024-05-10T05:32:16.583101Z"
    }
   },
   "source": [
    "Os resíduos, no contexto dos modelos de regressão, são a diferença entre \n",
    "o valor observado da variável-alvo (y) e o valor previsto (ŷ), \n",
    "por exemplo, o erro da previsão.\n",
    "\n",
    "O gráfico de resíduos mostra a diferença \n",
    "entre os resíduos no eixo vertical e a variável dependente no eixo horizontal \n",
    "eixo horizontal, permitindo detectar regiões dentro do alvo que podem ser suscetíveis a mais ou menos \n",
    "ser suscetíveis a mais ou menos erros."
   ]
  },
  {
   "cell_type": "code",
   "execution_count": 59,
   "metadata": {
    "execution": {
     "iopub.execute_input": "2024-08-02T17:02:55.602646Z",
     "iopub.status.busy": "2024-08-02T17:02:55.602147Z",
     "iopub.status.idle": "2024-08-02T17:02:55.608223Z",
     "shell.execute_reply": "2024-08-02T17:02:55.607168Z",
     "shell.execute_reply.started": "2024-08-02T17:02:55.602611Z"
    }
   },
   "outputs": [],
   "source": [
    "import matplotlib.pyplot as plt\n",
    "import numpy as np\n",
    "import pandas as pd\n",
    "import statsmodels.api as sm\n",
    "import scipy.stats as stats\n",
    "import seaborn as sns\n",
    "import sklearn\n",
    "from sklearn.linear_model import LinearRegression\n",
    "from sklearn.metrics import mean_absolute_error, mean_squared_error, r2_score"
   ]
  },
  {
   "cell_type": "markdown",
   "metadata": {},
   "source": [
    "## Exemplo 1 (Dados de Exemplo):"
   ]
  },
  {
   "cell_type": "code",
   "execution_count": 60,
   "metadata": {
    "execution": {
     "iopub.execute_input": "2024-08-02T17:02:55.926840Z",
     "iopub.status.busy": "2024-08-02T17:02:55.926413Z",
     "iopub.status.idle": "2024-08-02T17:02:55.931249Z",
     "shell.execute_reply": "2024-08-02T17:02:55.930363Z",
     "shell.execute_reply.started": "2024-08-02T17:02:55.926805Z"
    }
   },
   "outputs": [],
   "source": [
    "sns.set(style=\"whitegrid\")"
   ]
  },
  {
   "cell_type": "code",
   "execution_count": 61,
   "metadata": {
    "execution": {
     "iopub.execute_input": "2024-08-02T17:02:56.097840Z",
     "iopub.status.busy": "2024-08-02T17:02:56.097485Z",
     "iopub.status.idle": "2024-08-02T17:02:56.102875Z",
     "shell.execute_reply": "2024-08-02T17:02:56.102091Z",
     "shell.execute_reply.started": "2024-08-02T17:02:56.097818Z"
    }
   },
   "outputs": [],
   "source": [
    "# Dataset de exemplo com y - x\n",
    "rs = np.random.RandomState(7)\n",
    "x = rs.normal(2, 1, 75)\n",
    "y = 2 + 1.5 * x + rs.normal(0, 2, 75)"
   ]
  },
  {
   "cell_type": "markdown",
   "metadata": {},
   "source": [
    "## Método 1 (Seaborn) "
   ]
  },
  {
   "cell_type": "code",
   "execution_count": 62,
   "metadata": {
    "execution": {
     "iopub.execute_input": "2024-08-02T17:02:57.239513Z",
     "iopub.status.busy": "2024-08-02T17:02:57.238700Z",
     "iopub.status.idle": "2024-08-02T17:02:57.496906Z",
     "shell.execute_reply": "2024-08-02T17:02:57.496303Z",
     "shell.execute_reply.started": "2024-08-02T17:02:57.239469Z"
    }
   },
   "outputs": [
    {
     "data": {
      "text/plain": [
       "<Axes: >"
      ]
     },
     "execution_count": 62,
     "metadata": {},
     "output_type": "execute_result"
    },
    {
     "data": {
      "image/png": "[encoded data removed]",
      "text/plain": [
       "<Figure size 640x480 with 1 Axes>"
      ]
     },
     "metadata": {},
     "output_type": "display_data"
    }
   ],
   "source": [
    "# Traçar os resíduos após o ajuste de um modelo linear\n",
    "sns.residplot(x=x,\n",
    "              y=y,\n",
    "              lowess=True, color=\"g\")"
   ]
  },
  {
   "cell_type": "markdown",
   "metadata": {},
   "source": [
    "## Método 2 (Statsmodel)"
   ]
  },
  {
   "cell_type": "code",
   "execution_count": 63,
   "metadata": {
    "execution": {
     "iopub.execute_input": "2024-08-02T17:02:59.800593Z",
     "iopub.status.busy": "2024-08-02T17:02:59.800088Z",
     "iopub.status.idle": "2024-08-02T17:02:59.808278Z",
     "shell.execute_reply": "2024-08-02T17:02:59.807035Z",
     "shell.execute_reply.started": "2024-08-02T17:02:59.800569Z"
    }
   },
   "outputs": [],
   "source": [
    "# Criar um DataFrame\n",
    "data = pd.DataFrame({'x': x, 'y': y})\n",
    "\n",
    "# Ajustar um modelo de regressão linear\n",
    "X = sm.add_constant(data['x'])  # Adicionar uma constante para o intercepto\n",
    "model = sm.OLS(data['y'], X).fit()\n",
    "\n",
    "# Obter os resíduos\n",
    "residuos = model.resid"
   ]
  },
  {
   "cell_type": "code",
   "execution_count": 64,
   "metadata": {
    "execution": {
     "iopub.execute_input": "2024-08-02T17:03:00.316310Z",
     "iopub.status.busy": "2024-08-02T17:03:00.315258Z",
     "iopub.status.idle": "2024-08-02T17:03:00.339934Z",
     "shell.execute_reply": "2024-08-02T17:03:00.338880Z",
     "shell.execute_reply.started": "2024-08-02T17:03:00.316250Z"
    }
   },
   "outputs": [
    {
     "name": "stdout",
     "output_type": "stream",
     "text": [
      "                            OLS Regression Results                            \n",
      "==============================================================================\n",
      "Dep. Variable:                      y   R-squared:                       0.465\n",
      "Model:                            OLS   Adj. R-squared:                  0.458\n",
      "Method:                 Least Squares   F-statistic:                     63.49\n",
      "Date:                Fri, 02 Aug 2024   Prob (F-statistic):           1.62e-11\n",
      "Time:                        14:03:00   Log-Likelihood:                -147.27\n",
      "No. Observations:                  75   AIC:                             298.5\n",
      "Df Residuals:                      73   BIC:                             303.2\n",
      "Df Model:                           1                                         \n",
      "Covariance Type:            nonrobust                                         \n",
      "==============================================================================\n",
      "                 coef    std err          t      P>|t|      [0.025      0.975]\n",
      "------------------------------------------------------------------------------\n",
      "const          1.8831      0.421      4.476      0.000       1.045       2.722\n",
      "x              1.5096      0.189      7.968      0.000       1.132       1.887\n",
      "==============================================================================\n",
      "Omnibus:                        0.261   Durbin-Watson:                   1.649\n",
      "Prob(Omnibus):                  0.878   Jarque-Bera (JB):                0.165\n",
      "Skew:                           0.113   Prob(JB):                        0.921\n",
      "Kurtosis:                       2.957   Cond. No.                         5.38\n",
      "==============================================================================\n",
      "\n",
      "Notes:\n",
      "[1] Standard Errors assume that the covariance matrix of the errors is correctly specified.\n"
     ]
    }
   ],
   "source": [
    "# Resumo do modelo\n",
    "print(model.summary())"
   ]
  },
  {
   "cell_type": "code",
   "execution_count": 65,
   "metadata": {
    "execution": {
     "iopub.execute_input": "2024-08-02T17:03:00.612650Z",
     "iopub.status.busy": "2024-08-02T17:03:00.611923Z",
     "iopub.status.idle": "2024-08-02T17:03:01.075060Z",
     "shell.execute_reply": "2024-08-02T17:03:01.074405Z",
     "shell.execute_reply.started": "2024-08-02T17:03:00.612608Z"
    }
   },
   "outputs": [
    {
     "data": {
      "image/png": "[encoded data removed]",
      "text/plain": [
       "<Figure size 640x480 with 2 Axes>"
      ]
     },
     "metadata": {},
     "output_type": "display_data"
    }
   ],
   "source": [
    "# Gráfico de dispersão dos resíduos\n",
    "plt.subplot(1, 2, 1)\n",
    "plt.scatter(model.fittedvalues, residuos)\n",
    "plt.axhline(0, color='red', linestyle='--')\n",
    "plt.title('Resíduos vs Valores Ajustados')\n",
    "plt.xlabel('Valores Ajustados')\n",
    "plt.ylabel('Resíduos')\n",
    "\n",
    "# Histograma dos resíduos\n",
    "plt.subplot(1, 2, 2)\n",
    "sns.histplot(residuos, kde=True)\n",
    "plt.title('Histograma dos Resíduos')\n",
    "plt.xlabel('Resíduos')\n",
    "\n",
    "plt.tight_layout()\n",
    "plt.show()"
   ]
  },
  {
   "cell_type": "markdown",
   "metadata": {
    "execution": {
     "iopub.execute_input": "2024-08-02T16:12:03.069379Z",
     "iopub.status.busy": "2024-08-02T16:12:03.068670Z",
     "iopub.status.idle": "2024-08-02T16:12:03.074779Z",
     "shell.execute_reply": "2024-08-02T16:12:03.073616Z",
     "shell.execute_reply.started": "2024-08-02T16:12:03.069338Z"
    }
   },
   "source": [
    "---"
   ]
  },
  {
   "cell_type": "markdown",
   "metadata": {},
   "source": [
    "---"
   ]
  },
  {
   "cell_type": "markdown",
   "metadata": {},
   "source": [
    "## Exemplo 2:"
   ]
  },
  {
   "cell_type": "code",
   "execution_count": 66,
   "metadata": {
    "execution": {
     "iopub.execute_input": "2024-08-02T17:03:09.406372Z",
     "iopub.status.busy": "2024-08-02T17:03:09.405455Z",
     "iopub.status.idle": "2024-08-02T17:03:09.413737Z",
     "shell.execute_reply": "2024-08-02T17:03:09.412669Z",
     "shell.execute_reply.started": "2024-08-02T17:03:09.406326Z"
    }
   },
   "outputs": [],
   "source": [
    "%matplotlib inline"
   ]
  },
  {
   "cell_type": "markdown",
   "metadata": {},
   "source": [
    "## Database de Emissões por Veículos"
   ]
  },
  {
   "cell_type": "code",
   "execution_count": 67,
   "metadata": {
    "execution": {
     "iopub.execute_input": "2024-08-02T17:03:10.147226Z",
     "iopub.status.busy": "2024-08-02T17:03:10.146664Z",
     "iopub.status.idle": "2024-08-02T17:03:10.168200Z",
     "shell.execute_reply": "2024-08-02T17:03:10.166793Z",
     "shell.execute_reply.started": "2024-08-02T17:03:10.147186Z"
    }
   },
   "outputs": [],
   "source": [
    "base = pd.read_csv(\"final_co2.csv\")"
   ]
  },
  {
   "cell_type": "code",
   "execution_count": 71,
   "metadata": {
    "execution": {
     "iopub.execute_input": "2024-08-02T17:05:38.284042Z",
     "iopub.status.busy": "2024-08-02T17:05:38.283052Z",
     "iopub.status.idle": "2024-08-02T17:05:38.314319Z",
     "shell.execute_reply": "2024-08-02T17:05:38.313146Z",
     "shell.execute_reply.started": "2024-08-02T17:05:38.283993Z"
    }
   },
   "outputs": [
    {
     "data": {
      "text/html": [
       "<div>\n",
       "<style scoped>\n",
       "    .dataframe tbody tr th:only-of-type {\n",
       "        vertical-align: middle;\n",
       "    }\n",
       "\n",
       "    .dataframe tbody tr th {\n",
       "        vertical-align: top;\n",
       "    }\n",
       "\n",
       "    .dataframe thead th {\n",
       "        text-align: right;\n",
       "    }\n",
       "</style>\n",
       "<table border=\"1\" class=\"dataframe\">\n",
       "  <thead>\n",
       "    <tr style=\"text-align: right;\">\n",
       "      <th></th>\n",
       "      <th>Unnamed: 0</th>\n",
       "      <th>Engine_Size</th>\n",
       "      <th>Cylinders</th>\n",
       "      <th>Fuel_Consumption_City</th>\n",
       "      <th>Fuel_Consumption_Hwy</th>\n",
       "      <th>Fuel_Consumption_Comb</th>\n",
       "      <th>Fuel_Consumption_Comb_mpg</th>\n",
       "      <th>CO2_Emissions</th>\n",
       "      <th>Fuel_Type_E</th>\n",
       "      <th>Fuel_Type_X</th>\n",
       "      <th>...</th>\n",
       "      <th>Transmission_AV8</th>\n",
       "      <th>Transmission_M5</th>\n",
       "      <th>Transmission_M6</th>\n",
       "      <th>Transmission_M7</th>\n",
       "      <th>Make_Type_Luxury</th>\n",
       "      <th>Make_Type_Premium</th>\n",
       "      <th>Make_Type_Sports</th>\n",
       "      <th>Vehicle_Class_Type_SUV</th>\n",
       "      <th>Vehicle_Class_Type_Sedan</th>\n",
       "      <th>Vehicle_Class_Type_Truck</th>\n",
       "    </tr>\n",
       "  </thead>\n",
       "  <tbody>\n",
       "    <tr>\n",
       "      <th>0</th>\n",
       "      <td>0</td>\n",
       "      <td>2.0</td>\n",
       "      <td>4</td>\n",
       "      <td>9.9</td>\n",
       "      <td>6.7</td>\n",
       "      <td>8.5</td>\n",
       "      <td>33</td>\n",
       "      <td>196</td>\n",
       "      <td>0</td>\n",
       "      <td>0</td>\n",
       "      <td>...</td>\n",
       "      <td>0</td>\n",
       "      <td>0</td>\n",
       "      <td>0</td>\n",
       "      <td>0</td>\n",
       "      <td>1</td>\n",
       "      <td>0</td>\n",
       "      <td>0</td>\n",
       "      <td>0</td>\n",
       "      <td>0</td>\n",
       "      <td>0</td>\n",
       "    </tr>\n",
       "    <tr>\n",
       "      <th>1</th>\n",
       "      <td>1</td>\n",
       "      <td>2.4</td>\n",
       "      <td>4</td>\n",
       "      <td>11.2</td>\n",
       "      <td>7.7</td>\n",
       "      <td>9.6</td>\n",
       "      <td>29</td>\n",
       "      <td>221</td>\n",
       "      <td>0</td>\n",
       "      <td>0</td>\n",
       "      <td>...</td>\n",
       "      <td>0</td>\n",
       "      <td>0</td>\n",
       "      <td>1</td>\n",
       "      <td>0</td>\n",
       "      <td>1</td>\n",
       "      <td>0</td>\n",
       "      <td>0</td>\n",
       "      <td>0</td>\n",
       "      <td>0</td>\n",
       "      <td>0</td>\n",
       "    </tr>\n",
       "    <tr>\n",
       "      <th>2</th>\n",
       "      <td>2</td>\n",
       "      <td>3.5</td>\n",
       "      <td>6</td>\n",
       "      <td>12.7</td>\n",
       "      <td>9.1</td>\n",
       "      <td>11.1</td>\n",
       "      <td>25</td>\n",
       "      <td>255</td>\n",
       "      <td>0</td>\n",
       "      <td>0</td>\n",
       "      <td>...</td>\n",
       "      <td>0</td>\n",
       "      <td>0</td>\n",
       "      <td>0</td>\n",
       "      <td>0</td>\n",
       "      <td>1</td>\n",
       "      <td>0</td>\n",
       "      <td>0</td>\n",
       "      <td>1</td>\n",
       "      <td>0</td>\n",
       "      <td>0</td>\n",
       "    </tr>\n",
       "    <tr>\n",
       "      <th>3</th>\n",
       "      <td>3</td>\n",
       "      <td>3.5</td>\n",
       "      <td>6</td>\n",
       "      <td>12.1</td>\n",
       "      <td>8.7</td>\n",
       "      <td>10.6</td>\n",
       "      <td>27</td>\n",
       "      <td>244</td>\n",
       "      <td>0</td>\n",
       "      <td>0</td>\n",
       "      <td>...</td>\n",
       "      <td>0</td>\n",
       "      <td>0</td>\n",
       "      <td>0</td>\n",
       "      <td>0</td>\n",
       "      <td>1</td>\n",
       "      <td>0</td>\n",
       "      <td>0</td>\n",
       "      <td>1</td>\n",
       "      <td>0</td>\n",
       "      <td>0</td>\n",
       "    </tr>\n",
       "    <tr>\n",
       "      <th>4</th>\n",
       "      <td>4</td>\n",
       "      <td>3.5</td>\n",
       "      <td>6</td>\n",
       "      <td>11.9</td>\n",
       "      <td>7.7</td>\n",
       "      <td>10.0</td>\n",
       "      <td>28</td>\n",
       "      <td>230</td>\n",
       "      <td>0</td>\n",
       "      <td>0</td>\n",
       "      <td>...</td>\n",
       "      <td>0</td>\n",
       "      <td>0</td>\n",
       "      <td>0</td>\n",
       "      <td>0</td>\n",
       "      <td>1</td>\n",
       "      <td>0</td>\n",
       "      <td>0</td>\n",
       "      <td>0</td>\n",
       "      <td>1</td>\n",
       "      <td>0</td>\n",
       "    </tr>\n",
       "  </tbody>\n",
       "</table>\n",
       "<p>5 rows × 43 columns</p>\n",
       "</div>"
      ],
      "text/plain": [
       "   Unnamed: 0  Engine_Size  Cylinders  Fuel_Consumption_City  \\\n",
       "0           0          2.0          4                    9.9   \n",
       "1           1          2.4          4                   11.2   \n",
       "2           2          3.5          6                   12.7   \n",
       "3           3          3.5          6                   12.1   \n",
       "4           4          3.5          6                   11.9   \n",
       "\n",
       "   Fuel_Consumption_Hwy  Fuel_Consumption_Comb  Fuel_Consumption_Comb_mpg  \\\n",
       "0                   6.7                    8.5                         33   \n",
       "1                   7.7                    9.6                         29   \n",
       "2                   9.1                   11.1                         25   \n",
       "3                   8.7                   10.6                         27   \n",
       "4                   7.7                   10.0                         28   \n",
       "\n",
       "   CO2_Emissions  Fuel_Type_E  Fuel_Type_X  ...  Transmission_AV8  \\\n",
       "0            196            0            0  ...                 0   \n",
       "1            221            0            0  ...                 0   \n",
       "2            255            0            0  ...                 0   \n",
       "3            244            0            0  ...                 0   \n",
       "4            230            0            0  ...                 0   \n",
       "\n",
       "   Transmission_M5  Transmission_M6  Transmission_M7  Make_Type_Luxury  \\\n",
       "0                0                0                0                 1   \n",
       "1                0                1                0                 1   \n",
       "2                0                0                0                 1   \n",
       "3                0                0                0                 1   \n",
       "4                0                0                0                 1   \n",
       "\n",
       "   Make_Type_Premium  Make_Type_Sports  Vehicle_Class_Type_SUV  \\\n",
       "0                  0                 0                       0   \n",
       "1                  0                 0                       0   \n",
       "2                  0                 0                       1   \n",
       "3                  0                 0                       1   \n",
       "4                  0                 0                       0   \n",
       "\n",
       "   Vehicle_Class_Type_Sedan  Vehicle_Class_Type_Truck  \n",
       "0                         0                         0  \n",
       "1                         0                         0  \n",
       "2                         0                         0  \n",
       "3                         0                         0  \n",
       "4                         1                         0  \n",
       "\n",
       "[5 rows x 43 columns]"
      ]
     },
     "execution_count": 71,
     "metadata": {},
     "output_type": "execute_result"
    }
   ],
   "source": [
    "base.head()"
   ]
  },
  {
   "cell_type": "code",
   "execution_count": 72,
   "metadata": {
    "execution": {
     "iopub.execute_input": "2024-08-02T17:05:45.142665Z",
     "iopub.status.busy": "2024-08-02T17:05:45.142057Z",
     "iopub.status.idle": "2024-08-02T17:05:45.260999Z",
     "shell.execute_reply": "2024-08-02T17:05:45.259950Z",
     "shell.execute_reply.started": "2024-08-02T17:05:45.142628Z"
    }
   },
   "outputs": [
    {
     "data": {
      "text/html": [
       "<div>\n",
       "<style scoped>\n",
       "    .dataframe tbody tr th:only-of-type {\n",
       "        vertical-align: middle;\n",
       "    }\n",
       "\n",
       "    .dataframe tbody tr th {\n",
       "        vertical-align: top;\n",
       "    }\n",
       "\n",
       "    .dataframe thead th {\n",
       "        text-align: right;\n",
       "    }\n",
       "</style>\n",
       "<table border=\"1\" class=\"dataframe\">\n",
       "  <thead>\n",
       "    <tr style=\"text-align: right;\">\n",
       "      <th></th>\n",
       "      <th>Unnamed: 0</th>\n",
       "      <th>Engine_Size</th>\n",
       "      <th>Cylinders</th>\n",
       "      <th>Fuel_Consumption_City</th>\n",
       "      <th>Fuel_Consumption_Hwy</th>\n",
       "      <th>Fuel_Consumption_Comb</th>\n",
       "      <th>Fuel_Consumption_Comb_mpg</th>\n",
       "      <th>CO2_Emissions</th>\n",
       "      <th>Fuel_Type_E</th>\n",
       "      <th>Fuel_Type_X</th>\n",
       "      <th>...</th>\n",
       "      <th>Transmission_AV8</th>\n",
       "      <th>Transmission_M5</th>\n",
       "      <th>Transmission_M6</th>\n",
       "      <th>Transmission_M7</th>\n",
       "      <th>Make_Type_Luxury</th>\n",
       "      <th>Make_Type_Premium</th>\n",
       "      <th>Make_Type_Sports</th>\n",
       "      <th>Vehicle_Class_Type_SUV</th>\n",
       "      <th>Vehicle_Class_Type_Sedan</th>\n",
       "      <th>Vehicle_Class_Type_Truck</th>\n",
       "    </tr>\n",
       "  </thead>\n",
       "  <tbody>\n",
       "    <tr>\n",
       "      <th>count</th>\n",
       "      <td>5815.000000</td>\n",
       "      <td>5815.000000</td>\n",
       "      <td>5815.000000</td>\n",
       "      <td>5815.000000</td>\n",
       "      <td>5815.000000</td>\n",
       "      <td>5815.000000</td>\n",
       "      <td>5815.000000</td>\n",
       "      <td>5815.000000</td>\n",
       "      <td>5815.000000</td>\n",
       "      <td>5815.000000</td>\n",
       "      <td>...</td>\n",
       "      <td>5815.000000</td>\n",
       "      <td>5815.000000</td>\n",
       "      <td>5815.000000</td>\n",
       "      <td>5815.000000</td>\n",
       "      <td>5815.000000</td>\n",
       "      <td>5815.000000</td>\n",
       "      <td>5815.000000</td>\n",
       "      <td>5815.000000</td>\n",
       "      <td>5815.000000</td>\n",
       "      <td>5815.000000</td>\n",
       "    </tr>\n",
       "    <tr>\n",
       "      <th>mean</th>\n",
       "      <td>2907.000000</td>\n",
       "      <td>3.014153</td>\n",
       "      <td>5.391574</td>\n",
       "      <td>12.232743</td>\n",
       "      <td>8.831212</td>\n",
       "      <td>10.702631</td>\n",
       "      <td>27.665692</td>\n",
       "      <td>246.010490</td>\n",
       "      <td>0.038349</td>\n",
       "      <td>0.501290</td>\n",
       "      <td>...</td>\n",
       "      <td>0.005847</td>\n",
       "      <td>0.028891</td>\n",
       "      <td>0.129837</td>\n",
       "      <td>0.013242</td>\n",
       "      <td>0.025795</td>\n",
       "      <td>0.441617</td>\n",
       "      <td>0.083405</td>\n",
       "      <td>0.278074</td>\n",
       "      <td>0.325709</td>\n",
       "      <td>0.112984</td>\n",
       "    </tr>\n",
       "    <tr>\n",
       "      <th>std</th>\n",
       "      <td>1678.790239</td>\n",
       "      <td>1.215639</td>\n",
       "      <td>1.517436</td>\n",
       "      <td>2.858833</td>\n",
       "      <td>1.864979</td>\n",
       "      <td>2.379126</td>\n",
       "      <td>6.043588</td>\n",
       "      <td>50.211144</td>\n",
       "      <td>0.192054</td>\n",
       "      <td>0.500041</td>\n",
       "      <td>...</td>\n",
       "      <td>0.076248</td>\n",
       "      <td>0.167514</td>\n",
       "      <td>0.336153</td>\n",
       "      <td>0.114318</td>\n",
       "      <td>0.158538</td>\n",
       "      <td>0.496622</td>\n",
       "      <td>0.276517</td>\n",
       "      <td>0.448089</td>\n",
       "      <td>0.468680</td>\n",
       "      <td>0.316600</td>\n",
       "    </tr>\n",
       "    <tr>\n",
       "      <th>min</th>\n",
       "      <td>0.000000</td>\n",
       "      <td>0.900000</td>\n",
       "      <td>3.000000</td>\n",
       "      <td>5.600000</td>\n",
       "      <td>4.500000</td>\n",
       "      <td>6.000000</td>\n",
       "      <td>16.000000</td>\n",
       "      <td>128.000000</td>\n",
       "      <td>0.000000</td>\n",
       "      <td>0.000000</td>\n",
       "      <td>...</td>\n",
       "      <td>0.000000</td>\n",
       "      <td>0.000000</td>\n",
       "      <td>0.000000</td>\n",
       "      <td>0.000000</td>\n",
       "      <td>0.000000</td>\n",
       "      <td>0.000000</td>\n",
       "      <td>0.000000</td>\n",
       "      <td>0.000000</td>\n",
       "      <td>0.000000</td>\n",
       "      <td>0.000000</td>\n",
       "    </tr>\n",
       "    <tr>\n",
       "      <th>25%</th>\n",
       "      <td>1453.500000</td>\n",
       "      <td>2.000000</td>\n",
       "      <td>4.000000</td>\n",
       "      <td>10.000000</td>\n",
       "      <td>7.400000</td>\n",
       "      <td>8.900000</td>\n",
       "      <td>23.000000</td>\n",
       "      <td>207.000000</td>\n",
       "      <td>0.000000</td>\n",
       "      <td>0.000000</td>\n",
       "      <td>...</td>\n",
       "      <td>0.000000</td>\n",
       "      <td>0.000000</td>\n",
       "      <td>0.000000</td>\n",
       "      <td>0.000000</td>\n",
       "      <td>0.000000</td>\n",
       "      <td>0.000000</td>\n",
       "      <td>0.000000</td>\n",
       "      <td>0.000000</td>\n",
       "      <td>0.000000</td>\n",
       "      <td>0.000000</td>\n",
       "    </tr>\n",
       "    <tr>\n",
       "      <th>50%</th>\n",
       "      <td>2907.000000</td>\n",
       "      <td>3.000000</td>\n",
       "      <td>6.000000</td>\n",
       "      <td>11.900000</td>\n",
       "      <td>8.600000</td>\n",
       "      <td>10.400000</td>\n",
       "      <td>27.000000</td>\n",
       "      <td>242.000000</td>\n",
       "      <td>0.000000</td>\n",
       "      <td>1.000000</td>\n",
       "      <td>...</td>\n",
       "      <td>0.000000</td>\n",
       "      <td>0.000000</td>\n",
       "      <td>0.000000</td>\n",
       "      <td>0.000000</td>\n",
       "      <td>0.000000</td>\n",
       "      <td>0.000000</td>\n",
       "      <td>0.000000</td>\n",
       "      <td>0.000000</td>\n",
       "      <td>0.000000</td>\n",
       "      <td>0.000000</td>\n",
       "    </tr>\n",
       "    <tr>\n",
       "      <th>75%</th>\n",
       "      <td>4360.500000</td>\n",
       "      <td>3.600000</td>\n",
       "      <td>6.000000</td>\n",
       "      <td>14.100000</td>\n",
       "      <td>9.900000</td>\n",
       "      <td>12.300000</td>\n",
       "      <td>32.000000</td>\n",
       "      <td>281.000000</td>\n",
       "      <td>0.000000</td>\n",
       "      <td>1.000000</td>\n",
       "      <td>...</td>\n",
       "      <td>0.000000</td>\n",
       "      <td>0.000000</td>\n",
       "      <td>0.000000</td>\n",
       "      <td>0.000000</td>\n",
       "      <td>0.000000</td>\n",
       "      <td>1.000000</td>\n",
       "      <td>0.000000</td>\n",
       "      <td>1.000000</td>\n",
       "      <td>1.000000</td>\n",
       "      <td>0.000000</td>\n",
       "    </tr>\n",
       "    <tr>\n",
       "      <th>max</th>\n",
       "      <td>5814.000000</td>\n",
       "      <td>6.200000</td>\n",
       "      <td>8.000000</td>\n",
       "      <td>21.300000</td>\n",
       "      <td>14.500000</td>\n",
       "      <td>18.100000</td>\n",
       "      <td>47.000000</td>\n",
       "      <td>407.000000</td>\n",
       "      <td>1.000000</td>\n",
       "      <td>1.000000</td>\n",
       "      <td>...</td>\n",
       "      <td>1.000000</td>\n",
       "      <td>1.000000</td>\n",
       "      <td>1.000000</td>\n",
       "      <td>1.000000</td>\n",
       "      <td>1.000000</td>\n",
       "      <td>1.000000</td>\n",
       "      <td>1.000000</td>\n",
       "      <td>1.000000</td>\n",
       "      <td>1.000000</td>\n",
       "      <td>1.000000</td>\n",
       "    </tr>\n",
       "  </tbody>\n",
       "</table>\n",
       "<p>8 rows × 43 columns</p>\n",
       "</div>"
      ],
      "text/plain": [
       "        Unnamed: 0  Engine_Size    Cylinders  Fuel_Consumption_City  \\\n",
       "count  5815.000000  5815.000000  5815.000000            5815.000000   \n",
       "mean   2907.000000     3.014153     5.391574              12.232743   \n",
       "std    1678.790239     1.215639     1.517436               2.858833   \n",
       "min       0.000000     0.900000     3.000000               5.600000   \n",
       "25%    1453.500000     2.000000     4.000000              10.000000   \n",
       "50%    2907.000000     3.000000     6.000000              11.900000   \n",
       "75%    4360.500000     3.600000     6.000000              14.100000   \n",
       "max    5814.000000     6.200000     8.000000              21.300000   \n",
       "\n",
       "       Fuel_Consumption_Hwy  Fuel_Consumption_Comb  Fuel_Consumption_Comb_mpg  \\\n",
       "count           5815.000000            5815.000000                5815.000000   \n",
       "mean               8.831212              10.702631                  27.665692   \n",
       "std                1.864979               2.379126                   6.043588   \n",
       "min                4.500000               6.000000                  16.000000   \n",
       "25%                7.400000               8.900000                  23.000000   \n",
       "50%                8.600000              10.400000                  27.000000   \n",
       "75%                9.900000              12.300000                  32.000000   \n",
       "max               14.500000              18.100000                  47.000000   \n",
       "\n",
       "       CO2_Emissions  Fuel_Type_E  Fuel_Type_X  ...  Transmission_AV8  \\\n",
       "count    5815.000000  5815.000000  5815.000000  ...       5815.000000   \n",
       "mean      246.010490     0.038349     0.501290  ...          0.005847   \n",
       "std        50.211144     0.192054     0.500041  ...          0.076248   \n",
       "min       128.000000     0.000000     0.000000  ...          0.000000   \n",
       "25%       207.000000     0.000000     0.000000  ...          0.000000   \n",
       "50%       242.000000     0.000000     1.000000  ...          0.000000   \n",
       "75%       281.000000     0.000000     1.000000  ...          0.000000   \n",
       "max       407.000000     1.000000     1.000000  ...          1.000000   \n",
       "\n",
       "       Transmission_M5  Transmission_M6  Transmission_M7  Make_Type_Luxury  \\\n",
       "count      5815.000000      5815.000000      5815.000000       5815.000000   \n",
       "mean          0.028891         0.129837         0.013242          0.025795   \n",
       "std           0.167514         0.336153         0.114318          0.158538   \n",
       "min           0.000000         0.000000         0.000000          0.000000   \n",
       "25%           0.000000         0.000000         0.000000          0.000000   \n",
       "50%           0.000000         0.000000         0.000000          0.000000   \n",
       "75%           0.000000         0.000000         0.000000          0.000000   \n",
       "max           1.000000         1.000000         1.000000          1.000000   \n",
       "\n",
       "       Make_Type_Premium  Make_Type_Sports  Vehicle_Class_Type_SUV  \\\n",
       "count        5815.000000       5815.000000             5815.000000   \n",
       "mean            0.441617          0.083405                0.278074   \n",
       "std             0.496622          0.276517                0.448089   \n",
       "min             0.000000          0.000000                0.000000   \n",
       "25%             0.000000          0.000000                0.000000   \n",
       "50%             0.000000          0.000000                0.000000   \n",
       "75%             1.000000          0.000000                1.000000   \n",
       "max             1.000000          1.000000                1.000000   \n",
       "\n",
       "       Vehicle_Class_Type_Sedan  Vehicle_Class_Type_Truck  \n",
       "count               5815.000000               5815.000000  \n",
       "mean                   0.325709                  0.112984  \n",
       "std                    0.468680                  0.316600  \n",
       "min                    0.000000                  0.000000  \n",
       "25%                    0.000000                  0.000000  \n",
       "50%                    0.000000                  0.000000  \n",
       "75%                    1.000000                  0.000000  \n",
       "max                    1.000000                  1.000000  \n",
       "\n",
       "[8 rows x 43 columns]"
      ]
     },
     "execution_count": 72,
     "metadata": {},
     "output_type": "execute_result"
    }
   ],
   "source": [
    "base.describe()"
   ]
  },
  {
   "cell_type": "code",
   "execution_count": 22,
   "metadata": {
    "execution": {
     "iopub.execute_input": "2024-08-02T16:12:53.653407Z",
     "iopub.status.busy": "2024-08-02T16:12:53.652818Z",
     "iopub.status.idle": "2024-08-02T16:12:53.659398Z",
     "shell.execute_reply": "2024-08-02T16:12:53.657991Z",
     "shell.execute_reply.started": "2024-08-02T16:12:53.653357Z"
    }
   },
   "outputs": [],
   "source": [
    "target_column = \"CO2_Emissions\""
   ]
  },
  {
   "cell_type": "markdown",
   "metadata": {},
   "source": [
    "### Dataprep"
   ]
  },
  {
   "cell_type": "markdown",
   "metadata": {},
   "source": [
    "#### LImpar Colunas Sujas"
   ]
  },
  {
   "cell_type": "code",
   "execution_count": 21,
   "metadata": {
    "execution": {
     "iopub.execute_input": "2024-08-02T16:12:27.242300Z",
     "iopub.status.busy": "2024-08-02T16:12:27.241439Z",
     "iopub.status.idle": "2024-08-02T16:12:27.250721Z",
     "shell.execute_reply": "2024-08-02T16:12:27.249200Z",
     "shell.execute_reply.started": "2024-08-02T16:12:27.242249Z"
    }
   },
   "outputs": [
    {
     "data": {
      "text/plain": [
       "Index(['Unnamed: 0', 'Engine_Size', 'Cylinders', 'Fuel_Consumption_City',\n",
       "       'Fuel_Consumption_Hwy', 'Fuel_Consumption_Comb',\n",
       "       'Fuel_Consumption_Comb_mpg', 'CO2_Emissions', 'Fuel_Type_E',\n",
       "       'Fuel_Type_X', 'Fuel_Type_Z', 'Transmission_A4', 'Transmission_A5',\n",
       "       'Transmission_A6', 'Transmission_A7', 'Transmission_A8',\n",
       "       'Transmission_A9', 'Transmission_AM5', 'Transmission_AM6',\n",
       "       'Transmission_AM7', 'Transmission_AM8', 'Transmission_AM9',\n",
       "       'Transmission_AS10', 'Transmission_AS4', 'Transmission_AS5',\n",
       "       'Transmission_AS6', 'Transmission_AS7', 'Transmission_AS8',\n",
       "       'Transmission_AS9', 'Transmission_AV', 'Transmission_AV10',\n",
       "       'Transmission_AV6', 'Transmission_AV7', 'Transmission_AV8',\n",
       "       'Transmission_M5', 'Transmission_M6', 'Transmission_M7',\n",
       "       'Make_Type_Luxury', 'Make_Type_Premium', 'Make_Type_Sports',\n",
       "       'Vehicle_Class_Type_SUV', 'Vehicle_Class_Type_Sedan',\n",
       "       'Vehicle_Class_Type_Truck'],\n",
       "      dtype='object')"
      ]
     },
     "execution_count": 21,
     "metadata": {},
     "output_type": "execute_result"
    }
   ],
   "source": [
    "base.columns"
   ]
  },
  {
   "cell_type": "code",
   "execution_count": 26,
   "metadata": {
    "execution": {
     "iopub.execute_input": "2024-08-02T16:14:27.254476Z",
     "iopub.status.busy": "2024-08-02T16:14:27.253863Z",
     "iopub.status.idle": "2024-08-02T16:14:27.262122Z",
     "shell.execute_reply": "2024-08-02T16:14:27.260555Z",
     "shell.execute_reply.started": "2024-08-02T16:14:27.254437Z"
    }
   },
   "outputs": [],
   "source": [
    "try:\n",
    "    base = base.drop(columns=[\"Unnamed: 0\"])\n",
    "except:\n",
    "    pass"
   ]
  },
  {
   "cell_type": "code",
   "execution_count": 27,
   "metadata": {
    "execution": {
     "iopub.execute_input": "2024-08-02T16:14:27.500036Z",
     "iopub.status.busy": "2024-08-02T16:14:27.499434Z",
     "iopub.status.idle": "2024-08-02T16:14:27.504502Z",
     "shell.execute_reply": "2024-08-02T16:14:27.503808Z",
     "shell.execute_reply.started": "2024-08-02T16:14:27.499995Z"
    }
   },
   "outputs": [
    {
     "data": {
      "text/plain": [
       "Index(['Engine_Size', 'Cylinders', 'Fuel_Consumption_City',\n",
       "       'Fuel_Consumption_Hwy', 'Fuel_Consumption_Comb',\n",
       "       'Fuel_Consumption_Comb_mpg', 'CO2_Emissions', 'Fuel_Type_E',\n",
       "       'Fuel_Type_X', 'Fuel_Type_Z', 'Transmission_A4', 'Transmission_A5',\n",
       "       'Transmission_A6', 'Transmission_A7', 'Transmission_A8',\n",
       "       'Transmission_A9', 'Transmission_AM5', 'Transmission_AM6',\n",
       "       'Transmission_AM7', 'Transmission_AM8', 'Transmission_AM9',\n",
       "       'Transmission_AS10', 'Transmission_AS4', 'Transmission_AS5',\n",
       "       'Transmission_AS6', 'Transmission_AS7', 'Transmission_AS8',\n",
       "       'Transmission_AS9', 'Transmission_AV', 'Transmission_AV10',\n",
       "       'Transmission_AV6', 'Transmission_AV7', 'Transmission_AV8',\n",
       "       'Transmission_M5', 'Transmission_M6', 'Transmission_M7',\n",
       "       'Make_Type_Luxury', 'Make_Type_Premium', 'Make_Type_Sports',\n",
       "       'Vehicle_Class_Type_SUV', 'Vehicle_Class_Type_Sedan',\n",
       "       'Vehicle_Class_Type_Truck'],\n",
       "      dtype='object')"
      ]
     },
     "execution_count": 27,
     "metadata": {},
     "output_type": "execute_result"
    }
   ],
   "source": [
    "base.columns"
   ]
  },
  {
   "cell_type": "code",
   "execution_count": 29,
   "metadata": {
    "execution": {
     "iopub.execute_input": "2024-08-02T16:15:36.415314Z",
     "iopub.status.busy": "2024-08-02T16:15:36.414152Z",
     "iopub.status.idle": "2024-08-02T16:15:36.423239Z",
     "shell.execute_reply": "2024-08-02T16:15:36.421963Z",
     "shell.execute_reply.started": "2024-08-02T16:15:36.415266Z"
    }
   },
   "outputs": [],
   "source": [
    "X = base.drop(columns = target_column)\n",
    "y = base[[target_column]]"
   ]
  },
  {
   "cell_type": "code",
   "execution_count": 31,
   "metadata": {
    "execution": {
     "iopub.execute_input": "2024-08-02T16:16:15.999510Z",
     "iopub.status.busy": "2024-08-02T16:16:15.998955Z",
     "iopub.status.idle": "2024-08-02T16:16:16.012563Z",
     "shell.execute_reply": "2024-08-02T16:16:16.011170Z",
     "shell.execute_reply.started": "2024-08-02T16:16:15.999471Z"
    }
   },
   "outputs": [
    {
     "data": {
      "text/html": [
       "<div>\n",
       "<style scoped>\n",
       "    .dataframe tbody tr th:only-of-type {\n",
       "        vertical-align: middle;\n",
       "    }\n",
       "\n",
       "    .dataframe tbody tr th {\n",
       "        vertical-align: top;\n",
       "    }\n",
       "\n",
       "    .dataframe thead th {\n",
       "        text-align: right;\n",
       "    }\n",
       "</style>\n",
       "<table border=\"1\" class=\"dataframe\">\n",
       "  <thead>\n",
       "    <tr style=\"text-align: right;\">\n",
       "      <th></th>\n",
       "      <th>CO2_Emissions</th>\n",
       "    </tr>\n",
       "  </thead>\n",
       "  <tbody>\n",
       "    <tr>\n",
       "      <th>0</th>\n",
       "      <td>196</td>\n",
       "    </tr>\n",
       "    <tr>\n",
       "      <th>1</th>\n",
       "      <td>221</td>\n",
       "    </tr>\n",
       "    <tr>\n",
       "      <th>2</th>\n",
       "      <td>255</td>\n",
       "    </tr>\n",
       "    <tr>\n",
       "      <th>3</th>\n",
       "      <td>244</td>\n",
       "    </tr>\n",
       "    <tr>\n",
       "      <th>4</th>\n",
       "      <td>230</td>\n",
       "    </tr>\n",
       "    <tr>\n",
       "      <th>...</th>\n",
       "      <td>...</td>\n",
       "    </tr>\n",
       "    <tr>\n",
       "      <th>5810</th>\n",
       "      <td>219</td>\n",
       "    </tr>\n",
       "    <tr>\n",
       "      <th>5811</th>\n",
       "      <td>232</td>\n",
       "    </tr>\n",
       "    <tr>\n",
       "      <th>5812</th>\n",
       "      <td>240</td>\n",
       "    </tr>\n",
       "    <tr>\n",
       "      <th>5813</th>\n",
       "      <td>232</td>\n",
       "    </tr>\n",
       "    <tr>\n",
       "      <th>5814</th>\n",
       "      <td>248</td>\n",
       "    </tr>\n",
       "  </tbody>\n",
       "</table>\n",
       "<p>5815 rows × 1 columns</p>\n",
       "</div>"
      ],
      "text/plain": [
       "      CO2_Emissions\n",
       "0               196\n",
       "1               221\n",
       "2               255\n",
       "3               244\n",
       "4               230\n",
       "...             ...\n",
       "5810            219\n",
       "5811            232\n",
       "5812            240\n",
       "5813            232\n",
       "5814            248\n",
       "\n",
       "[5815 rows x 1 columns]"
      ]
     },
     "execution_count": 31,
     "metadata": {},
     "output_type": "execute_result"
    }
   ],
   "source": [
    "y"
   ]
  },
  {
   "cell_type": "markdown",
   "metadata": {},
   "source": [
    "#### Treino e Teste "
   ]
  },
  {
   "cell_type": "code",
   "execution_count": 32,
   "metadata": {
    "execution": {
     "iopub.execute_input": "2024-08-02T16:17:29.322530Z",
     "iopub.status.busy": "2024-08-02T16:17:29.321931Z",
     "iopub.status.idle": "2024-08-02T16:17:29.328308Z",
     "shell.execute_reply": "2024-08-02T16:17:29.326870Z",
     "shell.execute_reply.started": "2024-08-02T16:17:29.322489Z"
    }
   },
   "outputs": [],
   "source": [
    "train_size = 0.8\n",
    "random_state = 42"
   ]
  },
  {
   "cell_type": "code",
   "execution_count": 33,
   "metadata": {
    "execution": {
     "iopub.execute_input": "2024-08-02T16:17:29.493304Z",
     "iopub.status.busy": "2024-08-02T16:17:29.492683Z",
     "iopub.status.idle": "2024-08-02T16:17:29.507334Z",
     "shell.execute_reply": "2024-08-02T16:17:29.506140Z",
     "shell.execute_reply.started": "2024-08-02T16:17:29.493247Z"
    }
   },
   "outputs": [],
   "source": [
    "from sklearn.model_selection import train_test_split\n",
    "\n",
    "X_train, X_test, Y_train, Y_test = train_test_split(\n",
    "X, y, test_size=train_size,random_state = random_state)"
   ]
  },
  {
   "cell_type": "code",
   "execution_count": 34,
   "metadata": {
    "execution": {
     "iopub.execute_input": "2024-08-02T16:17:32.630525Z",
     "iopub.status.busy": "2024-08-02T16:17:32.629884Z",
     "iopub.status.idle": "2024-08-02T16:17:32.760935Z",
     "shell.execute_reply": "2024-08-02T16:17:32.760327Z",
     "shell.execute_reply.started": "2024-08-02T16:17:32.630480Z"
    }
   },
   "outputs": [],
   "source": [
    "lm = LinearRegression()"
   ]
  },
  {
   "cell_type": "code",
   "execution_count": null,
   "metadata": {},
   "outputs": [],
   "source": [
    "lm.fit(X_train, Y_train)"
   ]
  },
  {
   "cell_type": "code",
   "execution_count": null,
   "metadata": {},
   "outputs": [],
   "source": [
    "pred_train = lm.predict(X_train)\n",
    "pred_test = lm.predict(X_test)"
   ]
  },
  {
   "cell_type": "code",
   "execution_count": 37,
   "metadata": {
    "execution": {
     "iopub.execute_input": "2024-08-02T16:18:00.760672Z",
     "iopub.status.busy": "2024-08-02T16:18:00.760054Z",
     "iopub.status.idle": "2024-08-02T16:18:00.768969Z",
     "shell.execute_reply": "2024-08-02T16:18:00.767645Z",
     "shell.execute_reply.started": "2024-08-02T16:18:00.760618Z"
    }
   },
   "outputs": [
    {
     "data": {
      "text/plain": [
       "array([[184.39216646],\n",
       "       [220.19189196],\n",
       "       [268.80689032],\n",
       "       ...,\n",
       "       [245.41759791],\n",
       "       [288.91615482],\n",
       "       [198.40169324]])"
      ]
     },
     "execution_count": 37,
     "metadata": {},
     "output_type": "execute_result"
    }
   ],
   "source": [
    "pred_train"
   ]
  },
  {
   "cell_type": "code",
   "execution_count": 41,
   "metadata": {
    "execution": {
     "iopub.execute_input": "2024-08-02T16:19:23.646566Z",
     "iopub.status.busy": "2024-08-02T16:19:23.645981Z",
     "iopub.status.idle": "2024-08-02T16:19:24.024069Z",
     "shell.execute_reply": "2024-08-02T16:19:24.023368Z",
     "shell.execute_reply.started": "2024-08-02T16:19:23.646527Z"
    }
   },
   "outputs": [
    {
     "data": {
      "text/plain": [
       "Text(0, 0.5, 'Resíduos')"
      ]
     },
     "execution_count": 41,
     "metadata": {},
     "output_type": "execute_result"
    },
    {
     "data": {
      "image/png": "[encoded data removed]",
      "text/plain": [
       "<Figure size 640x480 with 1 Axes>"
      ]
     },
     "metadata": {},
     "output_type": "display_data"
    }
   ],
   "source": [
    "plt.scatter(lm.predict(X_train), lm.predict(X_train) - Y_train, c='b', s=40, alpha=0.5)\n",
    "plt.scatter(lm.predict(X_test), lm.predict(X_test) - Y_test, c='g', s=40)\n",
    "plt.title('Gráfico residual usando dados de treinamento (azul) e de teste (verde)')\n",
    "plt.ylabel('Resíduos')"
   ]
  },
  {
   "cell_type": "code",
   "execution_count": 57,
   "metadata": {
    "execution": {
     "iopub.execute_input": "2024-08-02T16:28:48.830005Z",
     "iopub.status.busy": "2024-08-02T16:28:48.829789Z",
     "iopub.status.idle": "2024-08-02T16:28:48.835225Z",
     "shell.execute_reply": "2024-08-02T16:28:48.834223Z",
     "shell.execute_reply.started": "2024-08-02T16:28:48.829990Z"
    }
   },
   "outputs": [],
   "source": [
    "def sklearn_summary(model, X, y):\n",
    "    # Predict\n",
    "    y_pred = model.predict(X)\n",
    "    \n",
    "    # Resíduos\n",
    "    residuals = y - y_pred\n",
    "    \n",
    "    # R2\n",
    "    ss_total = np.sum((y - np.mean(y)) ** 2)\n",
    "    ss_residual = np.sum(residuals ** 2)\n",
    "    r_squared = 1 - (ss_residual / ss_total)\n",
    "\n",
    "\n",
    "    mae = mean_absolute_error(y, y_pred)\n",
    "    mse = mean_squared_error(y, y_pred)\n",
    "    rmse = np.sqrt(mse)\n",
    "    \n",
    "    # Report\n",
    "    print(\"Report do Modelo de Regressão\")\n",
    "    print(\"-----------------------------------------------------\")\n",
    "    print(f\"Intercepto: {model.intercept_}\")\n",
    "    print(f\"Slope: {model.coef_[0]}\")\n",
    "    print(f\"R-squared: {r_squared}\")\n",
    "    print(f\"Número de observações: {len(y)}\")\n",
    "    print(f\"Mean Absolute Error (MAE): {mae:.4f}\")\n",
    "    print(f\"Mean Squared Error (MSE): {mse:.4f}\")\n",
    "    print(f\"Root Mean Squared Error (RMSE): {rmse:.4f}\")\n",
    "    print(\"-----------------------------------------------------\")"
   ]
  },
  {
   "cell_type": "code",
   "execution_count": 58,
   "metadata": {
    "execution": {
     "iopub.execute_input": "2024-08-02T16:28:49.229453Z",
     "iopub.status.busy": "2024-08-02T16:28:49.228121Z",
     "iopub.status.idle": "2024-08-02T16:28:49.255978Z",
     "shell.execute_reply": "2024-08-02T16:28:49.254869Z",
     "shell.execute_reply.started": "2024-08-02T16:28:49.229361Z"
    }
   },
   "outputs": [
    {
     "name": "stdout",
     "output_type": "stream",
     "text": [
      "Report do Modelo de Regressão\n",
      "-----------------------------------------------------\n",
      "Intercepto: [68.11924715]\n",
      "Slope: [-2.62275062e-01  1.81325214e-01  6.99821529e+00  6.86111417e+00\n",
      "  8.11243905e+00 -6.10913975e-01 -1.35643369e+02 -3.04625208e+01\n",
      " -3.14661336e+01 -6.93051092e+00 -4.85568616e+00 -4.79284962e+00\n",
      " -1.50386365e+00 -2.67798457e+00 -2.85177611e+00  7.59392549e-14\n",
      " -3.15556590e+00 -3.33699410e+00 -3.73587538e+00 -5.82584997e-01\n",
      " -2.60901513e+00 -9.28344767e+00 -5.56149023e+00 -4.16993130e+00\n",
      " -3.40972087e+00 -3.00278446e+00 -3.38848084e+00 -4.20260193e+00\n",
      " -1.42108547e-14 -4.65374656e+00 -3.84584158e+00 -4.01038046e+00\n",
      " -4.29359807e+00 -3.85155087e+00 -3.70522044e+00 -5.19272180e-01\n",
      " -5.88625161e-01 -5.64092882e-01 -5.14654491e-01  1.45466026e-01\n",
      " -5.08918694e-01]\n",
      "R-squared: CO2_Emissions    0.994453\n",
      "dtype: float64\n",
      "Número de observações: 4652\n",
      "Mean Absolute Error (MAE): 2.4528\n",
      "Mean Squared Error (MSE): 13.9106\n",
      "Root Mean Squared Error (RMSE): 3.7297\n",
      "-----------------------------------------------------\n"
     ]
    },
    {
     "name": "stderr",
     "output_type": "stream",
     "text": [
      "/home/glyph-vasts/D/Utilidades/Virtual_Envs/Python/data_science_studies/lib/python3.11/site-packages/numpy/core/fromnumeric.py:86: FutureWarning: The behavior of DataFrame.sum with axis=None is deprecated, in a future version this will reduce over both axes and return a scalar. To retain the old behavior, pass axis=0 (or do not pass axis)\n",
      "  return reduction(axis=axis, out=out, **passkwargs)\n"
     ]
    }
   ],
   "source": [
    "sklearn_summary(lm, X_test, Y_test)"
   ]
  },
  {
   "cell_type": "markdown",
   "metadata": {},
   "source": [
    "##### Usando Statsmodel"
   ]
  },
  {
   "cell_type": "code",
   "execution_count": 42,
   "metadata": {
    "execution": {
     "iopub.execute_input": "2024-08-02T16:21:40.436839Z",
     "iopub.status.busy": "2024-08-02T16:21:40.436009Z",
     "iopub.status.idle": "2024-08-02T16:21:40.441288Z",
     "shell.execute_reply": "2024-08-02T16:21:40.440383Z",
     "shell.execute_reply.started": "2024-08-02T16:21:40.436789Z"
    }
   },
   "outputs": [],
   "source": [
    "intercept = lm.intercept_\n",
    "slope = lm.coef_[0]"
   ]
  },
  {
   "cell_type": "code",
   "execution_count": 44,
   "metadata": {
    "execution": {
     "iopub.execute_input": "2024-08-02T16:22:10.090000Z",
     "iopub.status.busy": "2024-08-02T16:22:10.089519Z",
     "iopub.status.idle": "2024-08-02T16:22:10.114920Z",
     "shell.execute_reply": "2024-08-02T16:22:10.113722Z",
     "shell.execute_reply.started": "2024-08-02T16:22:10.089965Z"
    }
   },
   "outputs": [],
   "source": [
    "X_sm = sm.add_constant(X)"
   ]
  },
  {
   "cell_type": "code",
   "execution_count": 45,
   "metadata": {
    "execution": {
     "iopub.execute_input": "2024-08-02T16:22:18.032073Z",
     "iopub.status.busy": "2024-08-02T16:22:18.031499Z",
     "iopub.status.idle": "2024-08-02T16:22:18.091693Z",
     "shell.execute_reply": "2024-08-02T16:22:18.090321Z",
     "shell.execute_reply.started": "2024-08-02T16:22:18.032034Z"
    }
   },
   "outputs": [],
   "source": [
    "model_stats = sm.OLS(y, X_sm).fit()"
   ]
  },
  {
   "cell_type": "code",
   "execution_count": 46,
   "metadata": {
    "execution": {
     "iopub.execute_input": "2024-08-02T16:22:26.300807Z",
     "iopub.status.busy": "2024-08-02T16:22:26.300303Z",
     "iopub.status.idle": "2024-08-02T16:22:26.330272Z",
     "shell.execute_reply": "2024-08-02T16:22:26.329702Z",
     "shell.execute_reply.started": "2024-08-02T16:22:26.300769Z"
    }
   },
   "outputs": [
    {
     "name": "stdout",
     "output_type": "stream",
     "text": [
      "                            OLS Regression Results                            \n",
      "==============================================================================\n",
      "Dep. Variable:          CO2_Emissions   R-squared:                       0.995\n",
      "Model:                            OLS   Adj. R-squared:                  0.995\n",
      "Method:                 Least Squares   F-statistic:                 2.675e+04\n",
      "Date:                Fri, 02 Aug 2024   Prob (F-statistic):               0.00\n",
      "Time:                        13:22:26   Log-Likelihood:                -15753.\n",
      "No. Observations:                5815   AIC:                         3.159e+04\n",
      "Df Residuals:                    5773   BIC:                         3.187e+04\n",
      "Df Model:                          41                                         \n",
      "Covariance Type:            nonrobust                                         \n",
      "=============================================================================================\n",
      "                                coef    std err          t      P>|t|      [0.025      0.975]\n",
      "---------------------------------------------------------------------------------------------\n",
      "const                        79.9763      2.148     37.240      0.000      75.766      84.186\n",
      "Engine_Size                   0.3144      0.134      2.338      0.019       0.051       0.578\n",
      "Cylinders                    -0.0677      0.103     -0.659      0.510      -0.269       0.134\n",
      "Fuel_Consumption_City         5.9535      0.631      9.433      0.000       4.716       7.191\n",
      "Fuel_Consumption_Hwy          5.6916      0.524     10.869      0.000       4.665       6.718\n",
      "Fuel_Consumption_Comb         9.6047      1.144      8.397      0.000       7.362      11.847\n",
      "Fuel_Consumption_Comb_mpg    -0.7954      0.036    -22.013      0.000      -0.866      -0.725\n",
      "Fuel_Type_E                -135.1212      0.486   -278.138      0.000    -136.074    -134.169\n",
      "Fuel_Type_X                 -31.3956      0.332    -94.424      0.000     -32.047     -30.744\n",
      "Fuel_Type_Z                 -32.0330      0.350    -91.526      0.000     -32.719     -31.347\n",
      "Transmission_A4              -4.5127      0.918     -4.916      0.000      -6.312      -2.713\n",
      "Transmission_A5              -4.2346      0.831     -5.094      0.000      -5.864      -2.605\n",
      "Transmission_A6              -4.2384      0.724     -5.857      0.000      -5.657      -2.820\n",
      "Transmission_A7              -1.9991      0.944     -2.118      0.034      -3.849      -0.149\n",
      "Transmission_A8              -2.3907      0.730     -3.273      0.001      -3.823      -0.959\n",
      "Transmission_A9              -1.4174      0.749     -1.892      0.059      -2.886       0.051\n",
      "Transmission_AM5             -0.8747      1.977     -0.442      0.658      -4.751       3.001\n",
      "Transmission_AM6             -3.0201      0.824     -3.663      0.000      -4.636      -1.404\n",
      "Transmission_AM7             -2.6361      0.750     -3.517      0.000      -4.106      -1.167\n",
      "Transmission_AM8             -2.2890      0.925     -2.475      0.013      -4.102      -0.476\n",
      "Transmission_AM9             -0.2084      3.744     -0.056      0.956      -7.549       7.132\n",
      "Transmission_AS10            -1.9710      0.774     -2.546      0.011      -3.489      -0.453\n",
      "Transmission_AS4             -7.6627      2.684     -2.855      0.004     -12.923      -2.402\n",
      "Transmission_AS5             -5.4642      1.016     -5.381      0.000      -7.455      -3.473\n",
      "Transmission_AS6             -3.5115      0.726     -4.835      0.000      -4.935      -2.088\n",
      "Transmission_AS7             -3.4567      0.742     -4.660      0.000      -4.911      -2.002\n",
      "Transmission_AS8             -2.3143      0.722     -3.205      0.001      -3.730      -0.899\n",
      "Transmission_AS9             -2.3529      0.842     -2.794      0.005      -4.004      -0.702\n",
      "Transmission_AV              -2.6610      0.774     -3.438      0.001      -4.178      -1.144\n",
      "Transmission_AV10            -1.7706      1.412     -1.254      0.210      -4.539       0.998\n",
      "Transmission_AV6             -4.4502      0.826     -5.389      0.000      -6.069      -2.831\n",
      "Transmission_AV7             -2.6462      0.819     -3.230      0.001      -4.252      -1.040\n",
      "Transmission_AV8             -4.2509      0.953     -4.459      0.000      -6.120      -2.382\n",
      "Transmission_M5              -3.2411      0.783     -4.140      0.000      -4.776      -1.706\n",
      "Transmission_M6              -3.2438      0.731     -4.436      0.000      -4.677      -1.810\n",
      "Transmission_M7              -3.5084      0.845     -4.152      0.000      -5.165      -1.852\n",
      "Make_Type_Luxury              0.0444      0.321      0.138      0.890      -0.585       0.674\n",
      "Make_Type_Premium            -0.6790      0.138     -4.920      0.000      -0.950      -0.408\n",
      "Make_Type_Sports             -0.5962      0.245     -2.437      0.015      -1.076      -0.117\n",
      "Vehicle_Class_Type_SUV       -0.5818      0.179     -3.245      0.001      -0.933      -0.230\n",
      "Vehicle_Class_Type_Sedan      0.0043      0.131      0.033      0.974      -0.253       0.261\n",
      "Vehicle_Class_Type_Truck     -0.2090      0.260     -0.803      0.422      -0.719       0.301\n",
      "==============================================================================\n",
      "Omnibus:                     1853.872   Durbin-Watson:                   1.368\n",
      "Prob(Omnibus):                  0.000   Jarque-Bera (JB):            84139.064\n",
      "Skew:                           0.781   Prob(JB):                         0.00\n",
      "Kurtosis:                      21.569   Cond. No.                     2.90e+03\n",
      "==============================================================================\n",
      "\n",
      "Notes:\n",
      "[1] Standard Errors assume that the covariance matrix of the errors is correctly specified.\n",
      "[2] The condition number is large, 2.9e+03. This might indicate that there are\n",
      "strong multicollinearity or other numerical problems.\n"
     ]
    }
   ],
   "source": [
    "print(model_stats.summary())"
   ]
  },
  {
   "cell_type": "markdown",
   "metadata": {},
   "source": [
    "## Database de Casas na Califórnia"
   ]
  },
  {
   "cell_type": "code",
   "execution_count": 13,
   "metadata": {
    "execution": {
     "iopub.execute_input": "2024-08-02T16:06:37.903998Z",
     "iopub.status.busy": "2024-08-02T16:06:37.903385Z",
     "iopub.status.idle": "2024-08-02T16:06:38.792611Z",
     "shell.execute_reply": "2024-08-02T16:06:38.791328Z",
     "shell.execute_reply.started": "2024-08-02T16:06:37.903957Z"
    }
   },
   "outputs": [
    {
     "data": {
      "text/html": [
       "<div>\n",
       "<style scoped>\n",
       "    .dataframe tbody tr th:only-of-type {\n",
       "        vertical-align: middle;\n",
       "    }\n",
       "\n",
       "    .dataframe tbody tr th {\n",
       "        vertical-align: top;\n",
       "    }\n",
       "\n",
       "    .dataframe thead th {\n",
       "        text-align: right;\n",
       "    }\n",
       "</style>\n",
       "<table border=\"1\" class=\"dataframe\">\n",
       "  <thead>\n",
       "    <tr style=\"text-align: right;\">\n",
       "      <th></th>\n",
       "      <th>0</th>\n",
       "      <th>1</th>\n",
       "      <th>2</th>\n",
       "      <th>3</th>\n",
       "      <th>4</th>\n",
       "      <th>5</th>\n",
       "      <th>6</th>\n",
       "      <th>7</th>\n",
       "    </tr>\n",
       "  </thead>\n",
       "  <tbody>\n",
       "    <tr>\n",
       "      <th>0</th>\n",
       "      <td>8.3252</td>\n",
       "      <td>41.0</td>\n",
       "      <td>6.984127</td>\n",
       "      <td>1.023810</td>\n",
       "      <td>322.0</td>\n",
       "      <td>2.555556</td>\n",
       "      <td>37.88</td>\n",
       "      <td>-122.23</td>\n",
       "    </tr>\n",
       "    <tr>\n",
       "      <th>1</th>\n",
       "      <td>8.3014</td>\n",
       "      <td>21.0</td>\n",
       "      <td>6.238137</td>\n",
       "      <td>0.971880</td>\n",
       "      <td>2401.0</td>\n",
       "      <td>2.109842</td>\n",
       "      <td>37.86</td>\n",
       "      <td>-122.22</td>\n",
       "    </tr>\n",
       "    <tr>\n",
       "      <th>2</th>\n",
       "      <td>7.2574</td>\n",
       "      <td>52.0</td>\n",
       "      <td>8.288136</td>\n",
       "      <td>1.073446</td>\n",
       "      <td>496.0</td>\n",
       "      <td>2.802260</td>\n",
       "      <td>37.85</td>\n",
       "      <td>-122.24</td>\n",
       "    </tr>\n",
       "    <tr>\n",
       "      <th>3</th>\n",
       "      <td>5.6431</td>\n",
       "      <td>52.0</td>\n",
       "      <td>5.817352</td>\n",
       "      <td>1.073059</td>\n",
       "      <td>558.0</td>\n",
       "      <td>2.547945</td>\n",
       "      <td>37.85</td>\n",
       "      <td>-122.25</td>\n",
       "    </tr>\n",
       "    <tr>\n",
       "      <th>4</th>\n",
       "      <td>3.8462</td>\n",
       "      <td>52.0</td>\n",
       "      <td>6.281853</td>\n",
       "      <td>1.081081</td>\n",
       "      <td>565.0</td>\n",
       "      <td>2.181467</td>\n",
       "      <td>37.85</td>\n",
       "      <td>-122.25</td>\n",
       "    </tr>\n",
       "  </tbody>\n",
       "</table>\n",
       "</div>"
      ],
      "text/plain": [
       "        0     1         2         3       4         5      6       7\n",
       "0  8.3252  41.0  6.984127  1.023810   322.0  2.555556  37.88 -122.23\n",
       "1  8.3014  21.0  6.238137  0.971880  2401.0  2.109842  37.86 -122.22\n",
       "2  7.2574  52.0  8.288136  1.073446   496.0  2.802260  37.85 -122.24\n",
       "3  5.6431  52.0  5.817352  1.073059   558.0  2.547945  37.85 -122.25\n",
       "4  3.8462  52.0  6.281853  1.081081   565.0  2.181467  37.85 -122.25"
      ]
     },
     "execution_count": 13,
     "metadata": {},
     "output_type": "execute_result"
    }
   ],
   "source": [
    "from sklearn.datasets import fetch_california_housing # as load_boston\n",
    "boston = fetch_california_housing() #load_boston()\n",
    "\n",
    "bos = pd.DataFrame(boston.data)\n",
    "bos.head()"
   ]
  },
  {
   "cell_type": "code",
   "execution_count": 14,
   "metadata": {
    "execution": {
     "iopub.execute_input": "2024-05-10T05:35:34.195112Z",
     "iopub.status.busy": "2024-05-10T05:35:34.194531Z",
     "iopub.status.idle": "2024-05-10T05:35:34.218856Z",
     "shell.execute_reply": "2024-05-10T05:35:34.217639Z",
     "shell.execute_reply.started": "2024-05-10T05:35:34.195073Z"
    },
    "scrolled": true
   },
   "outputs": [
    {
     "data": {
      "text/html": [
       "<div>\n",
       "<style scoped>\n",
       "    .dataframe tbody tr th:only-of-type {\n",
       "        vertical-align: middle;\n",
       "    }\n",
       "\n",
       "    .dataframe tbody tr th {\n",
       "        vertical-align: top;\n",
       "    }\n",
       "\n",
       "    .dataframe thead th {\n",
       "        text-align: right;\n",
       "    }\n",
       "</style>\n",
       "<table border=\"1\" class=\"dataframe\">\n",
       "  <thead>\n",
       "    <tr style=\"text-align: right;\">\n",
       "      <th></th>\n",
       "      <th>MedInc</th>\n",
       "      <th>HouseAge</th>\n",
       "      <th>AveRooms</th>\n",
       "      <th>AveBedrms</th>\n",
       "      <th>Population</th>\n",
       "      <th>AveOccup</th>\n",
       "      <th>Latitude</th>\n",
       "      <th>Longitude</th>\n",
       "    </tr>\n",
       "  </thead>\n",
       "  <tbody>\n",
       "    <tr>\n",
       "      <th>0</th>\n",
       "      <td>8.3252</td>\n",
       "      <td>41.0</td>\n",
       "      <td>6.984127</td>\n",
       "      <td>1.023810</td>\n",
       "      <td>322.0</td>\n",
       "      <td>2.555556</td>\n",
       "      <td>37.88</td>\n",
       "      <td>-122.23</td>\n",
       "    </tr>\n",
       "    <tr>\n",
       "      <th>1</th>\n",
       "      <td>8.3014</td>\n",
       "      <td>21.0</td>\n",
       "      <td>6.238137</td>\n",
       "      <td>0.971880</td>\n",
       "      <td>2401.0</td>\n",
       "      <td>2.109842</td>\n",
       "      <td>37.86</td>\n",
       "      <td>-122.22</td>\n",
       "    </tr>\n",
       "    <tr>\n",
       "      <th>2</th>\n",
       "      <td>7.2574</td>\n",
       "      <td>52.0</td>\n",
       "      <td>8.288136</td>\n",
       "      <td>1.073446</td>\n",
       "      <td>496.0</td>\n",
       "      <td>2.802260</td>\n",
       "      <td>37.85</td>\n",
       "      <td>-122.24</td>\n",
       "    </tr>\n",
       "    <tr>\n",
       "      <th>3</th>\n",
       "      <td>5.6431</td>\n",
       "      <td>52.0</td>\n",
       "      <td>5.817352</td>\n",
       "      <td>1.073059</td>\n",
       "      <td>558.0</td>\n",
       "      <td>2.547945</td>\n",
       "      <td>37.85</td>\n",
       "      <td>-122.25</td>\n",
       "    </tr>\n",
       "    <tr>\n",
       "      <th>4</th>\n",
       "      <td>3.8462</td>\n",
       "      <td>52.0</td>\n",
       "      <td>6.281853</td>\n",
       "      <td>1.081081</td>\n",
       "      <td>565.0</td>\n",
       "      <td>2.181467</td>\n",
       "      <td>37.85</td>\n",
       "      <td>-122.25</td>\n",
       "    </tr>\n",
       "  </tbody>\n",
       "</table>\n",
       "</div>"
      ],
      "text/plain": [
       "   MedInc  HouseAge  AveRooms  AveBedrms  Population  AveOccup  Latitude  \\\n",
       "0  8.3252      41.0  6.984127   1.023810       322.0  2.555556     37.88   \n",
       "1  8.3014      21.0  6.238137   0.971880      2401.0  2.109842     37.86   \n",
       "2  7.2574      52.0  8.288136   1.073446       496.0  2.802260     37.85   \n",
       "3  5.6431      52.0  5.817352   1.073059       558.0  2.547945     37.85   \n",
       "4  3.8462      52.0  6.281853   1.081081       565.0  2.181467     37.85   \n",
       "\n",
       "   Longitude  \n",
       "0    -122.23  \n",
       "1    -122.22  \n",
       "2    -122.24  \n",
       "3    -122.25  \n",
       "4    -122.25  "
      ]
     },
     "execution_count": 14,
     "metadata": {},
     "output_type": "execute_result"
    }
   ],
   "source": [
    "bos.columns = boston.feature_names\n",
    "bos.head()"
   ]
  },
  {
   "cell_type": "code",
   "execution_count": 15,
   "metadata": {
    "execution": {
     "iopub.execute_input": "2024-05-10T05:35:36.472090Z",
     "iopub.status.busy": "2024-05-10T05:35:36.471597Z",
     "iopub.status.idle": "2024-05-10T05:35:36.478509Z",
     "shell.execute_reply": "2024-05-10T05:35:36.477386Z",
     "shell.execute_reply.started": "2024-05-10T05:35:36.472052Z"
    }
   },
   "outputs": [],
   "source": [
    "bos['PRICE'] = boston.target"
   ]
  },
  {
   "cell_type": "code",
   "execution_count": 17,
   "metadata": {
    "execution": {
     "iopub.execute_input": "2024-05-10T05:35:43.828972Z",
     "iopub.status.busy": "2024-05-10T05:35:43.828206Z",
     "iopub.status.idle": "2024-05-10T05:35:43.839903Z",
     "shell.execute_reply": "2024-05-10T05:35:43.838450Z",
     "shell.execute_reply.started": "2024-05-10T05:35:43.828930Z"
    },
    "scrolled": true
   },
   "outputs": [
    {
     "data": {
      "text/html": [
       "<style>#sk-container-id-2 {\n",
       "  /* Definition of color scheme common for light and dark mode */\n",
       "  --sklearn-color-text: black;\n",
       "  --sklearn-color-line: gray;\n",
       "  /* Definition of color scheme for unfitted estimators */\n",
       "  --sklearn-color-unfitted-level-0: #fff5e6;\n",
       "  --sklearn-color-unfitted-level-1: #f6e4d2;\n",
       "  --sklearn-color-unfitted-level-2: #ffe0b3;\n",
       "  --sklearn-color-unfitted-level-3: chocolate;\n",
       "  /* Definition of color scheme for fitted estimators */\n",
       "  --sklearn-color-fitted-level-0: #f0f8ff;\n",
       "  --sklearn-color-fitted-level-1: #d4ebff;\n",
       "  --sklearn-color-fitted-level-2: #b3dbfd;\n",
       "  --sklearn-color-fitted-level-3: cornflowerblue;\n",
       "\n",
       "  /* Specific color for light theme */\n",
       "  --sklearn-color-text-on-default-background: var(--sg-text-color, var(--theme-code-foreground, var(--jp-content-font-color1, black)));\n",
       "  --sklearn-color-background: var(--sg-background-color, var(--theme-background, var(--jp-layout-color0, white)));\n",
       "  --sklearn-color-border-box: var(--sg-text-color, var(--theme-code-foreground, var(--jp-content-font-color1, black)));\n",
       "  --sklearn-color-icon: #696969;\n",
       "\n",
       "  @media (prefers-color-scheme: dark) {\n",
       "    /* Redefinition of color scheme for dark theme */\n",
       "    --sklearn-color-text-on-default-background: var(--sg-text-color, var(--theme-code-foreground, var(--jp-content-font-color1, white)));\n",
       "    --sklearn-color-background: var(--sg-background-color, var(--theme-background, var(--jp-layout-color0, #111)));\n",
       "    --sklearn-color-border-box: var(--sg-text-color, var(--theme-code-foreground, var(--jp-content-font-color1, white)));\n",
       "    --sklearn-color-icon: #878787;\n",
       "  }\n",
       "}\n",
       "\n",
       "#sk-container-id-2 {\n",
       "  color: var(--sklearn-color-text);\n",
       "}\n",
       "\n",
       "#sk-container-id-2 pre {\n",
       "  padding: 0;\n",
       "}\n",
       "\n",
       "#sk-container-id-2 input.sk-hidden--visually {\n",
       "  border: 0;\n",
       "  clip: rect(1px 1px 1px 1px);\n",
       "  clip: rect(1px, 1px, 1px, 1px);\n",
       "  height: 1px;\n",
       "  margin: -1px;\n",
       "  overflow: hidden;\n",
       "  padding: 0;\n",
       "  position: absolute;\n",
       "  width: 1px;\n",
       "}\n",
       "\n",
       "#sk-container-id-2 div.sk-dashed-wrapped {\n",
       "  border: 1px dashed var(--sklearn-color-line);\n",
       "  margin: 0 0.4em 0.5em 0.4em;\n",
       "  box-sizing: border-box;\n",
       "  padding-bottom: 0.4em;\n",
       "  background-color: var(--sklearn-color-background);\n",
       "}\n",
       "\n",
       "#sk-container-id-2 div.sk-container {\n",
       "  /* jupyter's `normalize.less` sets `[hidden] { display: none; }`\n",
       "     but bootstrap.min.css set `[hidden] { display: none !important; }`\n",
       "     so we also need the `!important` here to be able to override the\n",
       "     default hidden behavior on the sphinx rendered scikit-learn.org.\n",
       "     See: https://github.com/scikit-learn/scikit-learn/issues/21755 */\n",
       "  display: inline-block !important;\n",
       "  position: relative;\n",
       "}\n",
       "\n",
       "#sk-container-id-2 div.sk-text-repr-fallback {\n",
       "  display: none;\n",
       "}\n",
       "\n",
       "div.sk-parallel-item,\n",
       "div.sk-serial,\n",
       "div.sk-item {\n",
       "  /* draw centered vertical line to link estimators */\n",
       "  background-image: linear-gradient(var(--sklearn-color-text-on-default-background), var(--sklearn-color-text-on-default-background));\n",
       "  background-size: 2px 100%;\n",
       "  background-repeat: no-repeat;\n",
       "  background-position: center center;\n",
       "}\n",
       "\n",
       "/* Parallel-specific style estimator block */\n",
       "\n",
       "#sk-container-id-2 div.sk-parallel-item::after {\n",
       "  content: \"\";\n",
       "  width: 100%;\n",
       "  border-bottom: 2px solid var(--sklearn-color-text-on-default-background);\n",
       "  flex-grow: 1;\n",
       "}\n",
       "\n",
       "#sk-container-id-2 div.sk-parallel {\n",
       "  display: flex;\n",
       "  align-items: stretch;\n",
       "  justify-content: center;\n",
       "  background-color: var(--sklearn-color-background);\n",
       "  position: relative;\n",
       "}\n",
       "\n",
       "#sk-container-id-2 div.sk-parallel-item {\n",
       "  display: flex;\n",
       "  flex-direction: column;\n",
       "}\n",
       "\n",
       "#sk-container-id-2 div.sk-parallel-item:first-child::after {\n",
       "  align-self: flex-end;\n",
       "  width: 50%;\n",
       "}\n",
       "\n",
       "#sk-container-id-2 div.sk-parallel-item:last-child::after {\n",
       "  align-self: flex-start;\n",
       "  width: 50%;\n",
       "}\n",
       "\n",
       "#sk-container-id-2 div.sk-parallel-item:only-child::after {\n",
       "  width: 0;\n",
       "}\n",
       "\n",
       "/* Serial-specific style estimator block */\n",
       "\n",
       "#sk-container-id-2 div.sk-serial {\n",
       "  display: flex;\n",
       "  flex-direction: column;\n",
       "  align-items: center;\n",
       "  background-color: var(--sklearn-color-background);\n",
       "  padding-right: 1em;\n",
       "  padding-left: 1em;\n",
       "}\n",
       "\n",
       "\n",
       "/* Toggleable style: style used for estimator/Pipeline/ColumnTransformer box that is\n",
       "clickable and can be expanded/collapsed.\n",
       "- Pipeline and ColumnTransformer use this feature and define the default style\n",
       "- Estimators will overwrite some part of the style using the `sk-estimator` class\n",
       "*/\n",
       "\n",
       "/* Pipeline and ColumnTransformer style (default) */\n",
       "\n",
       "#sk-container-id-2 div.sk-toggleable {\n",
       "  /* Default theme specific background. It is overwritten whether we have a\n",
       "  specific estimator or a Pipeline/ColumnTransformer */\n",
       "  background-color: var(--sklearn-color-background);\n",
       "}\n",
       "\n",
       "/* Toggleable label */\n",
       "#sk-container-id-2 label.sk-toggleable__label {\n",
       "  cursor: pointer;\n",
       "  display: block;\n",
       "  width: 100%;\n",
       "  margin-bottom: 0;\n",
       "  padding: 0.5em;\n",
       "  box-sizing: border-box;\n",
       "  text-align: center;\n",
       "}\n",
       "\n",
       "#sk-container-id-2 label.sk-toggleable__label-arrow:before {\n",
       "  /* Arrow on the left of the label */\n",
       "  content: \"▸\";\n",
       "  float: left;\n",
       "  margin-right: 0.25em;\n",
       "  color: var(--sklearn-color-icon);\n",
       "}\n",
       "\n",
       "#sk-container-id-2 label.sk-toggleable__label-arrow:hover:before {\n",
       "  color: var(--sklearn-color-text);\n",
       "}\n",
       "\n",
       "/* Toggleable content - dropdown */\n",
       "\n",
       "#sk-container-id-2 div.sk-toggleable__content {\n",
       "  max-height: 0;\n",
       "  max-width: 0;\n",
       "  overflow: hidden;\n",
       "  text-align: left;\n",
       "  /* unfitted */\n",
       "  background-color: var(--sklearn-color-unfitted-level-0);\n",
       "}\n",
       "\n",
       "#sk-container-id-2 div.sk-toggleable__content.fitted {\n",
       "  /* fitted */\n",
       "  background-color: var(--sklearn-color-fitted-level-0);\n",
       "}\n",
       "\n",
       "#sk-container-id-2 div.sk-toggleable__content pre {\n",
       "  margin: 0.2em;\n",
       "  border-radius: 0.25em;\n",
       "  color: var(--sklearn-color-text);\n",
       "  /* unfitted */\n",
       "  background-color: var(--sklearn-color-unfitted-level-0);\n",
       "}\n",
       "\n",
       "#sk-container-id-2 div.sk-toggleable__content.fitted pre {\n",
       "  /* unfitted */\n",
       "  background-color: var(--sklearn-color-fitted-level-0);\n",
       "}\n",
       "\n",
       "#sk-container-id-2 input.sk-toggleable__control:checked~div.sk-toggleable__content {\n",
       "  /* Expand drop-down */\n",
       "  max-height: 200px;\n",
       "  max-width: 100%;\n",
       "  overflow: auto;\n",
       "}\n",
       "\n",
       "#sk-container-id-2 input.sk-toggleable__control:checked~label.sk-toggleable__label-arrow:before {\n",
       "  content: \"▾\";\n",
       "}\n",
       "\n",
       "/* Pipeline/ColumnTransformer-specific style */\n",
       "\n",
       "#sk-container-id-2 div.sk-label input.sk-toggleable__control:checked~label.sk-toggleable__label {\n",
       "  color: var(--sklearn-color-text);\n",
       "  background-color: var(--sklearn-color-unfitted-level-2);\n",
       "}\n",
       "\n",
       "#sk-container-id-2 div.sk-label.fitted input.sk-toggleable__control:checked~label.sk-toggleable__label {\n",
       "  background-color: var(--sklearn-color-fitted-level-2);\n",
       "}\n",
       "\n",
       "/* Estimator-specific style */\n",
       "\n",
       "/* Colorize estimator box */\n",
       "#sk-container-id-2 div.sk-estimator input.sk-toggleable__control:checked~label.sk-toggleable__label {\n",
       "  /* unfitted */\n",
       "  background-color: var(--sklearn-color-unfitted-level-2);\n",
       "}\n",
       "\n",
       "#sk-container-id-2 div.sk-estimator.fitted input.sk-toggleable__control:checked~label.sk-toggleable__label {\n",
       "  /* fitted */\n",
       "  background-color: var(--sklearn-color-fitted-level-2);\n",
       "}\n",
       "\n",
       "#sk-container-id-2 div.sk-label label.sk-toggleable__label,\n",
       "#sk-container-id-2 div.sk-label label {\n",
       "  /* The background is the default theme color */\n",
       "  color: var(--sklearn-color-text-on-default-background);\n",
       "}\n",
       "\n",
       "/* On hover, darken the color of the background */\n",
       "#sk-container-id-2 div.sk-label:hover label.sk-toggleable__label {\n",
       "  color: var(--sklearn-color-text);\n",
       "  background-color: var(--sklearn-color-unfitted-level-2);\n",
       "}\n",
       "\n",
       "/* Label box, darken color on hover, fitted */\n",
       "#sk-container-id-2 div.sk-label.fitted:hover label.sk-toggleable__label.fitted {\n",
       "  color: var(--sklearn-color-text);\n",
       "  background-color: var(--sklearn-color-fitted-level-2);\n",
       "}\n",
       "\n",
       "/* Estimator label */\n",
       "\n",
       "#sk-container-id-2 div.sk-label label {\n",
       "  font-family: monospace;\n",
       "  font-weight: bold;\n",
       "  display: inline-block;\n",
       "  line-height: 1.2em;\n",
       "}\n",
       "\n",
       "#sk-container-id-2 div.sk-label-container {\n",
       "  text-align: center;\n",
       "}\n",
       "\n",
       "/* Estimator-specific */\n",
       "#sk-container-id-2 div.sk-estimator {\n",
       "  font-family: monospace;\n",
       "  border: 1px dotted var(--sklearn-color-border-box);\n",
       "  border-radius: 0.25em;\n",
       "  box-sizing: border-box;\n",
       "  margin-bottom: 0.5em;\n",
       "  /* unfitted */\n",
       "  background-color: var(--sklearn-color-unfitted-level-0);\n",
       "}\n",
       "\n",
       "#sk-container-id-2 div.sk-estimator.fitted {\n",
       "  /* fitted */\n",
       "  background-color: var(--sklearn-color-fitted-level-0);\n",
       "}\n",
       "\n",
       "/* on hover */\n",
       "#sk-container-id-2 div.sk-estimator:hover {\n",
       "  /* unfitted */\n",
       "  background-color: var(--sklearn-color-unfitted-level-2);\n",
       "}\n",
       "\n",
       "#sk-container-id-2 div.sk-estimator.fitted:hover {\n",
       "  /* fitted */\n",
       "  background-color: var(--sklearn-color-fitted-level-2);\n",
       "}\n",
       "\n",
       "/* Specification for estimator info (e.g. \"i\" and \"?\") */\n",
       "\n",
       "/* Common style for \"i\" and \"?\" */\n",
       "\n",
       ".sk-estimator-doc-link,\n",
       "a:link.sk-estimator-doc-link,\n",
       "a:visited.sk-estimator-doc-link {\n",
       "  float: right;\n",
       "  font-size: smaller;\n",
       "  line-height: 1em;\n",
       "  font-family: monospace;\n",
       "  background-color: var(--sklearn-color-background);\n",
       "  border-radius: 1em;\n",
       "  height: 1em;\n",
       "  width: 1em;\n",
       "  text-decoration: none !important;\n",
       "  margin-left: 1ex;\n",
       "  /* unfitted */\n",
       "  border: var(--sklearn-color-unfitted-level-1) 1pt solid;\n",
       "  color: var(--sklearn-color-unfitted-level-1);\n",
       "}\n",
       "\n",
       ".sk-estimator-doc-link.fitted,\n",
       "a:link.sk-estimator-doc-link.fitted,\n",
       "a:visited.sk-estimator-doc-link.fitted {\n",
       "  /* fitted */\n",
       "  border: var(--sklearn-color-fitted-level-1) 1pt solid;\n",
       "  color: var(--sklearn-color-fitted-level-1);\n",
       "}\n",
       "\n",
       "/* On hover */\n",
       "div.sk-estimator:hover .sk-estimator-doc-link:hover,\n",
       ".sk-estimator-doc-link:hover,\n",
       "div.sk-label-container:hover .sk-estimator-doc-link:hover,\n",
       ".sk-estimator-doc-link:hover {\n",
       "  /* unfitted */\n",
       "  background-color: var(--sklearn-color-unfitted-level-3);\n",
       "  color: var(--sklearn-color-background);\n",
       "  text-decoration: none;\n",
       "}\n",
       "\n",
       "div.sk-estimator.fitted:hover .sk-estimator-doc-link.fitted:hover,\n",
       ".sk-estimator-doc-link.fitted:hover,\n",
       "div.sk-label-container:hover .sk-estimator-doc-link.fitted:hover,\n",
       ".sk-estimator-doc-link.fitted:hover {\n",
       "  /* fitted */\n",
       "  background-color: var(--sklearn-color-fitted-level-3);\n",
       "  color: var(--sklearn-color-background);\n",
       "  text-decoration: none;\n",
       "}\n",
       "\n",
       "/* Span, style for the box shown on hovering the info icon */\n",
       ".sk-estimator-doc-link span {\n",
       "  display: none;\n",
       "  z-index: 9999;\n",
       "  position: relative;\n",
       "  font-weight: normal;\n",
       "  right: .2ex;\n",
       "  padding: .5ex;\n",
       "  margin: .5ex;\n",
       "  width: min-content;\n",
       "  min-width: 20ex;\n",
       "  max-width: 50ex;\n",
       "  color: var(--sklearn-color-text);\n",
       "  box-shadow: 2pt 2pt 4pt #999;\n",
       "  /* unfitted */\n",
       "  background: var(--sklearn-color-unfitted-level-0);\n",
       "  border: .5pt solid var(--sklearn-color-unfitted-level-3);\n",
       "}\n",
       "\n",
       ".sk-estimator-doc-link.fitted span {\n",
       "  /* fitted */\n",
       "  background: var(--sklearn-color-fitted-level-0);\n",
       "  border: var(--sklearn-color-fitted-level-3);\n",
       "}\n",
       "\n",
       ".sk-estimator-doc-link:hover span {\n",
       "  display: block;\n",
       "}\n",
       "\n",
       "/* \"?\"-specific style due to the `<a>` HTML tag */\n",
       "\n",
       "#sk-container-id-2 a.estimator_doc_link {\n",
       "  float: right;\n",
       "  font-size: 1rem;\n",
       "  line-height: 1em;\n",
       "  font-family: monospace;\n",
       "  background-color: var(--sklearn-color-background);\n",
       "  border-radius: 1rem;\n",
       "  height: 1rem;\n",
       "  width: 1rem;\n",
       "  text-decoration: none;\n",
       "  /* unfitted */\n",
       "  color: var(--sklearn-color-unfitted-level-1);\n",
       "  border: var(--sklearn-color-unfitted-level-1) 1pt solid;\n",
       "}\n",
       "\n",
       "#sk-container-id-2 a.estimator_doc_link.fitted {\n",
       "  /* fitted */\n",
       "  border: var(--sklearn-color-fitted-level-1) 1pt solid;\n",
       "  color: var(--sklearn-color-fitted-level-1);\n",
       "}\n",
       "\n",
       "/* On hover */\n",
       "#sk-container-id-2 a.estimator_doc_link:hover {\n",
       "  /* unfitted */\n",
       "  background-color: var(--sklearn-color-unfitted-level-3);\n",
       "  color: var(--sklearn-color-background);\n",
       "  text-decoration: none;\n",
       "}\n",
       "\n",
       "#sk-container-id-2 a.estimator_doc_link.fitted:hover {\n",
       "  /* fitted */\n",
       "  background-color: var(--sklearn-color-fitted-level-3);\n",
       "}\n",
       "</style><div id=\"sk-container-id-2\" class=\"sk-top-container\"><div class=\"sk-text-repr-fallback\"><pre>LinearRegression()</pre><b>In a Jupyter environment, please rerun this cell to show the HTML representation or trust the notebook. <br />On GitHub, the HTML representation is unable to render, please try loading this page with nbviewer.org.</b></div><div class=\"sk-container\" hidden><div class=\"sk-item\"><div class=\"sk-estimator  sk-toggleable\"><input class=\"sk-toggleable__control sk-hidden--visually\" id=\"sk-estimator-id-2\" type=\"checkbox\" checked><label for=\"sk-estimator-id-2\" class=\"sk-toggleable__label  sk-toggleable__label-arrow \">&nbsp;&nbsp;LinearRegression<a class=\"sk-estimator-doc-link \" rel=\"noreferrer\" target=\"_blank\" href=\"https://scikit-learn.org/1.4/modules/generated/sklearn.linear_model.LinearRegression.html\">?<span>Documentation for LinearRegression</span></a><span class=\"sk-estimator-doc-link \">i<span>Not fitted</span></span></label><div class=\"sk-toggleable__content \"><pre>LinearRegression()</pre></div> </div></div></div></div>"
      ],
      "text/plain": [
       "LinearRegression()"
      ]
     },
     "execution_count": 17,
     "metadata": {},
     "output_type": "execute_result"
    }
   ],
   "source": [
    "from sklearn.linear_model import LinearRegression\n",
    "X = bos.drop('PRICE', axis = 1)\n",
    "lm = LinearRegression()\n",
    "lm"
   ]
  },
  {
   "cell_type": "code",
   "execution_count": 20,
   "metadata": {
    "execution": {
     "iopub.execute_input": "2024-05-10T05:36:55.619626Z",
     "iopub.status.busy": "2024-05-10T05:36:55.619055Z",
     "iopub.status.idle": "2024-05-10T05:36:55.630164Z",
     "shell.execute_reply": "2024-05-10T05:36:55.628766Z",
     "shell.execute_reply.started": "2024-05-10T05:36:55.619586Z"
    }
   },
   "outputs": [
    {
     "data": {
      "text/plain": [
       "0        8.3252\n",
       "1        8.3014\n",
       "2        7.2574\n",
       "3        5.6431\n",
       "4        3.8462\n",
       "          ...  \n",
       "20635    1.5603\n",
       "20636    2.5568\n",
       "20637    1.7000\n",
       "20638    1.8672\n",
       "20639    2.3886\n",
       "Name: MedInc, Length: 20640, dtype: float64"
      ]
     },
     "execution_count": 20,
     "metadata": {},
     "output_type": "execute_result"
    }
   ],
   "source": [
    "bos.MedInc # Usando esse valor como se fosse o RM"
   ]
  },
  {
   "cell_type": "code",
   "execution_count": 21,
   "metadata": {
    "execution": {
     "iopub.execute_input": "2024-05-10T05:36:59.048888Z",
     "iopub.status.busy": "2024-05-10T05:36:59.048250Z",
     "iopub.status.idle": "2024-05-10T05:36:59.367520Z",
     "shell.execute_reply": "2024-05-10T05:36:59.366183Z",
     "shell.execute_reply.started": "2024-05-10T05:36:59.048845Z"
    }
   },
   "outputs": [
    {
     "data": {
      "image/png": "[encoded data removed]",
      "text/plain": [
       "<Figure size 640x480 with 1 Axes>"
      ]
     },
     "metadata": {},
     "output_type": "display_data"
    }
   ],
   "source": [
    "plt.scatter(bos.MedInc, bos.PRICE)\n",
    "plt.xlabel(\"Número médio de cômodos por residência (RM)\") # Não é o RM, na realidade\n",
    "plt.ylabel(\"Preço da habitação\")\n",
    "plt.title(\"Relação entre RM e preço\")\n",
    "plt.show()"
   ]
  },
  {
   "cell_type": "code",
   "execution_count": 23,
   "metadata": {
    "execution": {
     "iopub.execute_input": "2024-05-10T05:37:52.444427Z",
     "iopub.status.busy": "2024-05-10T05:37:52.443016Z",
     "iopub.status.idle": "2024-05-10T05:37:52.464881Z",
     "shell.execute_reply": "2024-05-10T05:37:52.463522Z",
     "shell.execute_reply.started": "2024-05-10T05:37:52.444331Z"
    }
   },
   "outputs": [],
   "source": [
    "from sklearn.model_selection import train_test_split\n",
    "\n",
    "X_train, X_test, Y_train, Y_test = train_test_split(\n",
    "X, bos.PRICE, test_size=0.33,random_state = 5)"
   ]
  },
  {
   "cell_type": "code",
   "execution_count": 24,
   "metadata": {
    "execution": {
     "iopub.execute_input": "2024-05-10T05:37:53.656430Z",
     "iopub.status.busy": "2024-05-10T05:37:53.656056Z",
     "iopub.status.idle": "2024-05-10T05:37:53.695489Z",
     "shell.execute_reply": "2024-05-10T05:37:53.694894Z",
     "shell.execute_reply.started": "2024-05-10T05:37:53.656405Z"
    }
   },
   "outputs": [],
   "source": [
    "lm = LinearRegression()\n",
    "lm.fit(X_train, Y_train)\n",
    "pred_train = lm.predict(X_train)\n",
    "pred_test = lm.predict(X_test)"
   ]
  },
  {
   "cell_type": "code",
   "execution_count": 26,
   "metadata": {
    "execution": {
     "iopub.execute_input": "2024-05-10T05:38:11.816218Z",
     "iopub.status.busy": "2024-05-10T05:38:11.815604Z",
     "iopub.status.idle": "2024-05-10T05:38:12.219382Z",
     "shell.execute_reply": "2024-05-10T05:38:12.218821Z",
     "shell.execute_reply.started": "2024-05-10T05:38:11.816180Z"
    }
   },
   "outputs": [
    {
     "data": {
      "text/plain": [
       "Text(0, 0.5, 'Resíduos')"
      ]
     },
     "execution_count": 26,
     "metadata": {},
     "output_type": "execute_result"
    },
    {
     "data": {
      "image/png": "[encoded data removed]",
      "text/plain": [
       "<Figure size 640x480 with 1 Axes>"
      ]
     },
     "metadata": {},
     "output_type": "display_data"
    }
   ],
   "source": [
    "plt.scatter(lm.predict(X_train), lm.predict(X_train) - Y_train, c='b', s=40, alpha=0.5)\n",
    "plt.scatter(lm.predict(X_test), lm.predict(X_test) - Y_test, c='g', s=40)\n",
    "plt.hlines(y = 0, xmin= 0, xmax= 50)\n",
    "plt.title('Gráfico residual usando dados de treinamento (azul) e de teste (verde)')\n",
    "plt.ylabel('Resíduos')"
   ]
  },
  {
   "cell_type": "code",
   "execution_count": null,
   "metadata": {},
   "outputs": [],
   "source": []
  }
 ],
 "metadata": {
  "kernelspec": {
   "display_name": "Python 3 (ipykernel)",
   "language": "python",
   "name": "python3"
  },
  "language_info": {
   "codemirror_mode": {
    "name": "ipython",
    "version": 3
   },
   "file_extension": ".py",
   "mimetype": "text/x-python",
   "name": "python",
   "nbconvert_exporter": "python",
   "pygments_lexer": "ipython3",
   "version": "3.11.2"
  }
 },
 "nbformat": 4,
 "nbformat_minor": 4
}
