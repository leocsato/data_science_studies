{
 "cells": [
  {
   "cell_type": "markdown",
   "id": "c6154255-4830-4ed0-873a-26cf14c0d273",
   "metadata": {},
   "source": [
    "Os Modelos Lineares Generalizados (GLM, do inglês Generalized Linear Models) são uma extensão dos modelos lineares que permitem que a variável dependente tenha uma distribuição diferente da normal."
   ]
  },
  {
   "cell_type": "code",
   "execution_count": 1,
   "id": "4450fa74-7283-4c31-bf8a-ab700e2dfcfe",
   "metadata": {
    "execution": {
     "iopub.execute_input": "2024-10-31T05:34:09.183051Z",
     "iopub.status.busy": "2024-10-31T05:34:09.181988Z",
     "iopub.status.idle": "2024-10-31T05:34:10.250144Z",
     "shell.execute_reply": "2024-10-31T05:34:10.249517Z",
     "shell.execute_reply.started": "2024-10-31T05:34:09.182983Z"
    }
   },
   "outputs": [
    {
     "name": "stderr",
     "output_type": "stream",
     "text": [
      "/tmp/ipykernel_23295/1814315484.py:2: DeprecationWarning: \n",
      "Pyarrow will become a required dependency of pandas in the next major release of pandas (pandas 3.0),\n",
      "(to allow more performant data types, such as the Arrow string type, and better interoperability with other libraries)\n",
      "but was not found to be installed on your system.\n",
      "If this would cause problems for you,\n",
      "please provide us feedback at https://github.com/pandas-dev/pandas/issues/54466\n",
      "        \n",
      "  import pandas as pd\n"
     ]
    }
   ],
   "source": [
    "import numpy as np\n",
    "import pandas as pd\n",
    "import statsmodels.api as sm\n",
    "from sklearn.datasets import load_iris\n",
    "from sklearn.model_selection import train_test_split\n",
    "from sklearn.metrics import accuracy_score, confusion_matrix"
   ]
  },
  {
   "cell_type": "markdown",
   "id": "8f125cd3-f30e-4626-94ae-2f7752f7dce7",
   "metadata": {},
   "source": [
    "# 1. Carregando um conjunto de dados de exemplo (Iris)"
   ]
  },
  {
   "cell_type": "code",
   "execution_count": 2,
   "id": "1a8ca6b3-878a-40bc-8147-9c8ecca5db0d",
   "metadata": {
    "execution": {
     "iopub.execute_input": "2024-10-31T05:34:10.251138Z",
     "iopub.status.busy": "2024-10-31T05:34:10.250813Z",
     "iopub.status.idle": "2024-10-31T05:34:10.259289Z",
     "shell.execute_reply": "2024-10-31T05:34:10.258409Z",
     "shell.execute_reply.started": "2024-10-31T05:34:10.251112Z"
    }
   },
   "outputs": [],
   "source": [
    "data = load_iris()\n",
    "X = data.data\n",
    "y = (data.target == 0).astype(int)  # Convertendo para um problema binário (Classe 0 vs. outras)"
   ]
  },
  {
   "cell_type": "markdown",
   "id": "98e4c314-c883-47fb-9191-8a0f77b4761a",
   "metadata": {},
   "source": [
    "# 2. Dividindo os dados em conjuntos de treino e teste"
   ]
  },
  {
   "cell_type": "code",
   "execution_count": 3,
   "id": "7188f2f7-db16-4b39-9a1e-1283acfb58df",
   "metadata": {
    "execution": {
     "iopub.execute_input": "2024-10-31T05:34:10.261507Z",
     "iopub.status.busy": "2024-10-31T05:34:10.261042Z",
     "iopub.status.idle": "2024-10-31T05:34:10.267320Z",
     "shell.execute_reply": "2024-10-31T05:34:10.266407Z",
     "shell.execute_reply.started": "2024-10-31T05:34:10.261477Z"
    }
   },
   "outputs": [],
   "source": [
    "X_train, X_test, y_train, y_test = train_test_split(X, y, test_size=0.2,\n",
    "                                                    random_state=42)"
   ]
  },
  {
   "cell_type": "markdown",
   "id": "44e3eab0-a143-4743-8e1a-6e055dacb97a",
   "metadata": {},
   "source": [
    "# 3. Adicionando uma constante para o intercepto"
   ]
  },
  {
   "cell_type": "code",
   "execution_count": 4,
   "id": "7ac8c314-1e5d-41c6-8eac-8995599fa149",
   "metadata": {
    "execution": {
     "iopub.execute_input": "2024-10-31T05:34:10.269151Z",
     "iopub.status.busy": "2024-10-31T05:34:10.268785Z",
     "iopub.status.idle": "2024-10-31T05:34:10.273198Z",
     "shell.execute_reply": "2024-10-31T05:34:10.272335Z",
     "shell.execute_reply.started": "2024-10-31T05:34:10.269123Z"
    }
   },
   "outputs": [],
   "source": [
    "X_train_sm = sm.add_constant(X_train)\n",
    "X_test_sm = sm.add_constant(X_test)"
   ]
  },
  {
   "cell_type": "markdown",
   "id": "d203ea69-0151-4b8c-a340-b887f83f407e",
   "metadata": {},
   "source": [
    "# 4. Ajustando o modelo GLM (Regressão Logística)"
   ]
  },
  {
   "cell_type": "code",
   "execution_count": 5,
   "id": "33c08110-b08b-47f7-b2d4-760208d0762b",
   "metadata": {
    "execution": {
     "iopub.execute_input": "2024-10-31T05:34:10.274512Z",
     "iopub.status.busy": "2024-10-31T05:34:10.274114Z",
     "iopub.status.idle": "2024-10-31T05:34:10.293041Z",
     "shell.execute_reply": "2024-10-31T05:34:10.292067Z",
     "shell.execute_reply.started": "2024-10-31T05:34:10.274484Z"
    }
   },
   "outputs": [
    {
     "name": "stderr",
     "output_type": "stream",
     "text": [
      "/home/a_new_info/D/Utilidades/Virtual_Envs/Python/data_science_studies/lib/python3.11/site-packages/statsmodels/genmod/generalized_linear_model.py:1342: PerfectSeparationWarning: Perfect separation or prediction detected, parameter may not be identified\n",
      "  warnings.warn(msg, category=PerfectSeparationWarning)\n",
      "/home/a_new_info/D/Utilidades/Virtual_Envs/Python/data_science_studies/lib/python3.11/site-packages/statsmodels/genmod/generalized_linear_model.py:1342: PerfectSeparationWarning: Perfect separation or prediction detected, parameter may not be identified\n",
      "  warnings.warn(msg, category=PerfectSeparationWarning)\n",
      "/home/a_new_info/D/Utilidades/Virtual_Envs/Python/data_science_studies/lib/python3.11/site-packages/statsmodels/genmod/generalized_linear_model.py:1342: PerfectSeparationWarning: Perfect separation or prediction detected, parameter may not be identified\n",
      "  warnings.warn(msg, category=PerfectSeparationWarning)\n",
      "/home/a_new_info/D/Utilidades/Virtual_Envs/Python/data_science_studies/lib/python3.11/site-packages/statsmodels/genmod/generalized_linear_model.py:1342: PerfectSeparationWarning: Perfect separation or prediction detected, parameter may not be identified\n",
      "  warnings.warn(msg, category=PerfectSeparationWarning)\n"
     ]
    }
   ],
   "source": [
    "model = sm.GLM(y_train, X_train_sm, family=sm.families.Binomial())\n",
    "results = model.fit()"
   ]
  },
  {
   "cell_type": "markdown",
   "id": "3c3ce90f-0025-4831-a803-fa6bf8e2546b",
   "metadata": {},
   "source": [
    "# 5. Resumo do modelo"
   ]
  },
  {
   "cell_type": "code",
   "execution_count": 7,
   "id": "db5d3382-d200-4103-99dd-620292907af1",
   "metadata": {
    "execution": {
     "iopub.execute_input": "2024-10-31T05:34:13.423142Z",
     "iopub.status.busy": "2024-10-31T05:34:13.422611Z",
     "iopub.status.idle": "2024-10-31T05:34:13.433537Z",
     "shell.execute_reply": "2024-10-31T05:34:13.432619Z",
     "shell.execute_reply.started": "2024-10-31T05:34:13.423100Z"
    }
   },
   "outputs": [
    {
     "name": "stdout",
     "output_type": "stream",
     "text": [
      "                 Generalized Linear Model Regression Results                  \n",
      "==============================================================================\n",
      "Dep. Variable:                      y   No. Observations:                  120\n",
      "Model:                            GLM   Df Residuals:                      115\n",
      "Model Family:                Binomial   Df Model:                            4\n",
      "Link Function:                  Logit   Scale:                          1.0000\n",
      "Method:                          IRLS   Log-Likelihood:            -1.2898e-09\n",
      "Date:                Thu, 31 Oct 2024   Deviance:                   2.5797e-09\n",
      "Time:                        02:34:13   Pearson chi2:                 1.29e-09\n",
      "No. Iterations:                    25   Pseudo R-squ. (CS):             0.7200\n",
      "Covariance Type:            nonrobust                                         \n",
      "==============================================================================\n",
      "                 coef    std err          z      P>|z|      [0.025      0.975]\n",
      "------------------------------------------------------------------------------\n",
      "const        -14.4405   4.96e+05  -2.91e-05      1.000   -9.72e+05    9.72e+05\n",
      "x1            11.1764    1.5e+05   7.47e-05      1.000   -2.93e+05    2.93e+05\n",
      "x2             7.9133   6.98e+04      0.000      1.000   -1.37e+05    1.37e+05\n",
      "x3           -19.6932   1.21e+05     -0.000      1.000   -2.37e+05    2.37e+05\n",
      "x4           -22.6314   1.75e+05     -0.000      1.000   -3.44e+05    3.44e+05\n",
      "==============================================================================\n"
     ]
    }
   ],
   "source": [
    "print(results.summary())"
   ]
  },
  {
   "cell_type": "markdown",
   "id": "b9df6c73-1b4a-4b18-93f4-6889cb1f59d3",
   "metadata": {},
   "source": [
    "# 6. Fazendo previsões"
   ]
  },
  {
   "cell_type": "code",
   "execution_count": 8,
   "id": "9140defa-d571-4f2f-9bd2-715e82ccf005",
   "metadata": {
    "execution": {
     "iopub.execute_input": "2024-10-31T05:34:16.427721Z",
     "iopub.status.busy": "2024-10-31T05:34:16.426752Z",
     "iopub.status.idle": "2024-10-31T05:34:16.433240Z",
     "shell.execute_reply": "2024-10-31T05:34:16.432300Z",
     "shell.execute_reply.started": "2024-10-31T05:34:16.427670Z"
    }
   },
   "outputs": [],
   "source": [
    "y_pred_prob = results.predict(X_test_sm)\n",
    "y_pred = (y_pred_prob > 0.5).astype(int)"
   ]
  },
  {
   "cell_type": "markdown",
   "id": "75453db6-33c7-4605-ae49-9800b8acc5ba",
   "metadata": {},
   "source": [
    "# 7. Avaliando o modelo"
   ]
  },
  {
   "cell_type": "code",
   "execution_count": 9,
   "id": "abe6660b-b57c-4669-bf58-fbc6fc940024",
   "metadata": {
    "execution": {
     "iopub.execute_input": "2024-10-31T05:34:18.708125Z",
     "iopub.status.busy": "2024-10-31T05:34:18.707523Z",
     "iopub.status.idle": "2024-10-31T05:34:18.725181Z",
     "shell.execute_reply": "2024-10-31T05:34:18.723962Z",
     "shell.execute_reply.started": "2024-10-31T05:34:18.708084Z"
    }
   },
   "outputs": [
    {
     "name": "stdout",
     "output_type": "stream",
     "text": [
      "\n",
      "Acurácia: 1.00\n",
      "\n",
      "Matriz de Confusão:\n",
      "[[20  0]\n",
      " [ 0 10]]\n"
     ]
    }
   ],
   "source": [
    "accuracy = accuracy_score(y_test, y_pred)\n",
    "conf_matrix = confusion_matrix(y_test, y_pred)\n",
    "\n",
    "print(f\"\\nAcurácia: {accuracy:.2f}\")\n",
    "print(\"\\nMatriz de Confusão:\")\n",
    "print(conf_matrix)"
   ]
  },
  {
   "cell_type": "markdown",
   "id": "e3130796-5975-4d37-8551-17883427df21",
   "metadata": {},
   "source": [
    "-----"
   ]
  },
  {
   "cell_type": "code",
   "execution_count": null,
   "id": "c7bd1795-1eda-477e-9177-16fb0ffc294c",
   "metadata": {},
   "outputs": [],
   "source": []
  }
 ],
 "metadata": {
  "kernelspec": {
   "display_name": "Python 3 (ipykernel)",
   "language": "python",
   "name": "python3"
  },
  "language_info": {
   "codemirror_mode": {
    "name": "ipython",
    "version": 3
   },
   "file_extension": ".py",
   "mimetype": "text/x-python",
   "name": "python",
   "nbconvert_exporter": "python",
   "pygments_lexer": "ipython3",
   "version": "3.11.2"
  }
 },
 "nbformat": 4,
 "nbformat_minor": 5
}
