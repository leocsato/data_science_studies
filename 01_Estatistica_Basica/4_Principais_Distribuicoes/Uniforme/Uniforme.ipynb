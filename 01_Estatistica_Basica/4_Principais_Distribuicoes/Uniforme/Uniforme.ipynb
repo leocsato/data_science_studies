{
 "cells": [
  {
   "cell_type": "markdown",
   "metadata": {},
   "source": [
    "É uma distribuição probabilísitca onde todo o valor em uma dada faixa tem chance igual de ocorrer."
   ]
  },
  {
   "cell_type": "markdown",
   "metadata": {},
   "source": [
    "A Distribuição Uniforme é uma distribuição de probabilidade em que todos os valores dentro de um intervalo especificado têm a mesma probabilidade de ocorrer."
   ]
  },
  {
   "cell_type": "markdown",
   "metadata": {},
   "source": [
    "A Distribuição Uniforme Contínua é definida por dois parâmetros: a (o valor mínimo possível) e b (o valor máximo possível)."
   ]
  },
  {
   "cell_type": "markdown",
   "metadata": {},
   "source": [
    "O formato da distribuição uniforme é retangular, indicando que todos os valores tem a mesma probabilidade de ocorrer.\n",
    "\n",
    "Comumente usada para modelar eventos aleatórios ou processos sem preferência por algum resultado, como rolar dados não-viciados."
   ]
  },
  {
   "cell_type": "code",
   "execution_count": 1,
   "metadata": {
    "execution": {
     "iopub.execute_input": "2024-05-10T01:08:43.522977Z",
     "iopub.status.busy": "2024-05-10T01:08:43.522340Z",
     "iopub.status.idle": "2024-05-10T01:08:44.461779Z",
     "shell.execute_reply": "2024-05-10T01:08:44.460980Z",
     "shell.execute_reply.started": "2024-05-10T01:08:43.522907Z"
    },
    "scrolled": true
   },
   "outputs": [],
   "source": [
    "import matplotlib.pyplot as plt\n",
    "import numpy as np\n",
    "from sklearn.preprocessing import QuantileTransformer"
   ]
  },
  {
   "cell_type": "code",
   "execution_count": 2,
   "metadata": {
    "execution": {
     "iopub.execute_input": "2024-05-10T01:08:44.464130Z",
     "iopub.status.busy": "2024-05-10T01:08:44.463556Z",
     "iopub.status.idle": "2024-05-10T01:08:44.469620Z",
     "shell.execute_reply": "2024-05-10T01:08:44.468579Z",
     "shell.execute_reply.started": "2024-05-10T01:08:44.464090Z"
    }
   },
   "outputs": [],
   "source": [
    "rng = np.random.RandomState(0)"
   ]
  },
  {
   "cell_type": "code",
   "execution_count": 3,
   "metadata": {
    "execution": {
     "iopub.execute_input": "2024-05-10T01:08:44.472274Z",
     "iopub.status.busy": "2024-05-10T01:08:44.471569Z",
     "iopub.status.idle": "2024-05-10T01:08:44.477805Z",
     "shell.execute_reply": "2024-05-10T01:08:44.476418Z",
     "shell.execute_reply.started": "2024-05-10T01:08:44.472233Z"
    }
   },
   "outputs": [],
   "source": [
    "X = np.sort(rng.normal(loc=0.5,\n",
    "                       scale=0.1,\n",
    "                       size=(10, 1)), axis=0)"
   ]
  },
  {
   "cell_type": "code",
   "execution_count": 4,
   "metadata": {
    "execution": {
     "iopub.execute_input": "2024-05-10T01:08:44.890537Z",
     "iopub.status.busy": "2024-05-10T01:08:44.889731Z",
     "iopub.status.idle": "2024-05-10T01:08:44.895124Z",
     "shell.execute_reply": "2024-05-10T01:08:44.894149Z",
     "shell.execute_reply.started": "2024-05-10T01:08:44.890490Z"
    }
   },
   "outputs": [],
   "source": [
    "qt_normal = QuantileTransformer(#n_quantiles=10,\n",
    "                         #random_state=0,\n",
    "                         output_distribution='normal')"
   ]
  },
  {
   "cell_type": "code",
   "execution_count": 5,
   "metadata": {
    "execution": {
     "iopub.execute_input": "2024-05-10T01:08:45.170416Z",
     "iopub.status.busy": "2024-05-10T01:08:45.169706Z",
     "iopub.status.idle": "2024-05-10T01:08:45.176324Z",
     "shell.execute_reply": "2024-05-10T01:08:45.175047Z",
     "shell.execute_reply.started": "2024-05-10T01:08:45.170349Z"
    }
   },
   "outputs": [],
   "source": [
    "qt_uniforme = QuantileTransformer(#n_quantiles=10,\n",
    "                         #random_state=0,\n",
    "                         output_distribution='uniform')"
   ]
  },
  {
   "cell_type": "code",
   "execution_count": 6,
   "metadata": {
    "execution": {
     "iopub.execute_input": "2024-05-10T01:08:45.438577Z",
     "iopub.status.busy": "2024-05-10T01:08:45.437985Z",
     "iopub.status.idle": "2024-05-10T01:08:45.453102Z",
     "shell.execute_reply": "2024-05-10T01:08:45.451648Z",
     "shell.execute_reply.started": "2024-05-10T01:08:45.438535Z"
    }
   },
   "outputs": [
    {
     "name": "stderr",
     "output_type": "stream",
     "text": [
      "/home/a_new_info/D/Utilidades/Virtual_Envs/Python/data_science_studies/lib/python3.11/site-packages/sklearn/preprocessing/_data.py:2762: UserWarning: n_quantiles (1000) is greater than the total number of samples (10). n_quantiles is set to n_samples.\n",
      "  warnings.warn(\n",
      "/home/a_new_info/D/Utilidades/Virtual_Envs/Python/data_science_studies/lib/python3.11/site-packages/sklearn/preprocessing/_data.py:2762: UserWarning: n_quantiles (1000) is greater than the total number of samples (10). n_quantiles is set to n_samples.\n",
      "  warnings.warn(\n"
     ]
    }
   ],
   "source": [
    "# n = np.arange(0, 25)\n",
    "resultados_normal = qt_normal.fit_transform(X)\n",
    "resultados_uniforme = qt_uniforme.fit_transform(X)"
   ]
  },
  {
   "cell_type": "code",
   "execution_count": 7,
   "metadata": {
    "execution": {
     "iopub.execute_input": "2024-05-10T01:08:45.863053Z",
     "iopub.status.busy": "2024-05-10T01:08:45.862371Z",
     "iopub.status.idle": "2024-05-10T01:08:45.868645Z",
     "shell.execute_reply": "2024-05-10T01:08:45.867154Z",
     "shell.execute_reply.started": "2024-05-10T01:08:45.862999Z"
    }
   },
   "outputs": [],
   "source": [
    "# resultados.shape"
   ]
  },
  {
   "cell_type": "code",
   "execution_count": 8,
   "metadata": {
    "execution": {
     "iopub.execute_input": "2024-05-10T01:08:46.328808Z",
     "iopub.status.busy": "2024-05-10T01:08:46.327405Z",
     "iopub.status.idle": "2024-05-10T01:08:46.334996Z",
     "shell.execute_reply": "2024-05-10T01:08:46.333465Z",
     "shell.execute_reply.started": "2024-05-10T01:08:46.328708Z"
    }
   },
   "outputs": [],
   "source": [
    "# resultados = resultados.reshape((25,))"
   ]
  },
  {
   "cell_type": "code",
   "execution_count": 9,
   "metadata": {
    "execution": {
     "iopub.execute_input": "2024-05-10T01:08:46.663850Z",
     "iopub.status.busy": "2024-05-10T01:08:46.663499Z",
     "iopub.status.idle": "2024-05-10T01:08:46.881843Z",
     "shell.execute_reply": "2024-05-10T01:08:46.880918Z",
     "shell.execute_reply.started": "2024-05-10T01:08:46.663831Z"
    }
   },
   "outputs": [
    {
     "data": {
      "image/png": "[encoded data removed]",
      "text/plain": [
       "<Figure size 640x480 with 1 Axes>"
      ]
     },
     "metadata": {},
     "output_type": "display_data"
    }
   ],
   "source": [
    "# Plotando histograma dos resultados\n",
    "plt.hist(resultados_normal, bins=10, density=True, alpha=0.6, color='g')\n",
    "plt.title('Exemplo de Distribuição Normal')\n",
    "plt.xlabel('Resultado da Transformação')\n",
    "plt.ylabel('Densidade')\n",
    "plt.grid(True)\n",
    "plt.show()"
   ]
  },
  {
   "cell_type": "code",
   "execution_count": 11,
   "metadata": {
    "execution": {
     "iopub.execute_input": "2024-05-10T01:08:54.846602Z",
     "iopub.status.busy": "2024-05-10T01:08:54.845974Z",
     "iopub.status.idle": "2024-05-10T01:08:55.061871Z",
     "shell.execute_reply": "2024-05-10T01:08:55.060701Z",
     "shell.execute_reply.started": "2024-05-10T01:08:54.846561Z"
    }
   },
   "outputs": [
    {
     "data": {
      "image/png": "[encoded data removed]",
      "text/plain": [
       "<Figure size 640x480 with 1 Axes>"
      ]
     },
     "metadata": {},
     "output_type": "display_data"
    }
   ],
   "source": [
    "# Plotando histograma dos resultados\n",
    "plt.hist(resultados_uniforme, bins=10, density=True, alpha=0.6, color='g')\n",
    "plt.title('Exemplo de Distribuição Uniforme')\n",
    "plt.xlabel('Resultado da Transformação')\n",
    "plt.ylabel('Densidade')\n",
    "plt.grid(True)\n",
    "plt.show()"
   ]
  },
  {
   "cell_type": "markdown",
   "metadata": {},
   "source": [
    "# Exemplo 1"
   ]
  },
  {
   "cell_type": "markdown",
   "metadata": {},
   "source": [
    "Exemplo prático de distribuição:\n",
    "\n",
    "Suponha que você está estudando o tempo de espera (em minutos) de clientes em uma agência bancária. Após coletar os dados, você descobriu que o tempo de espera varia entre 5 minutos e 15 minutos.\n",
    "Você quer saber a probabilidade de um cliente esperar entre 8 minutos e 12 minutos.\n",
    "    \n",
    "Neste caso, temos:\n",
    "\n",
    "Intervalo de tempo de espera: [5 minutos, 15 minutos]\n",
    "\n",
    "Intervalo de interesse: [8 minutos, 12 minutos]\n",
    "\n",
    "Como a distribuição do tempo de espera é uniforme, a probabilidade de um cliente esperar entre 8 minutos e 12 minutos é proporcional à largura desse intervalo em relação à largura total do intervalo.\n",
    "\n",
    "Qual é a probabilidade (em %)?\n"
   ]
  },
  {
   "cell_type": "markdown",
   "metadata": {},
   "source": [
    "Lembre-se de que a Distribuição Uniforme modela situações em que todos os resultados em um intervalo têm a mesma probabilidade."
   ]
  },
  {
   "cell_type": "code",
   "execution_count": 1,
   "metadata": {
    "execution": {
     "iopub.execute_input": "2024-10-31T04:30:34.886342Z",
     "iopub.status.busy": "2024-10-31T04:30:34.885595Z",
     "iopub.status.idle": "2024-10-31T04:30:34.899970Z",
     "shell.execute_reply": "2024-10-31T04:30:34.898374Z",
     "shell.execute_reply.started": "2024-10-31T04:30:34.886276Z"
    }
   },
   "outputs": [
    {
     "data": {
      "text/plain": [
       "0.4"
      ]
     },
     "execution_count": 1,
     "metadata": {},
     "output_type": "execute_result"
    }
   ],
   "source": [
    "(12 - 8)/(15-5)"
   ]
  },
  {
   "cell_type": "code",
   "execution_count": 2,
   "metadata": {
    "execution": {
     "iopub.execute_input": "2024-10-31T04:30:35.021864Z",
     "iopub.status.busy": "2024-10-31T04:30:35.021131Z",
     "iopub.status.idle": "2024-10-31T04:30:35.026960Z",
     "shell.execute_reply": "2024-10-31T04:30:35.025603Z",
     "shell.execute_reply.started": "2024-10-31T04:30:35.021827Z"
    }
   },
   "outputs": [],
   "source": [
    "# Definindo os intervalos\n",
    "tempo_espera_minimo = 5\n",
    "tempo_espera_maximo = 15\n",
    "intervalo_interesse_minimo = 8\n",
    "intervalo_interesse_maximo = 12"
   ]
  },
  {
   "cell_type": "code",
   "execution_count": 3,
   "metadata": {
    "execution": {
     "iopub.execute_input": "2024-10-31T04:30:35.152025Z",
     "iopub.status.busy": "2024-10-31T04:30:35.150631Z",
     "iopub.status.idle": "2024-10-31T04:30:35.157602Z",
     "shell.execute_reply": "2024-10-31T04:30:35.156165Z",
     "shell.execute_reply.started": "2024-10-31T04:30:35.151977Z"
    }
   },
   "outputs": [],
   "source": [
    "# Calculando as larguras dos intervalos\n",
    "largura_interesse = intervalo_interesse_maximo - intervalo_interesse_minimo\n",
    "largura_total = tempo_espera_maximo - tempo_espera_minimo"
   ]
  },
  {
   "cell_type": "code",
   "execution_count": 4,
   "metadata": {
    "execution": {
     "iopub.execute_input": "2024-10-31T04:30:35.302216Z",
     "iopub.status.busy": "2024-10-31T04:30:35.301314Z",
     "iopub.status.idle": "2024-10-31T04:30:35.307023Z",
     "shell.execute_reply": "2024-10-31T04:30:35.305741Z",
     "shell.execute_reply.started": "2024-10-31T04:30:35.302166Z"
    }
   },
   "outputs": [],
   "source": [
    "# Calculando a probabilidade\n",
    "probabilidade = largura_interesse / largura_total"
   ]
  },
  {
   "cell_type": "code",
   "execution_count": 5,
   "metadata": {
    "execution": {
     "iopub.execute_input": "2024-10-31T04:30:35.434775Z",
     "iopub.status.busy": "2024-10-31T04:30:35.434147Z",
     "iopub.status.idle": "2024-10-31T04:30:35.440133Z",
     "shell.execute_reply": "2024-10-31T04:30:35.438904Z",
     "shell.execute_reply.started": "2024-10-31T04:30:35.434727Z"
    }
   },
   "outputs": [],
   "source": [
    "# Convertendo para porcentagem\n",
    "probabilidade_percentual = probabilidade * 100"
   ]
  },
  {
   "cell_type": "code",
   "execution_count": 6,
   "metadata": {
    "execution": {
     "iopub.execute_input": "2024-10-31T04:30:35.591288Z",
     "iopub.status.busy": "2024-10-31T04:30:35.590700Z",
     "iopub.status.idle": "2024-10-31T04:30:35.597856Z",
     "shell.execute_reply": "2024-10-31T04:30:35.596507Z",
     "shell.execute_reply.started": "2024-10-31T04:30:35.591243Z"
    }
   },
   "outputs": [
    {
     "name": "stdout",
     "output_type": "stream",
     "text": [
      "A probabilidade de um cliente esperar entre 8\n",
      "          e 12 minutos é de 40.00%.\n",
      "       \n"
     ]
    }
   ],
   "source": [
    "# Exibindo o resultado\n",
    "msg = f\"\"\"A probabilidade de um cliente esperar entre {intervalo_interesse_minimo}\n",
    "          e {intervalo_interesse_maximo} minutos é de {probabilidade_percentual:.2f}%.\n",
    "       \"\"\"\n",
    "print(msg)"
   ]
  }
 ],
 "metadata": {
  "kernelspec": {
   "display_name": "Python 3 (ipykernel)",
   "language": "python",
   "name": "python3"
  },
  "language_info": {
   "codemirror_mode": {
    "name": "ipython",
    "version": 3
   },
   "file_extension": ".py",
   "mimetype": "text/x-python",
   "name": "python",
   "nbconvert_exporter": "python",
   "pygments_lexer": "ipython3",
   "version": "3.11.2"
  }
 },
 "nbformat": 4,
 "nbformat_minor": 4
}
