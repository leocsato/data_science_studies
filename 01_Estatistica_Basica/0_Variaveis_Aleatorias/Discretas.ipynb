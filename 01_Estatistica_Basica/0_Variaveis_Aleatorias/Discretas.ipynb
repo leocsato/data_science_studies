{
 "cells": [
  {
   "cell_type": "code",
   "execution_count": 7,
   "id": "fb5816e8-2b54-463c-84a4-dc35e1407151",
   "metadata": {
    "execution": {
     "iopub.execute_input": "2024-10-31T03:24:59.316323Z",
     "iopub.status.busy": "2024-10-31T03:24:59.315290Z",
     "iopub.status.idle": "2024-10-31T03:24:59.323245Z",
     "shell.execute_reply": "2024-10-31T03:24:59.321516Z",
     "shell.execute_reply.started": "2024-10-31T03:24:59.316253Z"
    }
   },
   "outputs": [],
   "source": [
    "import numpy as np\n",
    "import pandas as pd\n",
    "import scipy.stats as stats\n",
    "import matplotlib.pyplot as plt"
   ]
  },
  {
   "cell_type": "code",
   "execution_count": 2,
   "id": "cddfab62-4819-4e4b-ae6c-22f39d9cd3e3",
   "metadata": {
    "execution": {
     "iopub.execute_input": "2024-10-31T03:12:09.708475Z",
     "iopub.status.busy": "2024-10-31T03:12:09.707498Z",
     "iopub.status.idle": "2024-10-31T03:12:09.714900Z",
     "shell.execute_reply": "2024-10-31T03:12:09.713585Z",
     "shell.execute_reply.started": "2024-10-31T03:12:09.708426Z"
    }
   },
   "outputs": [],
   "source": [
    "# Gerar dados discretos\n",
    "np.random.seed(0)  # Para reprodutibilidade\n",
    "# Criar uma tabela de contingência\n",
    "data = {\n",
    "    'Grupo A': np.random.choice(['Sucesso', 'Falha'], size=100, p=[0.6, 0.4]),\n",
    "    'Grupo B': np.random.choice(['Sucesso', 'Falha'], size=100, p=[0.5, 0.5])\n",
    "}"
   ]
  },
  {
   "cell_type": "code",
   "execution_count": 3,
   "id": "9d81331e-24ff-436b-bbe5-7273d9f8ef71",
   "metadata": {
    "execution": {
     "iopub.execute_input": "2024-10-31T03:12:19.317482Z",
     "iopub.status.busy": "2024-10-31T03:12:19.316995Z",
     "iopub.status.idle": "2024-10-31T03:12:19.404917Z",
     "shell.execute_reply": "2024-10-31T03:12:19.404184Z",
     "shell.execute_reply.started": "2024-10-31T03:12:19.317442Z"
    }
   },
   "outputs": [],
   "source": [
    "# Criar um DataFrame\n",
    "df = pd.DataFrame(data)\n",
    "\n",
    "# Criar uma tabela de contingência\n",
    "contingency_table = pd.crosstab(df['Grupo A'], df['Grupo B'])"
   ]
  },
  {
   "cell_type": "code",
   "execution_count": 4,
   "id": "221c4b68-3298-4313-b8bb-562a0e768e7d",
   "metadata": {
    "execution": {
     "iopub.execute_input": "2024-10-31T03:12:25.775393Z",
     "iopub.status.busy": "2024-10-31T03:12:25.774764Z",
     "iopub.status.idle": "2024-10-31T03:12:25.782645Z",
     "shell.execute_reply": "2024-10-31T03:12:25.781896Z",
     "shell.execute_reply.started": "2024-10-31T03:12:25.775343Z"
    }
   },
   "outputs": [],
   "source": [
    "# Realizar o teste do qui-quadrado\n",
    "chi2_stat, p_value, dof, expected = stats.chi2_contingency(contingency_table)"
   ]
  },
  {
   "cell_type": "code",
   "execution_count": 5,
   "id": "44c4d4d4-780e-4889-803d-85b4d76eacdf",
   "metadata": {
    "execution": {
     "iopub.execute_input": "2024-10-31T03:12:30.776619Z",
     "iopub.status.busy": "2024-10-31T03:12:30.776115Z",
     "iopub.status.idle": "2024-10-31T03:12:30.785394Z",
     "shell.execute_reply": "2024-10-31T03:12:30.783835Z",
     "shell.execute_reply.started": "2024-10-31T03:12:30.776577Z"
    }
   },
   "outputs": [
    {
     "name": "stdout",
     "output_type": "stream",
     "text": [
      "Estatística qui-quadrado: 0.0\n",
      "Valor p: 1.0\n",
      "Degrees of Freedom: 1\n",
      "Frequências Esperadas:\n",
      "[[21.66 16.34]\n",
      " [35.34 26.66]]\n"
     ]
    }
   ],
   "source": [
    "# Resultados do teste\n",
    "print(f'Estatística qui-quadrado: {chi2_stat}')\n",
    "print(f'Valor p: {p_value}')\n",
    "print(f'Degrees of Freedom: {dof}')\n",
    "print(f'Frequências Esperadas:\\n{expected}')"
   ]
  },
  {
   "cell_type": "markdown",
   "id": "18aa97f4-e92d-4485-8f0a-887dde0425c0",
   "metadata": {},
   "source": [
    "Interpretação dos Resultados\n",
    "\n",
    "    A estatística qui-quadrado indica a magnitude da diferença entre as frequências observadas e esperadas.\n",
    "    \n",
    "    O valor p ajuda a determinar a significância estatística da associação entre as variáveis. Um valor p menor que 0.05 geralmente indica que há uma associação significativa entre as variáveis."
   ]
  },
  {
   "cell_type": "code",
   "execution_count": 6,
   "id": "7f6b7c26-4de7-4395-9f15-55674343668e",
   "metadata": {
    "execution": {
     "iopub.execute_input": "2024-10-31T03:12:46.820228Z",
     "iopub.status.busy": "2024-10-31T03:12:46.819173Z",
     "iopub.status.idle": "2024-10-31T03:12:47.081642Z",
     "shell.execute_reply": "2024-10-31T03:12:47.080635Z",
     "shell.execute_reply.started": "2024-10-31T03:12:46.820170Z"
    }
   },
   "outputs": [
    {
     "data": {
      "image/png": "[encoded data removed]",
      "text/plain": [
       "<Figure size 640x480 with 1 Axes>"
      ]
     },
     "metadata": {},
     "output_type": "display_data"
    }
   ],
   "source": [
    "# Visualizar a tabela de contingência\n",
    "contingency_table.plot(kind='bar', stacked=True)\n",
    "plt.title('Tabela de Contingência')\n",
    "plt.xlabel('Grupo A')\n",
    "plt.ylabel('Frequência')\n",
    "plt.legend(title='Grupo B')\n",
    "plt.show()\n",
    "\n",
    "# Um gráfico de barras empilhadas para visualizar a tabela de contingência."
   ]
  },
  {
   "cell_type": "code",
   "execution_count": null,
   "id": "62631aab-c0ec-4765-9eb3-47ca6e3fe57c",
   "metadata": {},
   "outputs": [],
   "source": []
  }
 ],
 "metadata": {
  "kernelspec": {
   "display_name": "Python 3 (ipykernel)",
   "language": "python",
   "name": "python3"
  },
  "language_info": {
   "codemirror_mode": {
    "name": "ipython",
    "version": 3
   },
   "file_extension": ".py",
   "mimetype": "text/x-python",
   "name": "python",
   "nbconvert_exporter": "python",
   "pygments_lexer": "ipython3",
   "version": "3.11.2"
  }
 },
 "nbformat": 4,
 "nbformat_minor": 5
}
