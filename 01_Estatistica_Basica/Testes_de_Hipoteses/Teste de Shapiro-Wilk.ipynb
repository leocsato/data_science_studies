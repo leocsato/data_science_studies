{
 "cells": [
  {
   "cell_type": "markdown",
   "id": "29e790f4-85f0-4100-9403-8b92a75bff58",
   "metadata": {},
   "source": [
    "O teste de Shapiro-Wilk é um teste estatístico usado para determinar se um conjunto de dados provém de uma população normalmente distribuída. "
   ]
  },
  {
   "cell_type": "markdown",
   "id": "382f44cb-a2f7-492e-b30c-67db89197530",
   "metadata": {},
   "source": [
    "Se o p-valor for menor que um nível de significância escolhido (por exemplo, 0,05), rejeitamos a hipótese nula e concluímos que os dados não são provenientes de uma população normalmente distribuída. Caso contrário, não rejeitaremos a hipótese nula, indicando que os dados podem ser provenientes de uma população normalmente distribuída."
   ]
  },
  {
   "cell_type": "code",
   "execution_count": 1,
   "id": "498b5256-9127-4dda-93c1-c7d10b4f5415",
   "metadata": {
    "execution": {
     "iopub.execute_input": "2024-05-24T01:43:14.899931Z",
     "iopub.status.busy": "2024-05-24T01:43:14.898774Z",
     "iopub.status.idle": "2024-05-24T01:43:15.458520Z",
     "shell.execute_reply": "2024-05-24T01:43:15.457780Z",
     "shell.execute_reply.started": "2024-05-24T01:43:14.899879Z"
    }
   },
   "outputs": [],
   "source": [
    "from scipy.stats import shapiro"
   ]
  },
  {
   "cell_type": "code",
   "execution_count": 5,
   "id": "42eb8cfa-e5a8-4099-9954-03b582a28a6c",
   "metadata": {
    "execution": {
     "iopub.execute_input": "2024-05-24T01:44:32.862979Z",
     "iopub.status.busy": "2024-05-24T01:44:32.862380Z",
     "iopub.status.idle": "2024-05-24T01:44:32.870109Z",
     "shell.execute_reply": "2024-05-24T01:44:32.868596Z",
     "shell.execute_reply.started": "2024-05-24T01:44:32.862939Z"
    }
   },
   "outputs": [],
   "source": [
    "def shapiro_wilk_test(data):\n",
    "    \"\"\"\n",
    "    Realize o teste de normalidade de Shapiro-Wilk.\n",
    "    \n",
    "    Parâmetros:\n",
    "    data (tipo array): Os dados a serem testados quanto à normalidade.\n",
    "    \n",
    "    Retorna:\n",
    "    W_statistic (float): A estatística de teste.\n",
    "    p_value (float): O p-valor do teste.\n",
    "    \"\"\"\n",
    "    W_statistic, p_value = shapiro(data)\n",
    "    return W_statistic, p_value"
   ]
  },
  {
   "cell_type": "code",
   "execution_count": 3,
   "id": "d01f9927-c7c2-4ca7-96fe-242384d5decf",
   "metadata": {
    "execution": {
     "iopub.execute_input": "2024-05-24T01:43:26.469076Z",
     "iopub.status.busy": "2024-05-24T01:43:26.467902Z",
     "iopub.status.idle": "2024-05-24T01:43:26.474761Z",
     "shell.execute_reply": "2024-05-24T01:43:26.473692Z",
     "shell.execute_reply.started": "2024-05-24T01:43:26.468981Z"
    }
   },
   "outputs": [],
   "source": [
    "data = [0.873, 1.049, 1.159, 1.273, 1.372, 1.422, 1.435, 1.601, 1.620, 1.649]\n",
    "W_statistic, p_value = shapiro_wilk_test(data)"
   ]
  },
  {
   "cell_type": "code",
   "execution_count": 4,
   "id": "9f687c37-f357-40e1-a527-78d4ed1c5ca3",
   "metadata": {
    "execution": {
     "iopub.execute_input": "2024-05-24T01:43:30.880764Z",
     "iopub.status.busy": "2024-05-24T01:43:30.879780Z",
     "iopub.status.idle": "2024-05-24T01:43:30.889249Z",
     "shell.execute_reply": "2024-05-24T01:43:30.887968Z",
     "shell.execute_reply.started": "2024-05-24T01:43:30.880686Z"
    }
   },
   "outputs": [
    {
     "name": "stdout",
     "output_type": "stream",
     "text": [
      "W Statistic: 0.9390339136915938\n",
      "P Value: 0.5423144437228795\n"
     ]
    }
   ],
   "source": [
    "print(\"W Statistic:\", W_statistic)\n",
    "print(\"P Value:\", p_value)"
   ]
  },
  {
   "cell_type": "code",
   "execution_count": null,
   "id": "f1ada6e2-0635-4f65-9693-e1997740ece1",
   "metadata": {},
   "outputs": [],
   "source": []
  }
 ],
 "metadata": {
  "kernelspec": {
   "display_name": "Python 3 (ipykernel)",
   "language": "python",
   "name": "python3"
  },
  "language_info": {
   "codemirror_mode": {
    "name": "ipython",
    "version": 3
   },
   "file_extension": ".py",
   "mimetype": "text/x-python",
   "name": "python",
   "nbconvert_exporter": "python",
   "pygments_lexer": "ipython3",
   "version": "3.11.2"
  }
 },
 "nbformat": 4,
 "nbformat_minor": 5
}
