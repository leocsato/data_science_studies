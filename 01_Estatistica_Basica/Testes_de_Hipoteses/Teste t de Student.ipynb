{
 "cells": [
  {
   "cell_type": "code",
   "execution_count": 1,
   "id": "71beaf3d-78be-483b-b833-b360942ab2bd",
   "metadata": {
    "execution": {
     "iopub.execute_input": "2024-05-23T05:34:54.743754Z",
     "iopub.status.busy": "2024-05-23T05:34:54.743153Z",
     "iopub.status.idle": "2024-05-23T05:34:55.197496Z",
     "shell.execute_reply": "2024-05-23T05:34:55.196922Z",
     "shell.execute_reply.started": "2024-05-23T05:34:54.743699Z"
    }
   },
   "outputs": [],
   "source": [
    "from scipy import stats"
   ]
  },
  {
   "cell_type": "code",
   "execution_count": 2,
   "id": "e04e02ae-0291-4a11-ae80-c8d45f220b49",
   "metadata": {
    "execution": {
     "iopub.execute_input": "2024-05-23T05:34:55.199077Z",
     "iopub.status.busy": "2024-05-23T05:34:55.198552Z",
     "iopub.status.idle": "2024-05-23T05:34:55.203928Z",
     "shell.execute_reply": "2024-05-23T05:34:55.203079Z",
     "shell.execute_reply.started": "2024-05-23T05:34:55.199035Z"
    }
   },
   "outputs": [],
   "source": [
    "# Define your two samples\n",
    "sample1 = [1, 2, 3, 4, 5]\n",
    "sample2 = [6, 7, 8, 9, 10]"
   ]
  },
  {
   "cell_type": "code",
   "execution_count": 3,
   "id": "dd861e4d-2445-4d7b-9c63-d9520c001e98",
   "metadata": {
    "execution": {
     "iopub.execute_input": "2024-05-23T05:34:55.206348Z",
     "iopub.status.busy": "2024-05-23T05:34:55.205922Z",
     "iopub.status.idle": "2024-05-23T05:34:55.214342Z",
     "shell.execute_reply": "2024-05-23T05:34:55.213301Z",
     "shell.execute_reply.started": "2024-05-23T05:34:55.206308Z"
    }
   },
   "outputs": [],
   "source": [
    "# Perform the t-test\n",
    "t_statistic, p_value = stats.ttest_ind(sample1, sample2)"
   ]
  },
  {
   "cell_type": "code",
   "execution_count": 4,
   "id": "0c3b2d09-d91a-40a9-b579-8b829d6f02f5",
   "metadata": {
    "execution": {
     "iopub.execute_input": "2024-05-23T05:34:55.215967Z",
     "iopub.status.busy": "2024-05-23T05:34:55.215534Z",
     "iopub.status.idle": "2024-05-23T05:34:55.222591Z",
     "shell.execute_reply": "2024-05-23T05:34:55.221772Z",
     "shell.execute_reply.started": "2024-05-23T05:34:55.215934Z"
    }
   },
   "outputs": [
    {
     "name": "stdout",
     "output_type": "stream",
     "text": [
      "T-statistic: -5.0\n",
      "P-valor: 0.001052825793366539\n"
     ]
    }
   ],
   "source": [
    "# Print the results\n",
    "print(\"T-statistic:\", t_statistic)\n",
    "print(\"P-valor:\", p_value)"
   ]
  },
  {
   "cell_type": "code",
   "execution_count": 5,
   "id": "85e12799-95e3-42b8-b812-2afb14b2e291",
   "metadata": {
    "execution": {
     "iopub.execute_input": "2024-05-23T05:34:55.224000Z",
     "iopub.status.busy": "2024-05-23T05:34:55.223558Z",
     "iopub.status.idle": "2024-05-23T05:34:55.229445Z",
     "shell.execute_reply": "2024-05-23T05:34:55.228097Z",
     "shell.execute_reply.started": "2024-05-23T05:34:55.223956Z"
    }
   },
   "outputs": [
    {
     "name": "stdout",
     "output_type": "stream",
     "text": [
      "Rejeitar a hipótese nula. Há uma diferença significativa entre as médias das duas amostras.\n"
     ]
    }
   ],
   "source": [
    "# Determine significance\n",
    "alpha = 0.05\n",
    "if p_value < alpha:\n",
    "    print(\"Rejeitar a hipótese nula. Há uma diferença significativa entre as médias das duas amostras.\")\n",
    "else:\n",
    "    print(\"Falha ao rejeitar a hipótese nula. Não há diferença significativa entre as médias das duas amostras.\")"
   ]
  },
  {
   "cell_type": "markdown",
   "id": "e8fcf461-c9e7-4481-87d3-b7ade5c3257a",
   "metadata": {},
   "source": [
    "Este código pressupõe que você tenha duas amostras (amostra1 e amostra2).\n",
    "\n",
    "Ajuste os valores dessas amostras de acordo com seus dados específicos.\n",
    "\n",
    "A função ttest_ind do scipy executa um teste t bilateral para a hipótese nula de que duas amostras independentes têm valores médios (esperados) idênticos.\n",
    "\n",
    "O resultado inclui a estatística t e o valor p. Por fim, ela compara o valor p a um nível de significância escolhido (alfa) para determinar se a hipótese nula pode ser rejeitada."
   ]
  }
 ],
 "metadata": {
  "kernelspec": {
   "display_name": "Python 3 (ipykernel)",
   "language": "python",
   "name": "python3"
  },
  "language_info": {
   "codemirror_mode": {
    "name": "ipython",
    "version": 3
   },
   "file_extension": ".py",
   "mimetype": "text/x-python",
   "name": "python",
   "nbconvert_exporter": "python",
   "pygments_lexer": "ipython3",
   "version": "3.11.2"
  }
 },
 "nbformat": 4,
 "nbformat_minor": 5
}
