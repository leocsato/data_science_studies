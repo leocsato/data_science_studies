{
 "cells": [
  {
   "cell_type": "markdown",
   "id": "f373039b-be73-4c58-950a-db300620598c",
   "metadata": {},
   "source": [
    "O teste de Anderson-Darling é usado para avaliar se uma amostra é proveniente de uma distribuição específica, geralmente a distribuição normal."
   ]
  },
  {
   "cell_type": "markdown",
   "id": "b0f56373-686a-4622-b67c-6965388df4e4",
   "metadata": {},
   "source": [
    "Compara a distribuição empírica de um conjunto de dados com uma distribuição teórica, dando mais peso às extremidades da distribuição. A estatística usada é a A^2, onde valores maiores indicam desvios mais acentuados da Distribuição Normal."
   ]
  },
  {
   "cell_type": "markdown",
   "id": "9b1fa492-1c5f-4974-a0c4-84c9e1d611d3",
   "metadata": {},
   "source": [
    "Introduzido por Theodore Anderson e Donald Darling em 1952.\n",
    "Normalmente, entre os testes baseados na função de distribuição empírica, o Anderson-Darling tende a ser mais eficaz na detecção de desvios nas caudas da distribuição. Se o desvio da normalidade nas caudas for o principal problema, muitos estatísticos usariam o teste de Anderson-Darling como a primeira opção.\n"
   ]
  },
  {
   "cell_type": "code",
   "execution_count": 1,
   "id": "3644a187-5409-4c06-8f87-1bbeea1edf22",
   "metadata": {
    "execution": {
     "iopub.execute_input": "2024-05-23T05:43:30.350771Z",
     "iopub.status.busy": "2024-05-23T05:43:30.350022Z",
     "iopub.status.idle": "2024-05-23T05:43:31.271177Z",
     "shell.execute_reply": "2024-05-23T05:43:31.270251Z",
     "shell.execute_reply.started": "2024-05-23T05:43:30.350720Z"
    }
   },
   "outputs": [],
   "source": [
    "import numpy as np\n",
    "import matplotlib.pyplot as plt\n",
    "from scipy import stats"
   ]
  },
  {
   "cell_type": "code",
   "execution_count": 2,
   "id": "cb0d1c91-86c9-419c-9de0-78d3ebc443d7",
   "metadata": {
    "execution": {
     "iopub.execute_input": "2024-05-23T05:43:31.273647Z",
     "iopub.status.busy": "2024-05-23T05:43:31.272970Z",
     "iopub.status.idle": "2024-05-23T05:43:31.279395Z",
     "shell.execute_reply": "2024-05-23T05:43:31.278238Z",
     "shell.execute_reply.started": "2024-05-23T05:43:31.273599Z"
    }
   },
   "outputs": [],
   "source": [
    "np.random.seed(0)\n",
    "sample = np.random.normal(loc=0, scale=1, size=1000)"
   ]
  },
  {
   "cell_type": "code",
   "execution_count": 3,
   "id": "1be91dec-76a9-4bb0-bfa0-e97baab83d80",
   "metadata": {
    "execution": {
     "iopub.execute_input": "2024-05-23T05:43:31.281983Z",
     "iopub.status.busy": "2024-05-23T05:43:31.281285Z",
     "iopub.status.idle": "2024-05-23T05:43:31.290701Z",
     "shell.execute_reply": "2024-05-23T05:43:31.289166Z",
     "shell.execute_reply.started": "2024-05-23T05:43:31.281927Z"
    }
   },
   "outputs": [],
   "source": [
    "result = stats.anderson(sample, dist='norm')"
   ]
  },
  {
   "cell_type": "code",
   "execution_count": 4,
   "id": "07d7841f-9c0c-473b-9dba-69f52b08d284",
   "metadata": {
    "execution": {
     "iopub.execute_input": "2024-05-23T05:43:31.292945Z",
     "iopub.status.busy": "2024-05-23T05:43:31.292443Z",
     "iopub.status.idle": "2024-05-23T05:43:31.299283Z",
     "shell.execute_reply": "2024-05-23T05:43:31.298225Z",
     "shell.execute_reply.started": "2024-05-23T05:43:31.292903Z"
    }
   },
   "outputs": [
    {
     "name": "stdout",
     "output_type": "stream",
     "text": [
      "Anderson-Darling statistic: 0.2432179174634257\n",
      "Valores críticos: [0.574 0.653 0.784 0.914 1.088]\n",
      "Níveis de significância: [15.  10.   5.   2.5  1. ]\n"
     ]
    }
   ],
   "source": [
    "print(\"Anderson-Darling statistic:\", result.statistic)\n",
    "print(\"Valores críticos:\", result.critical_values)\n",
    "print(\"Níveis de significância:\", result.significance_level)"
   ]
  },
  {
   "cell_type": "code",
   "execution_count": 5,
   "id": "f32c7d63-ebde-4b2e-b439-7725940332fa",
   "metadata": {
    "execution": {
     "iopub.execute_input": "2024-05-23T05:43:31.302709Z",
     "iopub.status.busy": "2024-05-23T05:43:31.302311Z",
     "iopub.status.idle": "2024-05-23T05:43:31.307564Z",
     "shell.execute_reply": "2024-05-23T05:43:31.306593Z",
     "shell.execute_reply.started": "2024-05-23T05:43:31.302674Z"
    }
   },
   "outputs": [
    {
     "name": "stdout",
     "output_type": "stream",
     "text": [
      "Não rejeitar a hipótese nula. A amostra pode ser proveniente de uma distribuição normal.\n"
     ]
    }
   ],
   "source": [
    "alpha = 0.05\n",
    "if result.statistic > result.critical_values[2]:\n",
    "    print(\"Rejeitar a hipótese nula. A amostra não é proveniente de uma distribuição normal.\")\n",
    "else:\n",
    "    print(\"Não rejeitar a hipótese nula. A amostra pode ser proveniente de uma distribuição normal.\")"
   ]
  },
  {
   "cell_type": "code",
   "execution_count": 13,
   "id": "ffd5b945-3571-4cc6-b912-2fc1476e5eb9",
   "metadata": {
    "execution": {
     "iopub.execute_input": "2024-05-23T05:45:10.931397Z",
     "iopub.status.busy": "2024-05-23T05:45:10.930572Z",
     "iopub.status.idle": "2024-05-23T05:45:10.936702Z",
     "shell.execute_reply": "2024-05-23T05:45:10.935556Z",
     "shell.execute_reply.started": "2024-05-23T05:45:10.931344Z"
    }
   },
   "outputs": [],
   "source": [
    "# # Plot the empirical cumulative distribution function (ECDF)\n",
    "# sorted_sample = np.sort(sample)\n",
    "# ecdf = np.arange(1, len(sorted_sample) + 1) / len(sorted_sample)\n",
    "# plt.plot(sorted_sample, ecdf, label='ECDF')\n",
    "\n",
    "# #Valors Críticos\n",
    "# critical_values = result.critical_values[::-1]\n",
    "# for cv in critical_values:\n",
    "#     plt.axhline(y=cv, color='r', linestyle='--', label=f'Critical Value ({int(cv)}%)')\n",
    "\n",
    "# plt.axhline(y=result.statistic, color='g', linestyle='-', label=f'Anderson-Darling Statistic ({result.statistic:.2f})')\n",
    "# plt.text(2, result.statistic + 0.02, f'{result.statistic:.2f}', color='g')\n",
    "# plt.title('Anderson-Darling Test')\n",
    "# plt.xlabel('Data')\n",
    "# plt.ylabel('CDF')\n",
    "# plt.legend()\n",
    "# plt.grid(True)\n",
    "# plt.show()"
   ]
  },
  {
   "cell_type": "markdown",
   "id": "984844a9-156a-41dd-8c30-56b394bf3a6e",
   "metadata": {
    "execution": {
     "iopub.execute_input": "2024-05-23T05:41:20.106065Z",
     "iopub.status.busy": "2024-05-23T05:41:20.105418Z",
     "iopub.status.idle": "2024-05-23T05:41:20.112981Z",
     "shell.execute_reply": "2024-05-23T05:41:20.111476Z",
     "shell.execute_reply.started": "2024-05-23T05:41:20.106016Z"
    }
   },
   "source": [
    "---"
   ]
  },
  {
   "cell_type": "markdown",
   "id": "36f69bf4-d77f-4965-9446-1894f6481d38",
   "metadata": {},
   "source": [
    "sample são seus dados de amostra.\n",
    "    \n",
    "A função anderson do scipy.stats executa o teste Anderson-Darling.\n",
    "    \n",
    "Especificamos dist='norm' para testar em relação a uma distribuição normal. Você também pode especificar outras distribuições.\n",
    "\n",
    "O resultado contém a estatística de Anderson-Darling, os valores críticos e os níveis de significância.\n",
    "\n",
    "Por fim, comparamos a estatística de Anderson-Darling com o valor crítico em um nível de significância escolhido (alfa) para determinar se a hipótese nula pode ser rejeitada."
   ]
  }
 ],
 "metadata": {
  "kernelspec": {
   "display_name": "Python 3 (ipykernel)",
   "language": "python",
   "name": "python3"
  },
  "language_info": {
   "codemirror_mode": {
    "name": "ipython",
    "version": 3
   },
   "file_extension": ".py",
   "mimetype": "text/x-python",
   "name": "python",
   "nbconvert_exporter": "python",
   "pygments_lexer": "ipython3",
   "version": "3.11.2"
  }
 },
 "nbformat": 4,
 "nbformat_minor": 5
}
