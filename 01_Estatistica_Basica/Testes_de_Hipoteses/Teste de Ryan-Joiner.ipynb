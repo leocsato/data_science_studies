{
 "cells": [
  {
   "cell_type": "markdown",
   "id": "da2ccb60-10d6-42a5-b357-f7bbbaf4709c",
   "metadata": {},
   "source": [
    "O teste de Ryan-Joiner, também conhecido como teste de normalidade de Ryan-Joiner, é um teste estatístico usado para avaliar a hipótese nula de que um conjunto de dados provém de uma população normalmente distribuída. Ao contrário do teste de Shapiro-Wilk, o teste de Ryan-Joiner é adequado para amostras de tamanho menor. "
   ]
  },
  {
   "cell_type": "markdown",
   "id": "d0faa510-aaab-4b43-8244-e3f68485870e",
   "metadata": {},
   "source": [
    "Avalia a normalidade calculando a correlação entre os dados e as pontuações normais dos dados. Se o coeficiente de correlação estiver próximo de 1, é provável que a população seja normal. A estatística de Ryan-Joiner avalia a força dessa correlação: se for menor que o valor crítico apropriado, rejeitará a hipótese nula de normalidade da população."
   ]
  },
  {
   "cell_type": "code",
   "execution_count": 1,
   "id": "3c13d185-1221-4b63-ad47-18284183349b",
   "metadata": {
    "execution": {
     "iopub.execute_input": "2024-05-24T01:48:13.131796Z",
     "iopub.status.busy": "2024-05-24T01:48:13.130742Z",
     "iopub.status.idle": "2024-05-24T01:48:13.692451Z",
     "shell.execute_reply": "2024-05-24T01:48:13.691913Z",
     "shell.execute_reply.started": "2024-05-24T01:48:13.131727Z"
    }
   },
   "outputs": [],
   "source": [
    "import numpy as np\n",
    "from scipy.stats import pearsonr"
   ]
  },
  {
   "cell_type": "code",
   "execution_count": 2,
   "id": "565dd165-fbf3-48d5-9562-e87dfeca37ab",
   "metadata": {
    "execution": {
     "iopub.execute_input": "2024-05-24T01:48:17.676948Z",
     "iopub.status.busy": "2024-05-24T01:48:17.676003Z",
     "iopub.status.idle": "2024-05-24T01:48:17.686888Z",
     "shell.execute_reply": "2024-05-24T01:48:17.685118Z",
     "shell.execute_reply.started": "2024-05-24T01:48:17.676873Z"
    }
   },
   "outputs": [],
   "source": [
    "def ryan_joiner(data):\n",
    "    \"\"\"\n",
    "    Executa o teste de normalidade Ryan-Joiner nos dados fornecidos.\n",
    "    \n",
    "    Parâmetros:\n",
    "    data (numpy.ndarray): Os dados a serem testados quanto à normalidade.\n",
    "    \n",
    "    Retorna:\n",
    "    float: A estatística de Ryan-Joiner.\n",
    "    float: O valor p do teste.\n",
    "    \"\"\"\n",
    "    # Classifique os dados em ordem crescente\n",
    "    sorted_data = np.sort(data)\n",
    "    \n",
    "    # Calcular a estatística de ordem normal esperada\n",
    "    n = len(data)\n",
    "    expected_order_stats = (np.arange(1, n+1) - 0.375) / (n + 0.25)\n",
    "    \n",
    "    # Calcular a estatística de Ryan-Joiner\n",
    "    rj_stat, p_value = pearsonr(sorted_data, expected_order_stats)\n",
    "    \n",
    "    return rj_stat, p_value"
   ]
  },
  {
   "cell_type": "code",
   "execution_count": 3,
   "id": "25e4102b-1100-4e73-8951-a3e76bc55309",
   "metadata": {
    "execution": {
     "iopub.execute_input": "2024-05-24T01:48:26.283807Z",
     "iopub.status.busy": "2024-05-24T01:48:26.283330Z",
     "iopub.status.idle": "2024-05-24T01:48:26.294176Z",
     "shell.execute_reply": "2024-05-24T01:48:26.292869Z",
     "shell.execute_reply.started": "2024-05-24T01:48:26.283765Z"
    }
   },
   "outputs": [
    {
     "name": "stdout",
     "output_type": "stream",
     "text": [
      "Ryan-Joiner Statistic: 0.9767456161296255\n",
      "P Value: 1.2440171803609954e-06\n"
     ]
    }
   ],
   "source": [
    "data = [0.873, 1.049, 1.159, 1.273, 1.372, 1.422, 1.435, 1.601, 1.620, 1.649]\n",
    "rj_statistic, p_value = ryan_joiner(data)\n",
    "\n",
    "print(\"Ryan-Joiner Statistic:\", rj_statistic)\n",
    "print(\"P Value:\", p_value)"
   ]
  },
  {
   "cell_type": "code",
   "execution_count": null,
   "id": "53856e8c-5538-45b1-b5ae-4f2eebdf7c22",
   "metadata": {},
   "outputs": [],
   "source": []
  }
 ],
 "metadata": {
  "kernelspec": {
   "display_name": "Python 3 (ipykernel)",
   "language": "python",
   "name": "python3"
  },
  "language_info": {
   "codemirror_mode": {
    "name": "ipython",
    "version": 3
   },
   "file_extension": ".py",
   "mimetype": "text/x-python",
   "name": "python",
   "nbconvert_exporter": "python",
   "pygments_lexer": "ipython3",
   "version": "3.11.2"
  }
 },
 "nbformat": 4,
 "nbformat_minor": 5
}
