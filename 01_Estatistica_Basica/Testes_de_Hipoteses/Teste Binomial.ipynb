{
 "cells": [
  {
   "cell_type": "code",
   "execution_count": 2,
   "id": "ac57274e-3ce1-4e03-8380-9f491f3e4751",
   "metadata": {
    "execution": {
     "iopub.execute_input": "2024-05-23T05:32:15.631585Z",
     "iopub.status.busy": "2024-05-23T05:32:15.631019Z",
     "iopub.status.idle": "2024-05-23T05:32:15.636241Z",
     "shell.execute_reply": "2024-05-23T05:32:15.635197Z",
     "shell.execute_reply.started": "2024-05-23T05:32:15.631540Z"
    }
   },
   "outputs": [],
   "source": [
    "from scipy.stats import binomtest"
   ]
  },
  {
   "cell_type": "code",
   "execution_count": 3,
   "id": "9691161a-1141-4b08-aafa-6f0664cae2ee",
   "metadata": {
    "execution": {
     "iopub.execute_input": "2024-05-23T05:32:16.292417Z",
     "iopub.status.busy": "2024-05-23T05:32:16.292042Z",
     "iopub.status.idle": "2024-05-23T05:32:16.297009Z",
     "shell.execute_reply": "2024-05-23T05:32:16.295813Z",
     "shell.execute_reply.started": "2024-05-23T05:32:16.292392Z"
    }
   },
   "outputs": [],
   "source": [
    "# Número de sucessos\n",
    "sucessos = 20"
   ]
  },
  {
   "cell_type": "code",
   "execution_count": 4,
   "id": "b1e84466-ac72-4f51-ba42-f565250853df",
   "metadata": {
    "execution": {
     "iopub.execute_input": "2024-05-23T05:32:16.599881Z",
     "iopub.status.busy": "2024-05-23T05:32:16.599506Z",
     "iopub.status.idle": "2024-05-23T05:32:16.604403Z",
     "shell.execute_reply": "2024-05-23T05:32:16.603050Z",
     "shell.execute_reply.started": "2024-05-23T05:32:16.599852Z"
    }
   },
   "outputs": [],
   "source": [
    "# Número total de tentativas\n",
    "testes = 50"
   ]
  },
  {
   "cell_type": "code",
   "execution_count": 5,
   "id": "2d612b00-0cd6-421a-8d37-7ff3c3db2ed6",
   "metadata": {
    "execution": {
     "iopub.execute_input": "2024-05-23T05:32:16.776191Z",
     "iopub.status.busy": "2024-05-23T05:32:16.775207Z",
     "iopub.status.idle": "2024-05-23T05:32:16.780587Z",
     "shell.execute_reply": "2024-05-23T05:32:16.779892Z",
     "shell.execute_reply.started": "2024-05-23T05:32:16.776134Z"
    }
   },
   "outputs": [],
   "source": [
    "# Probabilidade da hipótese nula\n",
    "p_null = 0.5"
   ]
  },
  {
   "cell_type": "code",
   "execution_count": 10,
   "id": "063c21dd-c37a-4c09-9e16-1876444ea319",
   "metadata": {
    "execution": {
     "iopub.execute_input": "2024-05-23T05:32:28.583794Z",
     "iopub.status.busy": "2024-05-23T05:32:28.583192Z",
     "iopub.status.idle": "2024-05-23T05:32:28.594152Z",
     "shell.execute_reply": "2024-05-23T05:32:28.592416Z",
     "shell.execute_reply.started": "2024-05-23T05:32:28.583742Z"
    }
   },
   "outputs": [],
   "source": [
    "# Realizar teste binomial\n",
    "p_value = binomtest(sucessos, testes, p_null).pvalue"
   ]
  },
  {
   "cell_type": "code",
   "execution_count": 11,
   "id": "f042184f-c215-4060-8c99-09675d47577a",
   "metadata": {
    "execution": {
     "iopub.execute_input": "2024-05-23T05:32:28.954614Z",
     "iopub.status.busy": "2024-05-23T05:32:28.953903Z",
     "iopub.status.idle": "2024-05-23T05:32:28.960289Z",
     "shell.execute_reply": "2024-05-23T05:32:28.958897Z",
     "shell.execute_reply.started": "2024-05-23T05:32:28.954556Z"
    }
   },
   "outputs": [
    {
     "name": "stdout",
     "output_type": "stream",
     "text": [
      "P-valor: 0.20263875106454066\n"
     ]
    }
   ],
   "source": [
    "# p-valor\n",
    "print(\"P-valor:\", p_value)"
   ]
  },
  {
   "cell_type": "code",
   "execution_count": 12,
   "id": "dbb4805f-bf51-4c3b-8d9c-9920a5161cf0",
   "metadata": {
    "execution": {
     "iopub.execute_input": "2024-05-23T05:32:29.872038Z",
     "iopub.status.busy": "2024-05-23T05:32:29.871436Z",
     "iopub.status.idle": "2024-05-23T05:32:29.877498Z",
     "shell.execute_reply": "2024-05-23T05:32:29.875959Z",
     "shell.execute_reply.started": "2024-05-23T05:32:29.871969Z"
    }
   },
   "outputs": [],
   "source": [
    "# nível de significância\n",
    "alpha = 0.05"
   ]
  },
  {
   "cell_type": "code",
   "execution_count": 13,
   "id": "b73cd4ce-d8f3-48a7-baed-4e9c6f0e2af9",
   "metadata": {
    "execution": {
     "iopub.execute_input": "2024-05-23T05:32:30.119735Z",
     "iopub.status.busy": "2024-05-23T05:32:30.119050Z",
     "iopub.status.idle": "2024-05-23T05:32:30.127488Z",
     "shell.execute_reply": "2024-05-23T05:32:30.125979Z",
     "shell.execute_reply.started": "2024-05-23T05:32:30.119675Z"
    }
   },
   "outputs": [
    {
     "name": "stdout",
     "output_type": "stream",
     "text": [
      "Não rejeitar a hipótese nula\n"
     ]
    }
   ],
   "source": [
    "# Comparar o p-valor com o nível de significância\n",
    "if p_value < alpha:\n",
    "    print(\"Rejeitar a hipótese nula\")\n",
    "else:\n",
    "    print(\"Não rejeitar a hipótese nula\")"
   ]
  },
  {
   "cell_type": "code",
   "execution_count": null,
   "id": "89a2b843-ea91-4eea-8335-f4b7787e583f",
   "metadata": {},
   "outputs": [],
   "source": []
  },
  {
   "cell_type": "code",
   "execution_count": null,
   "id": "3899c83d-e0f8-47b2-a499-e132e887ec24",
   "metadata": {},
   "outputs": [],
   "source": []
  }
 ],
 "metadata": {
  "kernelspec": {
   "display_name": "Python 3 (ipykernel)",
   "language": "python",
   "name": "python3"
  },
  "language_info": {
   "codemirror_mode": {
    "name": "ipython",
    "version": 3
   },
   "file_extension": ".py",
   "mimetype": "text/x-python",
   "name": "python",
   "nbconvert_exporter": "python",
   "pygments_lexer": "ipython3",
   "version": "3.11.2"
  }
 },
 "nbformat": 4,
 "nbformat_minor": 5
}
