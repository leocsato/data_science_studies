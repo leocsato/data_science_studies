{
 "cells": [
  {
   "cell_type": "code",
   "execution_count": 1,
   "id": "dfae9f3b-9081-4194-a54f-609991bc2105",
   "metadata": {
    "execution": {
     "iopub.execute_input": "2024-05-24T01:33:56.145883Z",
     "iopub.status.busy": "2024-05-24T01:33:56.145308Z",
     "iopub.status.idle": "2024-05-24T01:33:56.624789Z",
     "shell.execute_reply": "2024-05-24T01:33:56.623998Z",
     "shell.execute_reply.started": "2024-05-24T01:33:56.145838Z"
    }
   },
   "outputs": [],
   "source": [
    "from scipy.stats import chi2_contingency"
   ]
  },
  {
   "cell_type": "code",
   "execution_count": 2,
   "id": "d981756c-2ab9-477d-bd68-071b9c030611",
   "metadata": {
    "execution": {
     "iopub.execute_input": "2024-05-24T01:34:02.910774Z",
     "iopub.status.busy": "2024-05-24T01:34:02.910312Z",
     "iopub.status.idle": "2024-05-24T01:34:02.915309Z",
     "shell.execute_reply": "2024-05-24T01:34:02.914553Z",
     "shell.execute_reply.started": "2024-05-24T01:34:02.910749Z"
    }
   },
   "outputs": [],
   "source": [
    "def chi_squared_test(contingency_table):\n",
    "    \"\"\"\n",
    "    Executar o teste qui-quadrado de independência em uma tabela de contingência.\n",
    "    \n",
    "    Parâmetros:\n",
    "    contingency_table (semelhante a uma matriz): Uma tabela de contingência como uma lista ou matriz aninhada.\n",
    "    \n",
    "    Retorna:\n",
    "    chi2_stat (float): A estatística de teste de qui-quadrado.\n",
    "    p_value (float): O valor de p do teste.\n",
    "    degrees_of_freedom (int): Os graus de liberdade.\n",
    "    expected_values (tipo array): As frequências esperadas sob a hipótese nula.\n",
    "    \"\"\"\n",
    "    chi2_stat, p_value, degrees_of_freedom, expected_values = chi2_contingency(contingency_table)\n",
    "    return chi2_stat, p_value, degrees_of_freedom, expected_values"
   ]
  },
  {
   "cell_type": "code",
   "execution_count": 3,
   "id": "79d4f378-742d-450b-8eb0-2aded94c53ba",
   "metadata": {
    "execution": {
     "iopub.execute_input": "2024-05-24T01:34:09.471131Z",
     "iopub.status.busy": "2024-05-24T01:34:09.469885Z",
     "iopub.status.idle": "2024-05-24T01:34:09.500421Z",
     "shell.execute_reply": "2024-05-24T01:34:09.498830Z",
     "shell.execute_reply.started": "2024-05-24T01:34:09.471062Z"
    }
   },
   "outputs": [],
   "source": [
    "contingency_table = [[10, 5], [3, 8]]  # Example contingency table\n",
    "chi2_stat, p_value, degrees_of_freedom, expected_values = chi_squared_test(contingency_table)"
   ]
  },
  {
   "cell_type": "code",
   "execution_count": 4,
   "id": "a9f2c75c-1930-47d7-909b-4d3eff3f8ccd",
   "metadata": {
    "execution": {
     "iopub.execute_input": "2024-05-24T01:34:15.342130Z",
     "iopub.status.busy": "2024-05-24T01:34:15.341555Z",
     "iopub.status.idle": "2024-05-24T01:34:15.350933Z",
     "shell.execute_reply": "2024-05-24T01:34:15.349602Z",
     "shell.execute_reply.started": "2024-05-24T01:34:15.342089Z"
    }
   },
   "outputs": [
    {
     "name": "stdout",
     "output_type": "stream",
     "text": [
      "Chi-squared Statistic: 2.5212121212121215\n",
      "P Value: 0.11232421503857941\n",
      "Degrees of Freedom: 1\n",
      "Expected Values: [[7.5 7.5]\n",
      " [5.5 5.5]]\n"
     ]
    }
   ],
   "source": [
    "print(\"Chi-squared Statistic:\", chi2_stat)\n",
    "print(\"P Value:\", p_value)\n",
    "print(\"Degrees of Freedom:\", degrees_of_freedom)\n",
    "print(\"Expected Values:\", expected_values)"
   ]
  },
  {
   "cell_type": "code",
   "execution_count": null,
   "id": "614237e9-1321-471c-af77-34d9dbb0dcd7",
   "metadata": {},
   "outputs": [],
   "source": []
  }
 ],
 "metadata": {
  "kernelspec": {
   "display_name": "Python 3 (ipykernel)",
   "language": "python",
   "name": "python3"
  },
  "language_info": {
   "codemirror_mode": {
    "name": "ipython",
    "version": 3
   },
   "file_extension": ".py",
   "mimetype": "text/x-python",
   "name": "python",
   "nbconvert_exporter": "python",
   "pygments_lexer": "ipython3",
   "version": "3.11.2"
  }
 },
 "nbformat": 4,
 "nbformat_minor": 5
}
