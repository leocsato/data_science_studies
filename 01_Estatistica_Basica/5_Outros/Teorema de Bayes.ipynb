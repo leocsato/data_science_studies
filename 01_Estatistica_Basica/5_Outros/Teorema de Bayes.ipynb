{
 "cells": [
  {
   "cell_type": "markdown",
   "id": "f765dde9-b0ea-49da-a758-9c129173c10e",
   "metadata": {},
   "source": [
    "# Exemplo de Código\n",
    "\n",
    "Neste exemplo, vamos considerar um cenário em que temos um teste para uma doença. \n",
    "\n",
    "Vamos definir que conhecemos as seguintes variáveis:\n",
    "\n",
    "    P(D): Probabilidade de ter a doença (prevalência).\n",
    "    P(+|D): Probabilidade de testar positivo dado que a pessoa tem a doença (sensibilidade do teste).\n",
    "    P(+|¬D): Probabilidade de testar positivo dado que a pessoa não tem a doença (falso positivo).\n",
    "    P(¬D): Probabilidade de não ter a doença.\n",
    "\n",
    "Usaremos o Teorema de Bayes para calcular a probabilidade de ter a doença dado que o teste foi positivo, ou seja, P(D∣+)."
   ]
  },
  {
   "cell_type": "code",
   "execution_count": null,
   "id": "41f07d84-272b-4f13-a86d-c28897a8cc48",
   "metadata": {},
   "outputs": [],
   "source": [
    "# Teorema de Bayes para calcular P(D|+)\n",
    "# P(D|+) = (P(+|D) * P(D)) / P(+)"
   ]
  },
  {
   "cell_type": "code",
   "execution_count": 4,
   "id": "1ffed6b2-740a-4554-ba79-844586499f6e",
   "metadata": {
    "execution": {
     "iopub.execute_input": "2024-10-31T04:37:33.399012Z",
     "iopub.status.busy": "2024-10-31T04:37:33.398432Z",
     "iopub.status.idle": "2024-10-31T04:37:33.404856Z",
     "shell.execute_reply": "2024-10-31T04:37:33.403690Z",
     "shell.execute_reply.started": "2024-10-31T04:37:33.398931Z"
    }
   },
   "outputs": [],
   "source": [
    "# Definindo as probabilidades\n",
    " # Probabilidade de ter a doença (1%)\n",
    "P_D = 0.01\n",
    "# Probabilidade de não ter a doença (99%)\n",
    "P_not_D = 1 - P_D\n",
    "# Probabilidade de testar positivo dado que tem a doença (90%)\n",
    "P_pos_given_D = 0.9\n",
    "# Probabilidade de testar positivo dado que não tem a doença (5%)\n",
    "P_pos_given_not_D = 0.05"
   ]
  },
  {
   "cell_type": "code",
   "execution_count": 5,
   "id": "9f79cdac-00bd-4225-a686-142175ce27bf",
   "metadata": {
    "execution": {
     "iopub.execute_input": "2024-10-31T04:37:36.668784Z",
     "iopub.status.busy": "2024-10-31T04:37:36.668329Z",
     "iopub.status.idle": "2024-10-31T04:37:36.676701Z",
     "shell.execute_reply": "2024-10-31T04:37:36.675229Z",
     "shell.execute_reply.started": "2024-10-31T04:37:36.668745Z"
    }
   },
   "outputs": [
    {
     "name": "stdout",
     "output_type": "stream",
     "text": [
      "A probabilidade de ter a doença dado que o teste foi positivo\n",
      "                 é de 0.1538 ou 15.38%.\n",
      "              \n"
     ]
    }
   ],
   "source": [
    "# Usando o Teorema de Bayes\n",
    "# Calculando P(+)\n",
    "P_pos = (P_pos_given_D * P_D) + (P_pos_given_not_D * P_not_D)\n",
    "\n",
    "# Calculando P(D|+)\n",
    "P_D_given_pos = (P_pos_given_D * P_D) / P_pos\n",
    "\n",
    "# Exibindo o resultado\n",
    "msg_result = f\"\"\"A probabilidade de ter a doença dado que o teste foi positivo\n",
    "                 é de {P_D_given_pos:.4f} ou {P_D_given_pos * 100:.2f}%.\n",
    "              \"\"\"\n",
    "print(msg_result)"
   ]
  },
  {
   "cell_type": "markdown",
   "id": "1ccc650b-1705-4c76-961a-8cc73fa619a1",
   "metadata": {},
   "source": [
    "Isso significa que, mesmo com um teste positivo, a probabilidade de realmente ter a doença é de aproximadamente 15,38%, o que ilustra a importância de considerar a prevalência da doença e a taxa de falsos positivos ao interpretar resultados de testes."
   ]
  }
 ],
 "metadata": {
  "kernelspec": {
   "display_name": "Python 3 (ipykernel)",
   "language": "python",
   "name": "python3"
  },
  "language_info": {
   "codemirror_mode": {
    "name": "ipython",
    "version": 3
   },
   "file_extension": ".py",
   "mimetype": "text/x-python",
   "name": "python",
   "nbconvert_exporter": "python",
   "pygments_lexer": "ipython3",
   "version": "3.11.2"
  }
 },
 "nbformat": 4,
 "nbformat_minor": 5
}
