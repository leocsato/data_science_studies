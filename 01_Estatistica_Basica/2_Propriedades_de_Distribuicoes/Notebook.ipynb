{
 "cells": [
  {
   "cell_type": "code",
   "execution_count": 3,
   "metadata": {
    "execution": {
     "iopub.execute_input": "2024-10-31T03:46:02.215249Z",
     "iopub.status.busy": "2024-10-31T03:46:02.214801Z",
     "iopub.status.idle": "2024-10-31T03:46:02.219277Z",
     "shell.execute_reply": "2024-10-31T03:46:02.218539Z",
     "shell.execute_reply.started": "2024-10-31T03:46:02.215214Z"
    }
   },
   "outputs": [],
   "source": [
    "import numpy as np\n",
    "import pandas as pd\n",
    "import scipy\n",
    "from scipy.stats import pearsonr, spearmanr"
   ]
  },
  {
   "cell_type": "code",
   "execution_count": 16,
   "metadata": {
    "execution": {
     "iopub.execute_input": "2024-10-31T03:46:31.260720Z",
     "iopub.status.busy": "2024-10-31T03:46:31.259927Z",
     "iopub.status.idle": "2024-10-31T03:46:31.266565Z",
     "shell.execute_reply": "2024-10-31T03:46:31.264872Z",
     "shell.execute_reply.started": "2024-10-31T03:46:31.260681Z"
    }
   },
   "outputs": [],
   "source": [
    "x = [1,2,3,4,4]"
   ]
  },
  {
   "cell_type": "code",
   "execution_count": 17,
   "metadata": {
    "execution": {
     "iopub.execute_input": "2024-10-31T03:46:31.431487Z",
     "iopub.status.busy": "2024-10-31T03:46:31.430851Z",
     "iopub.status.idle": "2024-10-31T03:46:31.438484Z",
     "shell.execute_reply": "2024-10-31T03:46:31.437138Z",
     "shell.execute_reply.started": "2024-10-31T03:46:31.431444Z"
    }
   },
   "outputs": [],
   "source": [
    "# Criando um DataFrame de exemplo\n",
    "data = {\n",
    "    'X': [1, 2, 3, 4, 5],\n",
    "    'Y': [2, 3, 5, 7, 11],\n",
    "    'Z': [5, 3, 2, 4, 1]\n",
    "}\n",
    "df = pd.DataFrame(data)"
   ]
  },
  {
   "cell_type": "markdown",
   "metadata": {},
   "source": [
    "# Média"
   ]
  },
  {
   "cell_type": "code",
   "execution_count": 18,
   "metadata": {
    "execution": {
     "iopub.execute_input": "2024-10-31T03:46:31.701450Z",
     "iopub.status.busy": "2024-10-31T03:46:31.700924Z",
     "iopub.status.idle": "2024-10-31T03:46:31.706628Z",
     "shell.execute_reply": "2024-10-31T03:46:31.705051Z",
     "shell.execute_reply.started": "2024-10-31T03:46:31.701411Z"
    }
   },
   "outputs": [],
   "source": [
    "X = np.array(x)"
   ]
  },
  {
   "cell_type": "code",
   "execution_count": 19,
   "metadata": {
    "execution": {
     "iopub.execute_input": "2024-10-31T03:46:31.848924Z",
     "iopub.status.busy": "2024-10-31T03:46:31.848467Z",
     "iopub.status.idle": "2024-10-31T03:46:31.856081Z",
     "shell.execute_reply": "2024-10-31T03:46:31.855247Z",
     "shell.execute_reply.started": "2024-10-31T03:46:31.848889Z"
    },
    "scrolled": true
   },
   "outputs": [
    {
     "data": {
      "text/plain": [
       "2.8"
      ]
     },
     "execution_count": 19,
     "metadata": {},
     "output_type": "execute_result"
    }
   ],
   "source": [
    "np.mean(X)"
   ]
  },
  {
   "cell_type": "markdown",
   "metadata": {},
   "source": [
    "# Mediana"
   ]
  },
  {
   "cell_type": "code",
   "execution_count": 20,
   "metadata": {
    "execution": {
     "iopub.execute_input": "2024-10-31T03:46:32.124473Z",
     "iopub.status.busy": "2024-10-31T03:46:32.124114Z",
     "iopub.status.idle": "2024-10-31T03:46:32.130156Z",
     "shell.execute_reply": "2024-10-31T03:46:32.129021Z",
     "shell.execute_reply.started": "2024-10-31T03:46:32.124451Z"
    }
   },
   "outputs": [
    {
     "data": {
      "text/plain": [
       "3.0"
      ]
     },
     "execution_count": 20,
     "metadata": {},
     "output_type": "execute_result"
    }
   ],
   "source": [
    "np.median(X)"
   ]
  },
  {
   "cell_type": "markdown",
   "metadata": {},
   "source": [
    "## Quartis"
   ]
  },
  {
   "cell_type": "code",
   "execution_count": 21,
   "metadata": {
    "execution": {
     "iopub.execute_input": "2024-10-31T03:46:32.428767Z",
     "iopub.status.busy": "2024-10-31T03:46:32.428267Z",
     "iopub.status.idle": "2024-10-31T03:46:32.436194Z",
     "shell.execute_reply": "2024-10-31T03:46:32.435185Z",
     "shell.execute_reply.started": "2024-10-31T03:46:32.428731Z"
    }
   },
   "outputs": [
    {
     "data": {
      "text/plain": [
       "2.0"
      ]
     },
     "execution_count": 21,
     "metadata": {},
     "output_type": "execute_result"
    }
   ],
   "source": [
    "np.percentile(X, 25)"
   ]
  },
  {
   "cell_type": "code",
   "execution_count": 22,
   "metadata": {
    "execution": {
     "iopub.execute_input": "2024-10-31T03:46:32.682528Z",
     "iopub.status.busy": "2024-10-31T03:46:32.682183Z",
     "iopub.status.idle": "2024-10-31T03:46:32.688769Z",
     "shell.execute_reply": "2024-10-31T03:46:32.687827Z",
     "shell.execute_reply.started": "2024-10-31T03:46:32.682508Z"
    }
   },
   "outputs": [
    {
     "data": {
      "text/plain": [
       "3.0"
      ]
     },
     "execution_count": 22,
     "metadata": {},
     "output_type": "execute_result"
    }
   ],
   "source": [
    "np.percentile(X, 50)"
   ]
  },
  {
   "cell_type": "code",
   "execution_count": 23,
   "metadata": {
    "execution": {
     "iopub.execute_input": "2024-10-31T03:46:33.099818Z",
     "iopub.status.busy": "2024-10-31T03:46:33.099290Z",
     "iopub.status.idle": "2024-10-31T03:46:33.108339Z",
     "shell.execute_reply": "2024-10-31T03:46:33.107174Z",
     "shell.execute_reply.started": "2024-10-31T03:46:33.099777Z"
    }
   },
   "outputs": [
    {
     "data": {
      "text/plain": [
       "4.0"
      ]
     },
     "execution_count": 23,
     "metadata": {},
     "output_type": "execute_result"
    }
   ],
   "source": [
    "np.percentile(X, 75)"
   ]
  },
  {
   "cell_type": "markdown",
   "metadata": {},
   "source": [
    "# Moda"
   ]
  },
  {
   "cell_type": "code",
   "execution_count": 24,
   "metadata": {
    "execution": {
     "iopub.execute_input": "2024-10-31T03:46:33.465518Z",
     "iopub.status.busy": "2024-10-31T03:46:33.464888Z",
     "iopub.status.idle": "2024-10-31T03:46:33.470558Z",
     "shell.execute_reply": "2024-10-31T03:46:33.469392Z",
     "shell.execute_reply.started": "2024-10-31T03:46:33.465470Z"
    }
   },
   "outputs": [],
   "source": [
    "from scipy import stats"
   ]
  },
  {
   "cell_type": "code",
   "execution_count": 25,
   "metadata": {
    "execution": {
     "iopub.execute_input": "2024-10-31T03:46:33.615185Z",
     "iopub.status.busy": "2024-10-31T03:46:33.614605Z",
     "iopub.status.idle": "2024-10-31T03:46:33.624768Z",
     "shell.execute_reply": "2024-10-31T03:46:33.623230Z",
     "shell.execute_reply.started": "2024-10-31T03:46:33.615145Z"
    }
   },
   "outputs": [
    {
     "data": {
      "text/plain": [
       "ModeResult(mode=4, count=2)"
      ]
     },
     "execution_count": 25,
     "metadata": {},
     "output_type": "execute_result"
    }
   ],
   "source": [
    "stats.mode(X, axis=None)"
   ]
  },
  {
   "cell_type": "markdown",
   "metadata": {},
   "source": [
    "# Variância"
   ]
  },
  {
   "cell_type": "code",
   "execution_count": 26,
   "metadata": {
    "execution": {
     "iopub.execute_input": "2024-10-31T03:46:34.243533Z",
     "iopub.status.busy": "2024-10-31T03:46:34.242894Z",
     "iopub.status.idle": "2024-10-31T03:46:34.253423Z",
     "shell.execute_reply": "2024-10-31T03:46:34.252343Z",
     "shell.execute_reply.started": "2024-10-31T03:46:34.243489Z"
    },
    "scrolled": true
   },
   "outputs": [
    {
     "data": {
      "text/plain": [
       "1.3599999999999999"
      ]
     },
     "execution_count": 26,
     "metadata": {},
     "output_type": "execute_result"
    }
   ],
   "source": [
    "np.var(X)"
   ]
  },
  {
   "cell_type": "code",
   "execution_count": 27,
   "metadata": {
    "execution": {
     "iopub.execute_input": "2024-10-31T03:46:36.779766Z",
     "iopub.status.busy": "2024-10-31T03:46:36.779304Z",
     "iopub.status.idle": "2024-10-31T03:46:36.788467Z",
     "shell.execute_reply": "2024-10-31T03:46:36.787151Z",
     "shell.execute_reply.started": "2024-10-31T03:46:36.779731Z"
    }
   },
   "outputs": [
    {
     "name": "stdout",
     "output_type": "stream",
     "text": [
      "1.25\n",
      "[1. 1.]\n",
      "[0.25 0.25]\n"
     ]
    }
   ],
   "source": [
    "a = np.array([[1, 2], [3, 4]])\n",
    "print(np.var(a))\n",
    "\n",
    "print(np.var(a, axis=0))\n",
    "\n",
    "print(np.var(a, axis=1))"
   ]
  },
  {
   "cell_type": "markdown",
   "metadata": {},
   "source": [
    "# Desvio Padrão"
   ]
  },
  {
   "cell_type": "code",
   "execution_count": 28,
   "metadata": {
    "execution": {
     "iopub.execute_input": "2024-10-31T03:46:37.858481Z",
     "iopub.status.busy": "2024-10-31T03:46:37.857453Z",
     "iopub.status.idle": "2024-10-31T03:46:37.867650Z",
     "shell.execute_reply": "2024-10-31T03:46:37.866017Z",
     "shell.execute_reply.started": "2024-10-31T03:46:37.858415Z"
    }
   },
   "outputs": [
    {
     "data": {
      "text/plain": [
       "1.16619037896906"
      ]
     },
     "execution_count": 28,
     "metadata": {},
     "output_type": "execute_result"
    }
   ],
   "source": [
    "np.std(X)"
   ]
  },
  {
   "cell_type": "code",
   "execution_count": 29,
   "metadata": {
    "execution": {
     "iopub.execute_input": "2024-10-31T03:46:38.029721Z",
     "iopub.status.busy": "2024-10-31T03:46:38.029177Z",
     "iopub.status.idle": "2024-10-31T03:46:38.039092Z",
     "shell.execute_reply": "2024-10-31T03:46:38.037753Z",
     "shell.execute_reply.started": "2024-10-31T03:46:38.029679Z"
    }
   },
   "outputs": [
    {
     "name": "stdout",
     "output_type": "stream",
     "text": [
      "1.118033988749895\n",
      "[1. 1.]\n",
      "[0.5 0.5]\n"
     ]
    }
   ],
   "source": [
    "a = np.array([[1, 2], [3, 4]])\n",
    "print(np.std(a))\n",
    "\n",
    "print(np.std(a, axis=0))\n",
    "\n",
    "print(np.std(a, axis=1))"
   ]
  },
  {
   "cell_type": "code",
   "execution_count": 30,
   "metadata": {
    "execution": {
     "iopub.execute_input": "2024-10-31T03:46:38.181208Z",
     "iopub.status.busy": "2024-10-31T03:46:38.180582Z",
     "iopub.status.idle": "2024-10-31T03:46:38.195957Z",
     "shell.execute_reply": "2024-10-31T03:46:38.194741Z",
     "shell.execute_reply.started": "2024-10-31T03:46:38.181157Z"
    }
   },
   "outputs": [
    {
     "data": {
      "text/plain": [
       "0.45000005"
      ]
     },
     "execution_count": 30,
     "metadata": {},
     "output_type": "execute_result"
    }
   ],
   "source": [
    "#In single precision, std() can be inaccurate:\n",
    "\n",
    "a = np.zeros((2, 512*512), dtype=np.float32)\n",
    "a[0, :] = 1.0\n",
    "a[1, :] = 0.1\n",
    "np.std(a)\n"
   ]
  },
  {
   "cell_type": "code",
   "execution_count": 31,
   "metadata": {
    "execution": {
     "iopub.execute_input": "2024-10-31T03:46:38.438747Z",
     "iopub.status.busy": "2024-10-31T03:46:38.438257Z",
     "iopub.status.idle": "2024-10-31T03:46:38.450828Z",
     "shell.execute_reply": "2024-10-31T03:46:38.449495Z",
     "shell.execute_reply.started": "2024-10-31T03:46:38.438712Z"
    }
   },
   "outputs": [
    {
     "data": {
      "text/plain": [
       "0.4499999992549418"
      ]
     },
     "execution_count": 31,
     "metadata": {},
     "output_type": "execute_result"
    }
   ],
   "source": [
    "#Computing the standard deviation in float64 is more accurate:\n",
    "\n",
    "np.std(a, dtype=np.float64)"
   ]
  },
  {
   "cell_type": "markdown",
   "metadata": {},
   "source": [
    "# Correlação"
   ]
  },
  {
   "cell_type": "markdown",
   "metadata": {},
   "source": [
    "A correlação é uma medida estatística que quantifica a força e a direção da relação linear entre duas variáveis.\n",
    "\n",
    "Ela indica como uma variável se comporta em relação à outra, podendo variar entre -1 e 1."
   ]
  },
  {
   "cell_type": "markdown",
   "metadata": {},
   "source": [
    "Principais Características da Correlação:\n",
    "\n",
    "    Valores:\n",
    "        1: Correlação positiva perfeita. À medida que uma variável aumenta, a outra também aumenta de forma proporcional.\n",
    "        -1: Correlação negativa perfeita. À medida que uma variável aumenta, a outra diminui de forma proporcional.\n",
    "        0: Nenhuma correlação linear. Não há relação linear entre as variáveis.\n",
    "\n",
    "    Direção:\n",
    "        Correlação Positiva: Ambas as variáveis aumentam ou diminuem juntas.\n",
    "        Correlação Negativa: Uma variável aumenta enquanto a outra diminui.\n",
    "\n",
    "    Força:\n",
    "        Valores próximos a 1 ou -1 indicam uma relação forte, enquanto valores próximos a 0 indicam uma relação fraca.\n",
    "\n",
    "    Normalização: A correlação é uma medida normalizada, o que significa que não é afetada pela escala das variáveis, tornando-a mais fácil de interpretar em comparação com a covariância.\n"
   ]
  },
  {
   "cell_type": "markdown",
   "metadata": {},
   "source": [
    "## Pearson"
   ]
  },
  {
   "cell_type": "markdown",
   "metadata": {},
   "source": [
    "Correlação de Pearson: Mede a relação linear entre duas variáveis contínuas."
   ]
  },
  {
   "cell_type": "code",
   "execution_count": 32,
   "metadata": {
    "execution": {
     "iopub.execute_input": "2024-10-31T03:46:44.706491Z",
     "iopub.status.busy": "2024-10-31T03:46:44.705843Z",
     "iopub.status.idle": "2024-10-31T03:46:44.715654Z",
     "shell.execute_reply": "2024-10-31T03:46:44.714544Z",
     "shell.execute_reply.started": "2024-10-31T03:46:44.706434Z"
    }
   },
   "outputs": [
    {
     "name": "stdout",
     "output_type": "stream",
     "text": [
      "Correlação de Pearson entre X e Y: 0.9723, p-valor: 0.0055\n"
     ]
    }
   ],
   "source": [
    "# Calculando a correlação de Pearson\n",
    "pearson_corr, pearson_p_value = pearsonr(df['X'], df['Y'])\n",
    "print(f\"\"\"Correlação de Pearson entre X e Y: {pearson_corr:.4f},\n",
    "       p-valor: {pearson_p_value:.4f}\"\"\")"
   ]
  },
  {
   "cell_type": "code",
   "execution_count": 34,
   "metadata": {
    "execution": {
     "iopub.execute_input": "2024-10-31T03:48:28.305536Z",
     "iopub.status.busy": "2024-10-31T03:48:28.304977Z",
     "iopub.status.idle": "2024-10-31T03:48:28.315732Z",
     "shell.execute_reply": "2024-10-31T03:48:28.313913Z",
     "shell.execute_reply.started": "2024-10-31T03:48:28.305499Z"
    }
   },
   "outputs": [
    {
     "name": "stdout",
     "output_type": "stream",
     "text": [
      "Correlação de Pearson entre X e Z: -0.7000,\n",
      "          p-valor: 0.1881\n"
     ]
    }
   ],
   "source": [
    "# Calculando a correlação entre outras colunas\n",
    "pearson_corr_z, pearson_p_value_z = pearsonr(df['X'], df['Z'])\n",
    "print(f\"\"\"Correlação de Pearson entre X e Z: {pearson_corr_z:.4f},\n",
    "          p-valor: {pearson_p_value_z:.4f}\"\"\")"
   ]
  },
  {
   "cell_type": "code",
   "execution_count": 37,
   "metadata": {
    "execution": {
     "iopub.execute_input": "2024-10-31T03:50:14.845074Z",
     "iopub.status.busy": "2024-10-31T03:50:14.844571Z",
     "iopub.status.idle": "2024-10-31T03:50:14.852409Z",
     "shell.execute_reply": "2024-10-31T03:50:14.851417Z",
     "shell.execute_reply.started": "2024-10-31T03:50:14.845038Z"
    }
   },
   "outputs": [],
   "source": [
    "def pearson_correlation(x, y):\n",
    "    \"\"\"\n",
    "    Calcula a correlação de Pearson entre duas listas.\n",
    "    \n",
    "    :param x: Lista ou array de valores.\n",
    "    :param y: Lista ou array de valores.\n",
    "    :return: Coeficiente de correlação de Pearson.\n",
    "    \"\"\"\n",
    "    if len(x) != len(y):\n",
    "        raise ValueError(\"As listas devem ter o mesmo comprimento.\")\n",
    "    \n",
    "    x_mean = np.mean(x)\n",
    "    y_mean = np.mean(y)\n",
    "    \n",
    "    numerator = np.sum((x - x_mean) * (y - y_mean))\n",
    "    denominator = np.sqrt(np.sum((x - x_mean) ** 2) * np.sum((y - y_mean) ** 2))\n",
    "    \n",
    "    if denominator == 0:\n",
    "        return 0  # Evitar divisão por zero\n",
    "    \n",
    "    return numerator / denominator"
   ]
  },
  {
   "cell_type": "code",
   "execution_count": 38,
   "metadata": {
    "execution": {
     "iopub.execute_input": "2024-10-31T03:50:15.073047Z",
     "iopub.status.busy": "2024-10-31T03:50:15.072460Z",
     "iopub.status.idle": "2024-10-31T03:50:15.082136Z",
     "shell.execute_reply": "2024-10-31T03:50:15.080993Z",
     "shell.execute_reply.started": "2024-10-31T03:50:15.073005Z"
    }
   },
   "outputs": [
    {
     "name": "stdout",
     "output_type": "stream",
     "text": [
      "Correlação de Pearson entre X e Y: 0.9723\n"
     ]
    }
   ],
   "source": [
    "# Cálculo da correlação de Pearson entre X e Y\n",
    "pearson_result = pearson_correlation(df['X'], df['Y'])\n",
    "print(f'Correlação de Pearson entre X e Y: {pearson_result:.4f}')"
   ]
  },
  {
   "cell_type": "markdown",
   "metadata": {},
   "source": [
    "## Spearman"
   ]
  },
  {
   "cell_type": "markdown",
   "metadata": {},
   "source": [
    "Correlação de Spearman: Mede a relação monotônica (não necessariamente linear) entre duas variáveis, utilizando ranks."
   ]
  },
  {
   "cell_type": "code",
   "execution_count": 33,
   "metadata": {
    "execution": {
     "iopub.execute_input": "2024-10-31T03:47:46.788280Z",
     "iopub.status.busy": "2024-10-31T03:47:46.787789Z",
     "iopub.status.idle": "2024-10-31T03:47:46.798944Z",
     "shell.execute_reply": "2024-10-31T03:47:46.797274Z",
     "shell.execute_reply.started": "2024-10-31T03:47:46.788241Z"
    }
   },
   "outputs": [
    {
     "name": "stdout",
     "output_type": "stream",
     "text": [
      "Correlação de Spearman entre X e Y: 1.0000,\n",
      "          p-valor: 0.0000\n"
     ]
    }
   ],
   "source": [
    "# Calculando a correlação de Spearman\n",
    "spearman_corr, spearman_p_value = spearmanr(df['X'], df['Y'])\n",
    "print(f\"\"\"Correlação de Spearman entre X e Y: {spearman_corr:.4f},\n",
    "          p-valor: {spearman_p_value:.4f}\"\"\")"
   ]
  },
  {
   "cell_type": "code",
   "execution_count": 35,
   "metadata": {
    "execution": {
     "iopub.execute_input": "2024-10-31T03:48:47.757155Z",
     "iopub.status.busy": "2024-10-31T03:48:47.756719Z",
     "iopub.status.idle": "2024-10-31T03:48:47.766333Z",
     "shell.execute_reply": "2024-10-31T03:48:47.764993Z",
     "shell.execute_reply.started": "2024-10-31T03:48:47.757121Z"
    }
   },
   "outputs": [
    {
     "name": "stdout",
     "output_type": "stream",
     "text": [
      "Correlação de Spearman entre X e Z: -0.7000,\n",
      "          p-valor: 0.1881\n"
     ]
    }
   ],
   "source": [
    "# Calculando a correlação entre outras colunas\n",
    "spearman_corr_z, spearman_p_value_z = spearmanr(df['X'], df['Z'])\n",
    "print(f\"\"\"Correlação de Spearman entre X e Z: {spearman_corr_z:.4f},\n",
    "          p-valor: {spearman_p_value_z:.4f}\"\"\")"
   ]
  },
  {
   "cell_type": "code",
   "execution_count": 39,
   "metadata": {
    "execution": {
     "iopub.execute_input": "2024-10-31T03:50:39.662392Z",
     "iopub.status.busy": "2024-10-31T03:50:39.661783Z",
     "iopub.status.idle": "2024-10-31T03:50:39.669540Z",
     "shell.execute_reply": "2024-10-31T03:50:39.668809Z",
     "shell.execute_reply.started": "2024-10-31T03:50:39.662339Z"
    }
   },
   "outputs": [],
   "source": [
    "def spearman_correlation(x, y):\n",
    "    \"\"\"\n",
    "    Calcula a correlação de Spearman entre duas listas.\n",
    "    \n",
    "    :param x: Lista ou array de valores.\n",
    "    :param y: Lista ou array de valores.\n",
    "    :return: Coeficiente de correlação de Spearman.\n",
    "    \"\"\"\n",
    "    if len(x) != len(y):\n",
    "        raise ValueError(\"As listas devem ter o mesmo comprimento.\")\n",
    "    \n",
    "    # Classificar os dados e obter os ranks\n",
    "    x_rank = np.argsort(np.argsort(x))\n",
    "    y_rank = np.argsort(np.argsort(y))\n",
    "    \n",
    "    return pearson_correlation(x_rank, y_rank)"
   ]
  },
  {
   "cell_type": "code",
   "execution_count": 41,
   "metadata": {
    "execution": {
     "iopub.execute_input": "2024-10-31T03:50:48.124801Z",
     "iopub.status.busy": "2024-10-31T03:50:48.124359Z",
     "iopub.status.idle": "2024-10-31T03:50:48.134605Z",
     "shell.execute_reply": "2024-10-31T03:50:48.133469Z",
     "shell.execute_reply.started": "2024-10-31T03:50:48.124768Z"
    }
   },
   "outputs": [
    {
     "name": "stdout",
     "output_type": "stream",
     "text": [
      "Correlação de Spearman entre X e Z: -0.7000\n"
     ]
    }
   ],
   "source": [
    "# Cálculo da correlação de Spearman entre X e Z\n",
    "spearman_result_z = spearman_correlation(df['X'], df['Z'])\n",
    "print(f'Correlação de Spearman entre X e Z: {spearman_result_z:.4f}')"
   ]
  },
  {
   "cell_type": "markdown",
   "metadata": {},
   "source": [
    "# Covariância"
   ]
  },
  {
   "cell_type": "markdown",
   "metadata": {},
   "source": [
    "A covariância é uma medida estatística que indica a direção e a força da relação linear entre duas variáveis. Em outras palavras, ela nos diz como duas variáveis variam juntas. A covariância pode ser positiva, negativa ou zero, e é calculada a partir das diferenças das variáveis em relação às suas médias.\n",
    "Interpretação da Covariância:\n",
    "\n",
    "    Covariância Positiva:\n",
    "        Quando a covariância é positiva, isso indica que, à medida que uma variável aumenta, a outra também tende a aumentar. Por exemplo, se você observar que o aumento da temperatura está associado ao aumento das vendas de sorvete, a covariância entre essas duas variáveis seria positiva.\n",
    "\n",
    "    Covariância Negativa:\n",
    "        Quando a covariância é negativa, isso indica que, à medida que uma variável aumenta, a outra tende a diminuir. Por exemplo, se você observar que o aumento da temperatura está associado à diminuição das vendas de roupas de inverno, a covariância entre essas duas variáveis seria negativa.\n",
    "\n",
    "    Covariância Zero:\n",
    "        Uma covariância próxima de zero sugere que não há uma relação linear clara entre as duas variáveis. Isso não significa que não haja relação alguma, mas sim que a relação não é linear.\n"
   ]
  },
  {
   "cell_type": "code",
   "execution_count": 45,
   "metadata": {
    "execution": {
     "iopub.execute_input": "2024-10-31T03:52:56.430620Z",
     "iopub.status.busy": "2024-10-31T03:52:56.430085Z",
     "iopub.status.idle": "2024-10-31T03:52:56.440100Z",
     "shell.execute_reply": "2024-10-31T03:52:56.438762Z",
     "shell.execute_reply.started": "2024-10-31T03:52:56.430582Z"
    }
   },
   "outputs": [
    {
     "name": "stdout",
     "output_type": "stream",
     "text": [
      "Covariância entre X e Y: 5.5000\n",
      "Covariância entre X e Z: -1.7500\n"
     ]
    }
   ],
   "source": [
    "# Calculando a covariância entre X e Y\n",
    "cov_xy = np.cov(df['X'], df['Y'])[0, 1]  # A matriz de covariância é 2x2, pegamos o valor [0, 1]\n",
    "print(f'Covariância entre X e Y: {cov_xy:.4f}')\n",
    "\n",
    "# Calculando a covariância entre X e Z\n",
    "cov_xz = np.cov(df['X'], df['Z'])[0, 1]\n",
    "print(f'Covariância entre X e Z: {cov_xz:.4f}')"
   ]
  },
  {
   "cell_type": "markdown",
   "metadata": {},
   "source": [
    "Cálculo da Covariância:\n",
    "\n",
    "A covariância entre duas variáveis X e Y é calculada pela fórmula:\n",
    "\n",
    "$\n",
    "\\text{Cov}(X, Y) = \\frac{1}{n-1} \\sum_{i=1}^{n} (X_i - \\bar{X})(Y_i - \\bar{Y})\n",
    "$\n",
    "\n",
    "onde:\n",
    "\n",
    "$X_i$ e $Y_i$ são os valores das variáveis X e Y,\n",
    "\n",
    "$\\bar{X}$ e $\\bar{Y}$ são as médias das variáveis X e Y,\n",
    "\n",
    "$n$ é o número de observações."
   ]
  },
  {
   "cell_type": "code",
   "execution_count": 42,
   "metadata": {
    "execution": {
     "iopub.execute_input": "2024-10-31T03:51:22.916257Z",
     "iopub.status.busy": "2024-10-31T03:51:22.915779Z",
     "iopub.status.idle": "2024-10-31T03:51:22.922902Z",
     "shell.execute_reply": "2024-10-31T03:51:22.921676Z",
     "shell.execute_reply.started": "2024-10-31T03:51:22.916222Z"
    }
   },
   "outputs": [],
   "source": [
    "def covariance(x, y):\n",
    "    \"\"\"\n",
    "    Calcula a covariância entre duas listas.\n",
    "    \n",
    "    :param x: Lista ou array de valores.\n",
    "    :param y: Lista ou array de valores.\n",
    "    :return: Covariância entre x e y.\n",
    "    \"\"\"\n",
    "    if len(x) != len(y):\n",
    "        raise ValueError(\"As listas devem ter o mesmo comprimento.\")\n",
    "    \n",
    "    x_mean = np.mean(x)\n",
    "    y_mean = np.mean(y)\n",
    "    \n",
    "    cov = np.sum((x - x_mean) * (y - y_mean)) / (len(x) - 1)  # Usando n-1 para amostra\n",
    "    return cov"
   ]
  },
  {
   "cell_type": "code",
   "execution_count": 43,
   "metadata": {
    "execution": {
     "iopub.execute_input": "2024-10-31T03:51:55.807334Z",
     "iopub.status.busy": "2024-10-31T03:51:55.806829Z",
     "iopub.status.idle": "2024-10-31T03:51:55.816255Z",
     "shell.execute_reply": "2024-10-31T03:51:55.814484Z",
     "shell.execute_reply.started": "2024-10-31T03:51:55.807296Z"
    }
   },
   "outputs": [
    {
     "name": "stdout",
     "output_type": "stream",
     "text": [
      "Covariância entre X e Y: 5.5000\n"
     ]
    }
   ],
   "source": [
    "# Cálculo da covariância entre X e Y\n",
    "cov_xy = covariance(df['X'], df['Y'])\n",
    "print(f'Covariância entre X e Y: {cov_xy:.4f}')"
   ]
  },
  {
   "cell_type": "code",
   "execution_count": 44,
   "metadata": {
    "execution": {
     "iopub.execute_input": "2024-10-31T03:51:56.028425Z",
     "iopub.status.busy": "2024-10-31T03:51:56.027967Z",
     "iopub.status.idle": "2024-10-31T03:51:56.034934Z",
     "shell.execute_reply": "2024-10-31T03:51:56.033853Z",
     "shell.execute_reply.started": "2024-10-31T03:51:56.028392Z"
    }
   },
   "outputs": [
    {
     "name": "stdout",
     "output_type": "stream",
     "text": [
      "Covariância entre X e Z: -1.7500\n"
     ]
    }
   ],
   "source": [
    "# Cálculo da covariância entre X e Z\n",
    "cov_xz = covariance(df['X'], df['Z'])\n",
    "print(f'Covariância entre X e Z: {cov_xz:.4f}')"
   ]
  },
  {
   "cell_type": "markdown",
   "metadata": {},
   "source": [
    "Propriedades da Covariância:\n",
    "\n",
    "    Unidade: A covariância é expressa em unidades que são o produto das unidades das duas variáveis. Isso pode dificultar a interpretação direta da covariância, especialmente se as variáveis estiverem em escalas diferentes.\n",
    "\n",
    "    Simetria: A covariância é simétrica, ou seja, cov(X,Y)=cov(Y,X).\n",
    "\n",
    "    Escala: A covariância é afetada pela escala das variáveis. Se você multiplicar uma variável por uma constante, a covariância também será multiplicada por essa constante."
   ]
  },
  {
   "cell_type": "markdown",
   "metadata": {},
   "source": [
    "Diferença entre Covariância e Correlação:\n",
    "\n",
    "Embora a covariância forneça informações sobre a relação entre duas variáveis, ela não é normalizada e, portanto, pode ser difícil de interpretar. A correlação, por outro lado, é uma versão normalizada da covariância que varia entre -1 e 1, tornando mais fácil entender a força e a direção da relação entre as variáveis. A correlação é calculada dividindo a covariância pelo produto dos desvios padrão das duas variáveis.\n",
    "\n",
    "Em resumo, a covariância é uma ferramenta útil para entender como duas variáveis se comportam em relação uma à outra, mas deve ser interpretada com cuidado, especialmente em comparação com a correlação."
   ]
  },
  {
   "cell_type": "code",
   "execution_count": null,
   "metadata": {},
   "outputs": [],
   "source": []
  }
 ],
 "metadata": {
  "kernelspec": {
   "display_name": "Python 3 (ipykernel)",
   "language": "python",
   "name": "python3"
  },
  "language_info": {
   "codemirror_mode": {
    "name": "ipython",
    "version": 3
   },
   "file_extension": ".py",
   "mimetype": "text/x-python",
   "name": "python",
   "nbconvert_exporter": "python",
   "pygments_lexer": "ipython3",
   "version": "3.11.2"
  }
 },
 "nbformat": 4,
 "nbformat_minor": 4
}
