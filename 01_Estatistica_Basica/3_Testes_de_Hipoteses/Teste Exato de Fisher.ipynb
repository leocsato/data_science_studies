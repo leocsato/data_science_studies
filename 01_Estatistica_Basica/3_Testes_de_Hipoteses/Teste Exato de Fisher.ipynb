{
 "cells": [
  {
   "cell_type": "code",
   "execution_count": 1,
   "id": "b4110ac1-81aa-4d5f-b29d-cb8b669a0ae5",
   "metadata": {
    "execution": {
     "iopub.execute_input": "2024-05-24T01:31:48.701812Z",
     "iopub.status.busy": "2024-05-24T01:31:48.701314Z",
     "iopub.status.idle": "2024-05-24T01:31:49.231161Z",
     "shell.execute_reply": "2024-05-24T01:31:49.230391Z",
     "shell.execute_reply.started": "2024-05-24T01:31:48.701768Z"
    }
   },
   "outputs": [],
   "source": [
    "from scipy.stats import fisher_exact"
   ]
  },
  {
   "cell_type": "code",
   "execution_count": 2,
   "id": "94dc0854-c647-4458-a3d6-83750280255d",
   "metadata": {
    "execution": {
     "iopub.execute_input": "2024-05-24T01:32:45.856722Z",
     "iopub.status.busy": "2024-05-24T01:32:45.856019Z",
     "iopub.status.idle": "2024-05-24T01:32:45.861613Z",
     "shell.execute_reply": "2024-05-24T01:32:45.860576Z",
     "shell.execute_reply.started": "2024-05-24T01:32:45.856695Z"
    }
   },
   "outputs": [],
   "source": [
    "def fishers_exact_test(contingency_table):\n",
    "    \"\"\"\n",
    "    Execute o teste exato de Fisher em uma tabela de contingência 2x2.\n",
    "    \n",
    "    Parâmetros:\n",
    "    contingency_table (array-like): Uma tabela de contingência 2x2 como uma lista ou matriz aninhada.\n",
    "    \n",
    "    Retorna:\n",
    "    odds_ratio (float): A razão de chances.\n",
    "    p_value (float): O p-valor bicaudal.\n",
    "    \"\"\"\n",
    "    odds_ratio, p_value = fisher_exact(contingency_table)\n",
    "    return odds_ratio, p_value"
   ]
  },
  {
   "cell_type": "code",
   "execution_count": 3,
   "id": "10bce19b-47f5-42ae-9c36-118fee1d3e3a",
   "metadata": {
    "execution": {
     "iopub.execute_input": "2024-05-24T01:32:54.964767Z",
     "iopub.status.busy": "2024-05-24T01:32:54.964074Z",
     "iopub.status.idle": "2024-05-24T01:32:54.995009Z",
     "shell.execute_reply": "2024-05-24T01:32:54.993361Z",
     "shell.execute_reply.started": "2024-05-24T01:32:54.964713Z"
    }
   },
   "outputs": [],
   "source": [
    "contingency_table = [[10, 5], [3, 8]]  # Example 2x2 contingency table\n",
    "odds_ratio, p_value = fishers_exact_test(contingency_table)"
   ]
  },
  {
   "cell_type": "code",
   "execution_count": 4,
   "id": "55d79399-3cf7-4c01-a09c-0553a6749969",
   "metadata": {
    "execution": {
     "iopub.execute_input": "2024-05-24T01:33:01.408349Z",
     "iopub.status.busy": "2024-05-24T01:33:01.407704Z",
     "iopub.status.idle": "2024-05-24T01:33:01.415366Z",
     "shell.execute_reply": "2024-05-24T01:33:01.414020Z",
     "shell.execute_reply.started": "2024-05-24T01:33:01.408301Z"
    }
   },
   "outputs": [
    {
     "name": "stdout",
     "output_type": "stream",
     "text": [
      "Odds Ratio: 5.333333333333333\n",
      "P Value: 0.11070130569390227\n"
     ]
    }
   ],
   "source": [
    "print(\"Odds Ratio:\", odds_ratio)\n",
    "print(\"P Value:\", p_value)"
   ]
  },
  {
   "cell_type": "code",
   "execution_count": null,
   "id": "f28b1d74-d5b8-4b9b-a492-5e1448e37959",
   "metadata": {},
   "outputs": [],
   "source": []
  }
 ],
 "metadata": {
  "kernelspec": {
   "display_name": "Python 3 (ipykernel)",
   "language": "python",
   "name": "python3"
  },
  "language_info": {
   "codemirror_mode": {
    "name": "ipython",
    "version": 3
   },
   "file_extension": ".py",
   "mimetype": "text/x-python",
   "name": "python",
   "nbconvert_exporter": "python",
   "pygments_lexer": "ipython3",
   "version": "3.11.2"
  }
 },
 "nbformat": 4,
 "nbformat_minor": 5
}
