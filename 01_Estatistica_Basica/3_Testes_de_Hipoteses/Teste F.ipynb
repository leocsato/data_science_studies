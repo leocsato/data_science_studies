{
 "cells": [
  {
   "cell_type": "code",
   "execution_count": 1,
   "id": "71beaf3d-78be-483b-b833-b360942ab2bd",
   "metadata": {
    "execution": {
     "iopub.execute_input": "2024-05-23T05:37:49.449529Z",
     "iopub.status.busy": "2024-05-23T05:37:49.449044Z",
     "iopub.status.idle": "2024-05-23T05:37:49.889246Z",
     "shell.execute_reply": "2024-05-23T05:37:49.888519Z",
     "shell.execute_reply.started": "2024-05-23T05:37:49.449479Z"
    }
   },
   "outputs": [],
   "source": [
    "from scipy import stats"
   ]
  },
  {
   "cell_type": "code",
   "execution_count": 2,
   "id": "e04e02ae-0291-4a11-ae80-c8d45f220b49",
   "metadata": {
    "execution": {
     "iopub.execute_input": "2024-05-23T05:37:49.890391Z",
     "iopub.status.busy": "2024-05-23T05:37:49.890037Z",
     "iopub.status.idle": "2024-05-23T05:37:49.893867Z",
     "shell.execute_reply": "2024-05-23T05:37:49.893191Z",
     "shell.execute_reply.started": "2024-05-23T05:37:49.890368Z"
    }
   },
   "outputs": [],
   "source": [
    "# Define your two samples\n",
    "sample1 = [1, 2, 3, 4, 5]\n",
    "sample2 = [6, 7, 8, 9, 10]"
   ]
  },
  {
   "cell_type": "code",
   "execution_count": 3,
   "id": "dd861e4d-2445-4d7b-9c63-d9520c001e98",
   "metadata": {
    "execution": {
     "iopub.execute_input": "2024-05-23T05:37:49.895695Z",
     "iopub.status.busy": "2024-05-23T05:37:49.895366Z",
     "iopub.status.idle": "2024-05-23T05:37:49.901348Z",
     "shell.execute_reply": "2024-05-23T05:37:49.900628Z",
     "shell.execute_reply.started": "2024-05-23T05:37:49.895673Z"
    }
   },
   "outputs": [],
   "source": [
    "# Perform the F-test\n",
    "F_statistic, p_value = stats.f_oneway(sample1, sample2)"
   ]
  },
  {
   "cell_type": "code",
   "execution_count": 4,
   "id": "0c3b2d09-d91a-40a9-b579-8b829d6f02f5",
   "metadata": {
    "execution": {
     "iopub.execute_input": "2024-05-23T05:37:49.902975Z",
     "iopub.status.busy": "2024-05-23T05:37:49.902399Z",
     "iopub.status.idle": "2024-05-23T05:37:49.907697Z",
     "shell.execute_reply": "2024-05-23T05:37:49.906682Z",
     "shell.execute_reply.started": "2024-05-23T05:37:49.902935Z"
    }
   },
   "outputs": [
    {
     "name": "stdout",
     "output_type": "stream",
     "text": [
      "F-statistic: 25.0\n",
      "P-valor: 0.0010528257933665396\n"
     ]
    }
   ],
   "source": [
    "# Print the results\n",
    "print(\"F-statistic:\", F_statistic)\n",
    "print(\"P-valor:\", p_value)"
   ]
  },
  {
   "cell_type": "code",
   "execution_count": 5,
   "id": "85e12799-95e3-42b8-b812-2afb14b2e291",
   "metadata": {
    "execution": {
     "iopub.execute_input": "2024-05-23T05:37:49.909354Z",
     "iopub.status.busy": "2024-05-23T05:37:49.908862Z",
     "iopub.status.idle": "2024-05-23T05:37:49.914696Z",
     "shell.execute_reply": "2024-05-23T05:37:49.913951Z",
     "shell.execute_reply.started": "2024-05-23T05:37:49.909311Z"
    }
   },
   "outputs": [
    {
     "name": "stdout",
     "output_type": "stream",
     "text": [
      "Rejeitar a hipótese nula. Há uma diferença significativa entre as médias das duas amostras.\n"
     ]
    }
   ],
   "source": [
    "# Determine significance\n",
    "alpha = 0.05\n",
    "if p_value < alpha:\n",
    "    print(\"Rejeitar a hipótese nula. Há uma diferença significativa entre as médias das duas amostras.\")\n",
    "else:\n",
    "    print(\"Falha ao rejeitar a hipótese nula. Não há diferença significativa entre as médias das duas amostras.\")"
   ]
  },
  {
   "cell_type": "markdown",
   "id": "e8fcf461-c9e7-4481-87d3-b7ade5c3257a",
   "metadata": {},
   "source": [
    "sample1 e sample2 são suas duas amostras.\n",
    "\n",
    "A função f_oneway do scipy.stats executa um teste ANOVA unidirecional, que é essencialmente um teste F para comparar variâncias.\n",
    "\n",
    "Ela retorna a estatística F e o valor p.\n",
    "\n",
    "Por fim, ela compara o p-valor a um nível de significância escolhido (alfa) para determinar se a hipótese nula pode ser rejeitada."
   ]
  }
 ],
 "metadata": {
  "kernelspec": {
   "display_name": "Python 3 (ipykernel)",
   "language": "python",
   "name": "python3"
  },
  "language_info": {
   "codemirror_mode": {
    "name": "ipython",
    "version": 3
   },
   "file_extension": ".py",
   "mimetype": "text/x-python",
   "name": "python",
   "nbconvert_exporter": "python",
   "pygments_lexer": "ipython3",
   "version": "3.11.2"
  }
 },
 "nbformat": 4,
 "nbformat_minor": 5
}
