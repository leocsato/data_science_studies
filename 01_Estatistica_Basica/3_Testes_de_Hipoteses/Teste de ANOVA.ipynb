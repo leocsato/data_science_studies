{
 "cells": [
  {
   "cell_type": "markdown",
   "id": "bf789266-b8ae-4caa-8f69-b97fca0cb303",
   "metadata": {},
   "source": [
    "Descrição: O teste ANOVA é utilizado para comparar as médias de três ou mais grupos. Ele verifica se pelo menos uma média de grupo é significativamente diferente das outras.\n",
    "\n",
    "Aplicações: Útil quando se deseja comparar múltiplos grupos simultaneamente, evitando o aumento da taxa de erro tipo I que ocorreria se múltiplos testes t fossem realizados.\n",
    "\n",
    "Exemplo: Comparar a média de vendas de três diferentes lojas para determinar se há uma diferença significativa nas vendas entre elas."
   ]
  },
  {
   "cell_type": "code",
   "execution_count": 1,
   "id": "29120170-7208-44cb-afe9-53a7fd19d962",
   "metadata": {
    "execution": {
     "iopub.execute_input": "2024-10-31T04:06:18.506347Z",
     "iopub.status.busy": "2024-10-31T04:06:18.505888Z",
     "iopub.status.idle": "2024-10-31T04:06:19.038337Z",
     "shell.execute_reply": "2024-10-31T04:06:19.037376Z",
     "shell.execute_reply.started": "2024-10-31T04:06:18.506311Z"
    }
   },
   "outputs": [],
   "source": [
    "import numpy as np\n",
    "from scipy import stats"
   ]
  },
  {
   "cell_type": "code",
   "execution_count": 2,
   "id": "af706d20-84d9-42d5-b9a1-a9eb541fd186",
   "metadata": {
    "execution": {
     "iopub.execute_input": "2024-10-31T04:06:29.363485Z",
     "iopub.status.busy": "2024-10-31T04:06:29.363007Z",
     "iopub.status.idle": "2024-10-31T04:06:29.368675Z",
     "shell.execute_reply": "2024-10-31T04:06:29.367477Z",
     "shell.execute_reply.started": "2024-10-31T04:06:29.363456Z"
    }
   },
   "outputs": [],
   "source": [
    "# Gerando dados de exemplo\n",
    "np.random.seed(0)  # Para reprodutibilidade\n",
    "grupo_a = np.random.normal(loc=50, scale=5, size=30)  # Grupo A com média 50\n",
    "grupo_b = np.random.normal(loc=55, scale=5, size=30)  # Grupo B com média 55\n",
    "grupo_c = np.random.normal(loc=60, scale=5, size=30)  # Grupo C com média 60"
   ]
  },
  {
   "cell_type": "code",
   "execution_count": 3,
   "id": "10990f0f-3992-4ccd-aa87-ac197ade2a6f",
   "metadata": {
    "execution": {
     "iopub.execute_input": "2024-10-31T04:06:34.955910Z",
     "iopub.status.busy": "2024-10-31T04:06:34.955016Z",
     "iopub.status.idle": "2024-10-31T04:06:34.961915Z",
     "shell.execute_reply": "2024-10-31T04:06:34.960679Z",
     "shell.execute_reply.started": "2024-10-31T04:06:34.955857Z"
    }
   },
   "outputs": [],
   "source": [
    "# Realizando o teste de ANOVA\n",
    "f_statistic, p_value = stats.f_oneway(grupo_a, grupo_b, grupo_c)"
   ]
  },
  {
   "cell_type": "code",
   "execution_count": 4,
   "id": "4f8419ac-1928-415e-bacb-8bc3ed1dfd9f",
   "metadata": {
    "execution": {
     "iopub.execute_input": "2024-10-31T04:06:39.932099Z",
     "iopub.status.busy": "2024-10-31T04:06:39.931617Z",
     "iopub.status.idle": "2024-10-31T04:06:39.938928Z",
     "shell.execute_reply": "2024-10-31T04:06:39.937455Z",
     "shell.execute_reply.started": "2024-10-31T04:06:39.932058Z"
    }
   },
   "outputs": [
    {
     "name": "stdout",
     "output_type": "stream",
     "text": [
      "Estatística F: 17.2958\n",
      "Valor p: 0.0000\n"
     ]
    }
   ],
   "source": [
    "# Resultados\n",
    "print(f'Estatística F: {f_statistic:.4f}')\n",
    "print(f'Valor p: {p_value:.4f}')"
   ]
  },
  {
   "cell_type": "code",
   "execution_count": 5,
   "id": "3b03f3e5-6209-42bc-a285-4abf9a0aad13",
   "metadata": {
    "execution": {
     "iopub.execute_input": "2024-10-31T04:06:43.880579Z",
     "iopub.status.busy": "2024-10-31T04:06:43.880083Z",
     "iopub.status.idle": "2024-10-31T04:06:43.888044Z",
     "shell.execute_reply": "2024-10-31T04:06:43.886786Z",
     "shell.execute_reply.started": "2024-10-31T04:06:43.880537Z"
    }
   },
   "outputs": [
    {
     "name": "stdout",
     "output_type": "stream",
     "text": [
      "Rejeitamos a hipótese nula: há uma diferença significativa entre as médias dos grupos.\n"
     ]
    }
   ],
   "source": [
    "# Interpretação do resultado\n",
    "alpha = 0.05  # Nível de significância\n",
    "if p_value < alpha:\n",
    "    print(\"Rejeitamos a hipótese nula: há uma diferença significativa entre as médias dos grupos.\")\n",
    "else:\n",
    "    print(\"Não rejeitamos a hipótese nula: não há diferença significativa entre as médias dos grupos.\")"
   ]
  },
  {
   "cell_type": "markdown",
   "id": "8782d43a-0931-4523-94a2-15b33e054c05",
   "metadata": {},
   "source": [
    "Este exemplo utiliza amostras geradas aleatoriamente. Em um cenário real, você usaria dados coletados de experimentos ou observações. O teste de ANOVA assume que as amostras são independentes, que as variáveis são normalmente distribuídas e que as variâncias dos grupos são homogêneas. Se essas suposições não forem atendidas, você pode considerar usar métodos alternativos, como o teste de Kruskal-Wallis."
   ]
  },
  {
   "cell_type": "code",
   "execution_count": null,
   "id": "63953707-e697-4546-ae56-168e96387797",
   "metadata": {},
   "outputs": [],
   "source": []
  }
 ],
 "metadata": {
  "kernelspec": {
   "display_name": "Python 3 (ipykernel)",
   "language": "python",
   "name": "python3"
  },
  "language_info": {
   "codemirror_mode": {
    "name": "ipython",
    "version": 3
   },
   "file_extension": ".py",
   "mimetype": "text/x-python",
   "name": "python",
   "nbconvert_exporter": "python",
   "pygments_lexer": "ipython3",
   "version": "3.11.2"
  }
 },
 "nbformat": 4,
 "nbformat_minor": 5
}
