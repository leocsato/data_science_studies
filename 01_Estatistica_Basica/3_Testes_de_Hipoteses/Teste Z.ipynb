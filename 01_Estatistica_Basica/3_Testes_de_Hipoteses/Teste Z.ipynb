{
 "cells": [
  {
   "cell_type": "code",
   "execution_count": 1,
   "id": "9b50777e-fe6a-4654-aca2-90e7f4f4c495",
   "metadata": {
    "execution": {
     "iopub.execute_input": "2024-05-24T01:28:49.771506Z",
     "iopub.status.busy": "2024-05-24T01:28:49.770274Z",
     "iopub.status.idle": "2024-05-24T01:28:54.679102Z",
     "shell.execute_reply": "2024-05-24T01:28:54.677897Z",
     "shell.execute_reply.started": "2024-05-24T01:28:49.771434Z"
    }
   },
   "outputs": [],
   "source": [
    "import numpy as np\n",
    "from scipy import stats"
   ]
  },
  {
   "cell_type": "code",
   "execution_count": 2,
   "id": "6da43434-1d82-4ad4-99a9-d0bef68bb6ca",
   "metadata": {
    "execution": {
     "iopub.execute_input": "2024-05-24T01:29:04.224680Z",
     "iopub.status.busy": "2024-05-24T01:29:04.223872Z",
     "iopub.status.idle": "2024-05-24T01:29:04.233028Z",
     "shell.execute_reply": "2024-05-24T01:29:04.232076Z",
     "shell.execute_reply.started": "2024-05-24T01:29:04.224635Z"
    }
   },
   "outputs": [],
   "source": [
    "def z_test(sample_mean, population_mean, population_stddev, sample_size, alpha=0.05, alternative='two-sided'):\n",
    "    z_score = (sample_mean - population_mean) / (population_stddev / np.sqrt(sample_size))\n",
    "    \n",
    "    if alternative == 'two-sided':\n",
    "        p_value = 2 * (1 - stats.norm.cdf(np.abs(z_score)))\n",
    "    elif alternative == 'greater':\n",
    "        p_value = 1 - stats.norm.cdf(z_score)\n",
    "    elif alternative == 'less':\n",
    "        p_value = stats.norm.cdf(z_score)\n",
    "    else:\n",
    "        raise ValueError(\"Invalid alternative hypothesis. Use 'two-sided', 'greater', or 'less'.\")\n",
    "    \n",
    "    if p_value < alpha:\n",
    "        reject_null = True\n",
    "    else:\n",
    "        reject_null = False\n",
    "    \n",
    "    return z_score, p_value, reject_null"
   ]
  },
  {
   "cell_type": "code",
   "execution_count": 3,
   "id": "6eed88e1-c03f-4d42-a28b-88371c6347ef",
   "metadata": {
    "execution": {
     "iopub.execute_input": "2024-05-24T01:29:22.086397Z",
     "iopub.status.busy": "2024-05-24T01:29:22.085703Z",
     "iopub.status.idle": "2024-05-24T01:29:22.090604Z",
     "shell.execute_reply": "2024-05-24T01:29:22.089836Z",
     "shell.execute_reply.started": "2024-05-24T01:29:22.086344Z"
    }
   },
   "outputs": [],
   "source": [
    "sample_mean = 110\n",
    "population_mean = 100\n",
    "population_stddev = 15\n",
    "sample_size = 50\n",
    "alpha = 0.05"
   ]
  },
  {
   "cell_type": "code",
   "execution_count": 4,
   "id": "a2db4671-d301-42bf-89ad-cf6d21fe2487",
   "metadata": {
    "execution": {
     "iopub.execute_input": "2024-05-24T01:29:33.327049Z",
     "iopub.status.busy": "2024-05-24T01:29:33.326528Z",
     "iopub.status.idle": "2024-05-24T01:29:33.359998Z",
     "shell.execute_reply": "2024-05-24T01:29:33.358731Z",
     "shell.execute_reply.started": "2024-05-24T01:29:33.327013Z"
    }
   },
   "outputs": [],
   "source": [
    "z_score, p_value, reject_null = z_test(sample_mean,\n",
    "                                       population_mean,\n",
    "                                       population_stddev,\n",
    "                                       sample_size,\n",
    "                                       alpha)"
   ]
  },
  {
   "cell_type": "code",
   "execution_count": 5,
   "id": "00ab484f-115f-409c-9d04-5d7888a9da0f",
   "metadata": {
    "execution": {
     "iopub.execute_input": "2024-05-24T01:29:37.895394Z",
     "iopub.status.busy": "2024-05-24T01:29:37.894424Z",
     "iopub.status.idle": "2024-05-24T01:29:37.902093Z",
     "shell.execute_reply": "2024-05-24T01:29:37.900575Z",
     "shell.execute_reply.started": "2024-05-24T01:29:37.895344Z"
    }
   },
   "outputs": [
    {
     "name": "stdout",
     "output_type": "stream",
     "text": [
      "Z Score: 4.714045207910317\n",
      "P Value: 2.4284674728924927e-06\n",
      "Reject Null Hypothesis: True\n"
     ]
    }
   ],
   "source": [
    "print(\"Z Score:\", z_score)\n",
    "print(\"P Value:\", p_value)\n",
    "print(\"Reject Null Hypothesis:\", reject_null)"
   ]
  },
  {
   "cell_type": "code",
   "execution_count": null,
   "id": "af04b03c-3d2a-48e2-b4a0-2c6b0d3d04c9",
   "metadata": {},
   "outputs": [],
   "source": []
  }
 ],
 "metadata": {
  "kernelspec": {
   "display_name": "Python 3 (ipykernel)",
   "language": "python",
   "name": "python3"
  },
  "language_info": {
   "codemirror_mode": {
    "name": "ipython",
    "version": 3
   },
   "file_extension": ".py",
   "mimetype": "text/x-python",
   "name": "python",
   "nbconvert_exporter": "python",
   "pygments_lexer": "ipython3",
   "version": "3.11.2"
  }
 },
 "nbformat": 4,
 "nbformat_minor": 5
}
