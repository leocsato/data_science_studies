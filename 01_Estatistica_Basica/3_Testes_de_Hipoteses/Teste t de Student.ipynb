{
 "cells": [
  {
   "cell_type": "markdown",
   "id": "932f0aa6-e8a7-4a3d-9ed6-d4b31296e6d8",
   "metadata": {
    "execution": {
     "iopub.execute_input": "2024-10-31T04:01:09.468519Z",
     "iopub.status.busy": "2024-10-31T04:01:09.468034Z",
     "iopub.status.idle": "2024-10-31T04:01:09.485349Z",
     "shell.execute_reply": "2024-10-31T04:01:09.483436Z",
     "shell.execute_reply.started": "2024-10-31T04:01:09.468477Z"
    }
   },
   "source": [
    "Descrição: O teste t é utilizado para comparar as médias de duas populações ou grupos. Ele é especialmente útil quando as amostras são pequenas (geralmente n < 30) e a distribuição da população é aproximadamente normal.\n",
    "\n",
    "Aplicações: Pode ser usado para determinar se há uma diferença significativa entre as médias de dois grupos independentes (teste t independente) ou entre as médias de dois grupos relacionados (teste t pareado).\n",
    "\n",
    "Exemplo: Comparar a média de notas de dois grupos de estudantes que foram submetidos a diferentes métodos de ensino."
   ]
  },
  {
   "cell_type": "code",
   "execution_count": 3,
   "id": "71beaf3d-78be-483b-b833-b360942ab2bd",
   "metadata": {
    "execution": {
     "iopub.execute_input": "2024-10-31T04:02:43.500730Z",
     "iopub.status.busy": "2024-10-31T04:02:43.500258Z",
     "iopub.status.idle": "2024-10-31T04:02:44.102710Z",
     "shell.execute_reply": "2024-10-31T04:02:44.101836Z",
     "shell.execute_reply.started": "2024-10-31T04:02:43.500689Z"
    }
   },
   "outputs": [],
   "source": [
    "import numpy as np\n",
    "from scipy import stats"
   ]
  },
  {
   "cell_type": "code",
   "execution_count": 4,
   "id": "0b069b4b-8e77-40a2-b283-27af3f3ba8d2",
   "metadata": {
    "execution": {
     "iopub.execute_input": "2024-10-31T04:02:44.104334Z",
     "iopub.status.busy": "2024-10-31T04:02:44.103968Z",
     "iopub.status.idle": "2024-10-31T04:02:44.110191Z",
     "shell.execute_reply": "2024-10-31T04:02:44.109026Z",
     "shell.execute_reply.started": "2024-10-31T04:02:44.104301Z"
    }
   },
   "outputs": [],
   "source": [
    "# Gerando dados de exemplo\n",
    "np.random.seed(0)  # Para reprodutibilidade\n",
    "grupo_a = np.random.normal(loc=50, scale=10, size=30)  # Grupo A com média 50\n",
    "grupo_b = np.random.normal(loc=55, scale=10, size=30)  # Grupo B com média 55"
   ]
  },
  {
   "cell_type": "code",
   "execution_count": 5,
   "id": "2205821b-9398-482e-89f3-4bb93d9121ee",
   "metadata": {
    "execution": {
     "iopub.execute_input": "2024-10-31T04:02:52.574676Z",
     "iopub.status.busy": "2024-10-31T04:02:52.574053Z",
     "iopub.status.idle": "2024-10-31T04:02:52.584397Z",
     "shell.execute_reply": "2024-10-31T04:02:52.583246Z",
     "shell.execute_reply.started": "2024-10-31T04:02:52.574627Z"
    }
   },
   "outputs": [
    {
     "name": "stdout",
     "output_type": "stream",
     "text": [
      "Estatística t: 0.8897\n",
      "Valor p: 0.3773\n"
     ]
    }
   ],
   "source": [
    "# Realizando o teste t de Student\n",
    "t_statistic, p_value = stats.ttest_ind(grupo_a, grupo_b)\n",
    "\n",
    "# Resultados\n",
    "print(f'Estatística t: {t_statistic:.4f}')\n",
    "print(f'Valor p: {p_value:.4f}')"
   ]
  },
  {
   "cell_type": "code",
   "execution_count": 6,
   "id": "1b6d9aa8-5007-4aa9-9e26-1bf43c9e0926",
   "metadata": {
    "execution": {
     "iopub.execute_input": "2024-10-31T04:02:59.412876Z",
     "iopub.status.busy": "2024-10-31T04:02:59.412417Z",
     "iopub.status.idle": "2024-10-31T04:02:59.420730Z",
     "shell.execute_reply": "2024-10-31T04:02:59.419129Z",
     "shell.execute_reply.started": "2024-10-31T04:02:59.412837Z"
    }
   },
   "outputs": [
    {
     "name": "stdout",
     "output_type": "stream",
     "text": [
      "Não rejeitamos a hipótese nula: não há diferença significativa entre os grupos.\n"
     ]
    }
   ],
   "source": [
    "# Interpretação do resultado\n",
    "alpha = 0.05  # Nível de significância\n",
    "if p_value < alpha:\n",
    "    print(\"Rejeitamos a hipótese nula: há uma diferença significativa entre os grupos.\")\n",
    "else:\n",
    "    print(\"Não rejeitamos a hipótese nula: não há diferença significativa entre os grupos.\")"
   ]
  },
  {
   "cell_type": "markdown",
   "id": "a1a82908-0162-456e-9be7-ed4fa8e4a229",
   "metadata": {},
   "source": [
    "# Outro Exemplo"
   ]
  },
  {
   "cell_type": "markdown",
   "id": "42d9707a-7f77-44a6-8302-a9ae8f563708",
   "metadata": {},
   "source": [
    "Este código abaixo pressupõe que você tenha duas amostras (amostra1 e amostra2).\n",
    "\n",
    "Ajuste os valores dessas amostras de acordo com seus dados específicos.\n",
    "\n",
    "A função ttest_ind do scipy executa um teste t bilateral para a hipótese nula de que duas amostras independentes têm valores médios (esperados) idênticos.\n",
    "\n",
    "O resultado inclui a estatística t e o valor p. Por fim, ela compara o valor p a um nível de significância escolhido (alfa) para determinar se a hipótese nula pode ser rejeitada."
   ]
  },
  {
   "cell_type": "code",
   "execution_count": 7,
   "id": "e04e02ae-0291-4a11-ae80-c8d45f220b49",
   "metadata": {
    "execution": {
     "iopub.execute_input": "2024-10-31T04:03:42.012591Z",
     "iopub.status.busy": "2024-10-31T04:03:42.011923Z",
     "iopub.status.idle": "2024-10-31T04:03:42.017615Z",
     "shell.execute_reply": "2024-10-31T04:03:42.016543Z",
     "shell.execute_reply.started": "2024-10-31T04:03:42.012546Z"
    }
   },
   "outputs": [],
   "source": [
    "# Define your two samples\n",
    "sample1 = [1, 2, 3, 4, 5]\n",
    "sample2 = [6, 7, 8, 9, 10]"
   ]
  },
  {
   "cell_type": "code",
   "execution_count": 8,
   "id": "dd861e4d-2445-4d7b-9c63-d9520c001e98",
   "metadata": {
    "execution": {
     "iopub.execute_input": "2024-10-31T04:03:42.205859Z",
     "iopub.status.busy": "2024-10-31T04:03:42.205378Z",
     "iopub.status.idle": "2024-10-31T04:03:42.212739Z",
     "shell.execute_reply": "2024-10-31T04:03:42.211779Z",
     "shell.execute_reply.started": "2024-10-31T04:03:42.205820Z"
    }
   },
   "outputs": [],
   "source": [
    "# Perform the t-test\n",
    "t_statistic, p_value = stats.ttest_ind(sample1, sample2)"
   ]
  },
  {
   "cell_type": "code",
   "execution_count": 9,
   "id": "0c3b2d09-d91a-40a9-b579-8b829d6f02f5",
   "metadata": {
    "execution": {
     "iopub.execute_input": "2024-10-31T04:03:42.348277Z",
     "iopub.status.busy": "2024-10-31T04:03:42.347379Z",
     "iopub.status.idle": "2024-10-31T04:03:42.353699Z",
     "shell.execute_reply": "2024-10-31T04:03:42.352859Z",
     "shell.execute_reply.started": "2024-10-31T04:03:42.348204Z"
    }
   },
   "outputs": [
    {
     "name": "stdout",
     "output_type": "stream",
     "text": [
      "T-statistic: -5.0\n",
      "P-valor: 0.001052825793366539\n"
     ]
    }
   ],
   "source": [
    "# Print the results\n",
    "print(\"T-statistic:\", t_statistic)\n",
    "print(\"P-valor:\", p_value)"
   ]
  },
  {
   "cell_type": "code",
   "execution_count": 10,
   "id": "85e12799-95e3-42b8-b812-2afb14b2e291",
   "metadata": {
    "execution": {
     "iopub.execute_input": "2024-10-31T04:03:42.458732Z",
     "iopub.status.busy": "2024-10-31T04:03:42.458066Z",
     "iopub.status.idle": "2024-10-31T04:03:42.466752Z",
     "shell.execute_reply": "2024-10-31T04:03:42.465539Z",
     "shell.execute_reply.started": "2024-10-31T04:03:42.458667Z"
    }
   },
   "outputs": [
    {
     "name": "stdout",
     "output_type": "stream",
     "text": [
      "Rejeitar a hipótese nula. Há uma diferença significativa entre as médias das duas amostras.\n"
     ]
    }
   ],
   "source": [
    "# Determine significance\n",
    "alpha = 0.05\n",
    "if p_value < alpha:\n",
    "    print(\"Rejeitar a hipótese nula. Há uma diferença significativa entre as médias das duas amostras.\")\n",
    "else:\n",
    "    print(\"Falha ao rejeitar a hipótese nula. Não há diferença significativa entre as médias das duas amostras.\")"
   ]
  }
 ],
 "metadata": {
  "kernelspec": {
   "display_name": "Python 3 (ipykernel)",
   "language": "python",
   "name": "python3"
  },
  "language_info": {
   "codemirror_mode": {
    "name": "ipython",
    "version": 3
   },
   "file_extension": ".py",
   "mimetype": "text/x-python",
   "name": "python",
   "nbconvert_exporter": "python",
   "pygments_lexer": "ipython3",
   "version": "3.11.2"
  }
 },
 "nbformat": 4,
 "nbformat_minor": 5
}
