{
 "cells": [
  {
   "cell_type": "markdown",
   "id": "37024242-9fe2-410f-9a48-f0b758fa6ef4",
   "metadata": {},
   "source": [
    "O teste de Kolmogorov-Smirnov é usado para determinar se um conjunto de dados segue uma distribuição específica. "
   ]
  },
  {
   "cell_type": "code",
   "execution_count": 6,
   "id": "030b8e6c-e457-40b3-b3d1-68aa34c4ba36",
   "metadata": {
    "execution": {
     "iopub.execute_input": "2024-05-24T01:49:51.766675Z",
     "iopub.status.busy": "2024-05-24T01:49:51.765850Z",
     "iopub.status.idle": "2024-05-24T01:49:51.773013Z",
     "shell.execute_reply": "2024-05-24T01:49:51.771566Z",
     "shell.execute_reply.started": "2024-05-24T01:49:51.766568Z"
    }
   },
   "outputs": [],
   "source": [
    "from scipy.stats import kstest\n",
    "import numpy as np"
   ]
  },
  {
   "cell_type": "code",
   "execution_count": 7,
   "id": "52df7b5b-a837-437c-a164-5e436478d476",
   "metadata": {
    "execution": {
     "iopub.execute_input": "2024-05-24T01:49:51.959663Z",
     "iopub.status.busy": "2024-05-24T01:49:51.959357Z",
     "iopub.status.idle": "2024-05-24T01:49:51.963622Z",
     "shell.execute_reply": "2024-05-24T01:49:51.962739Z",
     "shell.execute_reply.started": "2024-05-24T01:49:51.959643Z"
    }
   },
   "outputs": [],
   "source": [
    "def kolmogorov_smirnov_test(data, distribution='norm'):\n",
    "    \"\"\"\n",
    "    Execute o teste Kolmogorov-Smirnov para verificar a adequação do ajuste.\n",
    "    \n",
    "    Parâmetros:\n",
    "    data (tipo array): Os dados a serem testados quanto à adequação do ajuste.\n",
    "    distribution (str ou callable): A distribuição a ser testada.\n",
    "                                     Pode ser uma cadeia de caracteres (por exemplo, \"norm\" para distribuição normal)\n",
    "                                     ou um callable que representa uma função de distribuição cumulativa (CDF).\n",
    "    \n",
    "    Retorna:\n",
    "    ks_statistic (float): A estatística de teste.\n",
    "    p_value (float): O valor p do teste.\n",
    "    \"\"\"\n",
    "    # Perform the Kolmogorov-Smirnov test\n",
    "    ks_statistic, p_value = kstest(data, distribution)\n",
    "    return ks_statistic, p_value"
   ]
  },
  {
   "cell_type": "code",
   "execution_count": 8,
   "id": "21f0a90c-47ee-4f00-9571-a26c04dc819c",
   "metadata": {
    "execution": {
     "iopub.execute_input": "2024-05-24T01:49:52.065357Z",
     "iopub.status.busy": "2024-05-24T01:49:52.064966Z",
     "iopub.status.idle": "2024-05-24T01:49:52.093975Z",
     "shell.execute_reply": "2024-05-24T01:49:52.093441Z",
     "shell.execute_reply.started": "2024-05-24T01:49:52.065330Z"
    }
   },
   "outputs": [],
   "source": [
    "data = np.random.normal(loc=0, scale=1, size=1000)  # Gerar dados com distribuição normal para exemplo\n",
    "ks_statistic, p_value = kolmogorov_smirnov_test(data)"
   ]
  },
  {
   "cell_type": "code",
   "execution_count": 9,
   "id": "aade5e16-1a79-49b1-b5e4-658f079e57fa",
   "metadata": {
    "execution": {
     "iopub.execute_input": "2024-05-24T01:49:52.190977Z",
     "iopub.status.busy": "2024-05-24T01:49:52.190341Z",
     "iopub.status.idle": "2024-05-24T01:49:52.197989Z",
     "shell.execute_reply": "2024-05-24T01:49:52.196970Z",
     "shell.execute_reply.started": "2024-05-24T01:49:52.190929Z"
    }
   },
   "outputs": [
    {
     "name": "stdout",
     "output_type": "stream",
     "text": [
      "KS Statistic: 0.03331916467812357\n",
      "P Value: 0.21211018400464177\n"
     ]
    }
   ],
   "source": [
    "print(\"KS Statistic:\", ks_statistic)\n",
    "print(\"P Value:\", p_value)"
   ]
  },
  {
   "cell_type": "markdown",
   "id": "2f712a6c-02d2-427e-9de8-7db13dd01f11",
   "metadata": {},
   "source": [
    "A hipótese nula do teste K-S é que os dados seguem a distribuição especificada. Se o p-valor for menor que o nível de significância escolhido (por exemplo, 0,05), a hipótese nula será rejeitada e os dados serão considerados como não seguindo a distribuição especificada."
   ]
  },
  {
   "cell_type": "code",
   "execution_count": null,
   "id": "c064bbfa-c293-4741-ab85-577c5c5de532",
   "metadata": {},
   "outputs": [],
   "source": []
  }
 ],
 "metadata": {
  "kernelspec": {
   "display_name": "Python 3 (ipykernel)",
   "language": "python",
   "name": "python3"
  },
  "language_info": {
   "codemirror_mode": {
    "name": "ipython",
    "version": 3
   },
   "file_extension": ".py",
   "mimetype": "text/x-python",
   "name": "python",
   "nbconvert_exporter": "python",
   "pygments_lexer": "ipython3",
   "version": "3.11.2"
  }
 },
 "nbformat": 4,
 "nbformat_minor": 5
}
