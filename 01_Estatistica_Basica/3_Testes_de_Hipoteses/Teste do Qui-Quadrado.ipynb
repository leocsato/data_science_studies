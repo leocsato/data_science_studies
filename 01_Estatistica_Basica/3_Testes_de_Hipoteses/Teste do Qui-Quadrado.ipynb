{
 "cells": [
  {
   "cell_type": "markdown",
   "id": "c6831897-c9bf-4140-baab-60659b093500",
   "metadata": {},
   "source": [
    "Descrição: O teste qui-quadrado é utilizado para avaliar a associação entre variáveis categóricas. Ele compara a frequência observada em cada categoria com a frequência esperada sob a hipótese nula.\n",
    "\n",
    "Aplicações: Comumente usado em tabelas de contingência para verificar se há uma relação significativa entre duas variáveis categóricas.\n",
    "\n",
    "Exemplo: Analisar se há uma associação entre o gênero (masculino/feminino) e a preferência por um tipo de produto (A/B/C)."
   ]
  },
  {
   "cell_type": "code",
   "execution_count": 1,
   "id": "dfae9f3b-9081-4194-a54f-609991bc2105",
   "metadata": {
    "execution": {
     "iopub.execute_input": "2024-10-31T04:04:57.852664Z",
     "iopub.status.busy": "2024-10-31T04:04:57.851854Z",
     "iopub.status.idle": "2024-10-31T04:04:58.342573Z",
     "shell.execute_reply": "2024-10-31T04:04:58.342110Z",
     "shell.execute_reply.started": "2024-10-31T04:04:57.852617Z"
    }
   },
   "outputs": [],
   "source": [
    "import numpy as np\n",
    "from scipy import stats\n",
    "from scipy.stats import chi2_contingency"
   ]
  },
  {
   "cell_type": "code",
   "execution_count": 2,
   "id": "8e98b8a1-f2c3-409b-b4d8-5ff181b7c983",
   "metadata": {
    "execution": {
     "iopub.execute_input": "2024-10-31T04:05:15.015726Z",
     "iopub.status.busy": "2024-10-31T04:05:15.015165Z",
     "iopub.status.idle": "2024-10-31T04:05:15.019978Z",
     "shell.execute_reply": "2024-10-31T04:05:15.018873Z",
     "shell.execute_reply.started": "2024-10-31T04:05:15.015701Z"
    }
   },
   "outputs": [],
   "source": [
    "# Criando uma tabela de contingência\n",
    "# Exemplo: Preferência de produto entre dois grupos (A e B)\n",
    "#           Produto 1  Produto 2\n",
    "# Grupo A      30          10\n",
    "# Grupo B      20          40\n",
    "tabela_contingencia = np.array([[30, 10],\n",
    "                                [20, 40]])"
   ]
  },
  {
   "cell_type": "code",
   "execution_count": 3,
   "id": "6298556d-ae40-47b8-b5a0-b452a5ec4d2d",
   "metadata": {
    "execution": {
     "iopub.execute_input": "2024-10-31T04:05:18.798338Z",
     "iopub.status.busy": "2024-10-31T04:05:18.797233Z",
     "iopub.status.idle": "2024-10-31T04:05:18.805071Z",
     "shell.execute_reply": "2024-10-31T04:05:18.803700Z",
     "shell.execute_reply.started": "2024-10-31T04:05:18.798289Z"
    }
   },
   "outputs": [],
   "source": [
    "# Realizando o teste do qui-quadrado\n",
    "chi2_statistic, p_value, dof, expected = stats.chi2_contingency(tabela_contingencia)"
   ]
  },
  {
   "cell_type": "code",
   "execution_count": 4,
   "id": "a33dc8c2-f35f-4f24-b13d-1dd58b98757b",
   "metadata": {
    "execution": {
     "iopub.execute_input": "2024-10-31T04:05:23.563581Z",
     "iopub.status.busy": "2024-10-31T04:05:23.562179Z",
     "iopub.status.idle": "2024-10-31T04:05:23.571409Z",
     "shell.execute_reply": "2024-10-31T04:05:23.570234Z",
     "shell.execute_reply.started": "2024-10-31T04:05:23.563522Z"
    }
   },
   "outputs": [
    {
     "name": "stdout",
     "output_type": "stream",
     "text": [
      "Estatística qui-quadrado: 15.0417\n",
      "Valor p: 0.0001\n",
      "Degrees of Freedom: 1\n",
      "Frequências esperadas:\n",
      "[[20. 20.]\n",
      " [30. 30.]]\n"
     ]
    }
   ],
   "source": [
    "# Resultados\n",
    "print(f'Estatística qui-quadrado: {chi2_statistic:.4f}')\n",
    "print(f'Valor p: {p_value:.4f}')\n",
    "print(f'Degrees of Freedom: {dof}')\n",
    "print('Frequências esperadas:')\n",
    "print(expected)"
   ]
  },
  {
   "cell_type": "code",
   "execution_count": 5,
   "id": "858bde9a-3ccb-4f0e-bb20-d4c2b1d1be6d",
   "metadata": {
    "execution": {
     "iopub.execute_input": "2024-10-31T04:05:29.293747Z",
     "iopub.status.busy": "2024-10-31T04:05:29.293126Z",
     "iopub.status.idle": "2024-10-31T04:05:29.300656Z",
     "shell.execute_reply": "2024-10-31T04:05:29.299389Z",
     "shell.execute_reply.started": "2024-10-31T04:05:29.293708Z"
    }
   },
   "outputs": [
    {
     "name": "stdout",
     "output_type": "stream",
     "text": [
      "Rejeitamos a hipótese nula: há uma associação significativa entre os grupos e os produtos.\n"
     ]
    }
   ],
   "source": [
    "# Interpretação do resultado\n",
    "alpha = 0.05  # Nível de significância\n",
    "if p_value < alpha:\n",
    "    print(\"Rejeitamos a hipótese nula: há uma associação significativa entre os grupos e os produtos.\")\n",
    "else:\n",
    "    print(\"Não rejeitamos a hipótese nula: não há associação significativa entre os grupos e os produtos.\")"
   ]
  },
  {
   "cell_type": "markdown",
   "id": "ee356fbf-7337-4ac2-bb95-344fcca74613",
   "metadata": {},
   "source": [
    "Interpretação do Resultado:\n",
    "\n",
    "    Comparamos o valor p com um nível de significância (alpha) de 0.05. Se o valor p for menor que alpha, rejeitamos a hipótese nula, indicando que há uma associação significativa entre os grupos e os produtos. Caso contrário, não rejeitamos a hipótese nula.\n",
    "\n"
   ]
  },
  {
   "cell_type": "markdown",
   "id": "3a0a12e9-ca10-4b75-a9b8-791aa364aa61",
   "metadata": {},
   "source": [
    "# Outro Exemplo"
   ]
  },
  {
   "cell_type": "code",
   "execution_count": 2,
   "id": "d981756c-2ab9-477d-bd68-071b9c030611",
   "metadata": {
    "execution": {
     "iopub.execute_input": "2024-05-24T01:34:02.910774Z",
     "iopub.status.busy": "2024-05-24T01:34:02.910312Z",
     "iopub.status.idle": "2024-05-24T01:34:02.915309Z",
     "shell.execute_reply": "2024-05-24T01:34:02.914553Z",
     "shell.execute_reply.started": "2024-05-24T01:34:02.910749Z"
    }
   },
   "outputs": [],
   "source": [
    "def chi_squared_test(contingency_table):\n",
    "    \"\"\"\n",
    "    Executar o teste qui-quadrado de independência em uma tabela de contingência.\n",
    "    \n",
    "    Parâmetros:\n",
    "    contingency_table (semelhante a uma matriz): Uma tabela de contingência como uma lista ou matriz aninhada.\n",
    "    \n",
    "    Retorna:\n",
    "    chi2_stat (float): A estatística de teste de qui-quadrado.\n",
    "    p_value (float): O valor de p do teste.\n",
    "    degrees_of_freedom (int): Os graus de liberdade.\n",
    "    expected_values (tipo array): As frequências esperadas sob a hipótese nula.\n",
    "    \"\"\"\n",
    "    chi2_stat, p_value, degrees_of_freedom, expected_values = chi2_contingency(contingency_table)\n",
    "    return chi2_stat, p_value, degrees_of_freedom, expected_values"
   ]
  },
  {
   "cell_type": "code",
   "execution_count": 3,
   "id": "79d4f378-742d-450b-8eb0-2aded94c53ba",
   "metadata": {
    "execution": {
     "iopub.execute_input": "2024-05-24T01:34:09.471131Z",
     "iopub.status.busy": "2024-05-24T01:34:09.469885Z",
     "iopub.status.idle": "2024-05-24T01:34:09.500421Z",
     "shell.execute_reply": "2024-05-24T01:34:09.498830Z",
     "shell.execute_reply.started": "2024-05-24T01:34:09.471062Z"
    }
   },
   "outputs": [],
   "source": [
    "contingency_table = [[10, 5], [3, 8]]  # Example contingency table\n",
    "chi2_stat, p_value, degrees_of_freedom, expected_values = chi_squared_test(contingency_table)"
   ]
  },
  {
   "cell_type": "code",
   "execution_count": 4,
   "id": "a9f2c75c-1930-47d7-909b-4d3eff3f8ccd",
   "metadata": {
    "execution": {
     "iopub.execute_input": "2024-05-24T01:34:15.342130Z",
     "iopub.status.busy": "2024-05-24T01:34:15.341555Z",
     "iopub.status.idle": "2024-05-24T01:34:15.350933Z",
     "shell.execute_reply": "2024-05-24T01:34:15.349602Z",
     "shell.execute_reply.started": "2024-05-24T01:34:15.342089Z"
    }
   },
   "outputs": [
    {
     "name": "stdout",
     "output_type": "stream",
     "text": [
      "Chi-squared Statistic: 2.5212121212121215\n",
      "P Value: 0.11232421503857941\n",
      "Degrees of Freedom: 1\n",
      "Expected Values: [[7.5 7.5]\n",
      " [5.5 5.5]]\n"
     ]
    }
   ],
   "source": [
    "print(\"Chi-squared Statistic:\", chi2_stat)\n",
    "print(\"P Value:\", p_value)\n",
    "print(\"Degrees of Freedom:\", degrees_of_freedom)\n",
    "print(\"Expected Values:\", expected_values)"
   ]
  },
  {
   "cell_type": "code",
   "execution_count": null,
   "id": "614237e9-1321-471c-af77-34d9dbb0dcd7",
   "metadata": {},
   "outputs": [],
   "source": []
  }
 ],
 "metadata": {
  "kernelspec": {
   "display_name": "Python 3 (ipykernel)",
   "language": "python",
   "name": "python3"
  },
  "language_info": {
   "codemirror_mode": {
    "name": "ipython",
    "version": 3
   },
   "file_extension": ".py",
   "mimetype": "text/x-python",
   "name": "python",
   "nbconvert_exporter": "python",
   "pygments_lexer": "ipython3",
   "version": "3.11.2"
  }
 },
 "nbformat": 4,
 "nbformat_minor": 5
}
