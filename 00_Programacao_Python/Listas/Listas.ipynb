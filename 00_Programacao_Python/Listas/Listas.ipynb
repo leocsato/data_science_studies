{
 "cells": [
  {
   "cell_type": "markdown",
   "metadata": {},
   "source": [
    "## Operações matemáticas em todos os elementos de uma lista"
   ]
  },
  {
   "cell_type": "code",
   "execution_count": 1,
   "metadata": {
    "execution": {
     "iopub.execute_input": "2024-04-19T01:00:36.651568Z",
     "iopub.status.busy": "2024-04-19T01:00:36.651053Z",
     "iopub.status.idle": "2024-04-19T01:00:36.661399Z",
     "shell.execute_reply": "2024-04-19T01:00:36.660453Z",
     "shell.execute_reply.started": "2024-04-19T01:00:36.651531Z"
    }
   },
   "outputs": [],
   "source": [
    "import math"
   ]
  },
  {
   "cell_type": "code",
   "execution_count": 2,
   "metadata": {
    "execution": {
     "iopub.execute_input": "2024-04-19T01:00:36.772225Z",
     "iopub.status.busy": "2024-04-19T01:00:36.771546Z",
     "iopub.status.idle": "2024-04-19T01:00:36.778195Z",
     "shell.execute_reply": "2024-04-19T01:00:36.777295Z",
     "shell.execute_reply.started": "2024-04-19T01:00:36.772170Z"
    }
   },
   "outputs": [
    {
     "name": "stdout",
     "output_type": "stream",
     "text": [
      "[0.0, 1.0, 1.4142135623730951]\n"
     ]
    }
   ],
   "source": [
    "temp = [0, 1, 2]\n",
    "new_list = [ math.sqrt(x) for x in temp]\n",
    "print(new_list)"
   ]
  },
  {
   "cell_type": "markdown",
   "metadata": {},
   "source": [
    "##### Outro método, menos popular e menos claro:"
   ]
  },
  {
   "cell_type": "code",
   "execution_count": 3,
   "metadata": {
    "execution": {
     "iopub.execute_input": "2024-04-19T01:00:37.024923Z",
     "iopub.status.busy": "2024-04-19T01:00:37.024244Z",
     "iopub.status.idle": "2024-04-19T01:00:37.030350Z",
     "shell.execute_reply": "2024-04-19T01:00:37.029462Z",
     "shell.execute_reply.started": "2024-04-19T01:00:37.024875Z"
    }
   },
   "outputs": [],
   "source": [
    "new_list = map(lambda x: math.sqrt(x), temp)"
   ]
  },
  {
   "cell_type": "code",
   "execution_count": 4,
   "metadata": {
    "execution": {
     "iopub.execute_input": "2024-04-19T01:00:37.148844Z",
     "iopub.status.busy": "2024-04-19T01:00:37.148168Z",
     "iopub.status.idle": "2024-04-19T01:00:37.153857Z",
     "shell.execute_reply": "2024-04-19T01:00:37.152808Z",
     "shell.execute_reply.started": "2024-04-19T01:00:37.148785Z"
    }
   },
   "outputs": [
    {
     "name": "stdout",
     "output_type": "stream",
     "text": [
      "[0.0, 1.0, 1.4142135623730951]\n"
     ]
    }
   ],
   "source": [
    "print(list(new_list))\n"
   ]
  },
  {
   "cell_type": "markdown",
   "metadata": {},
   "source": [
    "##### Outra forma é usar numpy arrays"
   ]
  },
  {
   "cell_type": "code",
   "execution_count": 5,
   "metadata": {
    "execution": {
     "iopub.execute_input": "2024-04-19T01:00:37.394910Z",
     "iopub.status.busy": "2024-04-19T01:00:37.394493Z",
     "iopub.status.idle": "2024-04-19T01:00:37.538607Z",
     "shell.execute_reply": "2024-04-19T01:00:37.537815Z",
     "shell.execute_reply.started": "2024-04-19T01:00:37.394871Z"
    }
   },
   "outputs": [
    {
     "name": "stdout",
     "output_type": "stream",
     "text": [
      "[0.         1.         1.41421356]\n"
     ]
    }
   ],
   "source": [
    "import numpy as np\n",
    "new_list = np.array(temp)\n",
    "new_list = np.sqrt(temp)\n",
    "print(new_list)"
   ]
  },
  {
   "cell_type": "code",
   "execution_count": null,
   "metadata": {},
   "outputs": [],
   "source": []
  },
  {
   "cell_type": "code",
   "execution_count": null,
   "metadata": {},
   "outputs": [],
   "source": []
  }
 ],
 "metadata": {
  "kernelspec": {
   "display_name": "Python 3 (ipykernel)",
   "language": "python",
   "name": "python3"
  },
  "language_info": {
   "codemirror_mode": {
    "name": "ipython",
    "version": 3
   },
   "file_extension": ".py",
   "mimetype": "text/x-python",
   "name": "python",
   "nbconvert_exporter": "python",
   "pygments_lexer": "ipython3",
   "version": "3.11.2"
  }
 },
 "nbformat": 4,
 "nbformat_minor": 4
}
