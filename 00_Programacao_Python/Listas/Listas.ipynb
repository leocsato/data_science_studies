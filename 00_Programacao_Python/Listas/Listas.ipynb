{
 "cells": [
  {
   "cell_type": "markdown",
   "metadata": {},
   "source": [
    "## Operações matemáticas em todos os elementos de uma lista"
   ]
  },
  {
   "cell_type": "code",
   "execution_count": 1,
   "metadata": {
    "execution": {
     "iopub.execute_input": "2024-10-31T03:08:23.888234Z",
     "iopub.status.busy": "2024-10-31T03:08:23.887563Z",
     "iopub.status.idle": "2024-10-31T03:08:23.899503Z",
     "shell.execute_reply": "2024-10-31T03:08:23.898793Z",
     "shell.execute_reply.started": "2024-10-31T03:08:23.888184Z"
    }
   },
   "outputs": [],
   "source": [
    "import math"
   ]
  },
  {
   "cell_type": "code",
   "execution_count": 2,
   "metadata": {
    "execution": {
     "iopub.execute_input": "2024-10-31T03:08:24.044426Z",
     "iopub.status.busy": "2024-10-31T03:08:24.044054Z",
     "iopub.status.idle": "2024-10-31T03:08:24.050914Z",
     "shell.execute_reply": "2024-10-31T03:08:24.049431Z",
     "shell.execute_reply.started": "2024-10-31T03:08:24.044398Z"
    }
   },
   "outputs": [
    {
     "name": "stdout",
     "output_type": "stream",
     "text": [
      "[0.0, 1.0, 1.4142135623730951]\n"
     ]
    }
   ],
   "source": [
    "temp = [0, 1, 2]\n",
    "new_list = [ math.sqrt(x) for x in temp]\n",
    "print(new_list)"
   ]
  },
  {
   "cell_type": "markdown",
   "metadata": {},
   "source": [
    "##### Outro método, menos popular e menos claro:"
   ]
  },
  {
   "cell_type": "code",
   "execution_count": 3,
   "metadata": {
    "execution": {
     "iopub.execute_input": "2024-10-31T03:08:24.327383Z",
     "iopub.status.busy": "2024-10-31T03:08:24.326929Z",
     "iopub.status.idle": "2024-10-31T03:08:24.332168Z",
     "shell.execute_reply": "2024-10-31T03:08:24.330940Z",
     "shell.execute_reply.started": "2024-10-31T03:08:24.327347Z"
    }
   },
   "outputs": [],
   "source": [
    "new_list = map(lambda x: math.sqrt(x), temp)"
   ]
  },
  {
   "cell_type": "code",
   "execution_count": 4,
   "metadata": {
    "execution": {
     "iopub.execute_input": "2024-10-31T03:08:24.459162Z",
     "iopub.status.busy": "2024-10-31T03:08:24.458824Z",
     "iopub.status.idle": "2024-10-31T03:08:24.463955Z",
     "shell.execute_reply": "2024-10-31T03:08:24.462988Z",
     "shell.execute_reply.started": "2024-10-31T03:08:24.459139Z"
    }
   },
   "outputs": [
    {
     "name": "stdout",
     "output_type": "stream",
     "text": [
      "[0.0, 1.0, 1.4142135623730951]\n"
     ]
    }
   ],
   "source": [
    "print(list(new_list))\n"
   ]
  },
  {
   "cell_type": "markdown",
   "metadata": {},
   "source": [
    "##### Outra forma é usar numpy arrays"
   ]
  },
  {
   "cell_type": "code",
   "execution_count": 5,
   "metadata": {
    "execution": {
     "iopub.execute_input": "2024-10-31T03:08:24.997760Z",
     "iopub.status.busy": "2024-10-31T03:08:24.997151Z",
     "iopub.status.idle": "2024-10-31T03:08:25.155172Z",
     "shell.execute_reply": "2024-10-31T03:08:25.154293Z",
     "shell.execute_reply.started": "2024-10-31T03:08:24.997710Z"
    }
   },
   "outputs": [
    {
     "name": "stdout",
     "output_type": "stream",
     "text": [
      "[0.         1.         1.41421356]\n"
     ]
    }
   ],
   "source": [
    "import numpy as np\n",
    "new_list = np.array(temp)\n",
    "new_list = np.sqrt(temp)\n",
    "print(new_list)"
   ]
  },
  {
   "cell_type": "code",
   "execution_count": null,
   "metadata": {},
   "outputs": [],
   "source": []
  },
  {
   "cell_type": "code",
   "execution_count": null,
   "metadata": {},
   "outputs": [],
   "source": []
  }
 ],
 "metadata": {
  "kernelspec": {
   "display_name": "Python 3 (ipykernel)",
   "language": "python",
   "name": "python3"
  },
  "language_info": {
   "codemirror_mode": {
    "name": "ipython",
    "version": 3
   },
   "file_extension": ".py",
   "mimetype": "text/x-python",
   "name": "python",
   "nbconvert_exporter": "python",
   "pygments_lexer": "ipython3",
   "version": "3.11.2"
  }
 },
 "nbformat": 4,
 "nbformat_minor": 4
}
