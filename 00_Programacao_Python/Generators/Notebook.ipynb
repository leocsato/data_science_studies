{
 "cells": [
  {
   "cell_type": "markdown",
   "id": "20abb96a-d21d-4240-8a4e-421cef930a7d",
   "metadata": {},
   "source": [
    "Generators em Python são funções que retornam uma sequência iterável de itens, um de cada vez, em vez de retorná-los todos de uma vez, como uma lista."
   ]
  },
  {
   "cell_type": "markdown",
   "id": "75402573-f767-4a74-a75d-53775cebf73f",
   "metadata": {},
   "source": [
    "Úteis ao lidar com grandes conjuntos de dados, quando você não deseja armazenar toda a sequência na memória."
   ]
  },
  {
   "cell_type": "markdown",
   "id": "e7a52e90-a710-4170-84dd-d427d5ea9a40",
   "metadata": {},
   "source": [
    "# Exemplo"
   ]
  },
  {
   "cell_type": "code",
   "execution_count": 5,
   "id": "8c80a867-596d-453b-9a8a-adae00a0b8bd",
   "metadata": {
    "execution": {
     "iopub.execute_input": "2024-05-10T01:45:18.032026Z",
     "iopub.status.busy": "2024-05-10T01:45:18.030331Z",
     "iopub.status.idle": "2024-05-10T01:45:18.039532Z",
     "shell.execute_reply": "2024-05-10T01:45:18.038109Z",
     "shell.execute_reply.started": "2024-05-10T01:45:18.031924Z"
    }
   },
   "outputs": [],
   "source": [
    "def fibonacci():\n",
    "    \"\"\"\n",
    "    Generator para a função de Fibonacci\n",
    "    \"\"\"\n",
    "    a, b = 0, 1\n",
    "    while True:\n",
    "        yield a\n",
    "        a, b = b, a + b"
   ]
  },
  {
   "cell_type": "code",
   "execution_count": 6,
   "id": "bf7c0216-81eb-4926-83a3-fd281f58015e",
   "metadata": {
    "execution": {
     "iopub.execute_input": "2024-05-10T01:45:18.359705Z",
     "iopub.status.busy": "2024-05-10T01:45:18.359098Z",
     "iopub.status.idle": "2024-05-10T01:45:18.365968Z",
     "shell.execute_reply": "2024-05-10T01:45:18.364560Z",
     "shell.execute_reply.started": "2024-05-10T01:45:18.359664Z"
    }
   },
   "outputs": [],
   "source": [
    "fb = fibonacci()"
   ]
  },
  {
   "cell_type": "code",
   "execution_count": 7,
   "id": "f795ec80-ff46-449e-9997-c203cdafeeb7",
   "metadata": {
    "execution": {
     "iopub.execute_input": "2024-05-10T01:45:23.861346Z",
     "iopub.status.busy": "2024-05-10T01:45:23.860735Z",
     "iopub.status.idle": "2024-05-10T01:45:23.868591Z",
     "shell.execute_reply": "2024-05-10T01:45:23.866802Z",
     "shell.execute_reply.started": "2024-05-10T01:45:23.861304Z"
    }
   },
   "outputs": [
    {
     "name": "stdout",
     "output_type": "stream",
     "text": [
      "0\n",
      "1\n",
      "1\n",
      "2\n",
      "3\n",
      "5\n",
      "8\n",
      "13\n",
      "21\n",
      "34\n",
      "55\n",
      "89\n",
      "144\n",
      "233\n",
      "377\n",
      "610\n",
      "987\n",
      "1597\n"
     ]
    }
   ],
   "source": [
    "for _ in range(18):\n",
    "    print(next(fb))"
   ]
  },
  {
   "cell_type": "code",
   "execution_count": 8,
   "id": "dea04350-e259-47c2-b6a4-6935cee601b7",
   "metadata": {
    "execution": {
     "iopub.execute_input": "2024-05-10T01:45:24.409734Z",
     "iopub.status.busy": "2024-05-10T01:45:24.409082Z",
     "iopub.status.idle": "2024-05-10T01:45:24.416337Z",
     "shell.execute_reply": "2024-05-10T01:45:24.415242Z",
     "shell.execute_reply.started": "2024-05-10T01:45:24.409691Z"
    }
   },
   "outputs": [
    {
     "name": "stdout",
     "output_type": "stream",
     "text": [
      "2584\n",
      "4181\n",
      "6765\n",
      "10946\n",
      "17711\n",
      "28657\n",
      "46368\n",
      "75025\n",
      "121393\n",
      "196418\n",
      "317811\n",
      "514229\n",
      "832040\n",
      "1346269\n",
      "2178309\n",
      "3524578\n",
      "5702887\n",
      "9227465\n"
     ]
    }
   ],
   "source": [
    "for _ in range(18):\n",
    "    print(next(fb))"
   ]
  },
  {
   "cell_type": "markdown",
   "id": "00b35396-685c-4967-985b-cd9baf4d18ab",
   "metadata": {},
   "source": [
    "# Outro Exemplo"
   ]
  },
  {
   "cell_type": "code",
   "execution_count": 9,
   "id": "7bbbf060-e5fe-41c8-a45f-0b7884270a60",
   "metadata": {
    "execution": {
     "iopub.execute_input": "2024-05-10T01:48:00.976414Z",
     "iopub.status.busy": "2024-05-10T01:48:00.975406Z",
     "iopub.status.idle": "2024-05-10T01:48:00.982873Z",
     "shell.execute_reply": "2024-05-10T01:48:00.981463Z",
     "shell.execute_reply.started": "2024-05-10T01:48:00.976365Z"
    }
   },
   "outputs": [],
   "source": [
    "def prime_check(num):\n",
    "    if num < 2:\n",
    "        return False\n",
    "    for i in range(2, int(num ** 0.5) + 1):\n",
    "        if num % i == 0:\n",
    "            return False\n",
    "    return True"
   ]
  },
  {
   "cell_type": "code",
   "execution_count": 10,
   "id": "3371e26d-e023-4f85-b0bd-ee3c82578798",
   "metadata": {
    "execution": {
     "iopub.execute_input": "2024-05-10T01:48:04.482331Z",
     "iopub.status.busy": "2024-05-10T01:48:04.481388Z",
     "iopub.status.idle": "2024-05-10T01:48:04.488440Z",
     "shell.execute_reply": "2024-05-10T01:48:04.486616Z",
     "shell.execute_reply.started": "2024-05-10T01:48:04.482283Z"
    }
   },
   "outputs": [],
   "source": [
    "prime_generator = (num for num in range(2, 100) if prime_check(num))"
   ]
  },
  {
   "cell_type": "code",
   "execution_count": 11,
   "id": "6dc37a8c-8bc2-4433-b550-1314b2a6d30a",
   "metadata": {
    "execution": {
     "iopub.execute_input": "2024-05-10T01:48:16.865058Z",
     "iopub.status.busy": "2024-05-10T01:48:16.864533Z",
     "iopub.status.idle": "2024-05-10T01:48:16.872947Z",
     "shell.execute_reply": "2024-05-10T01:48:16.871607Z",
     "shell.execute_reply.started": "2024-05-10T01:48:16.864986Z"
    }
   },
   "outputs": [
    {
     "name": "stdout",
     "output_type": "stream",
     "text": [
      "2\n",
      "3\n",
      "5\n",
      "7\n",
      "11\n",
      "13\n",
      "17\n",
      "19\n",
      "23\n",
      "29\n",
      "31\n",
      "37\n",
      "41\n",
      "43\n",
      "47\n",
      "53\n",
      "59\n",
      "61\n"
     ]
    }
   ],
   "source": [
    "for _ in range(18):\n",
    "    print(next(prime_generator))"
   ]
  },
  {
   "cell_type": "code",
   "execution_count": null,
   "id": "abd3e992-5824-422e-8b61-1ba8b823ec48",
   "metadata": {},
   "outputs": [],
   "source": []
  }
 ],
 "metadata": {
  "kernelspec": {
   "display_name": "Python 3 (ipykernel)",
   "language": "python",
   "name": "python3"
  },
  "language_info": {
   "codemirror_mode": {
    "name": "ipython",
    "version": 3
   },
   "file_extension": ".py",
   "mimetype": "text/x-python",
   "name": "python",
   "nbconvert_exporter": "python",
   "pygments_lexer": "ipython3",
   "version": "3.11.2"
  }
 },
 "nbformat": 4,
 "nbformat_minor": 5
}
