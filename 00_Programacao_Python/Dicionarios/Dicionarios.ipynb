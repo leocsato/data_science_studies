{
 "cells": [
  {
   "cell_type": "code",
   "execution_count": 1,
   "metadata": {
    "execution": {
     "iopub.execute_input": "2024-05-09T16:25:20.660465Z",
     "iopub.status.busy": "2024-05-09T16:25:20.659684Z",
     "iopub.status.idle": "2024-05-09T16:25:21.745072Z",
     "shell.execute_reply": "2024-05-09T16:25:21.743905Z",
     "shell.execute_reply.started": "2024-05-09T16:25:20.660388Z"
    }
   },
   "outputs": [],
   "source": [
    "import numpy as np"
   ]
  },
  {
   "cell_type": "code",
   "execution_count": 2,
   "metadata": {
    "execution": {
     "iopub.execute_input": "2024-04-19T01:00:25.525591Z",
     "iopub.status.busy": "2024-04-19T01:00:25.525095Z",
     "iopub.status.idle": "2024-04-19T01:00:25.529045Z",
     "shell.execute_reply": "2024-04-19T01:00:25.528296Z",
     "shell.execute_reply.started": "2024-04-19T01:00:25.525554Z"
    }
   },
   "outputs": [],
   "source": [
    "params = {\n",
    "    'resource_id': 'test',\n",
    "    'filters': [1,2,3]\n",
    "}"
   ]
  },
  {
   "cell_type": "code",
   "execution_count": 3,
   "metadata": {
    "execution": {
     "iopub.execute_input": "2024-04-19T01:00:25.663110Z",
     "iopub.status.busy": "2024-04-19T01:00:25.662622Z",
     "iopub.status.idle": "2024-04-19T01:00:25.672377Z",
     "shell.execute_reply": "2024-04-19T01:00:25.671101Z",
     "shell.execute_reply.started": "2024-04-19T01:00:25.663073Z"
    },
    "scrolled": true
   },
   "outputs": [
    {
     "data": {
      "text/plain": [
       "{'resource_id': 'test', 'filters': [1, 2, 3]}"
      ]
     },
     "execution_count": 3,
     "metadata": {},
     "output_type": "execute_result"
    }
   ],
   "source": [
    "params"
   ]
  },
  {
   "cell_type": "code",
   "execution_count": 4,
   "metadata": {
    "execution": {
     "iopub.execute_input": "2024-04-19T01:00:25.791237Z",
     "iopub.status.busy": "2024-04-19T01:00:25.790707Z",
     "iopub.status.idle": "2024-04-19T01:00:25.795851Z",
     "shell.execute_reply": "2024-04-19T01:00:25.794992Z",
     "shell.execute_reply.started": "2024-04-19T01:00:25.791203Z"
    }
   },
   "outputs": [
    {
     "data": {
      "text/plain": [
       "[1, 2, 3]"
      ]
     },
     "execution_count": 4,
     "metadata": {},
     "output_type": "execute_result"
    }
   ],
   "source": [
    "params['filters']"
   ]
  },
  {
   "cell_type": "code",
   "execution_count": 5,
   "metadata": {
    "execution": {
     "iopub.execute_input": "2024-04-19T01:00:26.243915Z",
     "iopub.status.busy": "2024-04-19T01:00:26.243376Z",
     "iopub.status.idle": "2024-04-19T01:00:26.247071Z",
     "shell.execute_reply": "2024-04-19T01:00:26.246330Z",
     "shell.execute_reply.started": "2024-04-19T01:00:26.243886Z"
    }
   },
   "outputs": [],
   "source": [
    "del params['filters']"
   ]
  },
  {
   "cell_type": "code",
   "execution_count": 6,
   "metadata": {
    "execution": {
     "iopub.execute_input": "2024-04-19T01:00:26.713512Z",
     "iopub.status.busy": "2024-04-19T01:00:26.712909Z",
     "iopub.status.idle": "2024-04-19T01:00:26.720575Z",
     "shell.execute_reply": "2024-04-19T01:00:26.719055Z",
     "shell.execute_reply.started": "2024-04-19T01:00:26.713470Z"
    }
   },
   "outputs": [
    {
     "data": {
      "text/plain": [
       "{'resource_id': 'test'}"
      ]
     },
     "execution_count": 6,
     "metadata": {},
     "output_type": "execute_result"
    }
   ],
   "source": [
    "params"
   ]
  },
  {
   "cell_type": "code",
   "execution_count": null,
   "metadata": {},
   "outputs": [],
   "source": []
  }
 ],
 "metadata": {
  "kernelspec": {
   "display_name": "Python 3 (ipykernel)",
   "language": "python",
   "name": "python3"
  },
  "language_info": {
   "codemirror_mode": {
    "name": "ipython",
    "version": 3
   },
   "file_extension": ".py",
   "mimetype": "text/x-python",
   "name": "python",
   "nbconvert_exporter": "python",
   "pygments_lexer": "ipython3",
   "version": "3.11.2"
  }
 },
 "nbformat": 4,
 "nbformat_minor": 4
}
