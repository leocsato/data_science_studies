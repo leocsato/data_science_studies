{
 "cells": [
  {
   "cell_type": "code",
   "execution_count": 1,
   "metadata": {
    "execution": {
     "iopub.execute_input": "2024-10-31T03:02:30.467811Z",
     "iopub.status.busy": "2024-10-31T03:02:30.466629Z",
     "iopub.status.idle": "2024-10-31T03:02:30.631976Z",
     "shell.execute_reply": "2024-10-31T03:02:30.631047Z",
     "shell.execute_reply.started": "2024-10-31T03:02:30.467736Z"
    }
   },
   "outputs": [],
   "source": [
    "import numpy as np"
   ]
  },
  {
   "cell_type": "code",
   "execution_count": 2,
   "metadata": {
    "execution": {
     "iopub.execute_input": "2024-10-31T03:02:30.666824Z",
     "iopub.status.busy": "2024-10-31T03:02:30.666454Z",
     "iopub.status.idle": "2024-10-31T03:02:30.670147Z",
     "shell.execute_reply": "2024-10-31T03:02:30.669319Z",
     "shell.execute_reply.started": "2024-10-31T03:02:30.666803Z"
    }
   },
   "outputs": [],
   "source": [
    "params = {\n",
    "    'resource_id': 'test',\n",
    "    'filters': [1,2,3]\n",
    "}"
   ]
  },
  {
   "cell_type": "code",
   "execution_count": 3,
   "metadata": {
    "execution": {
     "iopub.execute_input": "2024-10-31T03:02:30.876308Z",
     "iopub.status.busy": "2024-10-31T03:02:30.875691Z",
     "iopub.status.idle": "2024-10-31T03:02:30.888863Z",
     "shell.execute_reply": "2024-10-31T03:02:30.887894Z",
     "shell.execute_reply.started": "2024-10-31T03:02:30.876258Z"
    },
    "scrolled": true
   },
   "outputs": [
    {
     "data": {
      "text/plain": [
       "{'resource_id': 'test', 'filters': [1, 2, 3]}"
      ]
     },
     "execution_count": 3,
     "metadata": {},
     "output_type": "execute_result"
    }
   ],
   "source": [
    "params"
   ]
  },
  {
   "cell_type": "code",
   "execution_count": 4,
   "metadata": {
    "execution": {
     "iopub.execute_input": "2024-10-31T03:02:31.410290Z",
     "iopub.status.busy": "2024-10-31T03:02:31.409654Z",
     "iopub.status.idle": "2024-10-31T03:02:31.418151Z",
     "shell.execute_reply": "2024-10-31T03:02:31.416857Z",
     "shell.execute_reply.started": "2024-10-31T03:02:31.410246Z"
    }
   },
   "outputs": [
    {
     "data": {
      "text/plain": [
       "[1, 2, 3]"
      ]
     },
     "execution_count": 4,
     "metadata": {},
     "output_type": "execute_result"
    }
   ],
   "source": [
    "params['filters']"
   ]
  },
  {
   "cell_type": "code",
   "execution_count": 5,
   "metadata": {
    "execution": {
     "iopub.execute_input": "2024-10-31T03:02:31.690613Z",
     "iopub.status.busy": "2024-10-31T03:02:31.689925Z",
     "iopub.status.idle": "2024-10-31T03:02:31.695819Z",
     "shell.execute_reply": "2024-10-31T03:02:31.694714Z",
     "shell.execute_reply.started": "2024-10-31T03:02:31.690555Z"
    }
   },
   "outputs": [],
   "source": [
    "del params['filters']"
   ]
  },
  {
   "cell_type": "code",
   "execution_count": 6,
   "metadata": {
    "execution": {
     "iopub.execute_input": "2024-10-31T03:02:32.323514Z",
     "iopub.status.busy": "2024-10-31T03:02:32.322347Z",
     "iopub.status.idle": "2024-10-31T03:02:32.330061Z",
     "shell.execute_reply": "2024-10-31T03:02:32.328466Z",
     "shell.execute_reply.started": "2024-10-31T03:02:32.323478Z"
    }
   },
   "outputs": [
    {
     "data": {
      "text/plain": [
       "{'resource_id': 'test'}"
      ]
     },
     "execution_count": 6,
     "metadata": {},
     "output_type": "execute_result"
    }
   ],
   "source": [
    "params"
   ]
  },
  {
   "cell_type": "code",
   "execution_count": null,
   "metadata": {},
   "outputs": [],
   "source": []
  }
 ],
 "metadata": {
  "kernelspec": {
   "display_name": "Python 3 (ipykernel)",
   "language": "python",
   "name": "python3"
  },
  "language_info": {
   "codemirror_mode": {
    "name": "ipython",
    "version": 3
   },
   "file_extension": ".py",
   "mimetype": "text/x-python",
   "name": "python",
   "nbconvert_exporter": "python",
   "pygments_lexer": "ipython3",
   "version": "3.11.2"
  }
 },
 "nbformat": 4,
 "nbformat_minor": 4
}
