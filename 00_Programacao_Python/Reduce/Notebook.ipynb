{
 "cells": [
  {
   "cell_type": "code",
   "execution_count": 1,
   "id": "4367a6c1-f4ef-44b7-b56a-c30d35487ba0",
   "metadata": {
    "execution": {
     "iopub.execute_input": "2024-05-10T00:34:42.962094Z",
     "iopub.status.busy": "2024-05-10T00:34:42.961600Z",
     "iopub.status.idle": "2024-05-10T00:34:42.974492Z",
     "shell.execute_reply": "2024-05-10T00:34:42.973075Z",
     "shell.execute_reply.started": "2024-05-10T00:34:42.962050Z"
    }
   },
   "outputs": [],
   "source": [
    "from functools import reduce"
   ]
  },
  {
   "cell_type": "code",
   "execution_count": 2,
   "id": "f146cd76-e11a-40a1-a051-9a990ad9a7b5",
   "metadata": {
    "execution": {
     "iopub.execute_input": "2024-05-10T00:34:44.138720Z",
     "iopub.status.busy": "2024-05-10T00:34:44.138023Z",
     "iopub.status.idle": "2024-05-10T00:34:44.145302Z",
     "shell.execute_reply": "2024-05-10T00:34:44.144077Z",
     "shell.execute_reply.started": "2024-05-10T00:34:44.138653Z"
    }
   },
   "outputs": [],
   "source": [
    "# Definindo função para somar\n",
    "def somando(x, y):\n",
    "    return x + y"
   ]
  },
  {
   "cell_type": "code",
   "execution_count": 3,
   "id": "366f8a33-1d3e-48a9-81fb-9563b2ffa92e",
   "metadata": {
    "execution": {
     "iopub.execute_input": "2024-05-10T00:34:44.411894Z",
     "iopub.status.busy": "2024-05-10T00:34:44.411574Z",
     "iopub.status.idle": "2024-05-10T00:34:44.416076Z",
     "shell.execute_reply": "2024-05-10T00:34:44.415081Z",
     "shell.execute_reply.started": "2024-05-10T00:34:44.411871Z"
    }
   },
   "outputs": [],
   "source": [
    "# Lista de números\n",
    "values = [1, 2, 3, 4, 5, 6]"
   ]
  },
  {
   "cell_type": "code",
   "execution_count": 4,
   "id": "75017f7b-a13e-4b8f-ba38-c553eafc9d0a",
   "metadata": {
    "execution": {
     "iopub.execute_input": "2024-05-10T00:34:48.382673Z",
     "iopub.status.busy": "2024-05-10T00:34:48.382010Z",
     "iopub.status.idle": "2024-05-10T00:34:48.388056Z",
     "shell.execute_reply": "2024-05-10T00:34:48.386851Z",
     "shell.execute_reply.started": "2024-05-10T00:34:48.382632Z"
    }
   },
   "outputs": [
    {
     "name": "stdout",
     "output_type": "stream",
     "text": [
      "21\n"
     ]
    }
   ],
   "source": [
    "# Usando reduce para somar os valores da lista\n",
    "soma_total = reduce(somando, values)\n",
    "print(soma_total)  # Saída: 21"
   ]
  },
  {
   "cell_type": "code",
   "execution_count": null,
   "id": "92fbb6dc-1763-4cc0-b45a-c5b64bb4d524",
   "metadata": {},
   "outputs": [],
   "source": []
  }
 ],
 "metadata": {
  "kernelspec": {
   "display_name": "Python 3 (ipykernel)",
   "language": "python",
   "name": "python3"
  },
  "language_info": {
   "codemirror_mode": {
    "name": "ipython",
    "version": 3
   },
   "file_extension": ".py",
   "mimetype": "text/x-python",
   "name": "python",
   "nbconvert_exporter": "python",
   "pygments_lexer": "ipython3",
   "version": "3.11.2"
  }
 },
 "nbformat": 4,
 "nbformat_minor": 5
}
