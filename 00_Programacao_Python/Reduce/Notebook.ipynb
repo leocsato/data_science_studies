{
 "cells": [
  {
   "cell_type": "code",
   "execution_count": 1,
   "id": "4367a6c1-f4ef-44b7-b56a-c30d35487ba0",
   "metadata": {
    "execution": {
     "iopub.execute_input": "2024-10-31T03:08:46.495749Z",
     "iopub.status.busy": "2024-10-31T03:08:46.495119Z",
     "iopub.status.idle": "2024-10-31T03:08:46.507252Z",
     "shell.execute_reply": "2024-10-31T03:08:46.506212Z",
     "shell.execute_reply.started": "2024-10-31T03:08:46.495704Z"
    }
   },
   "outputs": [],
   "source": [
    "from functools import reduce"
   ]
  },
  {
   "cell_type": "code",
   "execution_count": 2,
   "id": "f146cd76-e11a-40a1-a051-9a990ad9a7b5",
   "metadata": {
    "execution": {
     "iopub.execute_input": "2024-10-31T03:08:46.651659Z",
     "iopub.status.busy": "2024-10-31T03:08:46.650898Z",
     "iopub.status.idle": "2024-10-31T03:08:46.655601Z",
     "shell.execute_reply": "2024-10-31T03:08:46.654657Z",
     "shell.execute_reply.started": "2024-10-31T03:08:46.651615Z"
    }
   },
   "outputs": [],
   "source": [
    "# Definindo função para somar\n",
    "def somando(x, y):\n",
    "    return x + y"
   ]
  },
  {
   "cell_type": "code",
   "execution_count": 3,
   "id": "366f8a33-1d3e-48a9-81fb-9563b2ffa92e",
   "metadata": {
    "execution": {
     "iopub.execute_input": "2024-10-31T03:08:46.788403Z",
     "iopub.status.busy": "2024-10-31T03:08:46.787637Z",
     "iopub.status.idle": "2024-10-31T03:08:46.792643Z",
     "shell.execute_reply": "2024-10-31T03:08:46.791552Z",
     "shell.execute_reply.started": "2024-10-31T03:08:46.788370Z"
    }
   },
   "outputs": [],
   "source": [
    "# Lista de números\n",
    "values = [1, 2, 3, 4, 5, 6]"
   ]
  },
  {
   "cell_type": "code",
   "execution_count": 4,
   "id": "75017f7b-a13e-4b8f-ba38-c553eafc9d0a",
   "metadata": {
    "execution": {
     "iopub.execute_input": "2024-10-31T03:08:46.941497Z",
     "iopub.status.busy": "2024-10-31T03:08:46.940962Z",
     "iopub.status.idle": "2024-10-31T03:08:46.948735Z",
     "shell.execute_reply": "2024-10-31T03:08:46.947473Z",
     "shell.execute_reply.started": "2024-10-31T03:08:46.941450Z"
    }
   },
   "outputs": [
    {
     "name": "stdout",
     "output_type": "stream",
     "text": [
      "21\n"
     ]
    }
   ],
   "source": [
    "# Usando reduce para somar os valores da lista\n",
    "soma_total = reduce(somando, values)\n",
    "print(soma_total)  # Saída: 21"
   ]
  },
  {
   "cell_type": "code",
   "execution_count": null,
   "id": "92fbb6dc-1763-4cc0-b45a-c5b64bb4d524",
   "metadata": {},
   "outputs": [],
   "source": []
  },
  {
   "cell_type": "code",
   "execution_count": null,
   "id": "f7aabe7e-09d9-4d6a-b965-4c4342562197",
   "metadata": {},
   "outputs": [],
   "source": []
  }
 ],
 "metadata": {
  "kernelspec": {
   "display_name": "Python 3 (ipykernel)",
   "language": "python",
   "name": "python3"
  },
  "language_info": {
   "codemirror_mode": {
    "name": "ipython",
    "version": 3
   },
   "file_extension": ".py",
   "mimetype": "text/x-python",
   "name": "python",
   "nbconvert_exporter": "python",
   "pygments_lexer": "ipython3",
   "version": "3.11.2"
  }
 },
 "nbformat": 4,
 "nbformat_minor": 5
}
