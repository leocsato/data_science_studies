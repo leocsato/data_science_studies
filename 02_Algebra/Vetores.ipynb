{
 "cells": [
  {
   "cell_type": "markdown",
   "id": "0f5df6c1-d2d6-4bf8-9bd2-5e7fbd1b9ebf",
   "metadata": {},
   "source": [
    "No contexto de Ciência de Dados, os pontos de dados são tipicamente representados como linhas em uma tabela/matriz que também podem ser interpretados como Vetores"
   ]
  },
  {
   "cell_type": "markdown",
   "id": "fcbe39ca-e935-4d6c-9fff-7b69d1499f6d",
   "metadata": {},
   "source": [
    "Todo objeto ou ponto de dados em um dataset tabular pode ser visto como um vetor.\n",
    "Por exemplo, considere dados de peso e altura para pessoas. Esses atributos distintos podem ser armazenados separadamente como vetores, permitindo a manipulação deles enquanto preservamos seus significados distintos. No formato de vetores, podemos realizar diversas operações matemáticas como: subtração, adição, multiplicação por valores escalares, produto, entre outras."
   ]
  },
  {
   "cell_type": "code",
   "execution_count": 1,
   "id": "3c5d1563-c009-4aa0-bcdc-f88542bdbe35",
   "metadata": {
    "execution": {
     "iopub.execute_input": "2024-05-10T01:11:07.876765Z",
     "iopub.status.busy": "2024-05-10T01:11:07.876233Z",
     "iopub.status.idle": "2024-05-10T01:11:08.026971Z",
     "shell.execute_reply": "2024-05-10T01:11:08.026224Z",
     "shell.execute_reply.started": "2024-05-10T01:11:07.876724Z"
    }
   },
   "outputs": [],
   "source": [
    "import numpy as np"
   ]
  },
  {
   "cell_type": "code",
   "execution_count": 5,
   "id": "8c1d1406-4562-4799-bdad-d8c022ba4bf9",
   "metadata": {
    "execution": {
     "iopub.execute_input": "2024-05-10T01:13:52.677739Z",
     "iopub.status.busy": "2024-05-10T01:13:52.677124Z",
     "iopub.status.idle": "2024-05-10T01:13:52.684740Z",
     "shell.execute_reply": "2024-05-10T01:13:52.683370Z",
     "shell.execute_reply.started": "2024-05-10T01:13:52.677687Z"
    }
   },
   "outputs": [
    {
     "name": "stdout",
     "output_type": "stream",
     "text": [
      "Vetor random, tamanho 9:\n"
     ]
    }
   ],
   "source": [
    "vetor_aleatorio = np.random.rand(9)\n",
    "print(\"Vetor random, tamanho 9:\")"
   ]
  },
  {
   "cell_type": "code",
   "execution_count": 6,
   "id": "5d23cf5d-4f02-4652-8e14-e112ffe90400",
   "metadata": {
    "execution": {
     "iopub.execute_input": "2024-05-10T01:13:54.298494Z",
     "iopub.status.busy": "2024-05-10T01:13:54.297994Z",
     "iopub.status.idle": "2024-05-10T01:13:54.311894Z",
     "shell.execute_reply": "2024-05-10T01:13:54.310385Z",
     "shell.execute_reply.started": "2024-05-10T01:13:54.298453Z"
    }
   },
   "outputs": [
    {
     "data": {
      "text/plain": [
       "array([0.74252358, 0.28453706, 0.42586305, 0.81111309, 0.8025041 ,\n",
       "       0.79411238, 0.14986234, 0.18155803, 0.45565744])"
      ]
     },
     "execution_count": 6,
     "metadata": {},
     "output_type": "execute_result"
    }
   ],
   "source": [
    "vetor_aleatorio"
   ]
  },
  {
   "cell_type": "code",
   "execution_count": null,
   "id": "9f68c84e-59d1-43ef-9338-5015cefa8bb4",
   "metadata": {},
   "outputs": [],
   "source": []
  }
 ],
 "metadata": {
  "kernelspec": {
   "display_name": "Python 3 (ipykernel)",
   "language": "python",
   "name": "python3"
  },
  "language_info": {
   "codemirror_mode": {
    "name": "ipython",
    "version": 3
   },
   "file_extension": ".py",
   "mimetype": "text/x-python",
   "name": "python",
   "nbconvert_exporter": "python",
   "pygments_lexer": "ipython3",
   "version": "3.11.2"
  }
 },
 "nbformat": 4,
 "nbformat_minor": 5
}
