{
 "cells": [
  {
   "cell_type": "markdown",
   "id": "0f5df6c1-d2d6-4bf8-9bd2-5e7fbd1b9ebf",
   "metadata": {},
   "source": [
    "No contexto de Ciência de Dados, os pontos de dados são tipicamente representados como linhas em uma tabela/matriz que também podem ser interpretados como Vetores"
   ]
  },
  {
   "cell_type": "markdown",
   "id": "fcbe39ca-e935-4d6c-9fff-7b69d1499f6d",
   "metadata": {},
   "source": [
    "Todo objeto ou ponto de dados em um dataset tabular pode ser visto como um vetor.\n",
    "Por exemplo, considere dados de peso e altura para pessoas. Esses atributos distintos podem ser armazenados separadamente como vetores, permitindo a manipulação deles enquanto preservamos seus significados distintos. No formato de vetores, podemos realizar diversas operações matemáticas como: subtração, adição, multiplicação por valores escalares, produto, entre outras."
   ]
  },
  {
   "cell_type": "code",
   "execution_count": 1,
   "id": "3c5d1563-c009-4aa0-bcdc-f88542bdbe35",
   "metadata": {
    "execution": {
     "iopub.execute_input": "2024-10-31T04:38:53.253413Z",
     "iopub.status.busy": "2024-10-31T04:38:53.253058Z",
     "iopub.status.idle": "2024-10-31T04:38:53.368932Z",
     "shell.execute_reply": "2024-10-31T04:38:53.368263Z",
     "shell.execute_reply.started": "2024-10-31T04:38:53.253384Z"
    }
   },
   "outputs": [],
   "source": [
    "import numpy as np"
   ]
  },
  {
   "cell_type": "code",
   "execution_count": 2,
   "id": "8c1d1406-4562-4799-bdad-d8c022ba4bf9",
   "metadata": {
    "execution": {
     "iopub.execute_input": "2024-10-31T04:38:53.476619Z",
     "iopub.status.busy": "2024-10-31T04:38:53.476241Z",
     "iopub.status.idle": "2024-10-31T04:38:53.481787Z",
     "shell.execute_reply": "2024-10-31T04:38:53.480798Z",
     "shell.execute_reply.started": "2024-10-31T04:38:53.476597Z"
    }
   },
   "outputs": [
    {
     "name": "stdout",
     "output_type": "stream",
     "text": [
      "Vetor random, tamanho 9:\n"
     ]
    }
   ],
   "source": [
    "vetor_aleatorio = np.random.rand(9)\n",
    "print(\"Vetor random, tamanho 9:\")"
   ]
  },
  {
   "cell_type": "code",
   "execution_count": 3,
   "id": "5d23cf5d-4f02-4652-8e14-e112ffe90400",
   "metadata": {
    "execution": {
     "iopub.execute_input": "2024-10-31T04:38:53.637244Z",
     "iopub.status.busy": "2024-10-31T04:38:53.636935Z",
     "iopub.status.idle": "2024-10-31T04:38:53.645890Z",
     "shell.execute_reply": "2024-10-31T04:38:53.645105Z",
     "shell.execute_reply.started": "2024-10-31T04:38:53.637223Z"
    }
   },
   "outputs": [
    {
     "data": {
      "text/plain": [
       "array([0.61100186, 0.27503326, 0.85152909, 0.63525631, 0.59624782,\n",
       "       0.97501098, 0.1423232 , 0.22776856, 0.35510394])"
      ]
     },
     "execution_count": 3,
     "metadata": {},
     "output_type": "execute_result"
    }
   ],
   "source": [
    "vetor_aleatorio"
   ]
  },
  {
   "cell_type": "code",
   "execution_count": null,
   "id": "9f68c84e-59d1-43ef-9338-5015cefa8bb4",
   "metadata": {},
   "outputs": [],
   "source": []
  }
 ],
 "metadata": {
  "kernelspec": {
   "display_name": "Python 3 (ipykernel)",
   "language": "python",
   "name": "python3"
  },
  "language_info": {
   "codemirror_mode": {
    "name": "ipython",
    "version": 3
   },
   "file_extension": ".py",
   "mimetype": "text/x-python",
   "name": "python",
   "nbconvert_exporter": "python",
   "pygments_lexer": "ipython3",
   "version": "3.11.2"
  }
 },
 "nbformat": 4,
 "nbformat_minor": 5
}
