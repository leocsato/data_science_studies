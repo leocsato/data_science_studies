{
 "cells": [
  {
   "cell_type": "code",
   "execution_count": 1,
   "id": "ae0ba2eb-abe4-46cf-a865-a3b930ffb297",
   "metadata": {
    "execution": {
     "iopub.execute_input": "2024-10-31T04:38:04.972830Z",
     "iopub.status.busy": "2024-10-31T04:38:04.971507Z",
     "iopub.status.idle": "2024-10-31T04:38:07.322229Z",
     "shell.execute_reply": "2024-10-31T04:38:07.321365Z",
     "shell.execute_reply.started": "2024-10-31T04:38:04.972752Z"
    }
   },
   "outputs": [],
   "source": [
    "import numpy as np\n",
    "from scipy.linalg import eig\n",
    "from sympy import (\n",
    "    Eq,\n",
    "    solve,\n",
    "    symbols\n",
    ")"
   ]
  },
  {
   "cell_type": "markdown",
   "id": "df068389-28ac-46ef-aa55-4ba33a24772f",
   "metadata": {
    "execution": {
     "iopub.execute_input": "2024-04-26T05:51:43.598481Z",
     "iopub.status.busy": "2024-04-26T05:51:43.598219Z",
     "iopub.status.idle": "2024-04-26T05:51:43.605961Z",
     "shell.execute_reply": "2024-04-26T05:51:43.604998Z",
     "shell.execute_reply.started": "2024-04-26T05:51:43.598462Z"
    }
   },
   "source": [
    "Uma equação linear e de fato uma fórmula onde todas as variáveis (dependentes ou independentes) estão elevadas à primeira potência e estão associadas a apenas uma constante. Elas não estão elevadas a 2 ou superior."
   ]
  },
  {
   "cell_type": "markdown",
   "id": "2b70e1e4-4cea-4d3d-946e-b347826c0a28",
   "metadata": {
    "execution": {
     "iopub.execute_input": "2024-05-10T01:27:11.161056Z",
     "iopub.status.busy": "2024-05-10T01:27:11.160201Z",
     "iopub.status.idle": "2024-05-10T01:27:11.177058Z",
     "shell.execute_reply": "2024-05-10T01:27:11.175407Z",
     "shell.execute_reply.started": "2024-05-10T01:27:11.160934Z"
    }
   },
   "source": [
    "Exemplo:"
   ]
  },
  {
   "cell_type": "markdown",
   "id": "36fef4d5-fd91-482e-9762-ba9919e6562a",
   "metadata": {},
   "source": [
    "$3x+2y=15$\n",
    "\n",
    "$−2x+4y = 7$"
   ]
  },
  {
   "cell_type": "code",
   "execution_count": 2,
   "id": "76d0fb19-b1c7-4d1b-8cbc-ceb05b1a2619",
   "metadata": {
    "execution": {
     "iopub.execute_input": "2024-10-31T04:38:07.325174Z",
     "iopub.status.busy": "2024-10-31T04:38:07.324362Z",
     "iopub.status.idle": "2024-10-31T04:38:07.329553Z",
     "shell.execute_reply": "2024-10-31T04:38:07.328591Z",
     "shell.execute_reply.started": "2024-10-31T04:38:07.325124Z"
    }
   },
   "outputs": [],
   "source": [
    "x, y = symbols('x y')"
   ]
  },
  {
   "cell_type": "code",
   "execution_count": 3,
   "id": "30249a6a-a8ff-45bc-ab4a-10cd7483f659",
   "metadata": {
    "execution": {
     "iopub.execute_input": "2024-10-31T04:38:07.331815Z",
     "iopub.status.busy": "2024-10-31T04:38:07.330774Z",
     "iopub.status.idle": "2024-10-31T04:38:07.456113Z",
     "shell.execute_reply": "2024-10-31T04:38:07.455406Z",
     "shell.execute_reply.started": "2024-10-31T04:38:07.331767Z"
    }
   },
   "outputs": [],
   "source": [
    "# Definindo as equações\n",
    "eq1 = Eq(3*x + 2*y, 15)\n",
    "eq2 = Eq(-2*x + 4*y, 7)"
   ]
  },
  {
   "cell_type": "code",
   "execution_count": 4,
   "id": "3f8542c1-d3cc-4f84-a74d-967723caab90",
   "metadata": {
    "execution": {
     "iopub.execute_input": "2024-10-31T04:38:07.458132Z",
     "iopub.status.busy": "2024-10-31T04:38:07.457665Z",
     "iopub.status.idle": "2024-10-31T04:38:07.468929Z",
     "shell.execute_reply": "2024-10-31T04:38:07.467798Z",
     "shell.execute_reply.started": "2024-10-31T04:38:07.458095Z"
    }
   },
   "outputs": [],
   "source": [
    "# Resolvendo o sistema de equações\n",
    "solucao = solve((eq1, eq2),\n",
    "                (x, y))"
   ]
  },
  {
   "cell_type": "code",
   "execution_count": 5,
   "id": "17f07622-a814-448b-a20b-14c3b4bac41e",
   "metadata": {
    "execution": {
     "iopub.execute_input": "2024-10-31T04:38:07.470298Z",
     "iopub.status.busy": "2024-10-31T04:38:07.469915Z",
     "iopub.status.idle": "2024-10-31T04:38:07.475928Z",
     "shell.execute_reply": "2024-10-31T04:38:07.475203Z",
     "shell.execute_reply.started": "2024-10-31T04:38:07.470263Z"
    }
   },
   "outputs": [
    {
     "name": "stdout",
     "output_type": "stream",
     "text": [
      "Solução:\n",
      "{x: 23/8, y: 51/16}\n"
     ]
    }
   ],
   "source": [
    "# Exibindo a solução\n",
    "print(\"Solução:\")\n",
    "print(solucao)"
   ]
  },
  {
   "cell_type": "markdown",
   "id": "bc92d1f0-4036-4e87-9421-4c53cada27ce",
   "metadata": {
    "execution": {
     "iopub.execute_input": "2024-05-10T01:35:54.805459Z",
     "iopub.status.busy": "2024-05-10T01:35:54.804715Z",
     "iopub.status.idle": "2024-05-10T01:35:54.809137Z",
     "shell.execute_reply": "2024-05-10T01:35:54.808143Z",
     "shell.execute_reply.started": "2024-05-10T01:35:54.805422Z"
    }
   },
   "source": [
    "# Autovalores e Autovetores"
   ]
  },
  {
   "cell_type": "markdown",
   "id": "a9e006c8-3816-43ba-b372-34c2c8a1ddf8",
   "metadata": {},
   "source": [
    "O Autovalor descreve o quão \"esticado\" (λ > 0) ou \"comprimido\" (λ < 0) está o autovetor, e se a direção do autovetor está preservada ou revertida."
   ]
  },
  {
   "cell_type": "code",
   "execution_count": 6,
   "id": "10ab4d76-d9f8-4b38-b8a8-02565c7abd52",
   "metadata": {
    "execution": {
     "iopub.execute_input": "2024-10-31T04:38:08.060393Z",
     "iopub.status.busy": "2024-10-31T04:38:08.059894Z",
     "iopub.status.idle": "2024-10-31T04:38:08.065818Z",
     "shell.execute_reply": "2024-10-31T04:38:08.064648Z",
     "shell.execute_reply.started": "2024-10-31T04:38:08.060357Z"
    }
   },
   "outputs": [],
   "source": [
    "matriz = np.array([[1, 2, 3],\n",
    "              [3, 2, 1],\n",
    "              [3, 2, 1]])"
   ]
  },
  {
   "cell_type": "code",
   "execution_count": 7,
   "id": "a8340c42-9fba-4733-8655-5a9f2d3584cc",
   "metadata": {
    "execution": {
     "iopub.execute_input": "2024-10-31T04:38:08.590249Z",
     "iopub.status.busy": "2024-10-31T04:38:08.589613Z",
     "iopub.status.idle": "2024-10-31T04:38:08.668436Z",
     "shell.execute_reply": "2024-10-31T04:38:08.667147Z",
     "shell.execute_reply.started": "2024-10-31T04:38:08.590201Z"
    }
   },
   "outputs": [],
   "source": [
    "autovalores, autovetores = eig(matriz)"
   ]
  },
  {
   "cell_type": "code",
   "execution_count": 8,
   "id": "6644162b-9048-4275-ae73-f8ab744fa25d",
   "metadata": {
    "execution": {
     "iopub.execute_input": "2024-10-31T04:38:08.836873Z",
     "iopub.status.busy": "2024-10-31T04:38:08.836375Z",
     "iopub.status.idle": "2024-10-31T04:38:08.842412Z",
     "shell.execute_reply": "2024-10-31T04:38:08.841659Z",
     "shell.execute_reply.started": "2024-10-31T04:38:08.836834Z"
    }
   },
   "outputs": [
    {
     "name": "stdout",
     "output_type": "stream",
     "text": [
      "Autovalores: [-2.+0.j  6.+0.j  0.+0.j]\n"
     ]
    }
   ],
   "source": [
    "print(\"Autovalores:\", autovalores)"
   ]
  },
  {
   "cell_type": "code",
   "execution_count": 9,
   "id": "9aec425a-aaa2-47d3-8baf-23906017c3a2",
   "metadata": {
    "execution": {
     "iopub.execute_input": "2024-10-31T04:38:09.090182Z",
     "iopub.status.busy": "2024-10-31T04:38:09.089265Z",
     "iopub.status.idle": "2024-10-31T04:38:09.096171Z",
     "shell.execute_reply": "2024-10-31T04:38:09.095219Z",
     "shell.execute_reply.started": "2024-10-31T04:38:09.090123Z"
    }
   },
   "outputs": [
    {
     "name": "stdout",
     "output_type": "stream",
     "text": [
      "Autovetores:\n",
      " [[-0.76249285  0.57735027  0.40824829]\n",
      " [ 0.45749571  0.57735027 -0.81649658]\n",
      " [ 0.45749571  0.57735027  0.40824829]]\n"
     ]
    }
   ],
   "source": [
    "print(\"Autovetores:\\n\", autovetores)"
   ]
  },
  {
   "cell_type": "code",
   "execution_count": null,
   "id": "80f8ed67-29a8-4d93-b869-73d4374c8f08",
   "metadata": {},
   "outputs": [],
   "source": []
  }
 ],
 "metadata": {
  "kernelspec": {
   "display_name": "Python 3 (ipykernel)",
   "language": "python",
   "name": "python3"
  },
  "language_info": {
   "codemirror_mode": {
    "name": "ipython",
    "version": 3
   },
   "file_extension": ".py",
   "mimetype": "text/x-python",
   "name": "python",
   "nbconvert_exporter": "python",
   "pygments_lexer": "ipython3",
   "version": "3.11.2"
  }
 },
 "nbformat": 4,
 "nbformat_minor": 5
}
