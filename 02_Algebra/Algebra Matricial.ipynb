{
 "cells": [
  {
   "cell_type": "code",
   "execution_count": 16,
   "id": "ae0ba2eb-abe4-46cf-a865-a3b930ffb297",
   "metadata": {
    "execution": {
     "iopub.execute_input": "2024-05-10T01:35:39.968323Z",
     "iopub.status.busy": "2024-05-10T01:35:39.967686Z",
     "iopub.status.idle": "2024-05-10T01:35:39.973394Z",
     "shell.execute_reply": "2024-05-10T01:35:39.972293Z",
     "shell.execute_reply.started": "2024-05-10T01:35:39.968289Z"
    }
   },
   "outputs": [],
   "source": [
    "import numpy as np\n",
    "from scipy.linalg import eig\n",
    "from sympy import (\n",
    "    Eq,\n",
    "    solve,\n",
    "    symbols\n",
    ")"
   ]
  },
  {
   "cell_type": "markdown",
   "id": "df068389-28ac-46ef-aa55-4ba33a24772f",
   "metadata": {
    "execution": {
     "iopub.execute_input": "2024-04-26T05:51:43.598481Z",
     "iopub.status.busy": "2024-04-26T05:51:43.598219Z",
     "iopub.status.idle": "2024-04-26T05:51:43.605961Z",
     "shell.execute_reply": "2024-04-26T05:51:43.604998Z",
     "shell.execute_reply.started": "2024-04-26T05:51:43.598462Z"
    }
   },
   "source": [
    "Uma equação linear e de fato uma fórmula onde todas as variáveis (dependentes ou independentes) estão elevadas à primeira potência e estão associadas a apenas uma constante. Elas não estão elevadas a 2 ou superior."
   ]
  },
  {
   "cell_type": "markdown",
   "id": "2b70e1e4-4cea-4d3d-946e-b347826c0a28",
   "metadata": {
    "execution": {
     "iopub.execute_input": "2024-05-10T01:27:11.161056Z",
     "iopub.status.busy": "2024-05-10T01:27:11.160201Z",
     "iopub.status.idle": "2024-05-10T01:27:11.177058Z",
     "shell.execute_reply": "2024-05-10T01:27:11.175407Z",
     "shell.execute_reply.started": "2024-05-10T01:27:11.160934Z"
    }
   },
   "source": [
    "Exemplo:"
   ]
  },
  {
   "cell_type": "markdown",
   "id": "36fef4d5-fd91-482e-9762-ba9919e6562a",
   "metadata": {},
   "source": [
    "$3x+2y=15$\n",
    "\n",
    "$−2x+4y = 7$"
   ]
  },
  {
   "cell_type": "code",
   "execution_count": 11,
   "id": "76d0fb19-b1c7-4d1b-8cbc-ceb05b1a2619",
   "metadata": {
    "execution": {
     "iopub.execute_input": "2024-05-10T01:30:25.835836Z",
     "iopub.status.busy": "2024-05-10T01:30:25.835078Z",
     "iopub.status.idle": "2024-05-10T01:30:25.840538Z",
     "shell.execute_reply": "2024-05-10T01:30:25.839141Z",
     "shell.execute_reply.started": "2024-05-10T01:30:25.835796Z"
    }
   },
   "outputs": [],
   "source": [
    "x, y = symbols('x y')"
   ]
  },
  {
   "cell_type": "code",
   "execution_count": 12,
   "id": "30249a6a-a8ff-45bc-ab4a-10cd7483f659",
   "metadata": {
    "execution": {
     "iopub.execute_input": "2024-05-10T01:30:26.278417Z",
     "iopub.status.busy": "2024-05-10T01:30:26.278020Z",
     "iopub.status.idle": "2024-05-10T01:30:26.282303Z",
     "shell.execute_reply": "2024-05-10T01:30:26.281264Z",
     "shell.execute_reply.started": "2024-05-10T01:30:26.278394Z"
    }
   },
   "outputs": [],
   "source": [
    "# Definindo as equações\n",
    "eq1 = Eq(3*x + 2*y, 15)\n",
    "eq2 = Eq(-2*x + 4*y, 7)"
   ]
  },
  {
   "cell_type": "code",
   "execution_count": 13,
   "id": "3f8542c1-d3cc-4f84-a74d-967723caab90",
   "metadata": {
    "execution": {
     "iopub.execute_input": "2024-05-10T01:30:26.726319Z",
     "iopub.status.busy": "2024-05-10T01:30:26.725853Z",
     "iopub.status.idle": "2024-05-10T01:30:26.738365Z",
     "shell.execute_reply": "2024-05-10T01:30:26.736490Z",
     "shell.execute_reply.started": "2024-05-10T01:30:26.726276Z"
    }
   },
   "outputs": [],
   "source": [
    "# Resolvendo o sistema de equações\n",
    "solucao = solve((eq1, eq2),\n",
    "                (x, y))"
   ]
  },
  {
   "cell_type": "code",
   "execution_count": 14,
   "id": "17f07622-a814-448b-a20b-14c3b4bac41e",
   "metadata": {
    "execution": {
     "iopub.execute_input": "2024-05-10T01:30:27.227667Z",
     "iopub.status.busy": "2024-05-10T01:30:27.226373Z",
     "iopub.status.idle": "2024-05-10T01:30:27.235986Z",
     "shell.execute_reply": "2024-05-10T01:30:27.234266Z",
     "shell.execute_reply.started": "2024-05-10T01:30:27.227577Z"
    }
   },
   "outputs": [
    {
     "name": "stdout",
     "output_type": "stream",
     "text": [
      "Solução:\n",
      "{x: 23/8, y: 51/16}\n"
     ]
    }
   ],
   "source": [
    "# Exibindo a solução\n",
    "print(\"Solução:\")\n",
    "print(solucao)"
   ]
  },
  {
   "cell_type": "markdown",
   "id": "bc92d1f0-4036-4e87-9421-4c53cada27ce",
   "metadata": {
    "execution": {
     "iopub.execute_input": "2024-05-10T01:35:54.805459Z",
     "iopub.status.busy": "2024-05-10T01:35:54.804715Z",
     "iopub.status.idle": "2024-05-10T01:35:54.809137Z",
     "shell.execute_reply": "2024-05-10T01:35:54.808143Z",
     "shell.execute_reply.started": "2024-05-10T01:35:54.805422Z"
    }
   },
   "source": [
    "# Autovalores e Autovetores"
   ]
  },
  {
   "cell_type": "markdown",
   "id": "a9e006c8-3816-43ba-b372-34c2c8a1ddf8",
   "metadata": {},
   "source": [
    "O Autovalor descreve o quão \"esticado\" (λ > 0) ou \"comprimido\" (λ < 0) está o autovetor, e se a direção do autovetor está preservada ou revertida."
   ]
  },
  {
   "cell_type": "code",
   "execution_count": 25,
   "id": "10ab4d76-d9f8-4b38-b8a8-02565c7abd52",
   "metadata": {
    "execution": {
     "iopub.execute_input": "2024-05-10T01:36:38.730098Z",
     "iopub.status.busy": "2024-05-10T01:36:38.729580Z",
     "iopub.status.idle": "2024-05-10T01:36:38.734756Z",
     "shell.execute_reply": "2024-05-10T01:36:38.734146Z",
     "shell.execute_reply.started": "2024-05-10T01:36:38.730056Z"
    }
   },
   "outputs": [],
   "source": [
    "matriz = np.array([[1, 2, 3],\n",
    "              [3, 2, 1],\n",
    "              [3, 2, 1]])"
   ]
  },
  {
   "cell_type": "code",
   "execution_count": null,
   "id": "a8340c42-9fba-4733-8655-5a9f2d3584cc",
   "metadata": {},
   "outputs": [],
   "source": [
    "autovalores, autovetores = eig(matriz)"
   ]
  },
  {
   "cell_type": "code",
   "execution_count": 26,
   "id": "6644162b-9048-4275-ae73-f8ab744fa25d",
   "metadata": {
    "execution": {
     "iopub.execute_input": "2024-05-10T01:36:54.742143Z",
     "iopub.status.busy": "2024-05-10T01:36:54.741569Z",
     "iopub.status.idle": "2024-05-10T01:36:54.748106Z",
     "shell.execute_reply": "2024-05-10T01:36:54.747034Z",
     "shell.execute_reply.started": "2024-05-10T01:36:54.742100Z"
    }
   },
   "outputs": [
    {
     "name": "stdout",
     "output_type": "stream",
     "text": [
      "Autovalores: [-2.+0.j  6.+0.j  0.+0.j]\n"
     ]
    }
   ],
   "source": [
    "print(\"Autovalores:\", autovalores)"
   ]
  },
  {
   "cell_type": "code",
   "execution_count": 28,
   "id": "9aec425a-aaa2-47d3-8baf-23906017c3a2",
   "metadata": {
    "execution": {
     "iopub.execute_input": "2024-05-10T01:37:14.008739Z",
     "iopub.status.busy": "2024-05-10T01:37:14.008220Z",
     "iopub.status.idle": "2024-05-10T01:37:14.014480Z",
     "shell.execute_reply": "2024-05-10T01:37:14.013468Z",
     "shell.execute_reply.started": "2024-05-10T01:37:14.008700Z"
    }
   },
   "outputs": [
    {
     "name": "stdout",
     "output_type": "stream",
     "text": [
      "Autovetores:\n",
      " [[-0.76249285  0.57735027  0.40824829]\n",
      " [ 0.45749571  0.57735027 -0.81649658]\n",
      " [ 0.45749571  0.57735027  0.40824829]]\n"
     ]
    }
   ],
   "source": [
    "print(\"Autovetores:\\n\", autovetores)"
   ]
  },
  {
   "cell_type": "code",
   "execution_count": null,
   "id": "80f8ed67-29a8-4d93-b869-73d4374c8f08",
   "metadata": {},
   "outputs": [],
   "source": []
  }
 ],
 "metadata": {
  "kernelspec": {
   "display_name": "Python 3 (ipykernel)",
   "language": "python",
   "name": "python3"
  },
  "language_info": {
   "codemirror_mode": {
    "name": "ipython",
    "version": 3
   },
   "file_extension": ".py",
   "mimetype": "text/x-python",
   "name": "python",
   "nbconvert_exporter": "python",
   "pygments_lexer": "ipython3",
   "version": "3.11.2"
  }
 },
 "nbformat": 4,
 "nbformat_minor": 5
}
