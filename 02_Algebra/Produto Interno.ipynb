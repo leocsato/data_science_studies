{
 "cells": [
  {
   "cell_type": "markdown",
   "id": "60223b5b-53d7-4e10-8ee5-185a0ac3951e",
   "metadata": {},
   "source": [
    "O Produto Interno é uma operação matemática definida entre dois vetores em um espaço vetorial. É uma operação fundamental em álgebra linear e tem várias aplicações em geometria, física, engenharia e outras disciplinas.\n",
    "\n",
    "Formalmente, em um espaço vetorial n-dimensional é definido como:\n",
    "\n",
    "\n",
    "Essencialmente, é obtido multiplicando cada par de componentes correspondentes dos dois vetores e somando os resultados."
   ]
  },
  {
   "cell_type": "markdown",
   "id": "6eb535c4-82b8-4a58-b90e-d97b41b67569",
   "metadata": {
    "execution": {
     "iopub.execute_input": "2024-04-26T05:47:45.622145Z",
     "iopub.status.busy": "2024-04-26T05:47:45.621900Z",
     "iopub.status.idle": "2024-04-26T05:47:45.630518Z",
     "shell.execute_reply": "2024-04-26T05:47:45.629637Z",
     "shell.execute_reply.started": "2024-04-26T05:47:45.622122Z"
    }
   },
   "source": [
    "Algumas propriedades importantes do Produto Interno incluem:\n",
    "\n",
    "Comutatividade: ⟨v,w⟩=⟨w,v⟩\n",
    "\n",
    "Distributividade: ⟨v,w+u⟩=⟨v,w⟩+⟨v,u⟩\n",
    "\n",
    "Associatividade com a Multiplicação por Escalar: ⟨kv,w⟩=k⟨v,w⟩\n",
    "\n",
    "Propriedade da Soma dos Quadrados: ⟨v,v⟩=∥v∥2, onde ∥v∥ é a norma (ou magnitude) do vetor v.\n",
    "\n",
    "O Produto Interno é especialmente útil para calcular ângulos, projetar vetores, resolver sistemas de equações lineares, determinar a ortogonalidade entre vetores e muitas outras aplicações. Em espaços vetoriais com Produto Interno, ele define uma noção de \"ângulo\" entre vetores e pode ser usado para medir a proximidade ou a similaridade entre vetores em várias aplicações, como aprendizado de máquina e processamento de sinais."
   ]
  },
  {
   "cell_type": "code",
   "execution_count": 1,
   "id": "9ed79b66-9b29-4548-8b9c-4fa4ec37d086",
   "metadata": {
    "execution": {
     "iopub.execute_input": "2024-10-31T04:38:32.025794Z",
     "iopub.status.busy": "2024-10-31T04:38:32.025285Z",
     "iopub.status.idle": "2024-10-31T04:38:32.164350Z",
     "shell.execute_reply": "2024-10-31T04:38:32.163770Z",
     "shell.execute_reply.started": "2024-10-31T04:38:32.025751Z"
    }
   },
   "outputs": [],
   "source": [
    "import numpy as np"
   ]
  },
  {
   "cell_type": "code",
   "execution_count": 15,
   "id": "75f9add0-4ccc-4ff1-9f5e-a038c5e36b93",
   "metadata": {
    "execution": {
     "iopub.execute_input": "2024-10-31T04:38:46.621541Z",
     "iopub.status.busy": "2024-10-31T04:38:46.621083Z",
     "iopub.status.idle": "2024-10-31T04:38:46.627567Z",
     "shell.execute_reply": "2024-10-31T04:38:46.626347Z",
     "shell.execute_reply.started": "2024-10-31T04:38:46.621507Z"
    }
   },
   "outputs": [],
   "source": [
    "v1 = np.random.randint(1, 3, 5)\n",
    "v2 = np.random.randint(1, 4, 5)"
   ]
  },
  {
   "cell_type": "code",
   "execution_count": 16,
   "id": "52ce5bce-842c-4cdc-bcdb-601f48169743",
   "metadata": {
    "execution": {
     "iopub.execute_input": "2024-10-31T04:38:46.788044Z",
     "iopub.status.busy": "2024-10-31T04:38:46.787567Z",
     "iopub.status.idle": "2024-10-31T04:38:46.795799Z",
     "shell.execute_reply": "2024-10-31T04:38:46.794328Z",
     "shell.execute_reply.started": "2024-10-31T04:38:46.788009Z"
    }
   },
   "outputs": [
    {
     "data": {
      "text/plain": [
       "array([1, 1, 1, 1, 1])"
      ]
     },
     "execution_count": 16,
     "metadata": {},
     "output_type": "execute_result"
    }
   ],
   "source": [
    "v1"
   ]
  },
  {
   "cell_type": "code",
   "execution_count": 17,
   "id": "c1fa8074-b725-4df3-b6f0-83afb0faabd6",
   "metadata": {
    "execution": {
     "iopub.execute_input": "2024-10-31T04:38:46.937241Z",
     "iopub.status.busy": "2024-10-31T04:38:46.936708Z",
     "iopub.status.idle": "2024-10-31T04:38:46.942781Z",
     "shell.execute_reply": "2024-10-31T04:38:46.941963Z",
     "shell.execute_reply.started": "2024-10-31T04:38:46.937204Z"
    }
   },
   "outputs": [
    {
     "data": {
      "text/plain": [
       "array([1, 2, 3, 3, 1])"
      ]
     },
     "execution_count": 17,
     "metadata": {},
     "output_type": "execute_result"
    }
   ],
   "source": [
    "v2"
   ]
  },
  {
   "cell_type": "code",
   "execution_count": 18,
   "id": "5499a60f-fee7-4238-b6e8-646f05b7b948",
   "metadata": {
    "execution": {
     "iopub.execute_input": "2024-10-31T04:38:47.081083Z",
     "iopub.status.busy": "2024-10-31T04:38:47.080259Z",
     "iopub.status.idle": "2024-10-31T04:38:47.084534Z",
     "shell.execute_reply": "2024-10-31T04:38:47.083665Z",
     "shell.execute_reply.started": "2024-10-31T04:38:47.081032Z"
    }
   },
   "outputs": [],
   "source": [
    "# Calcular Produto Interno\n",
    "resultado = np.dot(v1, v2)"
   ]
  },
  {
   "cell_type": "code",
   "execution_count": 19,
   "id": "9c96380c-6b2c-48a3-a8a1-79b1c6589216",
   "metadata": {
    "execution": {
     "iopub.execute_input": "2024-10-31T04:38:47.278289Z",
     "iopub.status.busy": "2024-10-31T04:38:47.277742Z",
     "iopub.status.idle": "2024-10-31T04:38:47.285985Z",
     "shell.execute_reply": "2024-10-31T04:38:47.284702Z",
     "shell.execute_reply.started": "2024-10-31T04:38:47.278247Z"
    }
   },
   "outputs": [
    {
     "data": {
      "text/plain": [
       "10"
      ]
     },
     "execution_count": 19,
     "metadata": {},
     "output_type": "execute_result"
    }
   ],
   "source": [
    "resultado"
   ]
  }
 ],
 "metadata": {
  "kernelspec": {
   "display_name": "Python 3 (ipykernel)",
   "language": "python",
   "name": "python3"
  },
  "language_info": {
   "codemirror_mode": {
    "name": "ipython",
    "version": 3
   },
   "file_extension": ".py",
   "mimetype": "text/x-python",
   "name": "python",
   "nbconvert_exporter": "python",
   "pygments_lexer": "ipython3",
   "version": "3.11.2"
  }
 },
 "nbformat": 4,
 "nbformat_minor": 5
}
