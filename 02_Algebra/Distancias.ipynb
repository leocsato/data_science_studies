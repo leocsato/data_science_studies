{
 "cells": [
  {
   "cell_type": "code",
   "execution_count": 1,
   "id": "63418b68-92ad-4f36-863d-4d610a59ecc9",
   "metadata": {
    "execution": {
     "iopub.execute_input": "2024-10-31T04:38:18.738208Z",
     "iopub.status.busy": "2024-10-31T04:38:18.737557Z",
     "iopub.status.idle": "2024-10-31T04:38:18.993134Z",
     "shell.execute_reply": "2024-10-31T04:38:18.992443Z",
     "shell.execute_reply.started": "2024-10-31T04:38:18.738143Z"
    }
   },
   "outputs": [],
   "source": [
    "import numpy as np\n",
    "from scipy.spatial import distance"
   ]
  },
  {
   "cell_type": "markdown",
   "id": "1bc5e584-04d3-42c4-b4ab-aefc3c853bd1",
   "metadata": {},
   "source": [
    "# Distância Euclidiana"
   ]
  },
  {
   "cell_type": "markdown",
   "id": "8b4aae39-bb47-4ff7-8095-c2bb20b0a4c2",
   "metadata": {},
   "source": [
    "A linha reta entre dois pontos em um espaço.\n",
    "É definida como a raiz quadrada da soma dos quadrados das diferenças entre elementos de dois vetores."
   ]
  },
  {
   "cell_type": "code",
   "execution_count": 2,
   "id": "521013cb-996b-4230-9930-a829ec046d12",
   "metadata": {
    "execution": {
     "iopub.execute_input": "2024-10-31T04:38:18.994878Z",
     "iopub.status.busy": "2024-10-31T04:38:18.994304Z",
     "iopub.status.idle": "2024-10-31T04:38:18.998441Z",
     "shell.execute_reply": "2024-10-31T04:38:18.997796Z",
     "shell.execute_reply.started": "2024-10-31T04:38:18.994852Z"
    }
   },
   "outputs": [],
   "source": [
    "def distancia_euclidiana(p1, p2):\n",
    "    return np.sqrt(np.sum((p1 - p2) ** 2))"
   ]
  },
  {
   "cell_type": "code",
   "execution_count": 3,
   "id": "242fe1f9-965c-4cc9-945d-90f9033c972f",
   "metadata": {
    "execution": {
     "iopub.execute_input": "2024-10-31T04:38:19.000013Z",
     "iopub.status.busy": "2024-10-31T04:38:18.999462Z",
     "iopub.status.idle": "2024-10-31T04:38:19.006005Z",
     "shell.execute_reply": "2024-10-31T04:38:19.005185Z",
     "shell.execute_reply.started": "2024-10-31T04:38:18.999988Z"
    }
   },
   "outputs": [],
   "source": [
    "p1 = np.array([1, 22])\n",
    "p2 = np.array([14, 6])"
   ]
  },
  {
   "cell_type": "code",
   "execution_count": 4,
   "id": "e8389197-d83c-4111-803e-f3c7506b27b8",
   "metadata": {
    "execution": {
     "iopub.execute_input": "2024-10-31T04:38:19.008142Z",
     "iopub.status.busy": "2024-10-31T04:38:19.007866Z",
     "iopub.status.idle": "2024-10-31T04:38:19.012418Z",
     "shell.execute_reply": "2024-10-31T04:38:19.011720Z",
     "shell.execute_reply.started": "2024-10-31T04:38:19.008119Z"
    }
   },
   "outputs": [
    {
     "name": "stdout",
     "output_type": "stream",
     "text": [
      "Distância euclidiana de [ 1 22] e [14  6] = 20.615528128088304\n"
     ]
    }
   ],
   "source": [
    "distancia = distancia_euclidiana(p1, p2)\n",
    "print(\"Distância euclidiana de\",\n",
    "      p1, \"e\", p2,\n",
    "      \"=\", distancia)"
   ]
  },
  {
   "cell_type": "code",
   "execution_count": 5,
   "id": "3dfb90c6-aea9-4af8-a89f-60afbb0f4f71",
   "metadata": {
    "execution": {
     "iopub.execute_input": "2024-10-31T04:38:19.013981Z",
     "iopub.status.busy": "2024-10-31T04:38:19.013717Z",
     "iopub.status.idle": "2024-10-31T04:38:19.018257Z",
     "shell.execute_reply": "2024-10-31T04:38:19.017554Z",
     "shell.execute_reply.started": "2024-10-31T04:38:19.013959Z"
    }
   },
   "outputs": [
    {
     "name": "stdout",
     "output_type": "stream",
     "text": [
      "Distância euclidiana de [ 1 22] e [14  6] = 20.615528128088304\n"
     ]
    }
   ],
   "source": [
    "distancia = distance.euclidean(p1, p2)\n",
    "print(\"Distância euclidiana de\",\n",
    "      p1, \"e\", p2,\n",
    "      \"=\", distancia)"
   ]
  },
  {
   "cell_type": "markdown",
   "id": "ab71e4c8-8c70-4b16-94bf-cdd02a15af75",
   "metadata": {},
   "source": [
    "# Distância de Cosseno"
   ]
  },
  {
   "cell_type": "markdown",
   "id": "a9bf3ff0-67a0-4b8c-896c-580494e6507d",
   "metadata": {},
   "source": [
    "O cosseno do ângulo entre dois vetores. É definido como o produto escalar de dois vetores dividido pelo produto de suas magnitudes."
   ]
  },
  {
   "cell_type": "code",
   "execution_count": 6,
   "id": "0f4ff099-1b3b-4f28-8af1-eebd64382636",
   "metadata": {
    "execution": {
     "iopub.execute_input": "2024-10-31T04:38:19.019904Z",
     "iopub.status.busy": "2024-10-31T04:38:19.019410Z",
     "iopub.status.idle": "2024-10-31T04:38:19.024108Z",
     "shell.execute_reply": "2024-10-31T04:38:19.023428Z",
     "shell.execute_reply.started": "2024-10-31T04:38:19.019878Z"
    }
   },
   "outputs": [
    {
     "name": "stdout",
     "output_type": "stream",
     "text": [
      "Distância cosseno de [ 1 22] e [14  6] = 0.5647507874795814\n"
     ]
    }
   ],
   "source": [
    "distancia = distance.cosine(p1, p2)\n",
    "print(\"Distância cosseno de\",\n",
    "      p1, \"e\", p2,\n",
    "      \"=\", distancia)"
   ]
  },
  {
   "cell_type": "markdown",
   "id": "521da0c6-0a94-4ae2-8487-3e7fe6a6b3cd",
   "metadata": {},
   "source": [
    "# Distância de Manhattan"
   ]
  },
  {
   "cell_type": "markdown",
   "id": "7abea6b0-a7ca-422a-aee7-70a88e41398d",
   "metadata": {},
   "source": [
    "A distância entre dois pontos medida ao longo dos eixos em ângulos retos.\n",
    "É definida como a soma das diferenças absolutas entre os elementos correspondentes de dois vetores."
   ]
  },
  {
   "cell_type": "code",
   "execution_count": 7,
   "id": "c65f1558-e8fa-4fa9-a852-a23014ce6bf6",
   "metadata": {
    "execution": {
     "iopub.execute_input": "2024-10-31T04:38:19.025728Z",
     "iopub.status.busy": "2024-10-31T04:38:19.025246Z",
     "iopub.status.idle": "2024-10-31T04:38:19.029805Z",
     "shell.execute_reply": "2024-10-31T04:38:19.029205Z",
     "shell.execute_reply.started": "2024-10-31T04:38:19.025703Z"
    }
   },
   "outputs": [
    {
     "name": "stdout",
     "output_type": "stream",
     "text": [
      "Distância Manhattan de [ 1 22] e [14  6] = 29\n"
     ]
    }
   ],
   "source": [
    "distancia = distance.cityblock(p1, p2) # Cityblock = Manhattan\n",
    "print(\"Distância Manhattan de\",\n",
    "      p1, \"e\", p2,\n",
    "      \"=\", distancia)"
   ]
  },
  {
   "cell_type": "markdown",
   "id": "181eedcf-708a-4f76-a7c4-b0e4cb380366",
   "metadata": {},
   "source": [
    "# Distância de Minkowski"
   ]
  },
  {
   "cell_type": "markdown",
   "id": "2aef09d2-1095-4abf-9de6-77a782ecc9e5",
   "metadata": {},
   "source": [
    "A generalização das Distâncias Euclidiana e de Manhattan.\n",
    "\n",
    "Ela é definida como a raiz pth da soma das potências pth das diferenças absolutas entre os elementos correspondentes de dois vetores."
   ]
  },
  {
   "cell_type": "code",
   "execution_count": 8,
   "id": "11f73283-16b5-4a3e-aac1-6abbeb81e3c9",
   "metadata": {
    "execution": {
     "iopub.execute_input": "2024-10-31T04:38:19.031420Z",
     "iopub.status.busy": "2024-10-31T04:38:19.030932Z",
     "iopub.status.idle": "2024-10-31T04:38:19.035889Z",
     "shell.execute_reply": "2024-10-31T04:38:19.035160Z",
     "shell.execute_reply.started": "2024-10-31T04:38:19.031394Z"
    }
   },
   "outputs": [
    {
     "name": "stdout",
     "output_type": "stream",
     "text": [
      "Distância minkowski (p=2) de [ 1 22] e [14  6] = 20.615528128088304\n"
     ]
    }
   ],
   "source": [
    "# Euclidiana\n",
    "distancia = distance.minkowski(p1, p2, p=2)\n",
    "print(\"Distância minkowski (p=2) de\",\n",
    "      p1, \"e\", p2,\n",
    "      \"=\", distancia)"
   ]
  },
  {
   "cell_type": "code",
   "execution_count": 9,
   "id": "f50e81b1-5611-4659-b35a-dfa4875ea361",
   "metadata": {
    "execution": {
     "iopub.execute_input": "2024-10-31T04:38:19.037469Z",
     "iopub.status.busy": "2024-10-31T04:38:19.037009Z",
     "iopub.status.idle": "2024-10-31T04:38:19.042473Z",
     "shell.execute_reply": "2024-10-31T04:38:19.041820Z",
     "shell.execute_reply.started": "2024-10-31T04:38:19.037444Z"
    }
   },
   "outputs": [
    {
     "name": "stdout",
     "output_type": "stream",
     "text": [
      "Distância minkowski (p=1) de [ 1 22] e [14  6] = 29.0\n"
     ]
    }
   ],
   "source": [
    "# Manhattan\n",
    "distancia = distance.minkowski(p1, p2, p=1)\n",
    "print(\"Distância minkowski (p=1) de\",\n",
    "      p1, \"e\", p2,\n",
    "      \"=\", distancia)"
   ]
  },
  {
   "cell_type": "markdown",
   "id": "a2170eb5-36c5-46ae-90d7-d5770993cb1f",
   "metadata": {},
   "source": [
    "# Distância de Chebyshev"
   ]
  },
  {
   "cell_type": "markdown",
   "id": "e73a57e1-4b34-47ce-9e82-2fab983586a9",
   "metadata": {},
   "source": [
    "A diferença absoluta máxima entre os elementos correspondentes de dois vetores."
   ]
  },
  {
   "cell_type": "markdown",
   "id": "a4de468a-97ee-4aeb-9a4f-15bae48fec1a",
   "metadata": {},
   "source": [
    "Similar a Manhattan, mas observa a diferença máxima entre todas as dimensões específicas dos dois vetores"
   ]
  },
  {
   "cell_type": "code",
   "execution_count": 10,
   "id": "641328c7-d4ce-4990-882f-29b792862a80",
   "metadata": {
    "execution": {
     "iopub.execute_input": "2024-10-31T04:38:19.045065Z",
     "iopub.status.busy": "2024-10-31T04:38:19.044517Z",
     "iopub.status.idle": "2024-10-31T04:38:19.050328Z",
     "shell.execute_reply": "2024-10-31T04:38:19.049560Z",
     "shell.execute_reply.started": "2024-10-31T04:38:19.045040Z"
    }
   },
   "outputs": [
    {
     "name": "stdout",
     "output_type": "stream",
     "text": [
      "Distância chebyshev de [ 1 22] e [14  6] = 16\n"
     ]
    }
   ],
   "source": [
    "distancia = distance.chebyshev(p1, p2) # Cityblock = Manhattan\n",
    "print(\"Distância chebyshev de\",\n",
    "      p1, \"e\", p2,\n",
    "      \"=\", distancia)"
   ]
  },
  {
   "cell_type": "code",
   "execution_count": null,
   "id": "c423a428-2de9-4251-8cf2-f76cb0a0a311",
   "metadata": {},
   "outputs": [],
   "source": []
  }
 ],
 "metadata": {
  "kernelspec": {
   "display_name": "Python 3 (ipykernel)",
   "language": "python",
   "name": "python3"
  },
  "language_info": {
   "codemirror_mode": {
    "name": "ipython",
    "version": 3
   },
   "file_extension": ".py",
   "mimetype": "text/x-python",
   "name": "python",
   "nbconvert_exporter": "python",
   "pygments_lexer": "ipython3",
   "version": "3.11.2"
  }
 },
 "nbformat": 4,
 "nbformat_minor": 5
}
