{
 "cells": [
  {
   "cell_type": "markdown",
   "id": "bbaa9a83-581f-4d67-8fec-16f0740d0a97",
   "metadata": {},
   "source": [
    "Na matemática, a Matriz é uma tabela de números, símbolos ou expressões organizadas em linhas e colunas. Geralmente representando um objeto matemático ou a propriedade de algum objeto."
   ]
  },
  {
   "cell_type": "markdown",
   "id": "225ab8ae-ae2a-4d33-b466-620e306f0000",
   "metadata": {},
   "source": [
    "Matrizes são usadas para representar mapas lineares e permitem computações diversas em Álgebra Linear."
   ]
  },
  {
   "cell_type": "markdown",
   "id": "616dd5b0-f496-4884-98af-abe6965ea4c5",
   "metadata": {},
   "source": [
    "Uma matriz com m linhas e n colunas é chamada de matriz m x n (falada como \"m por n\")"
   ]
  },
  {
   "cell_type": "code",
   "execution_count": 1,
   "id": "452ee530-e4f7-49a7-a2d6-ebb767049a0e",
   "metadata": {
    "execution": {
     "iopub.execute_input": "2024-10-31T04:38:25.998911Z",
     "iopub.status.busy": "2024-10-31T04:38:25.998437Z",
     "iopub.status.idle": "2024-10-31T04:38:26.149753Z",
     "shell.execute_reply": "2024-10-31T04:38:26.149088Z",
     "shell.execute_reply.started": "2024-10-31T04:38:25.998869Z"
    }
   },
   "outputs": [],
   "source": [
    "import numpy as np"
   ]
  },
  {
   "cell_type": "code",
   "execution_count": 2,
   "id": "f4760771-9ff2-413d-ab07-714bdba7a48a",
   "metadata": {
    "execution": {
     "iopub.execute_input": "2024-10-31T04:38:26.151322Z",
     "iopub.status.busy": "2024-10-31T04:38:26.150903Z",
     "iopub.status.idle": "2024-10-31T04:38:26.155080Z",
     "shell.execute_reply": "2024-10-31T04:38:26.154458Z",
     "shell.execute_reply.started": "2024-10-31T04:38:26.151293Z"
    }
   },
   "outputs": [
    {
     "name": "stdout",
     "output_type": "stream",
     "text": [
      "\n",
      "Matriz aleatória de tamanho 4x4:\n"
     ]
    }
   ],
   "source": [
    "print(\"\\nMatriz aleatória de tamanho 4x4:\")"
   ]
  },
  {
   "cell_type": "code",
   "execution_count": 3,
   "id": "aae5f30d-3c1d-42ec-ad30-271f3e69d1d5",
   "metadata": {
    "execution": {
     "iopub.execute_input": "2024-10-31T04:38:26.156113Z",
     "iopub.status.busy": "2024-10-31T04:38:26.155834Z",
     "iopub.status.idle": "2024-10-31T04:38:26.162383Z",
     "shell.execute_reply": "2024-10-31T04:38:26.161779Z",
     "shell.execute_reply.started": "2024-10-31T04:38:26.156090Z"
    }
   },
   "outputs": [],
   "source": [
    "matriz_aleatoria = np.random.randint(25, size=(4, 4))"
   ]
  },
  {
   "cell_type": "code",
   "execution_count": 4,
   "id": "26d0c48e-110a-4ec4-872e-ac03279b00eb",
   "metadata": {
    "execution": {
     "iopub.execute_input": "2024-10-31T04:38:26.163879Z",
     "iopub.status.busy": "2024-10-31T04:38:26.163524Z",
     "iopub.status.idle": "2024-10-31T04:38:26.170301Z",
     "shell.execute_reply": "2024-10-31T04:38:26.169780Z",
     "shell.execute_reply.started": "2024-10-31T04:38:26.163855Z"
    }
   },
   "outputs": [
    {
     "data": {
      "text/plain": [
       "array([[ 6,  1, 19, 11],\n",
       "       [ 9,  3, 10, 24],\n",
       "       [ 0,  2,  1, 13],\n",
       "       [ 9, 18,  3,  6]])"
      ]
     },
     "execution_count": 4,
     "metadata": {},
     "output_type": "execute_result"
    }
   ],
   "source": [
    "matriz_aleatoria"
   ]
  },
  {
   "cell_type": "code",
   "execution_count": null,
   "id": "06dd9321-dfff-4cd5-b2fe-f079d97f33e5",
   "metadata": {},
   "outputs": [],
   "source": []
  }
 ],
 "metadata": {
  "kernelspec": {
   "display_name": "Python 3 (ipykernel)",
   "language": "python",
   "name": "python3"
  },
  "language_info": {
   "codemirror_mode": {
    "name": "ipython",
    "version": 3
   },
   "file_extension": ".py",
   "mimetype": "text/x-python",
   "name": "python",
   "nbconvert_exporter": "python",
   "pygments_lexer": "ipython3",
   "version": "3.11.2"
  }
 },
 "nbformat": 4,
 "nbformat_minor": 5
}
