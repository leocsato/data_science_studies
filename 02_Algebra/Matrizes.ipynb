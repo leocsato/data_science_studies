{
 "cells": [
  {
   "cell_type": "markdown",
   "id": "bbaa9a83-581f-4d67-8fec-16f0740d0a97",
   "metadata": {},
   "source": [
    "Na matemática, a Matriz é uma tabela de números, símbolos ou expressões organizadas em linhas e colunas. Geralmente representando um objeto matemático ou a propriedade de algum objeto."
   ]
  },
  {
   "cell_type": "markdown",
   "id": "225ab8ae-ae2a-4d33-b466-620e306f0000",
   "metadata": {},
   "source": [
    "Matrizes são usadas para representar mapas lineares e permitem computações diversas em Álgebra Linear."
   ]
  },
  {
   "cell_type": "markdown",
   "id": "616dd5b0-f496-4884-98af-abe6965ea4c5",
   "metadata": {},
   "source": [
    "Uma matriz com m linhas e n colunas é chamada de matriz m x n (falada como \"m por n\")"
   ]
  },
  {
   "cell_type": "code",
   "execution_count": 2,
   "id": "452ee530-e4f7-49a7-a2d6-ebb767049a0e",
   "metadata": {
    "execution": {
     "iopub.execute_input": "2024-05-10T01:13:20.235999Z",
     "iopub.status.busy": "2024-05-10T01:13:20.235534Z",
     "iopub.status.idle": "2024-05-10T01:13:20.383170Z",
     "shell.execute_reply": "2024-05-10T01:13:20.382562Z",
     "shell.execute_reply.started": "2024-05-10T01:13:20.235959Z"
    }
   },
   "outputs": [],
   "source": [
    "import numpy as np"
   ]
  },
  {
   "cell_type": "code",
   "execution_count": 5,
   "id": "f4760771-9ff2-413d-ab07-714bdba7a48a",
   "metadata": {
    "execution": {
     "iopub.execute_input": "2024-05-10T01:13:38.909147Z",
     "iopub.status.busy": "2024-05-10T01:13:38.908468Z",
     "iopub.status.idle": "2024-05-10T01:13:38.916805Z",
     "shell.execute_reply": "2024-05-10T01:13:38.915193Z",
     "shell.execute_reply.started": "2024-05-10T01:13:38.909095Z"
    }
   },
   "outputs": [
    {
     "name": "stdout",
     "output_type": "stream",
     "text": [
      "\n",
      "Matriz aleatória de tamanho 4x4:\n"
     ]
    }
   ],
   "source": [
    "print(\"\\nMatriz aleatória de tamanho 4x4:\")"
   ]
  },
  {
   "cell_type": "code",
   "execution_count": 3,
   "id": "aae5f30d-3c1d-42ec-ad30-271f3e69d1d5",
   "metadata": {
    "execution": {
     "iopub.execute_input": "2024-05-10T01:13:20.460628Z",
     "iopub.status.busy": "2024-05-10T01:13:20.460177Z",
     "iopub.status.idle": "2024-05-10T01:13:20.465064Z",
     "shell.execute_reply": "2024-05-10T01:13:20.464207Z",
     "shell.execute_reply.started": "2024-05-10T01:13:20.460602Z"
    }
   },
   "outputs": [],
   "source": [
    "matriz_aleatoria = np.random.randint(25, size=(4, 4))"
   ]
  },
  {
   "cell_type": "code",
   "execution_count": 6,
   "id": "26d0c48e-110a-4ec4-872e-ac03279b00eb",
   "metadata": {
    "execution": {
     "iopub.execute_input": "2024-05-10T01:13:41.740315Z",
     "iopub.status.busy": "2024-05-10T01:13:41.739532Z",
     "iopub.status.idle": "2024-05-10T01:13:41.753991Z",
     "shell.execute_reply": "2024-05-10T01:13:41.752701Z",
     "shell.execute_reply.started": "2024-05-10T01:13:41.740272Z"
    }
   },
   "outputs": [
    {
     "data": {
      "text/plain": [
       "array([[18, 10,  2,  1],\n",
       "       [18,  2, 22, 21],\n",
       "       [16,  1, 21, 21],\n",
       "       [ 8, 18, 14, 18]])"
      ]
     },
     "execution_count": 6,
     "metadata": {},
     "output_type": "execute_result"
    }
   ],
   "source": [
    "matriz_aleatoria"
   ]
  }
 ],
 "metadata": {
  "kernelspec": {
   "display_name": "Python 3 (ipykernel)",
   "language": "python",
   "name": "python3"
  },
  "language_info": {
   "codemirror_mode": {
    "name": "ipython",
    "version": 3
   },
   "file_extension": ".py",
   "mimetype": "text/x-python",
   "name": "python",
   "nbconvert_exporter": "python",
   "pygments_lexer": "ipython3",
   "version": "3.11.2"
  }
 },
 "nbformat": 4,
 "nbformat_minor": 5
}
